{
 "cells": [
  {
   "cell_type": "markdown",
   "id": "149f01e9",
   "metadata": {
    "id": "chcr1ibHHbS_",
    "papermill": {
     "duration": 0.019866,
     "end_time": "2024-04-23T23:57:35.219162",
     "exception": false,
     "start_time": "2024-04-23T23:57:35.199296",
     "status": "completed"
    },
    "tags": []
   },
   "source": [
    "# Identifying PII in Student Essays\n",
    "## Authored by: Pratik Chaudhari, Cody Ledford, Manu Achar\n",
    "## Project Summary\n",
    "The Kaggle Competition we are participating in is the [PII Data Detection hosted by The Learning Agency Lab](https://www.kaggle.com/competitions/pii-detection-removal-from-educational-data/overview). The goal of this competition is to develop a model that detects sensitive personally identifiable information (PII) in student writing. This is necessary to screen and clean educational data so that when released to the public for analysis and archival, the students' risk are mitigated.\n"
   ]
  },
  {
   "cell_type": "markdown",
   "id": "b3554273",
   "metadata": {
    "id": "Sh7s_CBjbahT",
    "papermill": {
     "duration": 0.01855,
     "end_time": "2024-04-23T23:57:35.256926",
     "exception": false,
     "start_time": "2024-04-23T23:57:35.238376",
     "status": "completed"
    },
    "tags": []
   },
   "source": [
    "## Python Libraries\n"
   ]
  },
  {
   "cell_type": "code",
   "execution_count": 1,
   "id": "332e2fb7",
   "metadata": {
    "ExecuteTime": {
     "end_time": "2024-02-05T00:25:16.931261100Z",
     "start_time": "2024-02-05T00:25:16.875240500Z"
    },
    "execution": {
     "iopub.execute_input": "2024-04-23T23:57:35.297680Z",
     "iopub.status.busy": "2024-04-23T23:57:35.297273Z",
     "iopub.status.idle": "2024-04-23T23:57:55.145931Z",
     "shell.execute_reply": "2024-04-23T23:57:55.144651Z"
    },
    "id": "TP4-5t-sbcdn",
    "papermill": {
     "duration": 19.872808,
     "end_time": "2024-04-23T23:57:55.149801",
     "exception": false,
     "start_time": "2024-04-23T23:57:35.276993",
     "status": "completed"
    },
    "tags": []
   },
   "outputs": [
    {
     "name": "stderr",
     "output_type": "stream",
     "text": [
      "2024-04-23 23:57:46.677645: E external/local_xla/xla/stream_executor/cuda/cuda_dnn.cc:9261] Unable to register cuDNN factory: Attempting to register factory for plugin cuDNN when one has already been registered\n",
      "2024-04-23 23:57:46.677755: E external/local_xla/xla/stream_executor/cuda/cuda_fft.cc:607] Unable to register cuFFT factory: Attempting to register factory for plugin cuFFT when one has already been registered\n",
      "2024-04-23 23:57:46.813726: E external/local_xla/xla/stream_executor/cuda/cuda_blas.cc:1515] Unable to register cuBLAS factory: Attempting to register factory for plugin cuBLAS when one has already been registered\n"
     ]
    }
   ],
   "source": [
    "# !python -m pip install --upgrade pip\n",
    "\n",
    "import pandas as pd\n",
    "import numpy as np\n",
    "# import spacy as sp\n",
    "import re\n",
    "# import json\n",
    "import math\n",
    "# from pathlib import Path\n",
    "from datasets import Dataset\n",
    "# import os\n",
    "import torch\n",
    "import torch.nn as nn\n",
    "from torch import cuda\n",
    "\n",
    "import scipy.stats as stats\n",
    "from collections import Counter\n",
    "import matplotlib.pyplot as plt\n",
    "from matplotlib import colormaps\n",
    "from matplotlib.font_manager import FontProperties\n",
    "\n",
    "# !pip install evaluate\n",
    "# !pip install seqeval\n",
    "# import evaluate\n",
    "\n",
    "# from sklearn.model_selection import train_test_split\n",
    "from transformers import BertTokenizerFast, BertForTokenClassification, Trainer, TrainingArguments, DataCollatorForTokenClassification\n",
    "\n",
    "import warnings\n",
    "warnings.filterwarnings('ignore')"
   ]
  },
  {
   "cell_type": "markdown",
   "id": "d605a071",
   "metadata": {
    "papermill": {
     "duration": 0.019822,
     "end_time": "2024-04-23T23:57:55.193925",
     "exception": false,
     "start_time": "2024-04-23T23:57:55.174103",
     "status": "completed"
    },
    "tags": []
   },
   "source": [
    "## Config"
   ]
  },
  {
   "cell_type": "code",
   "execution_count": 2,
   "id": "1be4ac00",
   "metadata": {
    "execution": {
     "iopub.execute_input": "2024-04-23T23:57:55.235072Z",
     "iopub.status.busy": "2024-04-23T23:57:55.233688Z",
     "iopub.status.idle": "2024-04-23T23:57:55.245442Z",
     "shell.execute_reply": "2024-04-23T23:57:55.244536Z"
    },
    "papermill": {
     "duration": 0.034285,
     "end_time": "2024-04-23T23:57:55.247605",
     "exception": false,
     "start_time": "2024-04-23T23:57:55.213320",
     "status": "completed"
    },
    "tags": []
   },
   "outputs": [],
   "source": [
    "class Config():\n",
    "    def __init__(self, platform, model_name, pretrained_model_name):\n",
    "        # platform = 'Kaggle'# \n",
    "        if platform == 'kaggle':\n",
    "            pretrained_model_loc = '/kaggle/input/huggingface-bert/' + pretrained_model_name\n",
    "            data_path = \"/kaggle/input/pii-detection-removal-from-educational-data/train.json\"\n",
    "            test_data_path = \"/kaggle/input/pii-detection-removal-from-educational-data/test.json\"\n",
    "            model_path = '/kaggle/input/kag-notebook-pii-training/models/model-1-bert-base-cased/'\n",
    "#             submission_path = '/kaggle/working/submission.csv'\n",
    "\n",
    "        elif platform == 'local':\n",
    "            pretrained_model_loc = pretrained_model_name\n",
    "            model_path = '../models/bert_models/' + model_name + '/'\n",
    "            data_path = \"../Datasets/Official/train.json\"\n",
    "            submission_path = '../models/submission/'+ model_name + '-submission.csv'\n",
    "            test_data_path = \"../Datasets/Official/test.json\"\n",
    "\n",
    "        self.config = {\n",
    "            'MAX_LEN': 100,\n",
    "#             'TRAIN_BATCH_SIZE': 4,\n",
    "#             'VALID_BATCH_SIZE': 2,\n",
    "            'EPOCHS': 5,\n",
    "            'LEARNING_RATE':1e-5,\n",
    "#             'MAX_GRAD_NORM': 10,\n",
    "            'device': 'cuda' if cuda.is_available() else 'cpu',\n",
    "            'data_path': data_path,\n",
    "            'test_data_path': test_data_path,\n",
    "            'model_path': BertForTokenClassification.from_pretrained(model_path),\n",
    "            'pretrained_model': BertForTokenClassification.from_pretrained(pretrained_model_loc, num_labels = 13),\n",
    "            'tokenizer': BertTokenizerFast.from_pretrained(pretrained_model_loc),\n",
    "#             'threshold': 0.9,\n",
    "            'return_entity_level_metrics': True,\n",
    "            'ignore_subwords': True, # DO NOT CHANGE\n",
    "#             'subm_path': submission_path\n",
    "        }"
   ]
  },
  {
   "cell_type": "code",
   "execution_count": 3,
   "id": "8e87769b",
   "metadata": {
    "execution": {
     "iopub.execute_input": "2024-04-23T23:57:55.288752Z",
     "iopub.status.busy": "2024-04-23T23:57:55.288019Z",
     "iopub.status.idle": "2024-04-23T23:58:02.699128Z",
     "shell.execute_reply": "2024-04-23T23:58:02.698173Z"
    },
    "papermill": {
     "duration": 7.434139,
     "end_time": "2024-04-23T23:58:02.701644",
     "exception": false,
     "start_time": "2024-04-23T23:57:55.267505",
     "status": "completed"
    },
    "tags": []
   },
   "outputs": [
    {
     "name": "stderr",
     "output_type": "stream",
     "text": [
      "Some weights of BertForTokenClassification were not initialized from the model checkpoint at /kaggle/input/huggingface-bert/bert-base-cased and are newly initialized: ['classifier.bias', 'classifier.weight']\n",
      "You should probably TRAIN this model on a down-stream task to be able to use it for predictions and inference.\n"
     ]
    }
   ],
   "source": [
    "platform = 'local'\n",
    "pretrainend_model_name = 'bert-base-cased'\n",
    "model_num = 1\n",
    "model_name = 'model-' + str(model_num) + '-' + pretrainend_model_name\n",
    "\n",
    "config = Config(platform,model_name, pretrainend_model_name).config"
   ]
  },
  {
   "cell_type": "markdown",
   "id": "539a6deb",
   "metadata": {
    "id": "5flL5Dcfbeij",
    "papermill": {
     "duration": 0.019849,
     "end_time": "2024-04-23T23:58:02.742348",
     "exception": false,
     "start_time": "2024-04-23T23:58:02.722499",
     "status": "completed"
    },
    "tags": []
   },
   "source": [
    "## Loading Dataset\n"
   ]
  },
  {
   "cell_type": "code",
   "execution_count": 4,
   "id": "2ddc9ed7",
   "metadata": {
    "ExecuteTime": {
     "end_time": "2024-02-05T00:24:01.929431500Z",
     "start_time": "2024-02-05T00:24:01.914405100Z"
    },
    "execution": {
     "iopub.execute_input": "2024-04-23T23:58:02.785275Z",
     "iopub.status.busy": "2024-04-23T23:58:02.784291Z",
     "iopub.status.idle": "2024-04-23T23:58:05.259824Z",
     "shell.execute_reply": "2024-04-23T23:58:05.258861Z"
    },
    "id": "g1ogxxEqbjHk",
    "papermill": {
     "duration": 2.499788,
     "end_time": "2024-04-23T23:58:05.262439",
     "exception": false,
     "start_time": "2024-04-23T23:58:02.762651",
     "status": "completed"
    },
    "tags": []
   },
   "outputs": [],
   "source": [
    "df_train = pd.read_json(config['data_path'])\n",
    "df = df_train\n",
    "df_test = pd.read_json(config['test_data_path'])"
   ]
  },
  {
   "cell_type": "markdown",
   "id": "741f0732",
   "metadata": {
    "papermill": {
     "duration": 0.020062,
     "end_time": "2024-04-23T23:58:05.303098",
     "exception": false,
     "start_time": "2024-04-23T23:58:05.283036",
     "status": "completed"
    },
    "tags": []
   },
   "source": [
    "## Exploration"
   ]
  },
  {
   "cell_type": "markdown",
   "id": "4e2da336",
   "metadata": {
    "papermill": {
     "duration": 0.02006,
     "end_time": "2024-04-23T23:58:05.343261",
     "exception": false,
     "start_time": "2024-04-23T23:58:05.323201",
     "status": "completed"
    },
    "tags": []
   },
   "source": [
    "### Length of Essays"
   ]
  },
  {
   "cell_type": "code",
   "execution_count": 5,
   "id": "6475a3ca",
   "metadata": {
    "execution": {
     "iopub.execute_input": "2024-04-23T23:58:05.384841Z",
     "iopub.status.busy": "2024-04-23T23:58:05.384385Z",
     "iopub.status.idle": "2024-04-23T23:58:05.752841Z",
     "shell.execute_reply": "2024-04-23T23:58:05.751882Z"
    },
    "papermill": {
     "duration": 0.39159,
     "end_time": "2024-04-23T23:58:05.755049",
     "exception": false,
     "start_time": "2024-04-23T23:58:05.363459",
     "status": "completed"
    },
    "tags": []
   },
   "outputs": [
    {
     "data": {
      "image/png": "[encoded data removed]",
      "text/plain": [
       "<Figure size 700x300 with 1 Axes>"
      ]
     },
     "metadata": {},
     "output_type": "display_data"
    }
   ],
   "source": [
    "fig, ax = plt.subplots(figsize=(7, 3))\n",
    "\n",
    "plt.title('Amount of Words per Essays')\n",
    "ax.hist(df['tokens'].apply(len), bins=20, color='lightgreen', edgecolor='black', alpha=0.7)\n",
    "ax.set_ylabel('Frequency')\n",
    "ax.set_xlabel('# of Words')\n",
    "\n",
    "plt.show()"
   ]
  },
  {
   "cell_type": "markdown",
   "id": "fb9d1a3b",
   "metadata": {
    "papermill": {
     "duration": 0.019843,
     "end_time": "2024-04-23T23:58:05.795611",
     "exception": false,
     "start_time": "2024-04-23T23:58:05.775768",
     "status": "completed"
    },
    "tags": []
   },
   "source": [
    "### Proportion of PII as a percentage of number of words"
   ]
  },
  {
   "cell_type": "code",
   "execution_count": 6,
   "id": "2963096b",
   "metadata": {
    "execution": {
     "iopub.execute_input": "2024-04-23T23:58:05.837985Z",
     "iopub.status.busy": "2024-04-23T23:58:05.837615Z",
     "iopub.status.idle": "2024-04-23T23:58:07.022860Z",
     "shell.execute_reply": "2024-04-23T23:58:07.021883Z"
    },
    "papermill": {
     "duration": 1.209385,
     "end_time": "2024-04-23T23:58:07.025527",
     "exception": false,
     "start_time": "2024-04-23T23:58:05.816142",
     "status": "completed"
    },
    "tags": []
   },
   "outputs": [
    {
     "data": {
      "image/png": "[encoded data removed]",
      "text/plain": [
       "<Figure size 900x300 with 2 Axes>"
      ]
     },
     "metadata": {},
     "output_type": "display_data"
    }
   ],
   "source": [
    "labels = df['labels']\n",
    "\n",
    "non_o_values = df.apply(lambda line: sum(1 for x in line['labels'] if x != 'O') / len(line['labels']), axis = 1)\n",
    "proportions_array = np.array(non_o_values)\n",
    "\n",
    "fig, axs = plt.subplots(1,2, figsize=(9, 3))\n",
    "\n",
    "axs[0].hist(proportions_array, bins=20, color='blue', edgecolor='black', alpha=0.7)\n",
    "axs[0].set_xlabel('Proportion of Text that is PII', x=1.1,y=-1)\n",
    "axs[0].set_ylabel('Frequency')\n",
    "\n",
    "axs[1].hist(proportions_array, bins=20, color='dodgerblue', edgecolor='black', alpha=0.7)\n",
    "# axs[0].xlabel('Proportion of Text that is PII')\n",
    "axs[1].set_yscale('log')\n",
    "axs[1].set_ylabel('Frequency (Log Scaled)')\n",
    "\n",
    "axs[0].set_title('How much of the text is PII', x=1.1,y=1.05,pad=-5)\n",
    "plt.show()"
   ]
  },
  {
   "cell_type": "markdown",
   "id": "a87b128b",
   "metadata": {
    "papermill": {
     "duration": 0.021236,
     "end_time": "2024-04-23T23:58:07.068184",
     "exception": false,
     "start_time": "2024-04-23T23:58:07.046948",
     "status": "completed"
    },
    "tags": []
   },
   "source": [
    "![](data:image/png;base64,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)"
   ]
  },
  {
   "cell_type": "markdown",
   "id": "199915af",
   "metadata": {
    "papermill": {
     "duration": 0.021376,
     "end_time": "2024-04-23T23:58:07.111289",
     "exception": false,
     "start_time": "2024-04-23T23:58:07.089913",
     "status": "completed"
    },
    "tags": []
   },
   "source": [
    "#### Hypothesis 1\n",
    "Our claim is that there is at least 1 PII in each essay. We will use a t-test to evaluate this claim.\n",
    "\n",
    "$H_0: μ_{PII}  = 0$\n",
    "\n",
    "$H_a: μ_{PII}  > 0$"
   ]
  },
  {
   "cell_type": "code",
   "execution_count": 7,
   "id": "9a4a5caf",
   "metadata": {
    "execution": {
     "iopub.execute_input": "2024-04-23T23:58:07.155332Z",
     "iopub.status.busy": "2024-04-23T23:58:07.154962Z",
     "iopub.status.idle": "2024-04-23T23:58:07.452759Z",
     "shell.execute_reply": "2024-04-23T23:58:07.451412Z"
    },
    "papermill": {
     "duration": 0.3224,
     "end_time": "2024-04-23T23:58:07.455095",
     "exception": false,
     "start_time": "2024-04-23T23:58:07.132695",
     "status": "completed"
    },
    "tags": []
   },
   "outputs": [
    {
     "name": "stdout",
     "output_type": "stream",
     "text": [
      "t-statistic: 23.503261414082406\n",
      "p-value: 8.178457800448455e-118\n"
     ]
    }
   ],
   "source": [
    "non_o_values1 = df.apply(lambda line: sum(1 for x in line['labels'] if x != 'O'), axis = 1)\n",
    "\n",
    "t_statistic1, p_value1 = stats.ttest_1samp(non_o_values1, 0, alternative = 'greater')\n",
    "\n",
    "print(\"t-statistic:\", t_statistic1)\n",
    "print(\"p-value:\", p_value1)"
   ]
  },
  {
   "cell_type": "markdown",
   "id": "62223046",
   "metadata": {
    "papermill": {
     "duration": 0.021779,
     "end_time": "2024-04-23T23:58:07.499191",
     "exception": false,
     "start_time": "2024-04-23T23:58:07.477412",
     "status": "completed"
    },
    "tags": []
   },
   "source": [
    "**Conclusion:**\n",
    "\n",
    "Since the p-value < 0.0001 we reject $H_0$ and support the claim that there is at least 1 PII in each essay."
   ]
  },
  {
   "cell_type": "markdown",
   "id": "8056abdd",
   "metadata": {
    "papermill": {
     "duration": 0.022151,
     "end_time": "2024-04-23T23:58:07.543807",
     "exception": false,
     "start_time": "2024-04-23T23:58:07.521656",
     "status": "completed"
    },
    "tags": []
   },
   "source": [
    "### Proprtion of each type of PII"
   ]
  },
  {
   "cell_type": "code",
   "execution_count": 8,
   "id": "a18c3623",
   "metadata": {
    "execution": {
     "iopub.execute_input": "2024-04-23T23:58:07.590070Z",
     "iopub.status.busy": "2024-04-23T23:58:07.589136Z",
     "iopub.status.idle": "2024-04-23T23:58:08.283882Z",
     "shell.execute_reply": "2024-04-23T23:58:08.282832Z"
    },
    "papermill": {
     "duration": 0.720091,
     "end_time": "2024-04-23T23:58:08.286890",
     "exception": false,
     "start_time": "2024-04-23T23:58:07.566799",
     "status": "completed"
    },
    "tags": []
   },
   "outputs": [
    {
     "data": {
      "image/png": "[encoded data removed]",
      "text/plain": [
       "<Figure size 600x400 with 1 Axes>"
      ]
     },
     "metadata": {},
     "output_type": "display_data"
    }
   ],
   "source": [
    "color_map = colormaps['plasma'].resampled(12)\n",
    "color_map.colors\n",
    "\n",
    "c = Counter()\n",
    "df.apply(lambda line: c.update(line.labels), axis = 1)\n",
    "c_pii = c.most_common()[1:]\n",
    "c_key, c_val = zip(*c_pii)\n",
    "\n",
    "fig, ax = plt.subplots(figsize=(6,4))\n",
    "plt.barh(c_key, c_val, color=color_map.colors, edgecolor='black')\n",
    "\n",
    "ax.set_yticklabels(c_key,ha = 'left')\n",
    "plt.xlabel('Number of times in the dataset')\n",
    "plt.title('Most common types of PII')\n",
    "yax = ax.get_yaxis()\n",
    "pad = max(T.label1.get_window_extent().width for T in yax.majorTicks)\n",
    "yax.set_tick_params(pad=pad-35)\n",
    "plt.legend(title='For PII phrase \"John Smith\",\\nJohn would be B-NAME_STUDENT\\nSmith would be I-NAME_STUDENT', title_fontsize='large', shadow=True, loc='upper right')\n",
    "plt.show()"
   ]
  },
  {
   "cell_type": "markdown",
   "id": "2a9e4dc2",
   "metadata": {
    "papermill": {
     "duration": 0.024972,
     "end_time": "2024-04-23T23:58:08.335001",
     "exception": false,
     "start_time": "2024-04-23T23:58:08.310029",
     "status": "completed"
    },
    "tags": []
   },
   "source": [
    "#### Hypothesis 2\n",
    "Our claim is that names have a different likelihood to appear over the other PII.\n",
    "To evaluate this claim, we will use a Tukey test.\n",
    "\n",
    "$H_0: μ_{Names} = μ_{URL} = μ_{ID} = μ_{Email} = μ_{Address} = μ_{Phone} = μ_{Username}$\n",
    "\n",
    "$H_a:  μ_{Names} \\not=$ the others"
   ]
  },
  {
   "cell_type": "code",
   "execution_count": 9,
   "id": "9ec275b2",
   "metadata": {
    "execution": {
     "iopub.execute_input": "2024-04-23T23:58:08.423721Z",
     "iopub.status.busy": "2024-04-23T23:58:08.422986Z",
     "iopub.status.idle": "2024-04-23T23:58:08.432277Z",
     "shell.execute_reply": "2024-04-23T23:58:08.431193Z"
    },
    "papermill": {
     "duration": 0.03449,
     "end_time": "2024-04-23T23:58:08.434456",
     "exception": false,
     "start_time": "2024-04-23T23:58:08.399966",
     "status": "completed"
    },
    "tags": []
   },
   "outputs": [],
   "source": [
    "def line_pii_cumulative(line):\n",
    "  \"\"\"Accumulate all of the pii in each line\n",
    "  \"\"\"\n",
    "  c_line = Counter()\n",
    "  c_line.update(line)\n",
    "  c__line_pii = c_line.most_common()[1:]\n",
    "\n",
    "  c_line_pii_cumulative = {'NAME': 0, 'URL': 0, 'ID': 0, 'EMAIL': 0, 'ADDRESS': 0, 'PHONE': 0, 'USERNAME': 0}\n",
    "\n",
    "  for k,v in c__line_pii:\n",
    "    if 'NAME_' in k:\n",
    "      c_line_pii_cumulative['NAME'] += v\n",
    "    elif 'URL' in k:\n",
    "      c_line_pii_cumulative['URL'] += v\n",
    "    elif 'ID' in k:\n",
    "      c_line_pii_cumulative['ID'] += v\n",
    "    elif 'EMAIL' in k:\n",
    "      c_line_pii_cumulative['EMAIL'] += v\n",
    "    elif 'ADDRESS' in k:\n",
    "      c_line_pii_cumulative['ADDRESS'] += v\n",
    "    elif 'PHONE' in k:\n",
    "      c_line_pii_cumulative['PHONE'] += v\n",
    "    elif 'USERNAME' in k:\n",
    "      c_line_pii_cumulative['USERNAME'] += v\n",
    "  return c_line_pii_cumulative\n"
   ]
  },
  {
   "cell_type": "code",
   "execution_count": 10,
   "id": "7c4e05c2",
   "metadata": {
    "execution": {
     "iopub.execute_input": "2024-04-23T23:58:08.481532Z",
     "iopub.status.busy": "2024-04-23T23:58:08.480633Z",
     "iopub.status.idle": "2024-04-23T23:58:10.840337Z",
     "shell.execute_reply": "2024-04-23T23:58:10.839456Z"
    },
    "papermill": {
     "duration": 2.385593,
     "end_time": "2024-04-23T23:58:10.842935",
     "exception": false,
     "start_time": "2024-04-23T23:58:08.457342",
     "status": "completed"
    },
    "tags": []
   },
   "outputs": [],
   "source": [
    "high_level_pii = ['NAME', 'URL', 'ID', 'EMAIL', 'ADDRESS', 'PHONE', 'USERNAME']\n",
    "\n",
    "df1 = pd.DataFrame(data = df['labels'].apply(lambda line: line_pii_cumulative(line)).values)\n",
    "df1 = pd.concat([df1.drop([0], axis = 1), df1[0].apply(pd.Series)], axis=1)"
   ]
  },
  {
   "cell_type": "code",
   "execution_count": 11,
   "id": "9b4f2db1",
   "metadata": {
    "execution": {
     "iopub.execute_input": "2024-04-23T23:58:10.887448Z",
     "iopub.status.busy": "2024-04-23T23:58:10.886858Z",
     "iopub.status.idle": "2024-04-23T23:58:11.639786Z",
     "shell.execute_reply": "2024-04-23T23:58:11.638726Z"
    },
    "papermill": {
     "duration": 0.777376,
     "end_time": "2024-04-23T23:58:11.642227",
     "exception": false,
     "start_time": "2024-04-23T23:58:10.864851",
     "status": "completed"
    },
    "tags": []
   },
   "outputs": [
    {
     "data": {
      "text/html": [
       "<div>\n",
       "<style scoped>\n",
       "    .dataframe tbody tr th:only-of-type {\n",
       "        vertical-align: middle;\n",
       "    }\n",
       "\n",
       "    .dataframe tbody tr th {\n",
       "        vertical-align: top;\n",
       "    }\n",
       "\n",
       "    .dataframe thead th {\n",
       "        text-align: right;\n",
       "    }\n",
       "</style>\n",
       "<table border=\"1\" class=\"dataframe\">\n",
       "  <thead>\n",
       "    <tr style=\"text-align: right;\">\n",
       "      <th></th>\n",
       "      <th>NAME</th>\n",
       "      <th>URL</th>\n",
       "      <th>ID</th>\n",
       "      <th>EMAIL</th>\n",
       "      <th>ADDRESS</th>\n",
       "      <th>PHONE</th>\n",
       "      <th>USERNAME</th>\n",
       "    </tr>\n",
       "  </thead>\n",
       "  <tbody>\n",
       "    <tr>\n",
       "      <th>NAME</th>\n",
       "      <td></td>\n",
       "      <td>True</td>\n",
       "      <td>True</td>\n",
       "      <td>True</td>\n",
       "      <td>True</td>\n",
       "      <td>True</td>\n",
       "      <td>True</td>\n",
       "    </tr>\n",
       "    <tr>\n",
       "      <th>URL</th>\n",
       "      <td>True</td>\n",
       "      <td></td>\n",
       "      <td></td>\n",
       "      <td></td>\n",
       "      <td></td>\n",
       "      <td></td>\n",
       "      <td></td>\n",
       "    </tr>\n",
       "    <tr>\n",
       "      <th>ID</th>\n",
       "      <td>True</td>\n",
       "      <td></td>\n",
       "      <td></td>\n",
       "      <td></td>\n",
       "      <td></td>\n",
       "      <td></td>\n",
       "      <td></td>\n",
       "    </tr>\n",
       "    <tr>\n",
       "      <th>EMAIL</th>\n",
       "      <td>True</td>\n",
       "      <td></td>\n",
       "      <td></td>\n",
       "      <td></td>\n",
       "      <td></td>\n",
       "      <td></td>\n",
       "      <td></td>\n",
       "    </tr>\n",
       "    <tr>\n",
       "      <th>ADDRESS</th>\n",
       "      <td>True</td>\n",
       "      <td></td>\n",
       "      <td></td>\n",
       "      <td></td>\n",
       "      <td></td>\n",
       "      <td></td>\n",
       "      <td></td>\n",
       "    </tr>\n",
       "    <tr>\n",
       "      <th>PHONE</th>\n",
       "      <td>True</td>\n",
       "      <td></td>\n",
       "      <td></td>\n",
       "      <td></td>\n",
       "      <td></td>\n",
       "      <td></td>\n",
       "      <td></td>\n",
       "    </tr>\n",
       "    <tr>\n",
       "      <th>USERNAME</th>\n",
       "      <td>True</td>\n",
       "      <td></td>\n",
       "      <td></td>\n",
       "      <td></td>\n",
       "      <td></td>\n",
       "      <td></td>\n",
       "      <td></td>\n",
       "    </tr>\n",
       "  </tbody>\n",
       "</table>\n",
       "</div>"
      ],
      "text/plain": [
       "          NAME   URL    ID EMAIL ADDRESS PHONE USERNAME\n",
       "NAME            True  True  True    True  True     True\n",
       "URL       True                                         \n",
       "ID        True                                         \n",
       "EMAIL     True                                         \n",
       "ADDRESS   True                                         \n",
       "PHONE     True                                         \n",
       "USERNAME  True                                         "
      ]
     },
     "execution_count": 11,
     "metadata": {},
     "output_type": "execute_result"
    }
   ],
   "source": [
    "pvalues = stats.tukey_hsd(df1['NAME'], df1['URL'], df1['ID'], df1['EMAIL'], df1['ADDRESS'], df1['PHONE'], df1['PHONE']).pvalue\n",
    "\n",
    "pd.options.display.float_format = '{:20,.5f}'.format\n",
    "tukey_res = pd.DataFrame(pvalues < 0.0001, columns = high_level_pii, index = high_level_pii)\n",
    "tukey_res[tukey_res].fillna('')"
   ]
  },
  {
   "cell_type": "markdown",
   "id": "856e8a01",
   "metadata": {
    "papermill": {
     "duration": 0.0219,
     "end_time": "2024-04-23T23:58:11.687700",
     "exception": false,
     "start_time": "2024-04-23T23:58:11.665800",
     "status": "completed"
    },
    "tags": []
   },
   "source": [
    "**Conclusion:**\n",
    "\n",
    "Where there is a True in the table above, the relationship between that column and row is that they are likely to have different average numbers of PII.\n",
    "\n",
    "This means we can reject $H_0$ and support the claim that Name PII has a different likelihood of appearing.\n",
    "\n",
    "Furthermore, because we have shown it is different, and we have visualized that the # of Name PII is larger than the others, we can conclude that Name PII is more likely to appear with an alpha of 0.0001."
   ]
  },
  {
   "cell_type": "markdown",
   "id": "9ac61df1",
   "metadata": {
    "papermill": {
     "duration": 0.021417,
     "end_time": "2024-04-23T23:58:11.730715",
     "exception": false,
     "start_time": "2024-04-23T23:58:11.709298",
     "status": "completed"
    },
    "tags": []
   },
   "source": [
    "### Positional distribution of most popular PII"
   ]
  },
  {
   "cell_type": "code",
   "execution_count": 12,
   "id": "3ed70c19",
   "metadata": {
    "execution": {
     "iopub.execute_input": "2024-04-23T23:58:11.776727Z",
     "iopub.status.busy": "2024-04-23T23:58:11.776327Z",
     "iopub.status.idle": "2024-04-23T23:58:11.785143Z",
     "shell.execute_reply": "2024-04-23T23:58:11.784097Z"
    },
    "papermill": {
     "duration": 0.034845,
     "end_time": "2024-04-23T23:58:11.787244",
     "exception": false,
     "start_time": "2024-04-23T23:58:11.752399",
     "status": "completed"
    },
    "tags": []
   },
   "outputs": [],
   "source": [
    "def count_pii_in_sections(line):\n",
    "  positions = {\n",
    "      'Section 1': lambda x: x[:len(x)//5],\n",
    "      'Section 2': lambda x: x[len(x)//5:2*(len(x)//5)],\n",
    "      'Section 3': lambda x: x[2*(len(x)//5):3*(len(x)//5)],\n",
    "      'Section 4': lambda x: x[3*(len(x)//5):-(len(x)//5)],\n",
    "      'Section 5': lambda x: x[-(len(x)//5):-1],\n",
    "  }\n",
    "  label_counts_PII = {pos: 0 for pos in positions}\n",
    "\n",
    "  for pos, func in positions.items():\n",
    "        temp_arr = func(line)\n",
    "        for label in temp_arr:\n",
    "                if label != 'O':\n",
    "                     label_counts_PII[pos] += 1\n",
    "  return label_counts_PII"
   ]
  },
  {
   "cell_type": "code",
   "execution_count": 13,
   "id": "9604b3a5",
   "metadata": {
    "execution": {
     "iopub.execute_input": "2024-04-23T23:58:11.831365Z",
     "iopub.status.busy": "2024-04-23T23:58:11.831057Z",
     "iopub.status.idle": "2024-04-23T23:58:14.084584Z",
     "shell.execute_reply": "2024-04-23T23:58:14.083369Z"
    },
    "papermill": {
     "duration": 2.277902,
     "end_time": "2024-04-23T23:58:14.087084",
     "exception": false,
     "start_time": "2024-04-23T23:58:11.809182",
     "status": "completed"
    },
    "tags": []
   },
   "outputs": [],
   "source": [
    "locations = ['Section 1', 'Section 2', 'Section 3', 'Section 4', 'Section 5']\n",
    "\n",
    "df2 = pd.DataFrame(data = df['labels'].apply(lambda line: count_pii_in_sections(line)).values)\n",
    "df2 = pd.concat([df2.drop([0], axis = 1), df2[0].apply(pd.Series)], axis=1)\n",
    "df3 = df2.apply(sum)"
   ]
  },
  {
   "cell_type": "code",
   "execution_count": 14,
   "id": "30931e69",
   "metadata": {
    "execution": {
     "iopub.execute_input": "2024-04-23T23:58:14.131740Z",
     "iopub.status.busy": "2024-04-23T23:58:14.131366Z",
     "iopub.status.idle": "2024-04-23T23:58:14.343264Z",
     "shell.execute_reply": "2024-04-23T23:58:14.342304Z"
    },
    "papermill": {
     "duration": 0.23635,
     "end_time": "2024-04-23T23:58:14.345549",
     "exception": false,
     "start_time": "2024-04-23T23:58:14.109199",
     "status": "completed"
    },
    "tags": []
   },
   "outputs": [
    {
     "data": {
      "text/plain": [
       "Text(0.5, 0, 'Divisions of Text')"
      ]
     },
     "execution_count": 14,
     "metadata": {},
     "output_type": "execute_result"
    },
    {
     "data": {
      "image/png": "[encoded data removed]",
      "text/plain": [
       "<Figure size 500x300 with 1 Axes>"
      ]
     },
     "metadata": {},
     "output_type": "display_data"
    }
   ],
   "source": [
    "fig, ax = plt.subplots(figsize=(5,3))\n",
    "plt.bar(df3.index, df3/sum(df3), color='lightgreen', edgecolor='black')\n",
    "plt.suptitle('Amount of PII in each Section of the Text')\n",
    "# plt.yticks(ax.get_yticks()))\n",
    "plt.ylabel('Relative Frequency in Section')\n",
    "plt.xlabel('Divisions of Text')"
   ]
  },
  {
   "cell_type": "markdown",
   "id": "8750aa5e",
   "metadata": {
    "papermill": {
     "duration": 0.021941,
     "end_time": "2024-04-23T23:58:14.390007",
     "exception": false,
     "start_time": "2024-04-23T23:58:14.368066",
     "status": "completed"
    },
    "tags": []
   },
   "source": [
    "#### Hypothesis 3\n",
    "\n",
    "Our claim is that PII has a different likelihood to appear in section 1 over the other sections.\n",
    "To evaluate this claim, we will use a Tukey test.\n",
    "\n",
    "$H_0: μ_1 = μ_2 = μ_3 = μ_4 = μ_5$\n",
    "\n",
    "$H_a: μ_1 \\not=$ the others"
   ]
  },
  {
   "cell_type": "code",
   "execution_count": 15,
   "id": "c127032b",
   "metadata": {
    "execution": {
     "iopub.execute_input": "2024-04-23T23:58:14.434866Z",
     "iopub.status.busy": "2024-04-23T23:58:14.434396Z",
     "iopub.status.idle": "2024-04-23T23:58:14.802199Z",
     "shell.execute_reply": "2024-04-23T23:58:14.801123Z"
    },
    "papermill": {
     "duration": 0.392568,
     "end_time": "2024-04-23T23:58:14.804343",
     "exception": false,
     "start_time": "2024-04-23T23:58:14.411775",
     "status": "completed"
    },
    "tags": []
   },
   "outputs": [
    {
     "data": {
      "text/html": [
       "<div>\n",
       "<style scoped>\n",
       "    .dataframe tbody tr th:only-of-type {\n",
       "        vertical-align: middle;\n",
       "    }\n",
       "\n",
       "    .dataframe tbody tr th {\n",
       "        vertical-align: top;\n",
       "    }\n",
       "\n",
       "    .dataframe thead th {\n",
       "        text-align: right;\n",
       "    }\n",
       "</style>\n",
       "<table border=\"1\" class=\"dataframe\">\n",
       "  <thead>\n",
       "    <tr style=\"text-align: right;\">\n",
       "      <th></th>\n",
       "      <th>Section 1</th>\n",
       "      <th>Section 2</th>\n",
       "      <th>Section 3</th>\n",
       "      <th>Section 4</th>\n",
       "      <th>Section 5</th>\n",
       "    </tr>\n",
       "  </thead>\n",
       "  <tbody>\n",
       "    <tr>\n",
       "      <th>Section 1</th>\n",
       "      <td></td>\n",
       "      <td>True</td>\n",
       "      <td>True</td>\n",
       "      <td>True</td>\n",
       "      <td>True</td>\n",
       "    </tr>\n",
       "    <tr>\n",
       "      <th>Section 2</th>\n",
       "      <td>True</td>\n",
       "      <td></td>\n",
       "      <td></td>\n",
       "      <td></td>\n",
       "      <td>True</td>\n",
       "    </tr>\n",
       "    <tr>\n",
       "      <th>Section 3</th>\n",
       "      <td>True</td>\n",
       "      <td></td>\n",
       "      <td></td>\n",
       "      <td></td>\n",
       "      <td></td>\n",
       "    </tr>\n",
       "    <tr>\n",
       "      <th>Section 4</th>\n",
       "      <td>True</td>\n",
       "      <td></td>\n",
       "      <td></td>\n",
       "      <td></td>\n",
       "      <td></td>\n",
       "    </tr>\n",
       "    <tr>\n",
       "      <th>Section 5</th>\n",
       "      <td>True</td>\n",
       "      <td>True</td>\n",
       "      <td></td>\n",
       "      <td></td>\n",
       "      <td></td>\n",
       "    </tr>\n",
       "  </tbody>\n",
       "</table>\n",
       "</div>"
      ],
      "text/plain": [
       "          Section 1 Section 2 Section 3 Section 4 Section 5\n",
       "Section 1                True      True      True      True\n",
       "Section 2      True                                    True\n",
       "Section 3      True                                        \n",
       "Section 4      True                                        \n",
       "Section 5      True      True                              "
      ]
     },
     "execution_count": 15,
     "metadata": {},
     "output_type": "execute_result"
    }
   ],
   "source": [
    "pvalues = stats.tukey_hsd(df2['Section 1'],df2['Section 2'],df2['Section 3'],df2['Section 4'],df2['Section 5']).pvalue\n",
    "\n",
    "pd.options.display.float_format = '{:20,.5f}'.format\n",
    "tukey_res = pd.DataFrame(pvalues < 0.0001, columns = locations, index = locations)\n",
    "tukey_res[tukey_res].fillna('')"
   ]
  },
  {
   "cell_type": "markdown",
   "id": "f3be04d5",
   "metadata": {
    "papermill": {
     "duration": 0.021704,
     "end_time": "2024-04-23T23:58:14.850099",
     "exception": false,
     "start_time": "2024-04-23T23:58:14.828395",
     "status": "completed"
    },
    "tags": []
   },
   "source": [
    "**Conclusion:**\n",
    "\n",
    "Where there is a True in the table above, the relationship between that column and row is that they are likely to have different average numbers of PII.\n",
    "\n",
    "This means that the PII found in sections 2,3,4 and 5. As well as that section 2 has a different average number of PII than the number of PII found in section 5.\n",
    "\n",
    "This means we can reject  H0  and support the claim that PII is has a different likelihood of appearing in section 1.\n",
    "\n",
    "Furthermore, because we have shown it is different, and we have visualized that the # of PII in section one is larger than the others, we can conclude that PII is more likely to appear in section 1 with an alpha of 0.0001"
   ]
  },
  {
   "cell_type": "markdown",
   "id": "056eac84",
   "metadata": {
    "id": "8jWiYTLU1yF9",
    "papermill": {
     "duration": 0.021763,
     "end_time": "2024-04-23T23:58:14.893985",
     "exception": false,
     "start_time": "2024-04-23T23:58:14.872222",
     "status": "completed"
    },
    "tags": []
   },
   "source": [
    "## Preprocessing\n",
    "\n",
    "First we scoured the data to find the usuable text with our pretrained model with Regex."
   ]
  },
  {
   "cell_type": "code",
   "execution_count": 16,
   "id": "1cc5e297",
   "metadata": {
    "execution": {
     "iopub.execute_input": "2024-04-23T23:58:14.940439Z",
     "iopub.status.busy": "2024-04-23T23:58:14.939601Z",
     "iopub.status.idle": "2024-04-23T23:58:14.945589Z",
     "shell.execute_reply": "2024-04-23T23:58:14.944602Z"
    },
    "papermill": {
     "duration": 0.031883,
     "end_time": "2024-04-23T23:58:14.947643",
     "exception": false,
     "start_time": "2024-04-23T23:58:14.915760",
     "status": "completed"
    },
    "tags": []
   },
   "outputs": [],
   "source": [
    "labels = [\"O\",\"B-EMAIL\", \"B-ID_NUM\", \"B-NAME_STUDENT\", \"B-PHONE_NUM\",\n",
    "              \"B-STREET_ADDRESS\", \"B-URL_PERSONAL\", \"B-USERNAME\",\n",
    "              \"I-ID_NUM\", \"I-NAME_STUDENT\", \"I-PHONE_NUM\",\n",
    "              \"I-STREET_ADDRESS\",\"I-URL_PERSONAL\"]\n",
    "\n",
    "labels_to_ids = {k: v for v, k in enumerate(labels)}\n",
    "ids_to_labels = {v: k for v, k in enumerate(labels)}"
   ]
  },
  {
   "cell_type": "code",
   "execution_count": 17,
   "id": "1ac71d57",
   "metadata": {
    "execution": {
     "iopub.execute_input": "2024-04-23T23:58:14.996702Z",
     "iopub.status.busy": "2024-04-23T23:58:14.996334Z",
     "iopub.status.idle": "2024-04-23T23:58:15.001444Z",
     "shell.execute_reply": "2024-04-23T23:58:15.000451Z"
    },
    "papermill": {
     "duration": 0.033763,
     "end_time": "2024-04-23T23:58:15.003766",
     "exception": false,
     "start_time": "2024-04-23T23:58:14.970003",
     "status": "completed"
    },
    "tags": []
   },
   "outputs": [],
   "source": [
    "# pattern_space = re.compile('\\xa0|\\uf0b7|\\u200b')\n",
    "# df_train.loc[:,'full_text'] = df_train.loc[:,'full_text'].replace(pattern_space, ' ')\n",
    "# df_train.loc[:,'tokens'] = df_train.loc[:,'tokens'].apply(lambda line: [tok for tok in line if not re.search(pattern_space,tok)])\n",
    "# # [,.!?-]\n",
    "# df_usable_train = df_train.iloc[df_train[~(df_train.tokens.apply(len) != df_train.labels.apply(len))].index]\n",
    "# 1-(len(df_usable_train.document))/len(df.document)"
   ]
  },
  {
   "cell_type": "code",
   "execution_count": 18,
   "id": "75e91866",
   "metadata": {
    "execution": {
     "iopub.execute_input": "2024-04-23T23:58:15.053310Z",
     "iopub.status.busy": "2024-04-23T23:58:15.052708Z",
     "iopub.status.idle": "2024-04-23T23:58:15.057334Z",
     "shell.execute_reply": "2024-04-23T23:58:15.056347Z"
    },
    "papermill": {
     "duration": 0.031421,
     "end_time": "2024-04-23T23:58:15.059301",
     "exception": false,
     "start_time": "2024-04-23T23:58:15.027880",
     "status": "completed"
    },
    "tags": []
   },
   "outputs": [],
   "source": [
    "# # df_test.loc[:,'full_text'] = df_test.loc[:,'full_text'].replace(pattern_space, ' ')\n",
    "# df_test.loc[:,'tokens'] = df_test.loc[:,'tokens'].apply(lambda line: [pattern_space.sub(\"\",tok) for tok in line])\n",
    "# # [,.!?-]\n",
    "# # df_usable_test = df_test.iloc[df_test[~(df_test.tokens.apply(len) != df_test.labels.apply(len))].index]\n",
    "# # 1-(len(df_usable_test.document))/len(df.document)\n"
   ]
  },
  {
   "cell_type": "code",
   "execution_count": 19,
   "id": "ffb24e0d",
   "metadata": {
    "execution": {
     "iopub.execute_input": "2024-04-23T23:58:15.107088Z",
     "iopub.status.busy": "2024-04-23T23:58:15.106295Z",
     "iopub.status.idle": "2024-04-23T23:58:15.114638Z",
     "shell.execute_reply": "2024-04-23T23:58:15.113715Z"
    },
    "papermill": {
     "duration": 0.03437,
     "end_time": "2024-04-23T23:58:15.116672",
     "exception": false,
     "start_time": "2024-04-23T23:58:15.082302",
     "status": "completed"
    },
    "tags": []
   },
   "outputs": [],
   "source": [
    "def make_smaller_inputs(dataframe, type):\n",
    "    \"\"\"Splits the entire essays into MAX_LEN size blocks and remaps tokens and labels\n",
    "    \"\"\"\n",
    "    df_out = pd.DataFrame(columns = ['tokens','labels','document','document_location'])\n",
    "    idx_df = 0\n",
    "    max_len = config['MAX_LEN']\n",
    "    \n",
    "    for _,line in dataframe.iterrows():\n",
    "        location_counter = 0\n",
    "        tokens = line.tokens\n",
    "        if type == 'train':\n",
    "            labels = line.labels\n",
    "        document = line.document\n",
    "        items = range(0,len(tokens),max_len)\n",
    "        \n",
    "        for i in items:\n",
    "            df_out.at[idx_df,'tokens'] = tokens[i:i+max_len]\n",
    "            if type == 'train':\n",
    "                df_out.at[idx_df,'labels'] = labels[i:i+max_len]\n",
    "            df_out.at[idx_df,'document'] = document\n",
    "            df_out.at[idx_df,'document_location'] = location_counter\n",
    "            location_counter += 1\n",
    "            idx_df += 1\n",
    "        \n",
    "    return df_out"
   ]
  },
  {
   "cell_type": "code",
   "execution_count": 20,
   "id": "6b1646f9",
   "metadata": {
    "execution": {
     "iopub.execute_input": "2024-04-23T23:58:15.162769Z",
     "iopub.status.busy": "2024-04-23T23:58:15.162098Z",
     "iopub.status.idle": "2024-04-23T23:58:15.166193Z",
     "shell.execute_reply": "2024-04-23T23:58:15.165208Z"
    },
    "papermill": {
     "duration": 0.029399,
     "end_time": "2024-04-23T23:58:15.168378",
     "exception": false,
     "start_time": "2024-04-23T23:58:15.138979",
     "status": "completed"
    },
    "tags": []
   },
   "outputs": [],
   "source": [
    "# df_model_input_train = make_smaller_inputs(df_usable_train,'train')\n",
    "# print(len(df_model_input_train.index))\n",
    "# df_model_input_train.head(2)"
   ]
  },
  {
   "cell_type": "code",
   "execution_count": 21,
   "id": "c607445a",
   "metadata": {
    "execution": {
     "iopub.execute_input": "2024-04-23T23:58:15.214059Z",
     "iopub.status.busy": "2024-04-23T23:58:15.213356Z",
     "iopub.status.idle": "2024-04-23T23:58:15.218787Z",
     "shell.execute_reply": "2024-04-23T23:58:15.217793Z"
    },
    "papermill": {
     "duration": 0.030455,
     "end_time": "2024-04-23T23:58:15.220724",
     "exception": false,
     "start_time": "2024-04-23T23:58:15.190269",
     "status": "completed"
    },
    "tags": []
   },
   "outputs": [],
   "source": [
    "def replace_weird(line):\n",
    "    out_tokens = []\n",
    "    for tok in line:\n",
    "        if len(tok) > 64:\n",
    "            out_tokens.append('')\n",
    "        else:\n",
    "            out_tokens.append(tok)\n",
    "    return out_tokens"
   ]
  },
  {
   "cell_type": "code",
   "execution_count": 22,
   "id": "6c2a7a93",
   "metadata": {
    "execution": {
     "iopub.execute_input": "2024-04-23T23:58:15.267615Z",
     "iopub.status.busy": "2024-04-23T23:58:15.266667Z",
     "iopub.status.idle": "2024-04-23T23:58:15.275104Z",
     "shell.execute_reply": "2024-04-23T23:58:15.274014Z"
    },
    "papermill": {
     "duration": 0.034005,
     "end_time": "2024-04-23T23:58:15.277230",
     "exception": false,
     "start_time": "2024-04-23T23:58:15.243225",
     "status": "completed"
    },
    "tags": []
   },
   "outputs": [],
   "source": [
    "# [print(tok) for tok in line if len(tok) > 64]\n",
    "df_test.loc[:,'tokens'] = df_test.loc[:,'tokens'].apply(lambda line: replace_weird(line))"
   ]
  },
  {
   "cell_type": "code",
   "execution_count": 23,
   "id": "4a2752ae",
   "metadata": {
    "execution": {
     "iopub.execute_input": "2024-04-23T23:58:15.322997Z",
     "iopub.status.busy": "2024-04-23T23:58:15.322319Z",
     "iopub.status.idle": "2024-04-23T23:58:15.386207Z",
     "shell.execute_reply": "2024-04-23T23:58:15.385351Z"
    },
    "papermill": {
     "duration": 0.089139,
     "end_time": "2024-04-23T23:58:15.388484",
     "exception": false,
     "start_time": "2024-04-23T23:58:15.299345",
     "status": "completed"
    },
    "tags": []
   },
   "outputs": [
    {
     "name": "stdout",
     "output_type": "stream",
     "text": [
      "90\n"
     ]
    },
    {
     "data": {
      "text/html": [
       "<div>\n",
       "<style scoped>\n",
       "    .dataframe tbody tr th:only-of-type {\n",
       "        vertical-align: middle;\n",
       "    }\n",
       "\n",
       "    .dataframe tbody tr th {\n",
       "        vertical-align: top;\n",
       "    }\n",
       "\n",
       "    .dataframe thead th {\n",
       "        text-align: right;\n",
       "    }\n",
       "</style>\n",
       "<table border=\"1\" class=\"dataframe\">\n",
       "  <thead>\n",
       "    <tr style=\"text-align: right;\">\n",
       "      <th></th>\n",
       "      <th>tokens</th>\n",
       "      <th>labels</th>\n",
       "      <th>document</th>\n",
       "      <th>document_location</th>\n",
       "    </tr>\n",
       "  </thead>\n",
       "  <tbody>\n",
       "    <tr>\n",
       "      <th>0</th>\n",
       "      <td>[Design, Thinking, for, innovation, reflexion,...</td>\n",
       "      <td>NaN</td>\n",
       "      <td>7</td>\n",
       "      <td>0</td>\n",
       "    </tr>\n",
       "    <tr>\n",
       "      <th>1</th>\n",
       "      <td>['s,  , potential, to, be, released, ., Cf, An...</td>\n",
       "      <td>NaN</td>\n",
       "      <td>7</td>\n",
       "      <td>1</td>\n",
       "    </tr>\n",
       "  </tbody>\n",
       "</table>\n",
       "</div>"
      ],
      "text/plain": [
       "                                              tokens labels document  \\\n",
       "0  [Design, Thinking, for, innovation, reflexion,...    NaN        7   \n",
       "1  ['s,  , potential, to, be, released, ., Cf, An...    NaN        7   \n",
       "\n",
       "  document_location  \n",
       "0                 0  \n",
       "1                 1  "
      ]
     },
     "execution_count": 23,
     "metadata": {},
     "output_type": "execute_result"
    }
   ],
   "source": [
    "df_model_input_test = make_smaller_inputs(df_test,'predict')\n",
    "print(len(df_model_input_test.index))\n",
    "df_model_input_test.head(2)"
   ]
  },
  {
   "cell_type": "code",
   "execution_count": 24,
   "id": "167646a2",
   "metadata": {
    "execution": {
     "iopub.execute_input": "2024-04-23T23:58:15.436187Z",
     "iopub.status.busy": "2024-04-23T23:58:15.435902Z",
     "iopub.status.idle": "2024-04-23T23:58:15.439945Z",
     "shell.execute_reply": "2024-04-23T23:58:15.439012Z"
    },
    "papermill": {
     "duration": 0.030263,
     "end_time": "2024-04-23T23:58:15.441955",
     "exception": false,
     "start_time": "2024-04-23T23:58:15.411692",
     "status": "completed"
    },
    "tags": []
   },
   "outputs": [],
   "source": [
    "# def compare2dict(list1, list2, pii_threshold):\n",
    "#     return len(set(list1).intersection(set(list2))) > 1"
   ]
  },
  {
   "cell_type": "code",
   "execution_count": 25,
   "id": "d4d3c4ea",
   "metadata": {
    "execution": {
     "iopub.execute_input": "2024-04-23T23:58:15.489759Z",
     "iopub.status.busy": "2024-04-23T23:58:15.489093Z",
     "iopub.status.idle": "2024-04-23T23:58:15.493577Z",
     "shell.execute_reply": "2024-04-23T23:58:15.492605Z"
    },
    "papermill": {
     "duration": 0.030827,
     "end_time": "2024-04-23T23:58:15.495624",
     "exception": false,
     "start_time": "2024-04-23T23:58:15.464797",
     "status": "completed"
    },
    "tags": []
   },
   "outputs": [],
   "source": [
    "# df_trainable = df_model_input_train[df_model_input_train.apply(lambda line: compare2dict(line.labels,list(labels_to_ids.keys()),0), axis = 1)]\n",
    "# df_trainable_input = pd.concat([df_trainable] * 10).sample(frac=1)\n",
    "# df_trainable_input.reset_index(drop = True, inplace=True)\n",
    "# df_trainable_input = df_trainable_input[['tokens','labels']]\n",
    "# print(len(df_trainable_input))\n",
    "# df_trainable_input.head(2)"
   ]
  },
  {
   "cell_type": "code",
   "execution_count": 26,
   "id": "4479bdf9",
   "metadata": {
    "execution": {
     "iopub.execute_input": "2024-04-23T23:58:15.544539Z",
     "iopub.status.busy": "2024-04-23T23:58:15.543449Z",
     "iopub.status.idle": "2024-04-23T23:58:15.548025Z",
     "shell.execute_reply": "2024-04-23T23:58:15.547146Z"
    },
    "papermill": {
     "duration": 0.031662,
     "end_time": "2024-04-23T23:58:15.550124",
     "exception": false,
     "start_time": "2024-04-23T23:58:15.518462",
     "status": "completed"
    },
    "tags": []
   },
   "outputs": [],
   "source": [
    "# df_evaluation_input = df_model_input[['tokens','labels']]\n",
    "# df_evaluation_input.head(2)"
   ]
  },
  {
   "cell_type": "code",
   "execution_count": 27,
   "id": "989ea05e",
   "metadata": {
    "execution": {
     "iopub.execute_input": "2024-04-23T23:58:15.600610Z",
     "iopub.status.busy": "2024-04-23T23:58:15.599720Z",
     "iopub.status.idle": "2024-04-23T23:58:15.615082Z",
     "shell.execute_reply": "2024-04-23T23:58:15.613943Z"
    },
    "papermill": {
     "duration": 0.043615,
     "end_time": "2024-04-23T23:58:15.617587",
     "exception": false,
     "start_time": "2024-04-23T23:58:15.573972",
     "status": "completed"
    },
    "tags": []
   },
   "outputs": [
    {
     "data": {
      "text/html": [
       "<div>\n",
       "<style scoped>\n",
       "    .dataframe tbody tr th:only-of-type {\n",
       "        vertical-align: middle;\n",
       "    }\n",
       "\n",
       "    .dataframe tbody tr th {\n",
       "        vertical-align: top;\n",
       "    }\n",
       "\n",
       "    .dataframe thead th {\n",
       "        text-align: right;\n",
       "    }\n",
       "</style>\n",
       "<table border=\"1\" class=\"dataframe\">\n",
       "  <thead>\n",
       "    <tr style=\"text-align: right;\">\n",
       "      <th></th>\n",
       "      <th>tokens</th>\n",
       "      <th>document</th>\n",
       "      <th>document_location</th>\n",
       "    </tr>\n",
       "  </thead>\n",
       "  <tbody>\n",
       "    <tr>\n",
       "      <th>0</th>\n",
       "      <td>[Design, Thinking, for, innovation, reflexion,...</td>\n",
       "      <td>7</td>\n",
       "      <td>0</td>\n",
       "    </tr>\n",
       "    <tr>\n",
       "      <th>1</th>\n",
       "      <td>['s,  , potential, to, be, released, ., Cf, An...</td>\n",
       "      <td>7</td>\n",
       "      <td>1</td>\n",
       "    </tr>\n",
       "  </tbody>\n",
       "</table>\n",
       "</div>"
      ],
      "text/plain": [
       "                                              tokens document  \\\n",
       "0  [Design, Thinking, for, innovation, reflexion,...        7   \n",
       "1  ['s,  , potential, to, be, released, ., Cf, An...        7   \n",
       "\n",
       "  document_location  \n",
       "0                 0  \n",
       "1                 1  "
      ]
     },
     "execution_count": 27,
     "metadata": {},
     "output_type": "execute_result"
    }
   ],
   "source": [
    "df_prediction_input = df_model_input_test[['tokens','document','document_location']]\n",
    "df_prediction_input.head(2)"
   ]
  },
  {
   "cell_type": "code",
   "execution_count": 28,
   "id": "2d0ce38a",
   "metadata": {
    "execution": {
     "iopub.execute_input": "2024-04-23T23:58:15.668412Z",
     "iopub.status.busy": "2024-04-23T23:58:15.667758Z",
     "iopub.status.idle": "2024-04-23T23:58:15.672270Z",
     "shell.execute_reply": "2024-04-23T23:58:15.671227Z"
    },
    "papermill": {
     "duration": 0.031606,
     "end_time": "2024-04-23T23:58:15.674471",
     "exception": false,
     "start_time": "2024-04-23T23:58:15.642865",
     "status": "completed"
    },
    "tags": []
   },
   "outputs": [],
   "source": [
    "# df_prediction_input.iloc[2999].tokens"
   ]
  },
  {
   "cell_type": "markdown",
   "id": "94c8881d",
   "metadata": {
    "papermill": {
     "duration": 0.023397,
     "end_time": "2024-04-23T23:58:15.721347",
     "exception": false,
     "start_time": "2024-04-23T23:58:15.697950",
     "status": "completed"
    },
    "tags": []
   },
   "source": [
    "## PII Inference V2"
   ]
  },
  {
   "cell_type": "markdown",
   "id": "cf236833",
   "metadata": {
    "papermill": {
     "duration": 0.022613,
     "end_time": "2024-04-23T23:58:15.767290",
     "exception": false,
     "start_time": "2024-04-23T23:58:15.744677",
     "status": "completed"
    },
    "tags": []
   },
   "source": [
    "### Prepping Trainer"
   ]
  },
  {
   "cell_type": "markdown",
   "id": "62068d2a",
   "metadata": {
    "papermill": {
     "duration": 0.022964,
     "end_time": "2024-04-23T23:58:15.813198",
     "exception": false,
     "start_time": "2024-04-23T23:58:15.790234",
     "status": "completed"
    },
    "tags": []
   },
   "source": [
    "Function for tokenizing datasets"
   ]
  },
  {
   "cell_type": "code",
   "execution_count": 29,
   "id": "f11aa6f4",
   "metadata": {
    "execution": {
     "iopub.execute_input": "2024-04-23T23:58:15.862154Z",
     "iopub.status.busy": "2024-04-23T23:58:15.861371Z",
     "iopub.status.idle": "2024-04-23T23:58:15.878115Z",
     "shell.execute_reply": "2024-04-23T23:58:15.877092Z"
    },
    "papermill": {
     "duration": 0.044409,
     "end_time": "2024-04-23T23:58:15.880510",
     "exception": false,
     "start_time": "2024-04-23T23:58:15.836101",
     "status": "completed"
    },
    "tags": []
   },
   "outputs": [],
   "source": [
    "def tokenize(line, tokenizer, type):\n",
    "\n",
    "    tokens = line.tokens\n",
    "    \n",
    "\n",
    "    if config['ignore_subwords']:\n",
    "        length = config['MAX_LEN']\n",
    "    else:\n",
    "        length = math.ceil(config['MAX_LEN'] * 1.2)\n",
    "        \n",
    "\n",
    "    encoding = tokenizer(tokens,\n",
    "                         is_split_into_words= True,\n",
    "                         return_offsets_mapping= True,\n",
    "                         padding= 'max_length',\n",
    "                         max_length= length)\n",
    "    \n",
    "    item = {key: torch.as_tensor(val) for key, val in encoding.items()}\n",
    "    \n",
    "    if type == 'train' or type == 'eval':\n",
    "        word_labels = line.labels\n",
    "    \n",
    "        temp_list = [0 for _ in range(length - len(word_labels))]\n",
    "        labels = [labels_to_ids[label] for label in word_labels] + temp_list\n",
    "        \n",
    "        encoded_labels = np.ones(len(encoding[\"offset_mapping\"]), dtype=int) * -100\n",
    "        i = 0\n",
    "    \n",
    "        if config['ignore_subwords']:\n",
    "            #         Ignore subword labels\n",
    "            for idx, mapping in enumerate(encoding[\"offset_mapping\"]):\n",
    "                if mapping[0] == 0 and mapping[1] != 0:\n",
    "                    # overwrite label\n",
    "                    encoded_labels[idx] = labels[i]\n",
    "                    i += 1\n",
    "        else:\n",
    "            #         Extend subword labels\n",
    "            for idx, mapping in enumerate(encoding[\"offset_mapping\"]):\n",
    "                if mapping[0] == 0:\n",
    "                    encoded_labels[idx] = labels[i]\n",
    "                    i += 1\n",
    "                    \n",
    "        item['labels'] = torch.as_tensor(encoded_labels)\n",
    "        \n",
    "        return {**item}\n",
    "        \n",
    "    if type == 'predict':\n",
    "        document = line.document\n",
    "        location = line.document_location\n",
    "        \n",
    "        encoded_labels = np.ones(len(encoding[\"offset_mapping\"]), dtype=int) * -100\n",
    "        labels = np.zeros(len(tokens), dtype=int)\n",
    "        i = 0\n",
    "    \n",
    "        if config['ignore_subwords']:\n",
    "            #         Ignore subword labels\n",
    "            for idx, mapping in enumerate(encoding[\"offset_mapping\"]):\n",
    "                if mapping[0] == 0 and mapping[1] != 0:\n",
    "                    # overwrite label\n",
    "                    encoded_labels[idx] = labels[i]\n",
    "                    i += 1\n",
    "        else:\n",
    "            #         Extend subword labels\n",
    "            for idx, mapping in enumerate(encoding[\"offset_mapping\"]):\n",
    "                if mapping[0] == 0:\n",
    "                    encoded_labels[idx] = labels[i]\n",
    "                    i += 1\n",
    "        item['labels'] = torch.as_tensor(encoded_labels)\n",
    "        if len(item['input_ids']) > 512:\n",
    "            print(f\"{document} {location}\")\n",
    "        return {**item, 'document': document, 'location': location}"
   ]
  },
  {
   "cell_type": "markdown",
   "id": "e85cf53f",
   "metadata": {
    "papermill": {
     "duration": 0.024164,
     "end_time": "2024-04-23T23:58:15.928473",
     "exception": false,
     "start_time": "2024-04-23T23:58:15.904309",
     "status": "completed"
    },
    "tags": []
   },
   "source": [
    "Create Datasets"
   ]
  },
  {
   "cell_type": "code",
   "execution_count": 30,
   "id": "30a9bed8",
   "metadata": {
    "execution": {
     "iopub.execute_input": "2024-04-23T23:58:15.978792Z",
     "iopub.status.busy": "2024-04-23T23:58:15.978048Z",
     "iopub.status.idle": "2024-04-23T23:58:15.982746Z",
     "shell.execute_reply": "2024-04-23T23:58:15.981756Z"
    },
    "papermill": {
     "duration": 0.032138,
     "end_time": "2024-04-23T23:58:15.984854",
     "exception": false,
     "start_time": "2024-04-23T23:58:15.952716",
     "status": "completed"
    },
    "tags": []
   },
   "outputs": [],
   "source": [
    "# train_dataset_temp = df_trainable_input.apply(lambda line: tokenize(line, config['tokenizer'],'train'), axis = 1).to_list()\n",
    "# # train_dataset_temp\n",
    "# # train_dataset = Dataset.from_list(pd.DataFrame(data=train_dataset_temp))\n",
    "\n",
    "# # from_list not implemented in this notebook's version of datasets, janky version of the above\n",
    "# train_dataset = Dataset.from_dict({k: [s[k] for s in train_dataset_temp] for k in  train_dataset_temp[0].keys()})\n",
    "# train_dataset"
   ]
  },
  {
   "cell_type": "code",
   "execution_count": 31,
   "id": "2e422216",
   "metadata": {
    "execution": {
     "iopub.execute_input": "2024-04-23T23:58:16.034234Z",
     "iopub.status.busy": "2024-04-23T23:58:16.033845Z",
     "iopub.status.idle": "2024-04-23T23:58:16.038242Z",
     "shell.execute_reply": "2024-04-23T23:58:16.037280Z"
    },
    "papermill": {
     "duration": 0.031584,
     "end_time": "2024-04-23T23:58:16.040465",
     "exception": false,
     "start_time": "2024-04-23T23:58:16.008881",
     "status": "completed"
    },
    "tags": []
   },
   "outputs": [],
   "source": [
    "# eval_dataset_temp = df_evaluation_input.apply(lambda line: tokenize(line, config['tokenizer'],'eval'), axis = 1)\n",
    "# # # eval_dataset = Dataset.from_list(eval_dataset_temp)\n",
    "# eval_dataset = Dataset.from_dict({k: [s[k] for s in eval_dataset_temp] for k in  eval_dataset_temp[0].keys()})\n",
    "# eval_dataset"
   ]
  },
  {
   "cell_type": "code",
   "execution_count": 32,
   "id": "a9ef0b25",
   "metadata": {
    "execution": {
     "iopub.execute_input": "2024-04-23T23:58:16.089374Z",
     "iopub.status.busy": "2024-04-23T23:58:16.088325Z",
     "iopub.status.idle": "2024-04-23T23:58:16.317825Z",
     "shell.execute_reply": "2024-04-23T23:58:16.316824Z"
    },
    "papermill": {
     "duration": 0.255565,
     "end_time": "2024-04-23T23:58:16.319801",
     "exception": false,
     "start_time": "2024-04-23T23:58:16.064236",
     "status": "completed"
    },
    "tags": []
   },
   "outputs": [
    {
     "data": {
      "text/plain": [
       "Dataset({\n",
       "    features: ['input_ids', 'token_type_ids', 'attention_mask', 'offset_mapping', 'labels', 'document', 'location'],\n",
       "    num_rows: 90\n",
       "})"
      ]
     },
     "execution_count": 32,
     "metadata": {},
     "output_type": "execute_result"
    }
   ],
   "source": [
    "predict_dataset_temp = df_prediction_input.apply(lambda line: tokenize(line, config['tokenizer'],'predict'), axis = 1)\n",
    "# predict_dataset = Dataset.from_list(predict_dataset_temp)\n",
    "predict_dataset = Dataset.from_dict({k: [s[k] for s in predict_dataset_temp] for k in  predict_dataset_temp[0].keys()})\n",
    "predict_dataset"
   ]
  },
  {
   "cell_type": "markdown",
   "id": "03aab094",
   "metadata": {
    "papermill": {
     "duration": 0.023563,
     "end_time": "2024-04-23T23:58:16.367011",
     "exception": false,
     "start_time": "2024-04-23T23:58:16.343448",
     "status": "completed"
    },
    "tags": []
   },
   "source": [
    "Initialize parts of trainer"
   ]
  },
  {
   "cell_type": "code",
   "execution_count": 33,
   "id": "567dfdf5",
   "metadata": {
    "execution": {
     "iopub.execute_input": "2024-04-23T23:58:16.414765Z",
     "iopub.status.busy": "2024-04-23T23:58:16.413902Z",
     "iopub.status.idle": "2024-04-23T23:58:16.418195Z",
     "shell.execute_reply": "2024-04-23T23:58:16.417264Z"
    },
    "papermill": {
     "duration": 0.030173,
     "end_time": "2024-04-23T23:58:16.420417",
     "exception": false,
     "start_time": "2024-04-23T23:58:16.390244",
     "status": "completed"
    },
    "tags": []
   },
   "outputs": [],
   "source": [
    "# temp = set()\n",
    "# for i in range(53279):\n",
    "#     temp.add(len(predict_dataset[i]['input_ids']))\n",
    "# temp"
   ]
  },
  {
   "cell_type": "code",
   "execution_count": 34,
   "id": "5651a175",
   "metadata": {
    "execution": {
     "iopub.execute_input": "2024-04-23T23:58:16.467764Z",
     "iopub.status.busy": "2024-04-23T23:58:16.467328Z",
     "iopub.status.idle": "2024-04-23T23:58:16.471986Z",
     "shell.execute_reply": "2024-04-23T23:58:16.471055Z"
    },
    "papermill": {
     "duration": 0.031325,
     "end_time": "2024-04-23T23:58:16.474187",
     "exception": false,
     "start_time": "2024-04-23T23:58:16.442862",
     "status": "completed"
    },
    "tags": []
   },
   "outputs": [],
   "source": [
    "model = config['model_path']\n",
    "data_collator = DataCollatorForTokenClassification(config['tokenizer'])\n",
    "# metric = evaluate.load(\"seqeval\")"
   ]
  },
  {
   "cell_type": "markdown",
   "id": "4d56d8f3",
   "metadata": {
    "papermill": {
     "duration": 0.022247,
     "end_time": "2024-04-23T23:58:16.519147",
     "exception": false,
     "start_time": "2024-04-23T23:58:16.496900",
     "status": "completed"
    },
    "tags": []
   },
   "source": [
    "Function for evaluating prediction. Only available online"
   ]
  },
  {
   "cell_type": "code",
   "execution_count": 35,
   "id": "6c8607e7",
   "metadata": {
    "execution": {
     "iopub.execute_input": "2024-04-23T23:58:16.565639Z",
     "iopub.status.busy": "2024-04-23T23:58:16.565324Z",
     "iopub.status.idle": "2024-04-23T23:58:16.570419Z",
     "shell.execute_reply": "2024-04-23T23:58:16.569472Z"
    },
    "papermill": {
     "duration": 0.03106,
     "end_time": "2024-04-23T23:58:16.572544",
     "exception": false,
     "start_time": "2024-04-23T23:58:16.541484",
     "status": "completed"
    },
    "tags": []
   },
   "outputs": [],
   "source": [
    "# def compute_metrics(p):\n",
    "#     predictions, labels = p\n",
    "#     predictions = np.argmax(predictions, axis=2)\n",
    "\n",
    "#     # Remove ignored index (special tokens)\n",
    "#     true_predictions = [\n",
    "#         [ids_to_labels[p] for (p, l) in zip(prediction, label) if l != -100]\n",
    "#         for prediction, label in zip(predictions, labels)\n",
    "#     ]\n",
    "#     true_labels = [\n",
    "#         [ids_to_labels[l] for (p, l) in zip(prediction, label) if l != -100]\n",
    "#         for prediction, label in zip(predictions, labels)\n",
    "#     ]\n",
    "\n",
    "#     results = metric.compute(predictions=true_predictions, references=true_labels)\n",
    "#     if config['return_entity_level_metrics']:\n",
    "#         # Unpack nested dictionaries\n",
    "#         final_results = {}\n",
    "#         for key, value in results.items():\n",
    "#             if isinstance(value, dict):\n",
    "#                 for n, v in value.items():\n",
    "#                     final_results[f\"{key}_{n}\"] = v\n",
    "#             else:\n",
    "#                 final_results[key] = value\n",
    "#         return final_results\n",
    "#     else:\n",
    "#         return {\n",
    "#             \"precision\": results[\"overall_precision\"],\n",
    "#             \"recall\": results[\"overall_recall\"],\n",
    "#             \"f1\": results[\"overall_f1\"],\n",
    "#             \"accuracy\": results[\"overall_accuracy\"],\n",
    "#         }"
   ]
  },
  {
   "cell_type": "markdown",
   "id": "0e6e4219",
   "metadata": {
    "papermill": {
     "duration": 0.024177,
     "end_time": "2024-04-23T23:58:16.621935",
     "exception": false,
     "start_time": "2024-04-23T23:58:16.597758",
     "status": "completed"
    },
    "tags": []
   },
   "source": [
    "### Training"
   ]
  },
  {
   "cell_type": "markdown",
   "id": "54047f54",
   "metadata": {
    "papermill": {
     "duration": 0.023106,
     "end_time": "2024-04-23T23:58:16.668635",
     "exception": false,
     "start_time": "2024-04-23T23:58:16.645529",
     "status": "completed"
    },
    "tags": []
   },
   "source": [
    "Initialize Trainer"
   ]
  },
  {
   "cell_type": "code",
   "execution_count": 36,
   "id": "cd165828",
   "metadata": {
    "execution": {
     "iopub.execute_input": "2024-04-23T23:58:16.716469Z",
     "iopub.status.busy": "2024-04-23T23:58:16.715537Z",
     "iopub.status.idle": "2024-04-23T23:58:16.997956Z",
     "shell.execute_reply": "2024-04-23T23:58:16.996814Z"
    },
    "papermill": {
     "duration": 0.308697,
     "end_time": "2024-04-23T23:58:17.000613",
     "exception": false,
     "start_time": "2024-04-23T23:58:16.691916",
     "status": "completed"
    },
    "tags": []
   },
   "outputs": [],
   "source": [
    "training_args = TrainingArguments(\n",
    "    output_dir= '.',\n",
    "#     overwrite_output_dir = True,\n",
    "    do_train = False,\n",
    "    do_predict = True,\n",
    "#     do_eval = False,\n",
    "    per_device_eval_batch_size = 1,\n",
    "#     auto_find_batch_size=True,\n",
    "    eval_accumulation_steps = 10,\n",
    "    report_to=\"none\",\n",
    "#     num_train_epochs = config['EPOCHS'],\n",
    "#     learning_rate = config['LEARNING_RATE'],\n",
    "#     save_strategy = 'no',\n",
    "    disable_tqdm= False,\n",
    "    no_cuda = False,\n",
    ")\n",
    "\n",
    "trainer = Trainer(\n",
    "    model=model,\n",
    "    args=training_args,\n",
    "#     train_dataset = train_dataset,\n",
    "#     eval_dataset = eval_dataset,\n",
    "    # predict_dataset = predict_dataset,\n",
    "    data_collator=data_collator,\n",
    "#     compute_metrics=compute_metrics,\n",
    ")"
   ]
  },
  {
   "cell_type": "markdown",
   "id": "6321030f",
   "metadata": {
    "papermill": {
     "duration": 0.023387,
     "end_time": "2024-04-23T23:58:17.048097",
     "exception": false,
     "start_time": "2024-04-23T23:58:17.024710",
     "status": "completed"
    },
    "tags": []
   },
   "source": [
    "Start training"
   ]
  },
  {
   "cell_type": "code",
   "execution_count": 37,
   "id": "755d696a",
   "metadata": {
    "execution": {
     "iopub.execute_input": "2024-04-23T23:58:17.097882Z",
     "iopub.status.busy": "2024-04-23T23:58:17.097472Z",
     "iopub.status.idle": "2024-04-23T23:58:17.102738Z",
     "shell.execute_reply": "2024-04-23T23:58:17.101678Z"
    },
    "papermill": {
     "duration": 0.032582,
     "end_time": "2024-04-23T23:58:17.104839",
     "exception": false,
     "start_time": "2024-04-23T23:58:17.072257",
     "status": "completed"
    },
    "tags": []
   },
   "outputs": [],
   "source": [
    "# Training\n",
    "if training_args.do_train:\n",
    "    train_result = trainer.train()\n",
    "#     metrics = train_result.metrics\n",
    "    trainer.save_model()  # Saves the tokenizer too for easy upload\n",
    "\n",
    "#     metrics[\"train_samples\"] = len(train_dataset)\n",
    "\n",
    "#     trainer.log_metrics(\"train\", metrics)\n",
    "#     trainer.save_metrics(\"train\", metrics)\n",
    "    # trainer.save_state()"
   ]
  },
  {
   "cell_type": "markdown",
   "id": "70b27ca9",
   "metadata": {
    "papermill": {
     "duration": 0.023381,
     "end_time": "2024-04-23T23:58:17.151397",
     "exception": false,
     "start_time": "2024-04-23T23:58:17.128016",
     "status": "completed"
    },
    "tags": []
   },
   "source": [
    "Reassign model from kaggle output"
   ]
  },
  {
   "cell_type": "code",
   "execution_count": 38,
   "id": "6d5e42a1",
   "metadata": {
    "execution": {
     "iopub.execute_input": "2024-04-23T23:58:17.199638Z",
     "iopub.status.busy": "2024-04-23T23:58:17.198837Z",
     "iopub.status.idle": "2024-04-23T23:58:17.203241Z",
     "shell.execute_reply": "2024-04-23T23:58:17.202296Z"
    },
    "papermill": {
     "duration": 0.030755,
     "end_time": "2024-04-23T23:58:17.205275",
     "exception": false,
     "start_time": "2024-04-23T23:58:17.174520",
     "status": "completed"
    },
    "tags": []
   },
   "outputs": [],
   "source": [
    "# trainer.model = BertForTokenClassification.from_pretrained(config['model_path'])\n",
    "# trainer.model.to(config['device'])"
   ]
  },
  {
   "cell_type": "markdown",
   "id": "724965e8",
   "metadata": {
    "papermill": {
     "duration": 0.022684,
     "end_time": "2024-04-23T23:58:17.251402",
     "exception": false,
     "start_time": "2024-04-23T23:58:17.228718",
     "status": "completed"
    },
    "tags": []
   },
   "source": [
    "### Evaluation"
   ]
  },
  {
   "cell_type": "code",
   "execution_count": 39,
   "id": "a5604939",
   "metadata": {
    "execution": {
     "iopub.execute_input": "2024-04-23T23:58:17.300181Z",
     "iopub.status.busy": "2024-04-23T23:58:17.299418Z",
     "iopub.status.idle": "2024-04-23T23:58:17.304132Z",
     "shell.execute_reply": "2024-04-23T23:58:17.303072Z"
    },
    "papermill": {
     "duration": 0.031825,
     "end_time": "2024-04-23T23:58:17.306226",
     "exception": false,
     "start_time": "2024-04-23T23:58:17.274401",
     "status": "completed"
    },
    "tags": []
   },
   "outputs": [],
   "source": [
    "# # Evaluation\n",
    "# if training_args.do_eval:\n",
    "# #     logger.info(\"*** Evaluate ***\")\n",
    "\n",
    "#     metrics = trainer.evaluate()\n",
    "\n",
    "#  #   max_eval_samples = data_args.max_eval_samples if data_args.max_eval_samples is not None else len(eval_dataset)\n",
    "#     metrics[\"eval_samples\"] = len(eval_dataset)\n",
    "\n",
    "#     trainer.log_metrics(\"eval\", metrics)\n",
    "#     trainer.save_metrics(\"eval\", metrics)"
   ]
  },
  {
   "cell_type": "markdown",
   "id": "caf0acbd",
   "metadata": {
    "papermill": {
     "duration": 0.022756,
     "end_time": "2024-04-23T23:58:17.352831",
     "exception": false,
     "start_time": "2024-04-23T23:58:17.330075",
     "status": "completed"
    },
    "tags": []
   },
   "source": [
    "### Prediction"
   ]
  },
  {
   "cell_type": "code",
   "execution_count": 40,
   "id": "763fbfa7",
   "metadata": {
    "execution": {
     "iopub.execute_input": "2024-04-23T23:58:17.399475Z",
     "iopub.status.busy": "2024-04-23T23:58:17.399119Z",
     "iopub.status.idle": "2024-04-23T23:58:19.137829Z",
     "shell.execute_reply": "2024-04-23T23:58:19.136707Z"
    },
    "papermill": {
     "duration": 1.764553,
     "end_time": "2024-04-23T23:58:19.140174",
     "exception": false,
     "start_time": "2024-04-23T23:58:17.375621",
     "status": "completed"
    },
    "tags": []
   },
   "outputs": [
    {
     "data": {
      "text/html": [],
      "text/plain": [
       "<IPython.core.display.HTML object>"
      ]
     },
     "metadata": {},
     "output_type": "display_data"
    }
   ],
   "source": [
    "# Predict\n",
    "if training_args.do_predict:\n",
    "    # logger.info(\"*** Predict ***\")\n",
    "\n",
    "    predictions, labels, metrics = trainer.predict(predict_dataset, metric_key_prefix=\"predict\")\n",
    "    predictions = predictions.argmax(-1)\n",
    "\n",
    "    # Remove ignored index (special tokens)\n",
    "    true_predictions = [\n",
    "        [ids_to_labels[p] for (p, l) in zip(prediction, label) if l != -100]\n",
    "        for prediction, label in zip(predictions, labels)\n",
    "    ]\n",
    "\n",
    "#     trainer.log_metrics(\"predict\", metrics)\n",
    "#     trainer.save_metrics(\"predict\", metrics)"
   ]
  },
  {
   "cell_type": "markdown",
   "id": "50d08294",
   "metadata": {
    "papermill": {
     "duration": 0.024573,
     "end_time": "2024-04-23T23:58:19.189021",
     "exception": false,
     "start_time": "2024-04-23T23:58:19.164448",
     "status": "completed"
    },
    "tags": []
   },
   "source": [
    "### Build Submission"
   ]
  },
  {
   "cell_type": "code",
   "execution_count": 41,
   "id": "a7040ebe",
   "metadata": {
    "execution": {
     "iopub.execute_input": "2024-04-23T23:58:19.239938Z",
     "iopub.status.busy": "2024-04-23T23:58:19.239529Z",
     "iopub.status.idle": "2024-04-23T23:58:19.247329Z",
     "shell.execute_reply": "2024-04-23T23:58:19.246468Z"
    },
    "papermill": {
     "duration": 0.035434,
     "end_time": "2024-04-23T23:58:19.249405",
     "exception": false,
     "start_time": "2024-04-23T23:58:19.213971",
     "status": "completed"
    },
    "tags": []
   },
   "outputs": [],
   "source": [
    "results = []\n",
    "for preds, location, doc in zip(\n",
    "    true_predictions, \n",
    "    predict_dataset[\"location\"], \n",
    "    predict_dataset[\"document\"]\n",
    "):\n",
    "    results.extend([(doc, location * config['MAX_LEN'] + idx, label) for idx, label in enumerate(preds) if label != 'O'])"
   ]
  },
  {
   "cell_type": "code",
   "execution_count": 42,
   "id": "021f994f",
   "metadata": {
    "execution": {
     "iopub.execute_input": "2024-04-23T23:58:19.298025Z",
     "iopub.status.busy": "2024-04-23T23:58:19.297695Z",
     "iopub.status.idle": "2024-04-23T23:58:19.316656Z",
     "shell.execute_reply": "2024-04-23T23:58:19.315658Z"
    },
    "papermill": {
     "duration": 0.046009,
     "end_time": "2024-04-23T23:58:19.318923",
     "exception": false,
     "start_time": "2024-04-23T23:58:19.272914",
     "status": "completed"
    },
    "tags": []
   },
   "outputs": [
    {
     "data": {
      "text/html": [
       "<div>\n",
       "<style scoped>\n",
       "    .dataframe tbody tr th:only-of-type {\n",
       "        vertical-align: middle;\n",
       "    }\n",
       "\n",
       "    .dataframe tbody tr th {\n",
       "        vertical-align: top;\n",
       "    }\n",
       "\n",
       "    .dataframe thead th {\n",
       "        text-align: right;\n",
       "    }\n",
       "</style>\n",
       "<table border=\"1\" class=\"dataframe\">\n",
       "  <thead>\n",
       "    <tr style=\"text-align: right;\">\n",
       "      <th></th>\n",
       "      <th>row_id</th>\n",
       "      <th>document</th>\n",
       "      <th>token</th>\n",
       "      <th>label</th>\n",
       "    </tr>\n",
       "  </thead>\n",
       "  <tbody>\n",
       "    <tr>\n",
       "      <th>0</th>\n",
       "      <td>0</td>\n",
       "      <td>7</td>\n",
       "      <td>9</td>\n",
       "      <td>B-NAME_STUDENT</td>\n",
       "    </tr>\n",
       "    <tr>\n",
       "      <th>1</th>\n",
       "      <td>1</td>\n",
       "      <td>7</td>\n",
       "      <td>10</td>\n",
       "      <td>I-NAME_STUDENT</td>\n",
       "    </tr>\n",
       "    <tr>\n",
       "      <th>2</th>\n",
       "      <td>2</td>\n",
       "      <td>7</td>\n",
       "      <td>108</td>\n",
       "      <td>B-ID_NUM</td>\n",
       "    </tr>\n",
       "    <tr>\n",
       "      <th>3</th>\n",
       "      <td>3</td>\n",
       "      <td>7</td>\n",
       "      <td>482</td>\n",
       "      <td>B-NAME_STUDENT</td>\n",
       "    </tr>\n",
       "    <tr>\n",
       "      <th>4</th>\n",
       "      <td>4</td>\n",
       "      <td>7</td>\n",
       "      <td>483</td>\n",
       "      <td>I-NAME_STUDENT</td>\n",
       "    </tr>\n",
       "    <tr>\n",
       "      <th>5</th>\n",
       "      <td>5</td>\n",
       "      <td>7</td>\n",
       "      <td>741</td>\n",
       "      <td>B-NAME_STUDENT</td>\n",
       "    </tr>\n",
       "    <tr>\n",
       "      <th>6</th>\n",
       "      <td>6</td>\n",
       "      <td>7</td>\n",
       "      <td>742</td>\n",
       "      <td>I-NAME_STUDENT</td>\n",
       "    </tr>\n",
       "    <tr>\n",
       "      <th>7</th>\n",
       "      <td>7</td>\n",
       "      <td>10</td>\n",
       "      <td>0</td>\n",
       "      <td>B-NAME_STUDENT</td>\n",
       "    </tr>\n",
       "    <tr>\n",
       "      <th>8</th>\n",
       "      <td>8</td>\n",
       "      <td>10</td>\n",
       "      <td>1</td>\n",
       "      <td>I-NAME_STUDENT</td>\n",
       "    </tr>\n",
       "    <tr>\n",
       "      <th>9</th>\n",
       "      <td>9</td>\n",
       "      <td>10</td>\n",
       "      <td>464</td>\n",
       "      <td>B-NAME_STUDENT</td>\n",
       "    </tr>\n",
       "    <tr>\n",
       "      <th>10</th>\n",
       "      <td>10</td>\n",
       "      <td>10</td>\n",
       "      <td>465</td>\n",
       "      <td>I-NAME_STUDENT</td>\n",
       "    </tr>\n",
       "    <tr>\n",
       "      <th>11</th>\n",
       "      <td>11</td>\n",
       "      <td>16</td>\n",
       "      <td>4</td>\n",
       "      <td>B-NAME_STUDENT</td>\n",
       "    </tr>\n",
       "    <tr>\n",
       "      <th>12</th>\n",
       "      <td>12</td>\n",
       "      <td>16</td>\n",
       "      <td>5</td>\n",
       "      <td>I-NAME_STUDENT</td>\n",
       "    </tr>\n",
       "    <tr>\n",
       "      <th>13</th>\n",
       "      <td>13</td>\n",
       "      <td>20</td>\n",
       "      <td>5</td>\n",
       "      <td>B-NAME_STUDENT</td>\n",
       "    </tr>\n",
       "    <tr>\n",
       "      <th>14</th>\n",
       "      <td>14</td>\n",
       "      <td>20</td>\n",
       "      <td>6</td>\n",
       "      <td>I-NAME_STUDENT</td>\n",
       "    </tr>\n",
       "    <tr>\n",
       "      <th>15</th>\n",
       "      <td>15</td>\n",
       "      <td>56</td>\n",
       "      <td>9</td>\n",
       "      <td>I-NAME_STUDENT</td>\n",
       "    </tr>\n",
       "    <tr>\n",
       "      <th>16</th>\n",
       "      <td>16</td>\n",
       "      <td>56</td>\n",
       "      <td>100</td>\n",
       "      <td>B-NAME_STUDENT</td>\n",
       "    </tr>\n",
       "    <tr>\n",
       "      <th>17</th>\n",
       "      <td>17</td>\n",
       "      <td>56</td>\n",
       "      <td>103</td>\n",
       "      <td>B-NAME_STUDENT</td>\n",
       "    </tr>\n",
       "    <tr>\n",
       "      <th>18</th>\n",
       "      <td>18</td>\n",
       "      <td>86</td>\n",
       "      <td>6</td>\n",
       "      <td>B-NAME_STUDENT</td>\n",
       "    </tr>\n",
       "    <tr>\n",
       "      <th>19</th>\n",
       "      <td>19</td>\n",
       "      <td>86</td>\n",
       "      <td>7</td>\n",
       "      <td>I-NAME_STUDENT</td>\n",
       "    </tr>\n",
       "    <tr>\n",
       "      <th>20</th>\n",
       "      <td>20</td>\n",
       "      <td>93</td>\n",
       "      <td>0</td>\n",
       "      <td>B-NAME_STUDENT</td>\n",
       "    </tr>\n",
       "    <tr>\n",
       "      <th>21</th>\n",
       "      <td>21</td>\n",
       "      <td>93</td>\n",
       "      <td>1</td>\n",
       "      <td>I-NAME_STUDENT</td>\n",
       "    </tr>\n",
       "    <tr>\n",
       "      <th>22</th>\n",
       "      <td>22</td>\n",
       "      <td>104</td>\n",
       "      <td>8</td>\n",
       "      <td>B-NAME_STUDENT</td>\n",
       "    </tr>\n",
       "    <tr>\n",
       "      <th>23</th>\n",
       "      <td>23</td>\n",
       "      <td>104</td>\n",
       "      <td>9</td>\n",
       "      <td>I-NAME_STUDENT</td>\n",
       "    </tr>\n",
       "    <tr>\n",
       "      <th>24</th>\n",
       "      <td>24</td>\n",
       "      <td>112</td>\n",
       "      <td>5</td>\n",
       "      <td>B-NAME_STUDENT</td>\n",
       "    </tr>\n",
       "    <tr>\n",
       "      <th>25</th>\n",
       "      <td>25</td>\n",
       "      <td>112</td>\n",
       "      <td>6</td>\n",
       "      <td>I-NAME_STUDENT</td>\n",
       "    </tr>\n",
       "    <tr>\n",
       "      <th>26</th>\n",
       "      <td>26</td>\n",
       "      <td>112</td>\n",
       "      <td>425</td>\n",
       "      <td>B-NAME_STUDENT</td>\n",
       "    </tr>\n",
       "    <tr>\n",
       "      <th>27</th>\n",
       "      <td>27</td>\n",
       "      <td>123</td>\n",
       "      <td>32</td>\n",
       "      <td>B-NAME_STUDENT</td>\n",
       "    </tr>\n",
       "    <tr>\n",
       "      <th>28</th>\n",
       "      <td>28</td>\n",
       "      <td>123</td>\n",
       "      <td>33</td>\n",
       "      <td>I-NAME_STUDENT</td>\n",
       "    </tr>\n",
       "    <tr>\n",
       "      <th>29</th>\n",
       "      <td>29</td>\n",
       "      <td>123</td>\n",
       "      <td>100</td>\n",
       "      <td>B-NAME_STUDENT</td>\n",
       "    </tr>\n",
       "    <tr>\n",
       "      <th>30</th>\n",
       "      <td>30</td>\n",
       "      <td>123</td>\n",
       "      <td>101</td>\n",
       "      <td>I-NAME_STUDENT</td>\n",
       "    </tr>\n",
       "    <tr>\n",
       "      <th>31</th>\n",
       "      <td>31</td>\n",
       "      <td>123</td>\n",
       "      <td>222</td>\n",
       "      <td>B-NAME_STUDENT</td>\n",
       "    </tr>\n",
       "    <tr>\n",
       "      <th>32</th>\n",
       "      <td>32</td>\n",
       "      <td>123</td>\n",
       "      <td>488</td>\n",
       "      <td>B-NAME_STUDENT</td>\n",
       "    </tr>\n",
       "    <tr>\n",
       "      <th>33</th>\n",
       "      <td>33</td>\n",
       "      <td>123</td>\n",
       "      <td>743</td>\n",
       "      <td>B-URL_PERSONAL</td>\n",
       "    </tr>\n",
       "    <tr>\n",
       "      <th>34</th>\n",
       "      <td>34</td>\n",
       "      <td>123</td>\n",
       "      <td>800</td>\n",
       "      <td>B-NAME_STUDENT</td>\n",
       "    </tr>\n",
       "    <tr>\n",
       "      <th>35</th>\n",
       "      <td>35</td>\n",
       "      <td>123</td>\n",
       "      <td>804</td>\n",
       "      <td>B-NAME_STUDENT</td>\n",
       "    </tr>\n",
       "    <tr>\n",
       "      <th>36</th>\n",
       "      <td>36</td>\n",
       "      <td>123</td>\n",
       "      <td>1347</td>\n",
       "      <td>B-NAME_STUDENT</td>\n",
       "    </tr>\n",
       "    <tr>\n",
       "      <th>37</th>\n",
       "      <td>37</td>\n",
       "      <td>123</td>\n",
       "      <td>1500</td>\n",
       "      <td>B-NAME_STUDENT</td>\n",
       "    </tr>\n",
       "    <tr>\n",
       "      <th>38</th>\n",
       "      <td>38</td>\n",
       "      <td>123</td>\n",
       "      <td>1501</td>\n",
       "      <td>I-NAME_STUDENT</td>\n",
       "    </tr>\n",
       "    <tr>\n",
       "      <th>39</th>\n",
       "      <td>39</td>\n",
       "      <td>123</td>\n",
       "      <td>1511</td>\n",
       "      <td>B-URL_PERSONAL</td>\n",
       "    </tr>\n",
       "    <tr>\n",
       "      <th>40</th>\n",
       "      <td>40</td>\n",
       "      <td>123</td>\n",
       "      <td>1513</td>\n",
       "      <td>B-URL_PERSONAL</td>\n",
       "    </tr>\n",
       "    <tr>\n",
       "      <th>41</th>\n",
       "      <td>41</td>\n",
       "      <td>123</td>\n",
       "      <td>1515</td>\n",
       "      <td>B-URL_PERSONAL</td>\n",
       "    </tr>\n",
       "    <tr>\n",
       "      <th>42</th>\n",
       "      <td>42</td>\n",
       "      <td>123</td>\n",
       "      <td>1517</td>\n",
       "      <td>B-URL_PERSONAL</td>\n",
       "    </tr>\n",
       "    <tr>\n",
       "      <th>43</th>\n",
       "      <td>43</td>\n",
       "      <td>123</td>\n",
       "      <td>1578</td>\n",
       "      <td>I-NAME_STUDENT</td>\n",
       "    </tr>\n",
       "    <tr>\n",
       "      <th>44</th>\n",
       "      <td>44</td>\n",
       "      <td>123</td>\n",
       "      <td>1580</td>\n",
       "      <td>B-URL_PERSONAL</td>\n",
       "    </tr>\n",
       "    <tr>\n",
       "      <th>45</th>\n",
       "      <td>45</td>\n",
       "      <td>123</td>\n",
       "      <td>1602</td>\n",
       "      <td>B-NAME_STUDENT</td>\n",
       "    </tr>\n",
       "  </tbody>\n",
       "</table>\n",
       "</div>"
      ],
      "text/plain": [
       "    row_id  document  token           label\n",
       "0        0         7      9  B-NAME_STUDENT\n",
       "1        1         7     10  I-NAME_STUDENT\n",
       "2        2         7    108        B-ID_NUM\n",
       "3        3         7    482  B-NAME_STUDENT\n",
       "4        4         7    483  I-NAME_STUDENT\n",
       "5        5         7    741  B-NAME_STUDENT\n",
       "6        6         7    742  I-NAME_STUDENT\n",
       "7        7        10      0  B-NAME_STUDENT\n",
       "8        8        10      1  I-NAME_STUDENT\n",
       "9        9        10    464  B-NAME_STUDENT\n",
       "10      10        10    465  I-NAME_STUDENT\n",
       "11      11        16      4  B-NAME_STUDENT\n",
       "12      12        16      5  I-NAME_STUDENT\n",
       "13      13        20      5  B-NAME_STUDENT\n",
       "14      14        20      6  I-NAME_STUDENT\n",
       "15      15        56      9  I-NAME_STUDENT\n",
       "16      16        56    100  B-NAME_STUDENT\n",
       "17      17        56    103  B-NAME_STUDENT\n",
       "18      18        86      6  B-NAME_STUDENT\n",
       "19      19        86      7  I-NAME_STUDENT\n",
       "20      20        93      0  B-NAME_STUDENT\n",
       "21      21        93      1  I-NAME_STUDENT\n",
       "22      22       104      8  B-NAME_STUDENT\n",
       "23      23       104      9  I-NAME_STUDENT\n",
       "24      24       112      5  B-NAME_STUDENT\n",
       "25      25       112      6  I-NAME_STUDENT\n",
       "26      26       112    425  B-NAME_STUDENT\n",
       "27      27       123     32  B-NAME_STUDENT\n",
       "28      28       123     33  I-NAME_STUDENT\n",
       "29      29       123    100  B-NAME_STUDENT\n",
       "30      30       123    101  I-NAME_STUDENT\n",
       "31      31       123    222  B-NAME_STUDENT\n",
       "32      32       123    488  B-NAME_STUDENT\n",
       "33      33       123    743  B-URL_PERSONAL\n",
       "34      34       123    800  B-NAME_STUDENT\n",
       "35      35       123    804  B-NAME_STUDENT\n",
       "36      36       123   1347  B-NAME_STUDENT\n",
       "37      37       123   1500  B-NAME_STUDENT\n",
       "38      38       123   1501  I-NAME_STUDENT\n",
       "39      39       123   1511  B-URL_PERSONAL\n",
       "40      40       123   1513  B-URL_PERSONAL\n",
       "41      41       123   1515  B-URL_PERSONAL\n",
       "42      42       123   1517  B-URL_PERSONAL\n",
       "43      43       123   1578  I-NAME_STUDENT\n",
       "44      44       123   1580  B-URL_PERSONAL\n",
       "45      45       123   1602  B-NAME_STUDENT"
      ]
     },
     "execution_count": 42,
     "metadata": {},
     "output_type": "execute_result"
    }
   ],
   "source": [
    "df_submission = pd.DataFrame(results, columns = ['document','token','label'])\n",
    "df_submission['row_id'] = df_submission.index\n",
    "df_submission_final = df_submission[['row_id','document','token','label']]\n",
    "df_submission_final"
   ]
  },
  {
   "cell_type": "code",
   "execution_count": 43,
   "id": "708fd555",
   "metadata": {
    "execution": {
     "iopub.execute_input": "2024-04-23T23:58:19.370698Z",
     "iopub.status.busy": "2024-04-23T23:58:19.370347Z",
     "iopub.status.idle": "2024-04-23T23:58:19.374591Z",
     "shell.execute_reply": "2024-04-23T23:58:19.373602Z"
    },
    "papermill": {
     "duration": 0.031326,
     "end_time": "2024-04-23T23:58:19.376762",
     "exception": false,
     "start_time": "2024-04-23T23:58:19.345436",
     "status": "completed"
    },
    "tags": []
   },
   "outputs": [],
   "source": [
    "# df_submission_final.to_csv(config['subm_path'],index = False)"
   ]
  },
  {
   "cell_type": "code",
   "execution_count": 44,
   "id": "4a255d7f",
   "metadata": {
    "execution": {
     "iopub.execute_input": "2024-04-23T23:58:19.427835Z",
     "iopub.status.busy": "2024-04-23T23:58:19.427179Z",
     "iopub.status.idle": "2024-04-23T23:58:19.433928Z",
     "shell.execute_reply": "2024-04-23T23:58:19.433028Z"
    },
    "papermill": {
     "duration": 0.03635,
     "end_time": "2024-04-23T23:58:19.436157",
     "exception": false,
     "start_time": "2024-04-23T23:58:19.399807",
     "status": "completed"
    },
    "tags": []
   },
   "outputs": [],
   "source": [
    "df_submission_final.to_csv('submission.csv',index = False)"
   ]
  },
  {
   "cell_type": "code",
   "execution_count": null,
   "id": "27f57795",
   "metadata": {
    "papermill": {
     "duration": 0.022862,
     "end_time": "2024-04-23T23:58:19.482773",
     "exception": false,
     "start_time": "2024-04-23T23:58:19.459911",
     "status": "completed"
    },
    "tags": []
   },
   "outputs": [],
   "source": []
  }
 ],
 "metadata": {
  "colab": {
   "provenance": [],
   "toc_visible": true
  },
  "kaggle": {
   "accelerator": "gpu",
   "dataSources": [
    {
     "databundleVersionId": 7500999,
     "sourceId": 66653,
     "sourceType": "competition"
    },
    {
     "datasetId": 934701,
     "sourceId": 8169098,
     "sourceType": "datasetVersion"
    },
    {
     "sourceId": 173589842,
     "sourceType": "kernelVersion"
    }
   ],
   "isGpuEnabled": true,
   "isInternetEnabled": false,
   "language": "python",
   "sourceType": "notebook"
  },
  "kernelspec": {
   "display_name": "Python 3",
   "language": "python",
   "name": "python3"
  },
  "language_info": {
   "codemirror_mode": {
    "name": "ipython",
    "version": 3
   },
   "file_extension": ".py",
   "mimetype": "text/x-python",
   "name": "python",
   "nbconvert_exporter": "python",
   "pygments_lexer": "ipython3",
   "version": "3.10.13"
  },
  "papermill": {
   "default_parameters": {},
   "duration": 50.307756,
   "end_time": "2024-04-23T23:58:22.560388",
   "environment_variables": {},
   "exception": null,
   "input_path": "__notebook__.ipynb",
   "output_path": "__notebook__.ipynb",
   "parameters": {},
   "start_time": "2024-04-23T23:57:32.252632",
   "version": "2.5.0"
  }
 },
 "nbformat": 4,
 "nbformat_minor": 5
}
