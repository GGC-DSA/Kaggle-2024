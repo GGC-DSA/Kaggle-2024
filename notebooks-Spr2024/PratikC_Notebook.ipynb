{
 "cells": [
  {
   "cell_type": "markdown",
   "source": [
    "# Loading and Cleaning Datasets"
   ],
   "metadata": {
    "collapsed": false
   },
   "id": "f81b8885e3011eb3"
  },
  {
   "cell_type": "code",
   "execution_count": 1,
   "id": "initial_id",
   "metadata": {
    "collapsed": true,
    "jupyter": {
     "outputs_hidden": true
    },
    "ExecuteTime": {
     "end_time": "2024-03-07T05:16:51.417894Z",
     "start_time": "2024-03-07T05:16:49.206772900Z"
    }
   },
   "outputs": [],
   "source": [
    "import pandas as pd\n",
    "import numpy as np\n",
    "import spacy as sp\n",
    "import re\n",
    "import matplotlib.pyplot as plt\n",
    "import seaborn as sns\n",
    "\n",
    "from sklearn.model_selection import train_test_split"
   ]
  },
  {
   "cell_type": "markdown",
   "source": [
    "If using IDE, Run \n",
    "```\n",
    "python -m spacy download en_core_web_sm\n",
    "```\n",
    "in the bash to install the english spacy pipline"
   ],
   "metadata": {
    "collapsed": false
   },
   "id": "b3a07f48d94a5870"
  },
  {
   "cell_type": "markdown",
   "source": [
    "## Official Datasets"
   ],
   "metadata": {
    "collapsed": false
   },
   "id": "e9086b614e399c7c"
  },
  {
   "cell_type": "markdown",
   "source": [
    "### Data and Exploration"
   ],
   "metadata": {
    "collapsed": false
   },
   "id": "fc60c15cf0c78d6e"
  },
  {
   "cell_type": "code",
   "execution_count": 131,
   "id": "3af5679c6eceac05",
   "metadata": {
    "collapsed": false,
    "ExecuteTime": {
     "end_time": "2024-03-07T06:06:22.480216500Z",
     "start_time": "2024-03-07T06:06:21.747362400Z"
    }
   },
   "outputs": [
    {
     "data": {
      "text/plain": "      document                                          full_text  \\\n0            7  Design Thinking for innovation reflexion-Avril...   \n1           10  Diego Estrada\\n\\nDesign Thinking Assignment\\n\\...   \n2           16  Reporting process\\n\\nby Gilberto Gamboa\\n\\nCha...   \n3           20  Design Thinking for Innovation\\n\\nSindy Samaca...   \n4           56  Assignment:  Visualization Reflection  Submitt...   \n...        ...                                                ...   \n6802     22678  EXAMPLE – JOURNEY MAP\\n\\nTHE CHALLENGE    My w...   \n6803     22679  Why Mind Mapping?\\n\\nMind maps are graphical r...   \n6804     22681  Challenge\\n\\nSo, a few months back, I had chos...   \n6805     22684  Brainstorming\\n\\nChallenge & Selection\\n\\nBrai...   \n6806     22687  Mind Mapping\\n\\nChallenge\\n\\nMy consulting tea...   \n\n                                                 tokens  \\\n0     [Design, Thinking, for, innovation, reflexion,...   \n1     [Diego, Estrada, \\n\\n, Design, Thinking, Assig...   \n2     [Reporting, process, \\n\\n, by, Gilberto, Gambo...   \n3     [Design, Thinking, for, Innovation, \\n\\n, Sind...   \n4     [Assignment, :,   , Visualization,  , Reflecti...   \n...                                                 ...   \n6802  [EXAMPLE, –, JOURNEY, MAP, \\n\\n, THE, CHALLENG...   \n6803  [Why, Mind, Mapping, ?, \\n\\n, Mind, maps, are,...   \n6804  [Challenge, \\n\\n, So, ,, a, few, months, back,...   \n6805  [Brainstorming, \\n\\n, Challenge, &, Selection,...   \n6806  [Mind, Mapping, \\n\\n, Challenge, \\n\\n, My, con...   \n\n                                    trailing_whitespace  \\\n0     [True, True, True, True, False, False, True, F...   \n1     [True, False, False, True, True, False, False,...   \n2     [True, False, False, True, True, False, False,...   \n3     [True, True, True, False, False, True, False, ...   \n4     [False, False, False, False, False, False, Fal...   \n...                                                 ...   \n6802  [True, True, True, False, False, True, True, F...   \n6803  [True, True, False, False, False, True, True, ...   \n6804  [False, False, False, True, True, True, True, ...   \n6805  [False, False, True, True, False, False, True,...   \n6806  [True, False, False, False, False, True, True,...   \n\n                                                 labels  \n0     [O, O, O, O, O, O, O, O, O, B-NAME_STUDENT, I-...  \n1     [B-NAME_STUDENT, I-NAME_STUDENT, O, O, O, O, O...  \n2     [O, O, O, O, B-NAME_STUDENT, I-NAME_STUDENT, O...  \n3     [O, O, O, O, O, B-NAME_STUDENT, I-NAME_STUDENT...  \n4     [O, O, O, O, O, O, O, O, O, O, O, O, B-NAME_ST...  \n...                                                 ...  \n6802  [O, O, O, O, O, O, O, O, O, O, O, O, O, O, O, ...  \n6803  [O, O, O, O, O, O, O, O, O, O, O, O, O, O, O, ...  \n6804  [O, O, O, O, O, O, O, O, O, O, O, O, O, O, O, ...  \n6805  [O, O, O, O, O, O, O, O, O, O, O, O, O, O, O, ...  \n6806  [O, O, O, O, O, O, O, O, O, O, O, O, O, O, O, ...  \n\n[6807 rows x 5 columns]",
      "text/html": "<div>\n<style scoped>\n    .dataframe tbody tr th:only-of-type {\n        vertical-align: middle;\n    }\n\n    .dataframe tbody tr th {\n        vertical-align: top;\n    }\n\n    .dataframe thead th {\n        text-align: right;\n    }\n</style>\n<table border=\"1\" class=\"dataframe\">\n  <thead>\n    <tr style=\"text-align: right;\">\n      <th></th>\n      <th>document</th>\n      <th>full_text</th>\n      <th>tokens</th>\n      <th>trailing_whitespace</th>\n      <th>labels</th>\n    </tr>\n  </thead>\n  <tbody>\n    <tr>\n      <th>0</th>\n      <td>7</td>\n      <td>Design Thinking for innovation reflexion-Avril...</td>\n      <td>[Design, Thinking, for, innovation, reflexion,...</td>\n      <td>[True, True, True, True, False, False, True, F...</td>\n      <td>[O, O, O, O, O, O, O, O, O, B-NAME_STUDENT, I-...</td>\n    </tr>\n    <tr>\n      <th>1</th>\n      <td>10</td>\n      <td>Diego Estrada\\n\\nDesign Thinking Assignment\\n\\...</td>\n      <td>[Diego, Estrada, \\n\\n, Design, Thinking, Assig...</td>\n      <td>[True, False, False, True, True, False, False,...</td>\n      <td>[B-NAME_STUDENT, I-NAME_STUDENT, O, O, O, O, O...</td>\n    </tr>\n    <tr>\n      <th>2</th>\n      <td>16</td>\n      <td>Reporting process\\n\\nby Gilberto Gamboa\\n\\nCha...</td>\n      <td>[Reporting, process, \\n\\n, by, Gilberto, Gambo...</td>\n      <td>[True, False, False, True, True, False, False,...</td>\n      <td>[O, O, O, O, B-NAME_STUDENT, I-NAME_STUDENT, O...</td>\n    </tr>\n    <tr>\n      <th>3</th>\n      <td>20</td>\n      <td>Design Thinking for Innovation\\n\\nSindy Samaca...</td>\n      <td>[Design, Thinking, for, Innovation, \\n\\n, Sind...</td>\n      <td>[True, True, True, False, False, True, False, ...</td>\n      <td>[O, O, O, O, O, B-NAME_STUDENT, I-NAME_STUDENT...</td>\n    </tr>\n    <tr>\n      <th>4</th>\n      <td>56</td>\n      <td>Assignment:  Visualization Reflection  Submitt...</td>\n      <td>[Assignment, :,   , Visualization,  , Reflecti...</td>\n      <td>[False, False, False, False, False, False, Fal...</td>\n      <td>[O, O, O, O, O, O, O, O, O, O, O, O, B-NAME_ST...</td>\n    </tr>\n    <tr>\n      <th>...</th>\n      <td>...</td>\n      <td>...</td>\n      <td>...</td>\n      <td>...</td>\n      <td>...</td>\n    </tr>\n    <tr>\n      <th>6802</th>\n      <td>22678</td>\n      <td>EXAMPLE – JOURNEY MAP\\n\\nTHE CHALLENGE    My w...</td>\n      <td>[EXAMPLE, –, JOURNEY, MAP, \\n\\n, THE, CHALLENG...</td>\n      <td>[True, True, True, False, False, True, True, F...</td>\n      <td>[O, O, O, O, O, O, O, O, O, O, O, O, O, O, O, ...</td>\n    </tr>\n    <tr>\n      <th>6803</th>\n      <td>22679</td>\n      <td>Why Mind Mapping?\\n\\nMind maps are graphical r...</td>\n      <td>[Why, Mind, Mapping, ?, \\n\\n, Mind, maps, are,...</td>\n      <td>[True, True, False, False, False, True, True, ...</td>\n      <td>[O, O, O, O, O, O, O, O, O, O, O, O, O, O, O, ...</td>\n    </tr>\n    <tr>\n      <th>6804</th>\n      <td>22681</td>\n      <td>Challenge\\n\\nSo, a few months back, I had chos...</td>\n      <td>[Challenge, \\n\\n, So, ,, a, few, months, back,...</td>\n      <td>[False, False, False, True, True, True, True, ...</td>\n      <td>[O, O, O, O, O, O, O, O, O, O, O, O, O, O, O, ...</td>\n    </tr>\n    <tr>\n      <th>6805</th>\n      <td>22684</td>\n      <td>Brainstorming\\n\\nChallenge &amp; Selection\\n\\nBrai...</td>\n      <td>[Brainstorming, \\n\\n, Challenge, &amp;, Selection,...</td>\n      <td>[False, False, True, True, False, False, True,...</td>\n      <td>[O, O, O, O, O, O, O, O, O, O, O, O, O, O, O, ...</td>\n    </tr>\n    <tr>\n      <th>6806</th>\n      <td>22687</td>\n      <td>Mind Mapping\\n\\nChallenge\\n\\nMy consulting tea...</td>\n      <td>[Mind, Mapping, \\n\\n, Challenge, \\n\\n, My, con...</td>\n      <td>[True, False, False, False, False, True, True,...</td>\n      <td>[O, O, O, O, O, O, O, O, O, O, O, O, O, O, O, ...</td>\n    </tr>\n  </tbody>\n</table>\n<p>6807 rows × 5 columns</p>\n</div>"
     },
     "execution_count": 131,
     "metadata": {},
     "output_type": "execute_result"
    }
   ],
   "source": [
    "df = pd.read_json(\"../Datasets/Official/train.json\")\n",
    "df"
   ]
  },
  {
   "cell_type": "code",
   "execution_count": 132,
   "id": "ee1a7591efc0b31c",
   "metadata": {
    "collapsed": false,
    "ExecuteTime": {
     "end_time": "2024-03-07T06:06:24.292026500Z",
     "start_time": "2024-03-07T06:06:24.279525500Z"
    }
   },
   "outputs": [
    {
     "data": {
      "text/plain": "Empty DataFrame\nColumns: [document, full_text, tokens, trailing_whitespace, labels]\nIndex: []",
      "text/html": "<div>\n<style scoped>\n    .dataframe tbody tr th:only-of-type {\n        vertical-align: middle;\n    }\n\n    .dataframe tbody tr th {\n        vertical-align: top;\n    }\n\n    .dataframe thead th {\n        text-align: right;\n    }\n</style>\n<table border=\"1\" class=\"dataframe\">\n  <thead>\n    <tr style=\"text-align: right;\">\n      <th></th>\n      <th>document</th>\n      <th>full_text</th>\n      <th>tokens</th>\n      <th>trailing_whitespace</th>\n      <th>labels</th>\n    </tr>\n  </thead>\n  <tbody>\n  </tbody>\n</table>\n</div>"
     },
     "execution_count": 132,
     "metadata": {},
     "output_type": "execute_result"
    }
   ],
   "source": [
    "df[df.isnull().any(axis = 1)]"
   ]
  },
  {
   "cell_type": "code",
   "outputs": [
    {
     "data": {
      "text/plain": "<Figure size 640x480 with 1 Axes>",
      "image/png": "[encoded data removed]"
     },
     "metadata": {},
     "output_type": "display_data"
    }
   ],
   "source": [
    "from collections import Counter\n",
    "c = Counter()\n",
    "df.apply(lambda line: c.update(line.labels), axis = 1)\n",
    "c_pii = c.most_common()[1:]\n",
    "c_key, c_val = zip(*c_pii)\n",
    "plt.barh(c_key, c_val)\n",
    "plt.show()"
   ],
   "metadata": {
    "collapsed": false,
    "ExecuteTime": {
     "end_time": "2024-03-07T06:06:26.208798500Z",
     "start_time": "2024-03-07T06:06:25.965665500Z"
    }
   },
   "id": "ee442bede747650a",
   "execution_count": 133
  },
  {
   "cell_type": "markdown",
   "source": [
    "figure how to do without tokenizer"
   ],
   "metadata": {
    "collapsed": false
   },
   "id": "bee3963f8c320d8f"
  },
  {
   "cell_type": "code",
   "outputs": [],
   "source": [
    "# token_counts = []\n",
    "# for _, row in df_train.iterrows():\n",
    "#     token_count = len(tokenizer.encode(\n",
    "#         row[\"full_text\"],\n",
    "#         max_length=2048,\n",
    "#         truncation=True\n",
    "#     ))\n",
    "#     token_counts.append(token_count)\n",
    "# sns.histplot(token_counts)\n",
    "# # plt.xlim([0, 512]);"
   ],
   "metadata": {
    "collapsed": false
   },
   "id": "2cee272608980d7f"
  },
  {
   "cell_type": "markdown",
   "source": [
    "### Preprocessing"
   ],
   "metadata": {
    "collapsed": false
   },
   "id": "c129aa100c95f41a"
  },
  {
   "cell_type": "code",
   "outputs": [
    {
     "data": {
      "text/plain": "0.043043925370941705"
     },
     "execution_count": 155,
     "metadata": {},
     "output_type": "execute_result"
    }
   ],
   "source": [
    "pattern = '(\\xa0|\\uf0b7)'\n",
    "df.loc[:,'full_text'] = df.loc[:,'full_text'].replace(pattern, ' ')\n",
    "df.loc[:,'tokens'] = df.loc[:,'tokens'].apply(lambda line: [tok for tok in line if not re.search(pattern,tok)])\n",
    "\n",
    "df_usable = df.iloc[df[~(df.tokens.apply(len) != df.labels.apply(len))].index]\n",
    "1-(len(df_usable))/len(df.document)"
   ],
   "metadata": {
    "collapsed": false,
    "ExecuteTime": {
     "end_time": "2024-03-07T06:20:22.741280300Z",
     "start_time": "2024-03-07T06:20:21.275695400Z"
    }
   },
   "id": "cb746d6a26f36293",
   "execution_count": 155
  },
  {
   "cell_type": "code",
   "outputs": [],
   "source": [
    "df_train, df_test = train_test_split(df_usable, test_size=0.05)"
   ],
   "metadata": {
    "collapsed": false,
    "ExecuteTime": {
     "end_time": "2024-03-07T06:22:44.066300700Z",
     "start_time": "2024-03-07T06:22:44.043377500Z"
    }
   },
   "id": "7e650d2bc0aa5fc2",
   "execution_count": 164
  },
  {
   "cell_type": "code",
   "outputs": [
    {
     "data": {
      "text/plain": "      document                                          full_text  \\\n0            7  Design Thinking for innovation reflexion-Avril...   \n1           10  Diego Estrada\\n\\nDesign Thinking Assignment\\n\\...   \n2           16  Reporting process\\n\\nby Gilberto Gamboa\\n\\nCha...   \n3           20  Design Thinking for Innovation\\n\\nSindy Samaca...   \n5           86  Cheese Startup - Learning Launch ​by Eladio Am...   \n...        ...                                                ...   \n6802     22678  EXAMPLE – JOURNEY MAP\\n\\nTHE CHALLENGE    My w...   \n6803     22679  Why Mind Mapping?\\n\\nMind maps are graphical r...   \n6804     22681  Challenge\\n\\nSo, a few months back, I had chos...   \n6805     22684  Brainstorming\\n\\nChallenge & Selection\\n\\nBrai...   \n6806     22687  Mind Mapping\\n\\nChallenge\\n\\nMy consulting tea...   \n\n                                                 tokens  \\\n0     [Design, Thinking, for, innovation, reflexion,...   \n1     [Diego, Estrada, \\n\\n, Design, Thinking, Assig...   \n2     [Reporting, process, \\n\\n, by, Gilberto, Gambo...   \n3     [Design, Thinking, for, Innovation, \\n\\n, Sind...   \n5     [Cheese, Startup, -, Learning, Launch, ​by, El...   \n...                                                 ...   \n6802  [EXAMPLE, –, JOURNEY, MAP, \\n\\n, THE, CHALLENG...   \n6803  [Why, Mind, Mapping, ?, \\n\\n, Mind, maps, are,...   \n6804  [Challenge, \\n\\n, So, ,, a, few, months, back,...   \n6805  [Brainstorming, \\n\\n, Challenge, &, Selection,...   \n6806  [Mind, Mapping, \\n\\n, Challenge, \\n\\n, My, con...   \n\n                                    trailing_whitespace  \\\n0     [True, True, True, True, False, False, True, F...   \n1     [True, False, False, True, True, False, False,...   \n2     [True, False, False, True, True, False, False,...   \n3     [True, True, True, False, False, True, False, ...   \n5     [True, True, True, True, True, True, True, Fal...   \n...                                                 ...   \n6802  [True, True, True, False, False, True, True, F...   \n6803  [True, True, False, False, False, True, True, ...   \n6804  [False, False, False, True, True, True, True, ...   \n6805  [False, False, True, True, False, False, True,...   \n6806  [True, False, False, False, False, True, True,...   \n\n                                                 labels  \\\n0     [O, O, O, O, O, O, O, O, O, B-NAME_STUDENT, I-...   \n1     [B-NAME_STUDENT, I-NAME_STUDENT, O, O, O, O, O...   \n2     [O, O, O, O, B-NAME_STUDENT, I-NAME_STUDENT, O...   \n3     [O, O, O, O, O, B-NAME_STUDENT, I-NAME_STUDENT...   \n5     [O, O, O, O, O, O, B-NAME_STUDENT, I-NAME_STUD...   \n...                                                 ...   \n6802  [O, O, O, O, O, O, O, O, O, O, O, O, O, O, O, ...   \n6803  [O, O, O, O, O, O, O, O, O, O, O, O, O, O, O, ...   \n6804  [O, O, O, O, O, O, O, O, O, O, O, O, O, O, O, ...   \n6805  [O, O, O, O, O, O, O, O, O, O, O, O, O, O, O, ...   \n6806  [O, O, O, O, O, O, O, O, O, O, O, O, O, O, O, ...   \n\n                                             label_dict  \n0     {9: ('B-NAME_STUDENT', 'Nathalie'), 10: ('I-NA...  \n1     {0: ('B-NAME_STUDENT', 'Diego'), 1: ('I-NAME_S...  \n2     {4: ('B-NAME_STUDENT', 'Gilberto'), 5: ('I-NAM...  \n3     {5: ('B-NAME_STUDENT', 'Sindy'), 6: ('I-NAME_S...  \n5     {6: ('B-NAME_STUDENT', 'Eladio'), 7: ('I-NAME_...  \n...                                                 ...  \n6802                                                 {}  \n6803                                                 {}  \n6804                                                 {}  \n6805                                                 {}  \n6806                                                 {}  \n\n[6514 rows x 6 columns]",
      "text/html": "<div>\n<style scoped>\n    .dataframe tbody tr th:only-of-type {\n        vertical-align: middle;\n    }\n\n    .dataframe tbody tr th {\n        vertical-align: top;\n    }\n\n    .dataframe thead th {\n        text-align: right;\n    }\n</style>\n<table border=\"1\" class=\"dataframe\">\n  <thead>\n    <tr style=\"text-align: right;\">\n      <th></th>\n      <th>document</th>\n      <th>full_text</th>\n      <th>tokens</th>\n      <th>trailing_whitespace</th>\n      <th>labels</th>\n      <th>label_dict</th>\n    </tr>\n  </thead>\n  <tbody>\n    <tr>\n      <th>0</th>\n      <td>7</td>\n      <td>Design Thinking for innovation reflexion-Avril...</td>\n      <td>[Design, Thinking, for, innovation, reflexion,...</td>\n      <td>[True, True, True, True, False, False, True, F...</td>\n      <td>[O, O, O, O, O, O, O, O, O, B-NAME_STUDENT, I-...</td>\n      <td>{9: ('B-NAME_STUDENT', 'Nathalie'), 10: ('I-NA...</td>\n    </tr>\n    <tr>\n      <th>1</th>\n      <td>10</td>\n      <td>Diego Estrada\\n\\nDesign Thinking Assignment\\n\\...</td>\n      <td>[Diego, Estrada, \\n\\n, Design, Thinking, Assig...</td>\n      <td>[True, False, False, True, True, False, False,...</td>\n      <td>[B-NAME_STUDENT, I-NAME_STUDENT, O, O, O, O, O...</td>\n      <td>{0: ('B-NAME_STUDENT', 'Diego'), 1: ('I-NAME_S...</td>\n    </tr>\n    <tr>\n      <th>2</th>\n      <td>16</td>\n      <td>Reporting process\\n\\nby Gilberto Gamboa\\n\\nCha...</td>\n      <td>[Reporting, process, \\n\\n, by, Gilberto, Gambo...</td>\n      <td>[True, False, False, True, True, False, False,...</td>\n      <td>[O, O, O, O, B-NAME_STUDENT, I-NAME_STUDENT, O...</td>\n      <td>{4: ('B-NAME_STUDENT', 'Gilberto'), 5: ('I-NAM...</td>\n    </tr>\n    <tr>\n      <th>3</th>\n      <td>20</td>\n      <td>Design Thinking for Innovation\\n\\nSindy Samaca...</td>\n      <td>[Design, Thinking, for, Innovation, \\n\\n, Sind...</td>\n      <td>[True, True, True, False, False, True, False, ...</td>\n      <td>[O, O, O, O, O, B-NAME_STUDENT, I-NAME_STUDENT...</td>\n      <td>{5: ('B-NAME_STUDENT', 'Sindy'), 6: ('I-NAME_S...</td>\n    </tr>\n    <tr>\n      <th>5</th>\n      <td>86</td>\n      <td>Cheese Startup - Learning Launch ​by Eladio Am...</td>\n      <td>[Cheese, Startup, -, Learning, Launch, ​by, El...</td>\n      <td>[True, True, True, True, True, True, True, Fal...</td>\n      <td>[O, O, O, O, O, O, B-NAME_STUDENT, I-NAME_STUD...</td>\n      <td>{6: ('B-NAME_STUDENT', 'Eladio'), 7: ('I-NAME_...</td>\n    </tr>\n    <tr>\n      <th>...</th>\n      <td>...</td>\n      <td>...</td>\n      <td>...</td>\n      <td>...</td>\n      <td>...</td>\n      <td>...</td>\n    </tr>\n    <tr>\n      <th>6802</th>\n      <td>22678</td>\n      <td>EXAMPLE – JOURNEY MAP\\n\\nTHE CHALLENGE    My w...</td>\n      <td>[EXAMPLE, –, JOURNEY, MAP, \\n\\n, THE, CHALLENG...</td>\n      <td>[True, True, True, False, False, True, True, F...</td>\n      <td>[O, O, O, O, O, O, O, O, O, O, O, O, O, O, O, ...</td>\n      <td>{}</td>\n    </tr>\n    <tr>\n      <th>6803</th>\n      <td>22679</td>\n      <td>Why Mind Mapping?\\n\\nMind maps are graphical r...</td>\n      <td>[Why, Mind, Mapping, ?, \\n\\n, Mind, maps, are,...</td>\n      <td>[True, True, False, False, False, True, True, ...</td>\n      <td>[O, O, O, O, O, O, O, O, O, O, O, O, O, O, O, ...</td>\n      <td>{}</td>\n    </tr>\n    <tr>\n      <th>6804</th>\n      <td>22681</td>\n      <td>Challenge\\n\\nSo, a few months back, I had chos...</td>\n      <td>[Challenge, \\n\\n, So, ,, a, few, months, back,...</td>\n      <td>[False, False, False, True, True, True, True, ...</td>\n      <td>[O, O, O, O, O, O, O, O, O, O, O, O, O, O, O, ...</td>\n      <td>{}</td>\n    </tr>\n    <tr>\n      <th>6805</th>\n      <td>22684</td>\n      <td>Brainstorming\\n\\nChallenge &amp; Selection\\n\\nBrai...</td>\n      <td>[Brainstorming, \\n\\n, Challenge, &amp;, Selection,...</td>\n      <td>[False, False, True, True, False, False, True,...</td>\n      <td>[O, O, O, O, O, O, O, O, O, O, O, O, O, O, O, ...</td>\n      <td>{}</td>\n    </tr>\n    <tr>\n      <th>6806</th>\n      <td>22687</td>\n      <td>Mind Mapping\\n\\nChallenge\\n\\nMy consulting tea...</td>\n      <td>[Mind, Mapping, \\n\\n, Challenge, \\n\\n, My, con...</td>\n      <td>[True, False, False, False, False, True, True,...</td>\n      <td>[O, O, O, O, O, O, O, O, O, O, O, O, O, O, O, ...</td>\n      <td>{}</td>\n    </tr>\n  </tbody>\n</table>\n<p>6514 rows × 6 columns</p>\n</div>"
     },
     "execution_count": 163,
     "metadata": {},
     "output_type": "execute_result"
    }
   ],
   "source": [
    "def labelling(line):\n",
    "    line_labels = pd.Series(line.labels)\n",
    "    labels_index = line_labels[line_labels != 'O'].index\n",
    "    return {index: (line_labels.loc[index], pd.Series(line.tokens).loc[index]) for index in labels_index.to_list()}\n",
    "\n",
    "df_usable['label_dict'] = df_usable.apply(lambda line: isolate_kword(line), axis = 1)\n",
    "df_usable"
   ],
   "metadata": {
    "collapsed": false,
    "ExecuteTime": {
     "end_time": "2024-03-07T06:22:18.970276100Z",
     "start_time": "2024-03-07T06:22:17.917139200Z"
    }
   },
   "id": "389e38102b2ab9a7",
   "execution_count": 163
  },
  {
   "cell_type": "code",
   "outputs": [
    {
     "data": {
      "text/plain": "{'O': 0,\n 'B-NAME_STUDENT': 1,\n 'I-NAME_STUDENT': 2,\n 'B-URL_PERSONAL': 3,\n 'B-EMAIL': 4,\n 'B-ID_NUM': 5,\n 'I-URL_PERSONAL': 6,\n 'B-USERNAME': 7,\n 'B-PHONE_NUM': 8,\n 'I-PHONE_NUM': 9,\n 'B-STREET_ADDRESS': 10,\n 'I-STREET_ADDRESS': 11,\n 'I-ID_NUM': 12}"
     },
     "execution_count": 167,
     "metadata": {},
     "output_type": "execute_result"
    }
   ],
   "source": [
    "labels_to_ids = {k: v for v, k in enumerate(c.keys())}\n",
    "ids_to_labels = {v: k for v, k in enumerate(c.keys())}\n",
    "labels_to_ids"
   ],
   "metadata": {
    "collapsed": false,
    "ExecuteTime": {
     "end_time": "2024-03-07T06:33:31.291445800Z",
     "start_time": "2024-03-07T06:33:31.279481500Z"
    }
   },
   "id": "bd3bf686a9422981",
   "execution_count": 167
  },
  {
   "cell_type": "markdown",
   "source": [
    "# Model\n"
   ],
   "metadata": {
    "collapsed": false
   },
   "id": "457bd3b4533f5a80"
  },
  {
   "cell_type": "code",
   "outputs": [],
   "source": [],
   "metadata": {
    "collapsed": false
   },
   "id": "4fcc9a1c7e9defcd"
  },
  {
   "cell_type": "code",
   "outputs": [],
   "source": [
    "import os\n",
    "\n",
    "from transformers import BertForTokenClassification\n",
    "from nltk.tokenize import sent_tokenize\n",
    "from transformers import BertTokenizer, AutoTokenizer\n",
    "from torch.utils.data import DataLoader\n",
    "import torch\n",
    "import torch.nn as nn\n",
    "import transformers\n",
    "from sklearn.model_selection import train_test_split\n",
    "\n",
    "from tqdm import tqdm\n",
    "\n",
    "import glob\n",
    "\n",
    "import datetime\n",
    "\n",
    "import warnings\n",
    "warnings.filterwarnings('ignore')"
   ],
   "metadata": {
    "collapsed": false,
    "ExecuteTime": {
     "end_time": "2024-03-07T05:17:32.807961600Z",
     "start_time": "2024-03-07T05:17:31.870822200Z"
    }
   },
   "id": "c3b500abcb9edc70",
   "execution_count": 10
  },
  {
   "cell_type": "code",
   "outputs": [],
   "source": [
    "import pandas as pd\n",
    "import numpy as np\n",
    "from sklearn.metrics import accuracy_score\n",
    "import torch\n",
    "from torch.utils.data import Dataset, DataLoader\n",
    "from transformers import BertTokenizerFast, BertConfig, BertForTokenClassification\n",
    "\n",
    "from sklearn.model_selection import train_test_split\n",
    "\n",
    "from torch import cuda\n",
    "device = 'cuda' if cuda.is_available() else 'cpu'"
   ],
   "metadata": {
    "collapsed": false,
    "ExecuteTime": {
     "end_time": "2024-03-07T06:43:11.771633700Z",
     "start_time": "2024-03-07T06:43:11.747711Z"
    }
   },
   "id": "753eeade134509ce",
   "execution_count": 169
  },
  {
   "cell_type": "code",
   "outputs": [],
   "source": [
    "# platform = 'Kaggle'\n",
    "platform = 'local'\n",
    "model_name = 'model1_bert_base_cased.bin'\n",
    "\n",
    "if platform == 'Kaggle':\n",
    "    bert_path = '../input/huggingface-bert/bert-base-cased/'\n",
    "    train_path = '/kaggle/input/coleridgeinitiative-show-us-the-data/train/'\n",
    "    test_path = '/kaggle/input/coleridgeinitiative-show-us-the-data/test/*'\n",
    "    model_path = '../input/coleridgemodels/' + model_name\n",
    "elif platform == 'local':\n",
    "    bert_path = 'bert-base-cased'\n",
    "    model_path = '../models/bert_models/' + model_name\n",
    "\n",
    "config = {\n",
    "        'MAX_LEN': 128,\n",
    "        'tokenizer': BertTokenizer.from_pretrained(bert_path),\n",
    "        'TRAIN_BATCH_SIZE': 4,\n",
    "        'VALID_BATCH_SIZE': 2,\n",
    "        'EPOCHS': 1,\n",
    "        'LEARNING_RATE':1e-05,\n",
    "        'MAX_GRAD_NORM': 10,\n",
    "        'device': 'cuda' if torch.cuda.is_available() else 'cpu',\n",
    "        'model_name':model_name\n",
    "        }\n"
   ],
   "metadata": {
    "collapsed": false,
    "ExecuteTime": {
     "end_time": "2024-03-07T06:49:18.564379400Z",
     "start_time": "2024-03-07T06:49:18.419471200Z"
    }
   },
   "id": "83348d21f95dadf",
   "execution_count": 188
  },
  {
   "cell_type": "code",
   "outputs": [],
   "source": [
    "class dataset(Dataset):\n",
    "    def __init__(self, dataframe, tokenizer, max_len):\n",
    "        self.len = len(dataframe)\n",
    "        self.data = dataframe\n",
    "        self.tokenizer = tokenizer\n",
    "        self.max_len = max_len\n",
    "\n",
    "    def __getitem__(self, index):\n",
    "        # step 1: get the sentence and word labels \n",
    "        sentence = self.data.tokens\n",
    "        word_labels = self.data.labels\n",
    "\n",
    "        # step 2: use tokenizer to encode sentence (includes padding/truncation up to max length)\n",
    "        # BertTokenizerFast provides a handy \"return_offsets_mapping\" functionality for individual tokens\n",
    "        # encoding = self.tokenizer(sentence,\n",
    "        #                           is_pretokenized=True,\n",
    "        #                           return_offsets_mapping=True,\n",
    "        #                           padding='max_length',\n",
    "        #                           truncation=True,\n",
    "        #                           max_length=self.max_len)\n",
    "\n",
    "        # step 3: create token labels only for first word pieces of each tokenized word\n",
    "        labels = [labels_to_ids[label] for label in word_labels]\n",
    "        # code based on https://huggingface.co/transformers/custom_datasets.html#tok-ner\n",
    "        # create an empty array of -100 of length max_length\n",
    "        encoded_labels = np.ones(len(encoding[\"offset_mapping\"]), dtype=int) * -100\n",
    "\n",
    "        # set only labels whose first offset position is 0 and the second is not 0\n",
    "        i = 0\n",
    "        for idx, mapping in enumerate(encoding[\"offset_mapping\"]):\n",
    "            if mapping[0] == 0 and mapping[1] != 0:\n",
    "                # overwrite label\n",
    "                encoded_labels[idx] = labels[i]\n",
    "                i += 1\n",
    "\n",
    "        # step 4: turn everything into PyTorch tensors\n",
    "        item = {key: torch.as_tensor(val) for key, val in encoding.items()}\n",
    "        item['labels'] = torch.as_tensor(encoded_labels)\n",
    "\n",
    "        return item\n",
    "\n",
    "    def __len__(self):\n",
    "        return self.len"
   ],
   "metadata": {
    "collapsed": false,
    "ExecuteTime": {
     "end_time": "2024-03-07T06:49:19.792267600Z",
     "start_time": "2024-03-07T06:49:19.781300800Z"
    }
   },
   "id": "f4e9607f2c254bfc",
   "execution_count": 189
  },
  {
   "cell_type": "code",
   "outputs": [
    {
     "data": {
      "text/plain": "      document                                          full_text  \\\n4407     17298  Challenge & Selection\\n\\nThe challenge was a d...   \n569       8752  Challenge and selection\\n\\nThe principal appar...   \n6009     20991  1. Challenge\\n\\nThe challenge was to convince ...   \n3783     15748  Reflection – Mind Mapping\\n\\nChallenge\\n\\nMy c...   \n2587     12886  Storytelling and changes    Challenge & Select...   \n...        ...                                                ...   \n4815     18270  Coursera:​ ​ ​Design​ ​Thinking​ ​for​ ​Innova...   \n1053      9752  Childhood Woes – Storytelling\\n\\nChallenge & S...   \n250       5116  Perle Kamdem  Design Thinking – Retirement Coa...   \n1999     11659  Example Reflection – Learning Launch\\n\\nChalle...   \n3524     15080  Storytelling\\n\\nChallenges and selection\\n\\nWe...   \n\n                                                 tokens  \\\n4407  [Challenge, &, Selection, \\n\\n, The, challenge...   \n569   [Challenge, and, selection, \\n\\n, The, princip...   \n6009  [1, ., Challenge, \\n\\n, The, challenge, was, t...   \n3783  [Reflection, –, Mind, Mapping, \\n\\n, Challenge...   \n2587  [Storytelling, and, changes,    , Challenge, &...   \n...                                                 ...   \n4815  [Coursera:​, ​, ​Design​, ​Thinking​, ​for​, ​...   \n1053  [Childhood, Woes, –, Storytelling, \\n\\n, Chall...   \n250   [Perle, Kamdem,  , Design, Thinking, –, Retire...   \n1999  [Example, Reflection, –, Learning, Launch, \\n\\...   \n3524  [Storytelling, \\n\\n, Challenges, and, selectio...   \n\n                                    trailing_whitespace  \\\n4407  [True, True, False, False, True, True, True, T...   \n569   [True, True, False, False, True, True, True, T...   \n6009  [False, True, False, False, True, True, True, ...   \n3783  [True, True, True, False, False, False, False,...   \n2587  [True, True, True, False, True, True, False, T...   \n...                                                 ...   \n4815  [True, True, True, True, True, True, False, Tr...   \n1053  [True, True, True, False, False, True, True, T...   \n250   [True, True, False, True, True, True, True, Tr...   \n1999  [True, True, True, True, False, False, False, ...   \n3524  [False, False, True, True, False, False, True,...   \n\n                                                 labels  \\\n4407  [O, O, O, O, O, O, O, O, O, O, O, O, O, O, O, ...   \n569   [O, O, O, O, O, O, O, O, O, O, O, O, O, O, O, ...   \n6009  [O, O, O, O, O, O, O, O, O, O, O, O, O, O, O, ...   \n3783  [O, O, O, O, O, O, O, O, O, O, O, O, O, O, O, ...   \n2587  [O, O, O, O, O, O, O, O, O, O, O, O, O, O, O, ...   \n...                                                 ...   \n4815  [O, O, O, O, O, O, O, O, O, O, O, O, O, O, O, ...   \n1053  [O, O, O, O, O, O, O, O, O, O, O, O, O, O, O, ...   \n250   [B-NAME_STUDENT, I-NAME_STUDENT, O, O, O, O, O...   \n1999  [O, O, O, O, O, O, O, O, O, O, O, O, O, O, O, ...   \n3524  [O, O, O, O, O, O, O, O, O, O, O, O, O, O, O, ...   \n\n                                             label_dict  \n4407                                                 {}  \n569                                                  {}  \n6009                                                 {}  \n3783                                                 {}  \n2587                                                 {}  \n...                                                 ...  \n4815                                                 {}  \n1053                                                 {}  \n250   {0: ('B-NAME_STUDENT', 'Perle'), 1: ('I-NAME_S...  \n1999                                                 {}  \n3524                                                 {}  \n\n[6188 rows x 6 columns]",
      "text/html": "<div>\n<style scoped>\n    .dataframe tbody tr th:only-of-type {\n        vertical-align: middle;\n    }\n\n    .dataframe tbody tr th {\n        vertical-align: top;\n    }\n\n    .dataframe thead th {\n        text-align: right;\n    }\n</style>\n<table border=\"1\" class=\"dataframe\">\n  <thead>\n    <tr style=\"text-align: right;\">\n      <th></th>\n      <th>document</th>\n      <th>full_text</th>\n      <th>tokens</th>\n      <th>trailing_whitespace</th>\n      <th>labels</th>\n      <th>label_dict</th>\n    </tr>\n  </thead>\n  <tbody>\n    <tr>\n      <th>4407</th>\n      <td>17298</td>\n      <td>Challenge &amp; Selection\\n\\nThe challenge was a d...</td>\n      <td>[Challenge, &amp;, Selection, \\n\\n, The, challenge...</td>\n      <td>[True, True, False, False, True, True, True, T...</td>\n      <td>[O, O, O, O, O, O, O, O, O, O, O, O, O, O, O, ...</td>\n      <td>{}</td>\n    </tr>\n    <tr>\n      <th>569</th>\n      <td>8752</td>\n      <td>Challenge and selection\\n\\nThe principal appar...</td>\n      <td>[Challenge, and, selection, \\n\\n, The, princip...</td>\n      <td>[True, True, False, False, True, True, True, T...</td>\n      <td>[O, O, O, O, O, O, O, O, O, O, O, O, O, O, O, ...</td>\n      <td>{}</td>\n    </tr>\n    <tr>\n      <th>6009</th>\n      <td>20991</td>\n      <td>1. Challenge\\n\\nThe challenge was to convince ...</td>\n      <td>[1, ., Challenge, \\n\\n, The, challenge, was, t...</td>\n      <td>[False, True, False, False, True, True, True, ...</td>\n      <td>[O, O, O, O, O, O, O, O, O, O, O, O, O, O, O, ...</td>\n      <td>{}</td>\n    </tr>\n    <tr>\n      <th>3783</th>\n      <td>15748</td>\n      <td>Reflection – Mind Mapping\\n\\nChallenge\\n\\nMy c...</td>\n      <td>[Reflection, –, Mind, Mapping, \\n\\n, Challenge...</td>\n      <td>[True, True, True, False, False, False, False,...</td>\n      <td>[O, O, O, O, O, O, O, O, O, O, O, O, O, O, O, ...</td>\n      <td>{}</td>\n    </tr>\n    <tr>\n      <th>2587</th>\n      <td>12886</td>\n      <td>Storytelling and changes    Challenge &amp; Select...</td>\n      <td>[Storytelling, and, changes,    , Challenge, &amp;...</td>\n      <td>[True, True, True, False, True, True, False, T...</td>\n      <td>[O, O, O, O, O, O, O, O, O, O, O, O, O, O, O, ...</td>\n      <td>{}</td>\n    </tr>\n    <tr>\n      <th>...</th>\n      <td>...</td>\n      <td>...</td>\n      <td>...</td>\n      <td>...</td>\n      <td>...</td>\n      <td>...</td>\n    </tr>\n    <tr>\n      <th>4815</th>\n      <td>18270</td>\n      <td>Coursera:​ ​ ​Design​ ​Thinking​ ​for​ ​Innova...</td>\n      <td>[Coursera:​, ​, ​Design​, ​Thinking​, ​for​, ​...</td>\n      <td>[True, True, True, True, True, True, False, Tr...</td>\n      <td>[O, O, O, O, O, O, O, O, O, O, O, O, O, O, O, ...</td>\n      <td>{}</td>\n    </tr>\n    <tr>\n      <th>1053</th>\n      <td>9752</td>\n      <td>Childhood Woes – Storytelling\\n\\nChallenge &amp; S...</td>\n      <td>[Childhood, Woes, –, Storytelling, \\n\\n, Chall...</td>\n      <td>[True, True, True, False, False, True, True, T...</td>\n      <td>[O, O, O, O, O, O, O, O, O, O, O, O, O, O, O, ...</td>\n      <td>{}</td>\n    </tr>\n    <tr>\n      <th>250</th>\n      <td>5116</td>\n      <td>Perle Kamdem  Design Thinking – Retirement Coa...</td>\n      <td>[Perle, Kamdem,  , Design, Thinking, –, Retire...</td>\n      <td>[True, True, False, True, True, True, True, Tr...</td>\n      <td>[B-NAME_STUDENT, I-NAME_STUDENT, O, O, O, O, O...</td>\n      <td>{0: ('B-NAME_STUDENT', 'Perle'), 1: ('I-NAME_S...</td>\n    </tr>\n    <tr>\n      <th>1999</th>\n      <td>11659</td>\n      <td>Example Reflection – Learning Launch\\n\\nChalle...</td>\n      <td>[Example, Reflection, –, Learning, Launch, \\n\\...</td>\n      <td>[True, True, True, True, False, False, False, ...</td>\n      <td>[O, O, O, O, O, O, O, O, O, O, O, O, O, O, O, ...</td>\n      <td>{}</td>\n    </tr>\n    <tr>\n      <th>3524</th>\n      <td>15080</td>\n      <td>Storytelling\\n\\nChallenges and selection\\n\\nWe...</td>\n      <td>[Storytelling, \\n\\n, Challenges, and, selectio...</td>\n      <td>[False, False, True, True, False, False, True,...</td>\n      <td>[O, O, O, O, O, O, O, O, O, O, O, O, O, O, O, ...</td>\n      <td>{}</td>\n    </tr>\n  </tbody>\n</table>\n<p>6188 rows × 6 columns</p>\n</div>"
     },
     "execution_count": 192,
     "metadata": {},
     "output_type": "execute_result"
    }
   ],
   "source": [
    "df_train"
   ],
   "metadata": {
    "collapsed": false,
    "ExecuteTime": {
     "end_time": "2024-03-07T06:50:21.786941900Z",
     "start_time": "2024-03-07T06:50:21.754051Z"
    }
   },
   "id": "b65f04deb91a4a46",
   "execution_count": 192
  },
  {
   "cell_type": "code",
   "outputs": [],
   "source": [
    "training_set = dataset(df_train, config['tokenizer'], config['MAX_LEN'])\n",
    "testing_set = dataset(df_test, config['tokenizer'], config['MAX_LEN'])"
   ],
   "metadata": {
    "collapsed": false,
    "ExecuteTime": {
     "end_time": "2024-03-07T06:49:20.936109200Z",
     "start_time": "2024-03-07T06:49:20.917171100Z"
    }
   },
   "id": "161f18f69632c56a",
   "execution_count": 190
  },
  {
   "cell_type": "code",
   "outputs": [
    {
     "ename": "ValueError",
     "evalue": "text input must be of type `str` (single example), `List[str]` (batch or single pretokenized example) or `List[List[str]]` (batch of pretokenized examples).",
     "output_type": "error",
     "traceback": [
      "\u001B[1;31m---------------------------------------------------------------------------\u001B[0m",
      "\u001B[1;31mValueError\u001B[0m                                Traceback (most recent call last)",
      "Cell \u001B[1;32mIn[191], line 1\u001B[0m\n\u001B[1;32m----> 1\u001B[0m \u001B[43mtraining_set\u001B[49m\u001B[43m[\u001B[49m\u001B[38;5;241;43m0\u001B[39;49m\u001B[43m]\u001B[49m\n",
      "Cell \u001B[1;32mIn[189], line 15\u001B[0m, in \u001B[0;36mdataset.__getitem__\u001B[1;34m(self, index)\u001B[0m\n\u001B[0;32m     11\u001B[0m word_labels \u001B[38;5;241m=\u001B[39m \u001B[38;5;28mself\u001B[39m\u001B[38;5;241m.\u001B[39mdata\u001B[38;5;241m.\u001B[39mlabels\n\u001B[0;32m     13\u001B[0m \u001B[38;5;66;03m# step 2: use tokenizer to encode sentence (includes padding/truncation up to max length)\u001B[39;00m\n\u001B[0;32m     14\u001B[0m \u001B[38;5;66;03m# BertTokenizerFast provides a handy \"return_offsets_mapping\" functionality for individual tokens\u001B[39;00m\n\u001B[1;32m---> 15\u001B[0m encoding \u001B[38;5;241m=\u001B[39m \u001B[38;5;28;43mself\u001B[39;49m\u001B[38;5;241;43m.\u001B[39;49m\u001B[43mtokenizer\u001B[49m\u001B[43m(\u001B[49m\u001B[43msentence\u001B[49m\u001B[43m,\u001B[49m\n\u001B[0;32m     16\u001B[0m \u001B[43m                          \u001B[49m\u001B[43mis_pretokenized\u001B[49m\u001B[38;5;241;43m=\u001B[39;49m\u001B[38;5;28;43;01mTrue\u001B[39;49;00m\u001B[43m,\u001B[49m\n\u001B[0;32m     17\u001B[0m \u001B[43m                          \u001B[49m\u001B[43mreturn_offsets_mapping\u001B[49m\u001B[38;5;241;43m=\u001B[39;49m\u001B[38;5;28;43;01mTrue\u001B[39;49;00m\u001B[43m,\u001B[49m\n\u001B[0;32m     18\u001B[0m \u001B[43m                          \u001B[49m\u001B[43mpadding\u001B[49m\u001B[38;5;241;43m=\u001B[39;49m\u001B[38;5;124;43m'\u001B[39;49m\u001B[38;5;124;43mmax_length\u001B[39;49m\u001B[38;5;124;43m'\u001B[39;49m\u001B[43m,\u001B[49m\n\u001B[0;32m     19\u001B[0m \u001B[43m                          \u001B[49m\u001B[43mtruncation\u001B[49m\u001B[38;5;241;43m=\u001B[39;49m\u001B[38;5;28;43;01mTrue\u001B[39;49;00m\u001B[43m,\u001B[49m\n\u001B[0;32m     20\u001B[0m \u001B[43m                          \u001B[49m\u001B[43mmax_length\u001B[49m\u001B[38;5;241;43m=\u001B[39;49m\u001B[38;5;28;43mself\u001B[39;49m\u001B[38;5;241;43m.\u001B[39;49m\u001B[43mmax_len\u001B[49m\u001B[43m)\u001B[49m\n\u001B[0;32m     22\u001B[0m \u001B[38;5;66;03m# step 3: create token labels only for first word pieces of each tokenized word\u001B[39;00m\n\u001B[0;32m     23\u001B[0m labels \u001B[38;5;241m=\u001B[39m [labels_to_ids[label] \u001B[38;5;28;01mfor\u001B[39;00m label \u001B[38;5;129;01min\u001B[39;00m word_labels]\n",
      "File \u001B[1;32m~\\lib\\site-packages\\transformers\\tokenization_utils_base.py:2829\u001B[0m, in \u001B[0;36mPreTrainedTokenizerBase.__call__\u001B[1;34m(self, text, text_pair, text_target, text_pair_target, add_special_tokens, padding, truncation, max_length, stride, is_split_into_words, pad_to_multiple_of, return_tensors, return_token_type_ids, return_attention_mask, return_overflowing_tokens, return_special_tokens_mask, return_offsets_mapping, return_length, verbose, **kwargs)\u001B[0m\n\u001B[0;32m   2827\u001B[0m     \u001B[38;5;28;01mif\u001B[39;00m \u001B[38;5;129;01mnot\u001B[39;00m \u001B[38;5;28mself\u001B[39m\u001B[38;5;241m.\u001B[39m_in_target_context_manager:\n\u001B[0;32m   2828\u001B[0m         \u001B[38;5;28mself\u001B[39m\u001B[38;5;241m.\u001B[39m_switch_to_input_mode()\n\u001B[1;32m-> 2829\u001B[0m     encodings \u001B[38;5;241m=\u001B[39m \u001B[38;5;28mself\u001B[39m\u001B[38;5;241m.\u001B[39m_call_one(text\u001B[38;5;241m=\u001B[39mtext, text_pair\u001B[38;5;241m=\u001B[39mtext_pair, \u001B[38;5;241m*\u001B[39m\u001B[38;5;241m*\u001B[39mall_kwargs)\n\u001B[0;32m   2830\u001B[0m \u001B[38;5;28;01mif\u001B[39;00m text_target \u001B[38;5;129;01mis\u001B[39;00m \u001B[38;5;129;01mnot\u001B[39;00m \u001B[38;5;28;01mNone\u001B[39;00m:\n\u001B[0;32m   2831\u001B[0m     \u001B[38;5;28mself\u001B[39m\u001B[38;5;241m.\u001B[39m_switch_to_target_mode()\n",
      "File \u001B[1;32m~\\lib\\site-packages\\transformers\\tokenization_utils_base.py:2887\u001B[0m, in \u001B[0;36mPreTrainedTokenizerBase._call_one\u001B[1;34m(self, text, text_pair, add_special_tokens, padding, truncation, max_length, stride, is_split_into_words, pad_to_multiple_of, return_tensors, return_token_type_ids, return_attention_mask, return_overflowing_tokens, return_special_tokens_mask, return_offsets_mapping, return_length, verbose, **kwargs)\u001B[0m\n\u001B[0;32m   2884\u001B[0m         \u001B[38;5;28;01mreturn\u001B[39;00m \u001B[38;5;28;01mFalse\u001B[39;00m\n\u001B[0;32m   2886\u001B[0m \u001B[38;5;28;01mif\u001B[39;00m \u001B[38;5;129;01mnot\u001B[39;00m _is_valid_text_input(text):\n\u001B[1;32m-> 2887\u001B[0m     \u001B[38;5;28;01mraise\u001B[39;00m \u001B[38;5;167;01mValueError\u001B[39;00m(\n\u001B[0;32m   2888\u001B[0m         \u001B[38;5;124m\"\u001B[39m\u001B[38;5;124mtext input must be of type `str` (single example), `List[str]` (batch or single pretokenized example) \u001B[39m\u001B[38;5;124m\"\u001B[39m\n\u001B[0;32m   2889\u001B[0m         \u001B[38;5;124m\"\u001B[39m\u001B[38;5;124mor `List[List[str]]` (batch of pretokenized examples).\u001B[39m\u001B[38;5;124m\"\u001B[39m\n\u001B[0;32m   2890\u001B[0m     )\n\u001B[0;32m   2892\u001B[0m \u001B[38;5;28;01mif\u001B[39;00m text_pair \u001B[38;5;129;01mis\u001B[39;00m \u001B[38;5;129;01mnot\u001B[39;00m \u001B[38;5;28;01mNone\u001B[39;00m \u001B[38;5;129;01mand\u001B[39;00m \u001B[38;5;129;01mnot\u001B[39;00m _is_valid_text_input(text_pair):\n\u001B[0;32m   2893\u001B[0m     \u001B[38;5;28;01mraise\u001B[39;00m \u001B[38;5;167;01mValueError\u001B[39;00m(\n\u001B[0;32m   2894\u001B[0m         \u001B[38;5;124m\"\u001B[39m\u001B[38;5;124mtext input must be of type `str` (single example), `List[str]` (batch or single pretokenized example) \u001B[39m\u001B[38;5;124m\"\u001B[39m\n\u001B[0;32m   2895\u001B[0m         \u001B[38;5;124m\"\u001B[39m\u001B[38;5;124mor `List[List[str]]` (batch of pretokenized examples).\u001B[39m\u001B[38;5;124m\"\u001B[39m\n\u001B[0;32m   2896\u001B[0m     )\n",
      "\u001B[1;31mValueError\u001B[0m: text input must be of type `str` (single example), `List[str]` (batch or single pretokenized example) or `List[List[str]]` (batch of pretokenized examples)."
     ]
    }
   ],
   "source": [
    "training_set[0]"
   ],
   "metadata": {
    "collapsed": false,
    "ExecuteTime": {
     "end_time": "2024-03-07T06:49:21.748804Z",
     "start_time": "2024-03-07T06:49:21.701383100Z"
    }
   },
   "id": "4698c633eec3835",
   "execution_count": 191
  }
 ],
 "metadata": {
  "kernelspec": {
   "display_name": "Python 3 (ipykernel)",
   "language": "python",
   "name": "python3"
  },
  "language_info": {
   "codemirror_mode": {
    "name": "ipython",
    "version": 3
   },
   "file_extension": ".py",
   "mimetype": "text/x-python",
   "name": "python",
   "nbconvert_exporter": "python",
   "pygments_lexer": "ipython3",
   "version": "3.11.4"
  }
 },
 "nbformat": 4,
 "nbformat_minor": 5
}
