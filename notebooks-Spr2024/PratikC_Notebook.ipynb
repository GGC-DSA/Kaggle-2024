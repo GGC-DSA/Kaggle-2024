{
 "cells": [
  {
   "cell_type": "markdown",
   "source": [
    "# Loading and Cleaning Datasets"
   ],
   "metadata": {
    "collapsed": false
   },
   "id": "f81b8885e3011eb3"
  },
  {
   "cell_type": "code",
   "execution_count": 51,
   "id": "initial_id",
   "metadata": {
    "collapsed": true,
    "jupyter": {
     "outputs_hidden": true
    },
    "ExecuteTime": {
     "end_time": "2024-03-07T00:48:59.194061300Z",
     "start_time": "2024-03-07T00:48:58.773198Z"
    }
   },
   "outputs": [],
   "source": [
    "import pandas as pd\n",
    "import numpy as np\n",
    "import spacy as sp\n",
    "import re\n",
    "import matplotlib.pyplot as plt\n",
    "\n",
    "from sklearn.model_selection import train_test_split"
   ]
  },
  {
   "cell_type": "markdown",
   "source": [
    "If using IDE, Run \n",
    "```\n",
    "python -m spacy download en_core_web_sm\n",
    "```\n",
    "in the bash to install the english spacy pipline"
   ],
   "metadata": {
    "collapsed": false
   },
   "id": "b3a07f48d94a5870"
  },
  {
   "cell_type": "markdown",
   "source": [
    "## Official Datasets"
   ],
   "metadata": {
    "collapsed": false
   },
   "id": "e9086b614e399c7c"
  },
  {
   "cell_type": "markdown",
   "source": [
    "### Data and Exploration"
   ],
   "metadata": {
    "collapsed": false
   },
   "id": "fc60c15cf0c78d6e"
  },
  {
   "cell_type": "code",
   "execution_count": 49,
   "id": "3af5679c6eceac05",
   "metadata": {
    "collapsed": false,
    "ExecuteTime": {
     "end_time": "2024-03-07T00:48:11.021317900Z",
     "start_time": "2024-03-07T00:48:10.212283600Z"
    }
   },
   "outputs": [
    {
     "data": {
      "text/plain": "      document                                          full_text  \\\n0            7  Design Thinking for innovation reflexion-Avril...   \n1           10  Diego Estrada\\n\\nDesign Thinking Assignment\\n\\...   \n2           16  Reporting process\\n\\nby Gilberto Gamboa\\n\\nCha...   \n3           20  Design Thinking for Innovation\\n\\nSindy Samaca...   \n4           56  Assignment:  Visualization Reflection  Submitt...   \n...        ...                                                ...   \n6802     22678  EXAMPLE – JOURNEY MAP\\n\\nTHE CHALLENGE    My w...   \n6803     22679  Why Mind Mapping?\\n\\nMind maps are graphical r...   \n6804     22681  Challenge\\n\\nSo, a few months back, I had chos...   \n6805     22684  Brainstorming\\n\\nChallenge & Selection\\n\\nBrai...   \n6806     22687  Mind Mapping\\n\\nChallenge\\n\\nMy consulting tea...   \n\n                                                 tokens  \\\n0     [Design, Thinking, for, innovation, reflexion,...   \n1     [Diego, Estrada, \\n\\n, Design, Thinking, Assig...   \n2     [Reporting, process, \\n\\n, by, Gilberto, Gambo...   \n3     [Design, Thinking, for, Innovation, \\n\\n, Sind...   \n4     [Assignment, :,   , Visualization,  , Reflecti...   \n...                                                 ...   \n6802  [EXAMPLE, –, JOURNEY, MAP, \\n\\n, THE, CHALLENG...   \n6803  [Why, Mind, Mapping, ?, \\n\\n, Mind, maps, are,...   \n6804  [Challenge, \\n\\n, So, ,, a, few, months, back,...   \n6805  [Brainstorming, \\n\\n, Challenge, &, Selection,...   \n6806  [Mind, Mapping, \\n\\n, Challenge, \\n\\n, My, con...   \n\n                                    trailing_whitespace  \\\n0     [True, True, True, True, False, False, True, F...   \n1     [True, False, False, True, True, False, False,...   \n2     [True, False, False, True, True, False, False,...   \n3     [True, True, True, False, False, True, False, ...   \n4     [False, False, False, False, False, False, Fal...   \n...                                                 ...   \n6802  [True, True, True, False, False, True, True, F...   \n6803  [True, True, False, False, False, True, True, ...   \n6804  [False, False, False, True, True, True, True, ...   \n6805  [False, False, True, True, False, False, True,...   \n6806  [True, False, False, False, False, True, True,...   \n\n                                                 labels  \n0     [O, O, O, O, O, O, O, O, O, B-NAME_STUDENT, I-...  \n1     [B-NAME_STUDENT, I-NAME_STUDENT, O, O, O, O, O...  \n2     [O, O, O, O, B-NAME_STUDENT, I-NAME_STUDENT, O...  \n3     [O, O, O, O, O, B-NAME_STUDENT, I-NAME_STUDENT...  \n4     [O, O, O, O, O, O, O, O, O, O, O, O, B-NAME_ST...  \n...                                                 ...  \n6802  [O, O, O, O, O, O, O, O, O, O, O, O, O, O, O, ...  \n6803  [O, O, O, O, O, O, O, O, O, O, O, O, O, O, O, ...  \n6804  [O, O, O, O, O, O, O, O, O, O, O, O, O, O, O, ...  \n6805  [O, O, O, O, O, O, O, O, O, O, O, O, O, O, O, ...  \n6806  [O, O, O, O, O, O, O, O, O, O, O, O, O, O, O, ...  \n\n[6807 rows x 5 columns]",
      "text/html": "<div>\n<style scoped>\n    .dataframe tbody tr th:only-of-type {\n        vertical-align: middle;\n    }\n\n    .dataframe tbody tr th {\n        vertical-align: top;\n    }\n\n    .dataframe thead th {\n        text-align: right;\n    }\n</style>\n<table border=\"1\" class=\"dataframe\">\n  <thead>\n    <tr style=\"text-align: right;\">\n      <th></th>\n      <th>document</th>\n      <th>full_text</th>\n      <th>tokens</th>\n      <th>trailing_whitespace</th>\n      <th>labels</th>\n    </tr>\n  </thead>\n  <tbody>\n    <tr>\n      <th>0</th>\n      <td>7</td>\n      <td>Design Thinking for innovation reflexion-Avril...</td>\n      <td>[Design, Thinking, for, innovation, reflexion,...</td>\n      <td>[True, True, True, True, False, False, True, F...</td>\n      <td>[O, O, O, O, O, O, O, O, O, B-NAME_STUDENT, I-...</td>\n    </tr>\n    <tr>\n      <th>1</th>\n      <td>10</td>\n      <td>Diego Estrada\\n\\nDesign Thinking Assignment\\n\\...</td>\n      <td>[Diego, Estrada, \\n\\n, Design, Thinking, Assig...</td>\n      <td>[True, False, False, True, True, False, False,...</td>\n      <td>[B-NAME_STUDENT, I-NAME_STUDENT, O, O, O, O, O...</td>\n    </tr>\n    <tr>\n      <th>2</th>\n      <td>16</td>\n      <td>Reporting process\\n\\nby Gilberto Gamboa\\n\\nCha...</td>\n      <td>[Reporting, process, \\n\\n, by, Gilberto, Gambo...</td>\n      <td>[True, False, False, True, True, False, False,...</td>\n      <td>[O, O, O, O, B-NAME_STUDENT, I-NAME_STUDENT, O...</td>\n    </tr>\n    <tr>\n      <th>3</th>\n      <td>20</td>\n      <td>Design Thinking for Innovation\\n\\nSindy Samaca...</td>\n      <td>[Design, Thinking, for, Innovation, \\n\\n, Sind...</td>\n      <td>[True, True, True, False, False, True, False, ...</td>\n      <td>[O, O, O, O, O, B-NAME_STUDENT, I-NAME_STUDENT...</td>\n    </tr>\n    <tr>\n      <th>4</th>\n      <td>56</td>\n      <td>Assignment:  Visualization Reflection  Submitt...</td>\n      <td>[Assignment, :,   , Visualization,  , Reflecti...</td>\n      <td>[False, False, False, False, False, False, Fal...</td>\n      <td>[O, O, O, O, O, O, O, O, O, O, O, O, B-NAME_ST...</td>\n    </tr>\n    <tr>\n      <th>...</th>\n      <td>...</td>\n      <td>...</td>\n      <td>...</td>\n      <td>...</td>\n      <td>...</td>\n    </tr>\n    <tr>\n      <th>6802</th>\n      <td>22678</td>\n      <td>EXAMPLE – JOURNEY MAP\\n\\nTHE CHALLENGE    My w...</td>\n      <td>[EXAMPLE, –, JOURNEY, MAP, \\n\\n, THE, CHALLENG...</td>\n      <td>[True, True, True, False, False, True, True, F...</td>\n      <td>[O, O, O, O, O, O, O, O, O, O, O, O, O, O, O, ...</td>\n    </tr>\n    <tr>\n      <th>6803</th>\n      <td>22679</td>\n      <td>Why Mind Mapping?\\n\\nMind maps are graphical r...</td>\n      <td>[Why, Mind, Mapping, ?, \\n\\n, Mind, maps, are,...</td>\n      <td>[True, True, False, False, False, True, True, ...</td>\n      <td>[O, O, O, O, O, O, O, O, O, O, O, O, O, O, O, ...</td>\n    </tr>\n    <tr>\n      <th>6804</th>\n      <td>22681</td>\n      <td>Challenge\\n\\nSo, a few months back, I had chos...</td>\n      <td>[Challenge, \\n\\n, So, ,, a, few, months, back,...</td>\n      <td>[False, False, False, True, True, True, True, ...</td>\n      <td>[O, O, O, O, O, O, O, O, O, O, O, O, O, O, O, ...</td>\n    </tr>\n    <tr>\n      <th>6805</th>\n      <td>22684</td>\n      <td>Brainstorming\\n\\nChallenge &amp; Selection\\n\\nBrai...</td>\n      <td>[Brainstorming, \\n\\n, Challenge, &amp;, Selection,...</td>\n      <td>[False, False, True, True, False, False, True,...</td>\n      <td>[O, O, O, O, O, O, O, O, O, O, O, O, O, O, O, ...</td>\n    </tr>\n    <tr>\n      <th>6806</th>\n      <td>22687</td>\n      <td>Mind Mapping\\n\\nChallenge\\n\\nMy consulting tea...</td>\n      <td>[Mind, Mapping, \\n\\n, Challenge, \\n\\n, My, con...</td>\n      <td>[True, False, False, False, False, True, True,...</td>\n      <td>[O, O, O, O, O, O, O, O, O, O, O, O, O, O, O, ...</td>\n    </tr>\n  </tbody>\n</table>\n<p>6807 rows × 5 columns</p>\n</div>"
     },
     "execution_count": 49,
     "metadata": {},
     "output_type": "execute_result"
    }
   ],
   "source": [
    "df = pd.read_json(\"../Datasets/Official/train.json\")\n",
    "df"
   ]
  },
  {
   "cell_type": "code",
   "execution_count": 50,
   "id": "ee1a7591efc0b31c",
   "metadata": {
    "collapsed": false,
    "ExecuteTime": {
     "end_time": "2024-03-07T00:48:20.290984400Z",
     "start_time": "2024-03-07T00:48:20.262078700Z"
    }
   },
   "outputs": [
    {
     "data": {
      "text/plain": "Empty DataFrame\nColumns: [document, full_text, tokens, trailing_whitespace, labels]\nIndex: []",
      "text/html": "<div>\n<style scoped>\n    .dataframe tbody tr th:only-of-type {\n        vertical-align: middle;\n    }\n\n    .dataframe tbody tr th {\n        vertical-align: top;\n    }\n\n    .dataframe thead th {\n        text-align: right;\n    }\n</style>\n<table border=\"1\" class=\"dataframe\">\n  <thead>\n    <tr style=\"text-align: right;\">\n      <th></th>\n      <th>document</th>\n      <th>full_text</th>\n      <th>tokens</th>\n      <th>trailing_whitespace</th>\n      <th>labels</th>\n    </tr>\n  </thead>\n  <tbody>\n  </tbody>\n</table>\n</div>"
     },
     "execution_count": 50,
     "metadata": {},
     "output_type": "execute_result"
    }
   ],
   "source": [
    "df[df.isnull().any(axis = 1)]"
   ]
  },
  {
   "cell_type": "code",
   "outputs": [
    {
     "data": {
      "text/plain": "<Figure size 640x480 with 1 Axes>",
      "image/png": "[encoded data removed]"
     },
     "metadata": {},
     "output_type": "display_data"
    }
   ],
   "source": [
    "from collections import Counter\n",
    "c = Counter()\n",
    "df.apply(lambda line: c.update(line.labels), axis = 1)\n",
    "c_pii = c.most_common()[1:]\n",
    "c_key, c_val = zip(*c_pii)\n",
    "plt.barh(c_key, c_val)\n",
    "plt.show()"
   ],
   "metadata": {
    "collapsed": false,
    "ExecuteTime": {
     "end_time": "2024-03-07T01:04:53.024388500Z",
     "start_time": "2024-03-07T01:04:52.818595400Z"
    }
   },
   "id": "ee442bede747650a",
   "execution_count": 86
  },
  {
   "cell_type": "code",
   "outputs": [],
   "source": [],
   "metadata": {
    "collapsed": false
   },
   "id": "54b7aa96057ad617"
  },
  {
   "cell_type": "markdown",
   "source": [
    "### Preprocessing"
   ],
   "metadata": {
    "collapsed": false
   },
   "id": "c129aa100c95f41a"
  },
  {
   "cell_type": "code",
   "outputs": [],
   "source": [
    "df_train, df_test = train_test_split(df, test_size=0.05)\n",
    "dft = df_test.head(10)"
   ],
   "metadata": {
    "collapsed": false,
    "ExecuteTime": {
     "end_time": "2024-03-07T00:49:02.228328300Z",
     "start_time": "2024-03-07T00:49:02.208383700Z"
    }
   },
   "id": "1316a275eb4d5dd6",
   "execution_count": 52
  },
  {
   "cell_type": "markdown",
   "source": [],
   "metadata": {
    "collapsed": false
   },
   "id": "ad5b9d60a2802d32"
  },
  {
   "cell_type": "code",
   "outputs": [],
   "source": [
    "test = df.head(5)"
   ],
   "metadata": {
    "collapsed": false,
    "ExecuteTime": {
     "end_time": "2024-03-07T01:27:14.899148900Z",
     "start_time": "2024-03-07T01:27:14.891175300Z"
    }
   },
   "id": "805c51d80ba2ab5d",
   "execution_count": 99
  },
  {
   "cell_type": "code",
   "outputs": [],
   "source": [
    "df.loc[:,'full_text'] = df.loc[:,'full_text'].replace('\\\\xa0', ' ', regex=True)"
   ],
   "metadata": {
    "collapsed": false,
    "ExecuteTime": {
     "end_time": "2024-03-07T01:30:38.425408900Z",
     "start_time": "2024-03-07T01:30:38.391524100Z"
    }
   },
   "id": "cb746d6a26f36293",
   "execution_count": 109
  },
  {
   "cell_type": "code",
   "outputs": [
    {
     "data": {
      "text/plain": "['Assignment',\n ':',\n '\\xa0 ',\n 'Visualization',\n '\\xa0',\n 'Reflection',\n '\\xa0 ',\n 'Submitted',\n '\\xa0',\n 'by',\n ':',\n '\\xa0',\n 'Nadine',\n 'Born',\n '\\xa0 ',\n 'Course',\n ':',\n '\\xa0 ',\n 'Design',\n '\\xa0',\n 'Thinking',\n '\\xa0',\n 'for',\n '\\xa0',\n 'Innovation',\n '\\xa0 \\xa0 ',\n 'Trail',\n '\\xa0',\n 'Challenge',\n ':',\n '\\xa0',\n 'To',\n '\\xa0',\n 'Build',\n '\\xa0',\n 'or',\n '\\xa0',\n 'Not',\n '\\xa0',\n 'to',\n '\\xa0',\n 'Build',\n '\\xa0 \\xa0 ',\n 'An',\n '\\xa0',\n 'environmental',\n '\\xa0',\n 'charity',\n '\\xa0',\n 'wanted',\n '\\xa0',\n 'to',\n '\\xa0',\n 'conduct',\n '\\xa0',\n 'a',\n '\\xa0',\n 'fundraising',\n '\\xa0',\n 'campaign',\n '\\xa0',\n 'to',\n '\\xa0',\n 'raise',\n '\\xa0',\n '$',\n '4',\n '\\xa0',\n 'million',\n '\\xa0',\n 'to',\n '\\xa0',\n 'build',\n '\\xa0',\n 'a',\n '\\xa0 ',\n 'public',\n '\\xa0',\n 'path',\n '\\xa0',\n 'in',\n '\\xa0',\n 'a',\n '\\xa0',\n 'busy',\n '\\xa0',\n 'tourist',\n '\\xa0',\n 'area',\n '\\xa0',\n 'of',\n '\\xa0',\n 'a',\n '\\xa0',\n 'small',\n '\\xa0',\n 'town',\n '\\xa0',\n 'in',\n '\\xa0',\n 'British',\n '\\xa0',\n 'Columbia',\n ',',\n '\\xa0',\n 'Canada',\n '.',\n '\\xa0',\n 'They',\n '\\xa0',\n 'had',\n '\\xa0',\n 'been',\n '\\xa0',\n 'gifted',\n '\\xa0',\n 'a',\n '\\xa0 ',\n 'large',\n '\\xa0',\n 'piece',\n '\\xa0',\n 'of',\n '\\xa0',\n 'land',\n '\\xa0',\n 'by',\n '\\xa0',\n 'a',\n '\\xa0',\n 'local',\n '\\xa0',\n 'landowner',\n ',',\n '\\xa0',\n 'which',\n '\\xa0',\n 'was',\n '\\xa0',\n 'a',\n '\\xa0',\n 'substantial',\n '\\xa0',\n 'gift',\n '\\xa0',\n 'and',\n '\\xa0',\n 'prevented',\n '\\xa0',\n 'them',\n '\\xa0',\n 'from',\n '\\xa0 ',\n 'needing',\n '\\xa0',\n 'to',\n '\\xa0',\n 'purchase',\n '\\xa0',\n 'the',\n '\\xa0',\n 'land',\n ',',\n '\\xa0',\n 'however',\n ',',\n '\\xa0',\n 'they',\n '\\xa0',\n 'still',\n '\\xa0',\n 'needed',\n '\\xa0',\n 'to',\n '\\xa0',\n 'raise',\n '\\xa0',\n 'a',\n '\\xa0',\n 'large',\n '\\xa0',\n 'amount',\n '\\xa0',\n 'of',\n '\\xa0',\n 'money',\n '\\xa0',\n 'in',\n '\\xa0',\n 'order',\n '\\xa0',\n 'to',\n '\\xa0 ',\n 'pay',\n '\\xa0',\n 'for',\n '\\xa0',\n 'the',\n '\\xa0',\n 'supplies',\n '\\xa0',\n 'and',\n '\\xa0',\n 'labor',\n '\\xa0',\n 'to',\n '\\xa0',\n 'build',\n '\\xa0',\n 'the',\n '\\xa0',\n 'trail',\n '.',\n '\\xa0\\xa0 \\xa0 ',\n 'Even',\n '\\xa0',\n 'though',\n '\\xa0',\n 'the',\n '\\xa0',\n 'local',\n '\\xa0',\n 'community',\n '\\xa0',\n 'appeared',\n '\\xa0',\n 'to',\n '\\xa0',\n 'be',\n '\\xa0',\n 'supportive',\n '\\xa0',\n 'of',\n '\\xa0',\n 'the',\n '\\xa0',\n 'trail',\n ',',\n '\\xa0',\n 'they',\n '\\xa0',\n 'could',\n '\\xa0',\n 'not',\n '\\xa0',\n 'provide',\n '\\xa0 ',\n 'enough',\n '\\xa0',\n 'money',\n '\\xa0',\n 'from',\n '\\xa0',\n 'private',\n '\\xa0',\n 'donations',\n '\\xa0',\n 'to',\n '\\xa0',\n 'build',\n '\\xa0',\n 'it',\n '.',\n '\\xa0',\n 'If',\n '\\xa0',\n 'the',\n '\\xa0',\n 'summer',\n '\\xa0',\n 'vacation',\n '\\xa0',\n 'property',\n '\\xa0',\n 'owners',\n '\\xa0',\n 'did',\n '\\xa0',\n 'not',\n '\\xa0 ',\n 'provide',\n '\\xa0',\n 'some',\n '\\xa0',\n 'funding',\n ',',\n '\\xa0',\n 'then',\n '\\xa0',\n 'there',\n '\\xa0',\n 'was',\n '\\xa0',\n 'a',\n '\\xa0',\n 'strong',\n '\\xa0',\n 'possibility',\n '\\xa0',\n 'that',\n '\\xa0',\n 'they',\n '\\xa0',\n 'would',\n '\\xa0',\n 'not',\n '\\xa0',\n 'raise',\n '\\xa0',\n 'enough',\n '\\xa0',\n 'money',\n '\\xa0',\n 'to',\n '\\xa0 ',\n 'complete',\n '\\xa0',\n 'the',\n '\\xa0',\n 'trail',\n '.',\n '\\xa0',\n 'The',\n '\\xa0',\n 'charity',\n '\\xa0',\n 'did',\n '\\xa0',\n 'not',\n '\\xa0',\n 'know',\n '\\xa0',\n 'if',\n '\\xa0',\n 'the',\n '\\xa0',\n 'community',\n '\\xa0',\n 'as',\n '\\xa0',\n 'a',\n '\\xa0',\n 'whole',\n '\\xa0',\n 'would',\n '\\xa0',\n 'support',\n '\\xa0',\n 'the',\n '\\xa0',\n 'project',\n '\\xa0 ',\n 'and',\n '\\xa0',\n 'needed',\n '\\xa0',\n 'to',\n '\\xa0',\n 'conduct',\n '\\xa0',\n 'testing',\n '\\xa0',\n 'with',\n '\\xa0',\n 'key',\n '\\xa0',\n 'influencers',\n '\\xa0',\n 'and',\n '\\xa0',\n 'potential',\n '\\xa0',\n 'donors',\n '\\xa0',\n 'to',\n '\\xa0',\n 'gauge',\n '\\xa0',\n 'their',\n '\\xa0',\n 'interest',\n '.',\n '\\xa0 ',\n 'Building',\n '\\xa0',\n 'the',\n '\\xa0',\n 'trail',\n '\\xa0',\n 'without',\n '\\xa0',\n 'testing',\n '\\xa0',\n 'the',\n '\\xa0',\n 'support',\n '\\xa0',\n 'first',\n '\\xa0',\n 'was',\n '\\xa0',\n 'too',\n '\\xa0',\n 'risky',\n '\\xa0',\n 'because',\n '\\xa0',\n 'the',\n '\\xa0',\n 'charity',\n '\\xa0',\n 'did',\n '\\xa0',\n 'not',\n '\\xa0',\n 'have',\n '\\xa0 ',\n 'enough',\n '\\xa0',\n 'money',\n '\\xa0',\n 'in',\n '\\xa0',\n 'reserve',\n '\\xa0',\n 'to',\n '\\xa0',\n 'cover',\n '\\xa0',\n 'the',\n '\\xa0',\n 'cost',\n '\\xa0',\n 'of',\n '\\xa0',\n 'the',\n '\\xa0',\n 'trail',\n '\\xa0',\n 'if',\n '\\xa0',\n 'the',\n '\\xa0',\n 'fundraising',\n '\\xa0',\n 'efforts',\n '\\xa0',\n 'were',\n '\\xa0',\n 'not',\n '\\xa0',\n 'successful',\n '.',\n '\\xa0\\xa0 \\xa0 ',\n 'Tool',\n '\\xa0',\n 'Selection',\n ':',\n '\\xa0',\n 'Visualization',\n '\\xa0 \\xa0 ',\n 'Visualization',\n '\\xa0',\n 'is',\n '\\xa0',\n 'the',\n '\\xa0',\n 'process',\n '\\xa0',\n 'of',\n '\\xa0',\n '“',\n 'assembling',\n '\\xa0',\n 'scattered',\n '\\xa0',\n 'ideas',\n '\\xa0',\n 'into',\n '\\xa0',\n 'a',\n '\\xa0',\n 'compelling',\n '\\xa0',\n 'story',\n '\\xa0',\n 'that',\n '\\xa0',\n 'can',\n '\\xa0',\n 'generate',\n '\\xa0 ',\n 'vivid',\n '\\xa0',\n 'mental',\n '\\xa0',\n 'images',\n '”',\n '\\xa0',\n '(',\n 'Designing',\n '\\xa0',\n 'for',\n '\\xa0',\n 'Growth',\n ',',\n '\\xa0',\n 'p49',\n ')',\n '.',\n '\\xa0\\xa0',\n 'As',\n '\\xa0',\n 'the',\n '\\xa0',\n 'consultant',\n '\\xa0',\n 'for',\n '\\xa0',\n 'the',\n '\\xa0',\n 'study',\n ',',\n '\\xa0',\n 'I',\n '\\xa0',\n 'chose',\n '\\xa0 ',\n 'visualization',\n '\\xa0',\n 'because',\n '\\xa0',\n 'the',\n '\\xa0',\n 'charity',\n '\\xa0',\n 'had',\n '\\xa0',\n 'a',\n '\\xa0',\n 'firm',\n '\\xa0',\n 'concept',\n '\\xa0',\n 'of',\n '\\xa0',\n 'why',\n '\\xa0',\n 'they',\n '\\xa0',\n 'needed',\n '\\xa0',\n 'the',\n '\\xa0',\n 'trail',\n ',',\n '\\xa0',\n 'how',\n '\\xa0',\n 'it',\n '\\xa0',\n 'would',\n '\\xa0 ',\n 'benefit',\n '\\xa0',\n 'the',\n '\\xa0',\n 'town',\n ',',\n '\\xa0',\n 'and',\n '\\xa0',\n 'how',\n '\\xa0',\n 'much',\n '\\xa0',\n 'it',\n '\\xa0',\n 'would',\n '\\xa0',\n 'cost',\n '\\xa0',\n 'but',\n '\\xa0',\n 'needed',\n '\\xa0',\n 'a',\n '\\xa0',\n 'persuasive',\n '\\xa0',\n 'way',\n '\\xa0',\n 'to',\n '\\xa0',\n 'tie',\n '\\xa0',\n 'it',\n '\\xa0',\n 'all',\n '\\xa0',\n 'together',\n '.',\n '\\xa0',\n 'The',\n '\\xa0 ',\n 'business',\n '\\xa0',\n 'case',\n '\\xa0',\n 'for',\n '\\xa0',\n 'the',\n '\\xa0',\n 'project',\n '\\xa0',\n 'was',\n '\\xa0',\n 'strong',\n '\\xa0',\n 'but',\n '\\xa0',\n 'without',\n '\\xa0',\n 'a',\n '\\xa0',\n 'tool',\n '\\xa0',\n 'to',\n '\\xa0',\n 'help',\n '\\xa0',\n 'them',\n '\\xa0',\n 'illustrate',\n '\\xa0',\n 'how',\n '\\xa0',\n 'the',\n '\\xa0',\n 'trail',\n '\\xa0',\n 'would',\n '\\xa0 ',\n 'positively',\n '\\xa0',\n 'impact',\n '\\xa0',\n 'the',\n '\\xa0',\n 'residents',\n ',',\n '\\xa0',\n 'there',\n '\\xa0',\n 'was',\n '\\xa0',\n 'little',\n '\\xa0',\n 'chance',\n '\\xa0',\n 'people',\n '\\xa0',\n 'would',\n '\\xa0',\n 'donate',\n '\\xa0',\n 'enough',\n '\\xa0',\n 'to',\n '\\xa0',\n 'meet',\n '\\xa0',\n 'the',\n '\\xa0 ',\n 'budget',\n '.',\n '\\xa0',\n 'We',\n '\\xa0',\n 'needed',\n '\\xa0',\n 'a',\n '\\xa0',\n 'tool',\n '\\xa0',\n 'that',\n '\\xa0',\n 'provided',\n '\\xa0',\n 'a',\n '\\xa0',\n '“',\n 'head',\n '\\xa0',\n 'and',\n '\\xa0',\n 'heart',\n '”',\n '\\xa0',\n 'message',\n '\\xa0',\n 'to',\n '\\xa0',\n 'convince',\n '\\xa0',\n 'people',\n '\\xa0',\n 'to',\n '\\xa0',\n 'support',\n '\\xa0 ',\n 'the',\n '\\xa0',\n 'project',\n '.',\n '\\xa0',\n 'Visualization',\n '\\xa0',\n 'provided',\n '\\xa0',\n 'the',\n '\\xa0',\n 'perfect',\n '\\xa0',\n 'combination',\n '\\xa0',\n 'of',\n '\\xa0',\n 'key',\n '\\xa0',\n 'messaging',\n ',',\n '\\xa0',\n 'beautiful',\n '\\xa0',\n 'photography',\n ',',\n '\\xa0 ',\n 'architectural',\n '\\xa0',\n 'renderings',\n ',',\n '\\xa0',\n 'safety',\n '\\xa0',\n 'data',\n ',',\n '\\xa0',\n 'and',\n '\\xa0',\n 'budget',\n '\\xa0',\n 'criteria',\n '\\xa0',\n 'to',\n '\\xa0',\n 'create',\n '\\xa0',\n 'the',\n '\\xa0',\n 'vision',\n '\\xa0',\n 'for',\n '\\xa0',\n 'the',\n '\\xa0',\n 'project',\n '\\xa0',\n 'in',\n '\\xa0',\n 'an',\n '\\xa0 ',\n 'easy‐to‐read',\n '\\xa0',\n 'document',\n '\\xa0',\n 'that',\n '\\xa0',\n 'was',\n '\\xa0',\n 'only',\n '\\xa0',\n 'four',\n '\\xa0',\n 'pages',\n '\\xa0',\n 'in',\n '\\xa0',\n 'length',\n '.',\n '\\xa0',\n 'Visualization',\n '\\xa0',\n 'allowed',\n '\\xa0',\n 'us',\n '\\xa0',\n 'to',\n '\\xa0',\n 'describe',\n '\\xa0',\n 'the',\n '\\xa0 ',\n 'urgent',\n '\\xa0',\n 'and',\n '\\xa0',\n 'compelling',\n '\\xa0',\n 'need',\n '\\xa0',\n 'for',\n '\\xa0',\n 'the',\n '\\xa0',\n 'trail',\n '\\xa0',\n 'in',\n '\\xa0',\n 'a',\n '\\xa0',\n 'succinct',\n '\\xa0',\n 'and',\n '\\xa0',\n 'tangible',\n '\\xa0',\n 'way',\n '.',\n '\\xa0\\xa0 \\xa0 ',\n 'Application',\n '\\xa0 \\xa0 ',\n 'Once',\n '\\xa0',\n 'we',\n '\\xa0',\n 'drafted',\n '\\xa0',\n 'the',\n '\\xa0',\n 'vision',\n '\\xa0',\n 'document',\n ',',\n '\\xa0',\n 'we',\n '\\xa0',\n 'worked',\n '\\xa0',\n 'with',\n '\\xa0',\n 'the',\n '\\xa0',\n 'charity',\n '\\xa0',\n 'to',\n '\\xa0',\n 'identify',\n '\\xa0',\n 'a',\n '\\xa0',\n 'list',\n '\\xa0',\n 'of',\n '\\xa0',\n 'people',\n '\\xa0',\n 'whose',\n '\\xa0 ',\n 'opinion',\n '\\xa0',\n 'would',\n '\\xa0',\n 'be',\n '\\xa0',\n 'important',\n '\\xa0',\n 'to',\n '\\xa0',\n 'the',\n '\\xa0',\n 'success',\n '\\xa0',\n '(',\n 'or',\n '\\xa0',\n 'failure',\n ')',\n '\\xa0',\n 'of',\n '\\xa0',\n 'the',\n '\\xa0',\n 'fundraising',\n '\\xa0',\n 'campaign',\n '.',\n '\\xa0',\n 'The',\n '\\xa0',\n 'list',\n '\\xa0',\n 'included',\n '\\xa0 ',\n 'past',\n '\\xa0',\n 'and',\n '\\xa0',\n 'potential',\n '\\xa0',\n 'donors',\n ',',\n '\\xa0',\n 'key',\n '\\xa0',\n 'influencers',\n '\\xa0',\n 'in',\n '\\xa0',\n 'the',\n '\\xa0',\n 'community',\n '\\xa0',\n 'such',\n '\\xa0',\n 'as',\n '\\xa0',\n 'large',\n '\\xa0',\n 'landowners',\n '\\xa0',\n 'and',\n '\\xa0',\n 'business',\n '\\xa0 ',\n 'owners',\n ',',\n '\\xa0',\n 'affluent',\n '\\xa0',\n 'summer‐only',\n '\\xa0',\n 'residents',\n ',',\n '\\xa0',\n 'and',\n '\\xa0',\n 'elected',\n '\\xa0',\n 'officials',\n '.',\n '\\xa0',\n 'We',\n '\\xa0',\n 'requested',\n '\\xa0',\n 'one‐hour',\n '\\xa0',\n 'meetings',\n '\\xa0',\n 'with',\n '\\xa0 ',\n 'all',\n '\\xa0',\n 'of',\n '\\xa0',\n 'the',\n '\\xa0',\n 'people',\n '\\xa0',\n 'on',\n '\\xa0',\n 'the',\n '\\xa0',\n 'list',\n '.',\n '\\xa0',\n 'If',\n '\\xa0',\n 'people',\n '\\xa0',\n 'did',\n '\\xa0',\n 'not',\n '\\xa0',\n 'want',\n '\\xa0',\n 'to',\n '\\xa0',\n 'meet',\n '\\xa0',\n 'with',\n '\\xa0',\n 'us',\n '\\xa0',\n 'in',\n '\\xa0',\n 'person',\n ',',\n '\\xa0',\n ...]"
     },
     "execution_count": 116,
     "metadata": {},
     "output_type": "execute_result"
    }
   ],
   "source": [
    "[tok for tok in df.iloc[4].tokens if tok != r'\\xa0']"
   ],
   "metadata": {
    "collapsed": false,
    "ExecuteTime": {
     "end_time": "2024-03-07T01:33:43.203067800Z",
     "start_time": "2024-03-07T01:33:43.181141300Z"
    }
   },
   "id": "652ca735f0631c0d",
   "execution_count": 116
  },
  {
   "cell_type": "markdown",
   "source": [
    "# Model\n"
   ],
   "metadata": {
    "collapsed": false
   },
   "id": "457bd3b4533f5a80"
  },
  {
   "cell_type": "code",
   "outputs": [
    {
     "data": {
      "text/plain": "0       Design Thinking for innovation reflexion-Avril...\n1       Diego Estrada\\n\\nDesign Thinking Assignment\\n\\...\n2       Reporting process\\n\\nby Gilberto Gamboa\\n\\nCha...\n3       Design Thinking for Innovation\\n\\nSindy Samaca...\n4       Assignment:  Visualization Reflection  Submitt...\n                              ...                        \n6802    EXAMPLE – JOURNEY MAP\\n\\nTHE CHALLENGE    My w...\n6803    Why Mind Mapping?\\n\\nMind maps are graphical r...\n6804    Challenge\\n\\nSo, a few months back, I had chos...\n6805    Brainstorming\\n\\nChallenge & Selection\\n\\nBrai...\n6806    Mind Mapping\\n\\nChallenge\\n\\nMy consulting tea...\nName: full_text, Length: 6807, dtype: object"
     },
     "execution_count": 105,
     "metadata": {},
     "output_type": "execute_result"
    }
   ],
   "source": [
    "df.full_text.iloc[:]"
   ],
   "metadata": {
    "collapsed": false,
    "ExecuteTime": {
     "end_time": "2024-03-07T01:29:06.105092Z",
     "start_time": "2024-03-07T01:29:06.080174700Z"
    }
   },
   "id": "4fceee28f52d84ac",
   "execution_count": 105
  },
  {
   "cell_type": "code",
   "outputs": [],
   "source": [],
   "metadata": {
    "collapsed": false
   },
   "id": "d0f7a92010666fb3"
  }
 ],
 "metadata": {
  "kernelspec": {
   "display_name": "Python 3 (ipykernel)",
   "language": "python",
   "name": "python3"
  },
  "language_info": {
   "codemirror_mode": {
    "name": "ipython",
    "version": 3
   },
   "file_extension": ".py",
   "mimetype": "text/x-python",
   "name": "python",
   "nbconvert_exporter": "python",
   "pygments_lexer": "ipython3",
   "version": "3.11.4"
  }
 },
 "nbformat": 4,
 "nbformat_minor": 5
}
