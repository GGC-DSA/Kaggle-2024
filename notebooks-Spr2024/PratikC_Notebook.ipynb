{
 "cells": [
  {
   "cell_type": "markdown",
   "source": [
    "# Loading and Cleaning Datasets"
   ],
   "metadata": {
    "collapsed": false
   },
   "id": "f81b8885e3011eb3"
  },
  {
   "cell_type": "code",
   "execution_count": 212,
   "id": "initial_id",
   "metadata": {
    "collapsed": true,
    "jupyter": {
     "outputs_hidden": true
    },
    "ExecuteTime": {
     "end_time": "2024-02-04T23:42:46.342387600Z",
     "start_time": "2024-02-04T23:42:46.323912500Z"
    }
   },
   "outputs": [],
   "source": [
    "import pandas as pd\n",
    "import numpy as np\n",
    "import spacy as sp\n",
    "import re"
   ]
  },
  {
   "cell_type": "markdown",
   "source": [
    "If using IDE, Run \n",
    "```\n",
    "python -m spacy download en_core_web_sm\n",
    "```\n",
    "in the bash to install the english spacy pipline"
   ],
   "metadata": {
    "collapsed": false
   },
   "id": "b3a07f48d94a5870"
  },
  {
   "cell_type": "markdown",
   "source": [
    "## Official Datasets"
   ],
   "metadata": {
    "collapsed": false
   },
   "id": "e9086b614e399c7c"
  },
  {
   "cell_type": "markdown",
   "source": [
    "### Training Data"
   ],
   "metadata": {
    "collapsed": false
   },
   "id": "fc60c15cf0c78d6e"
  },
  {
   "cell_type": "code",
   "execution_count": 159,
   "id": "3af5679c6eceac05",
   "metadata": {
    "collapsed": false,
    "ExecuteTime": {
     "end_time": "2024-02-04T22:10:39.835451200Z",
     "start_time": "2024-02-04T22:10:39.795881800Z"
    }
   },
   "outputs": [],
   "source": [
    "# df_train = pd.read_json(\"../Datasets/Official/train.json\")\n",
    "# df_train"
   ]
  },
  {
   "cell_type": "code",
   "execution_count": 160,
   "id": "ee1a7591efc0b31c",
   "metadata": {
    "collapsed": false,
    "ExecuteTime": {
     "end_time": "2024-02-04T22:10:39.843429700Z",
     "start_time": "2024-02-04T22:10:39.826481900Z"
    }
   },
   "outputs": [],
   "source": [
    "# df_train[df_train.isnull().any(axis = 1)]"
   ]
  },
  {
   "cell_type": "markdown",
   "source": [
    "### Testing Data"
   ],
   "metadata": {
    "collapsed": false
   },
   "id": "c129aa100c95f41a"
  },
  {
   "cell_type": "code",
   "outputs": [
    {
     "data": {
      "text/plain": "   document                                          full_text  \\\n0         7  Design Thinking for innovation reflexion-Avril...   \n1        10  Diego Estrada\\n\\nDesign Thinking Assignment\\n\\...   \n2        16  Reporting process\\n\\nby Gilberto Gamboa\\n\\nCha...   \n3        20  Design Thinking for Innovation\\n\\nSindy Samaca...   \n4        56  Assignment:  Visualization Reflection  Submitt...   \n5        86  Cheese Startup - Learning Launch ​by Eladio Am...   \n6        93  Silvia Villalobos\\n\\nChallenge:\\n\\nThere is a ...   \n7       104  Storytelling  The Path to Innovation\\n\\nDr Sak...   \n8       112  Reflection – Learning Launch\\n\\nFrancisco Ferr...   \n9       123  Gandhi Institute of Technology and Management ...   \n\n                                              tokens  \\\n0  [Design, Thinking, for, innovation, reflexion,...   \n1  [Diego, Estrada, \\n\\n, Design, Thinking, Assig...   \n2  [Reporting, process, \\n\\n, by, Gilberto, Gambo...   \n3  [Design, Thinking, for, Innovation, \\n\\n, Sind...   \n4  [Assignment, :,   , Visualization,  , Reflecti...   \n5  [Cheese, Startup, -, Learning, Launch, ​by, El...   \n6  [Silvia, Villalobos, \\n\\n, Challenge, :, \\n\\n,...   \n7  [Storytelling,  , The, Path, to, Innovation, \\...   \n8  [Reflection, –, Learning, Launch, \\n\\n, Franci...   \n9  [Gandhi, Institute, of, Technology, and, Manag...   \n\n                                 trailing_whitespace  \n0  [True, True, True, True, False, False, True, F...  \n1  [True, False, False, True, True, False, False,...  \n2  [True, False, False, True, True, False, False,...  \n3  [True, True, True, False, False, True, False, ...  \n4  [False, False, False, False, False, False, Fal...  \n5  [True, True, True, True, True, True, True, Fal...  \n6  [True, False, False, False, False, False, True...  \n7  [True, False, True, True, True, False, False, ...  \n8  [True, True, True, False, False, True, False, ...  \n9  [True, True, True, True, True, True, False, Tr...  ",
      "text/html": "<div>\n<style scoped>\n    .dataframe tbody tr th:only-of-type {\n        vertical-align: middle;\n    }\n\n    .dataframe tbody tr th {\n        vertical-align: top;\n    }\n\n    .dataframe thead th {\n        text-align: right;\n    }\n</style>\n<table border=\"1\" class=\"dataframe\">\n  <thead>\n    <tr style=\"text-align: right;\">\n      <th></th>\n      <th>document</th>\n      <th>full_text</th>\n      <th>tokens</th>\n      <th>trailing_whitespace</th>\n    </tr>\n  </thead>\n  <tbody>\n    <tr>\n      <th>0</th>\n      <td>7</td>\n      <td>Design Thinking for innovation reflexion-Avril...</td>\n      <td>[Design, Thinking, for, innovation, reflexion,...</td>\n      <td>[True, True, True, True, False, False, True, F...</td>\n    </tr>\n    <tr>\n      <th>1</th>\n      <td>10</td>\n      <td>Diego Estrada\\n\\nDesign Thinking Assignment\\n\\...</td>\n      <td>[Diego, Estrada, \\n\\n, Design, Thinking, Assig...</td>\n      <td>[True, False, False, True, True, False, False,...</td>\n    </tr>\n    <tr>\n      <th>2</th>\n      <td>16</td>\n      <td>Reporting process\\n\\nby Gilberto Gamboa\\n\\nCha...</td>\n      <td>[Reporting, process, \\n\\n, by, Gilberto, Gambo...</td>\n      <td>[True, False, False, True, True, False, False,...</td>\n    </tr>\n    <tr>\n      <th>3</th>\n      <td>20</td>\n      <td>Design Thinking for Innovation\\n\\nSindy Samaca...</td>\n      <td>[Design, Thinking, for, Innovation, \\n\\n, Sind...</td>\n      <td>[True, True, True, False, False, True, False, ...</td>\n    </tr>\n    <tr>\n      <th>4</th>\n      <td>56</td>\n      <td>Assignment:  Visualization Reflection  Submitt...</td>\n      <td>[Assignment, :,   , Visualization,  , Reflecti...</td>\n      <td>[False, False, False, False, False, False, Fal...</td>\n    </tr>\n    <tr>\n      <th>5</th>\n      <td>86</td>\n      <td>Cheese Startup - Learning Launch ​by Eladio Am...</td>\n      <td>[Cheese, Startup, -, Learning, Launch, ​by, El...</td>\n      <td>[True, True, True, True, True, True, True, Fal...</td>\n    </tr>\n    <tr>\n      <th>6</th>\n      <td>93</td>\n      <td>Silvia Villalobos\\n\\nChallenge:\\n\\nThere is a ...</td>\n      <td>[Silvia, Villalobos, \\n\\n, Challenge, :, \\n\\n,...</td>\n      <td>[True, False, False, False, False, False, True...</td>\n    </tr>\n    <tr>\n      <th>7</th>\n      <td>104</td>\n      <td>Storytelling  The Path to Innovation\\n\\nDr Sak...</td>\n      <td>[Storytelling,  , The, Path, to, Innovation, \\...</td>\n      <td>[True, False, True, True, True, False, False, ...</td>\n    </tr>\n    <tr>\n      <th>8</th>\n      <td>112</td>\n      <td>Reflection – Learning Launch\\n\\nFrancisco Ferr...</td>\n      <td>[Reflection, –, Learning, Launch, \\n\\n, Franci...</td>\n      <td>[True, True, True, False, False, True, False, ...</td>\n    </tr>\n    <tr>\n      <th>9</th>\n      <td>123</td>\n      <td>Gandhi Institute of Technology and Management ...</td>\n      <td>[Gandhi, Institute, of, Technology, and, Manag...</td>\n      <td>[True, True, True, True, True, True, False, Tr...</td>\n    </tr>\n  </tbody>\n</table>\n</div>"
     },
     "execution_count": 161,
     "metadata": {},
     "output_type": "execute_result"
    }
   ],
   "source": [
    "df_test = pd.read_json(\"../Datasets/Official/test.json\")\n",
    "df_test"
   ],
   "metadata": {
    "collapsed": false,
    "ExecuteTime": {
     "end_time": "2024-02-04T22:10:39.880372600Z",
     "start_time": "2024-02-04T22:10:39.844654700Z"
    }
   },
   "id": "1316a275eb4d5dd6",
   "execution_count": 161
  },
  {
   "cell_type": "code",
   "outputs": [
    {
     "data": {
      "text/plain": "Empty DataFrame\nColumns: [document, full_text, tokens, trailing_whitespace]\nIndex: []",
      "text/html": "<div>\n<style scoped>\n    .dataframe tbody tr th:only-of-type {\n        vertical-align: middle;\n    }\n\n    .dataframe tbody tr th {\n        vertical-align: top;\n    }\n\n    .dataframe thead th {\n        text-align: right;\n    }\n</style>\n<table border=\"1\" class=\"dataframe\">\n  <thead>\n    <tr style=\"text-align: right;\">\n      <th></th>\n      <th>document</th>\n      <th>full_text</th>\n      <th>tokens</th>\n      <th>trailing_whitespace</th>\n    </tr>\n  </thead>\n  <tbody>\n  </tbody>\n</table>\n</div>"
     },
     "execution_count": 162,
     "metadata": {},
     "output_type": "execute_result"
    }
   ],
   "source": [
    "df_test[df_test.isnull().any(axis = 1)]"
   ],
   "metadata": {
    "collapsed": false,
    "ExecuteTime": {
     "end_time": "2024-02-04T22:10:39.893723500Z",
     "start_time": "2024-02-04T22:10:39.875389500Z"
    }
   },
   "id": "2ade054a013eb93f",
   "execution_count": 162
  },
  {
   "cell_type": "markdown",
   "source": [
    "## External Datasets"
   ],
   "metadata": {
    "collapsed": false
   },
   "id": "c909ebe3083b7e18"
  },
  {
   "cell_type": "code",
   "outputs": [],
   "source": [
    "# pattern1 = '\\xa0'\n",
    "# re.sub(string = df_test.loc[4, 'full_text'], pattern= pattern1, repl = \" \")\n",
    "# df_test_4_cleaned = [tok for tok in df_test.loc[4, 'tokens'] if not re.search(pattern1,tok)]"
   ],
   "metadata": {
    "collapsed": false,
    "ExecuteTime": {
     "end_time": "2024-02-04T22:10:39.942559700Z",
     "start_time": "2024-02-04T22:10:39.889343100Z"
    }
   },
   "id": "38378be5538ec725",
   "execution_count": 163
  },
  {
   "cell_type": "code",
   "outputs": [
    {
     "data": {
      "text/plain": "                                                   text  \\\n0     In today's modern world, where technology has ...   \n1     In today's modern world, where technology has ...   \n2     Janice: A Student with a Unique Identity\\r\\n\\r...   \n3     Christian is a student who goes by the usernam...   \n4     In today's modern world, where technology has ...   \n...                                                 ...   \n1995  The Importance of Personal Identity in the Dig...   \n1996  In today's fast-paced and interconnected world...   \n1997  In today's modern world, where technology has ...   \n1998  The Importance of Personal Identity in the Dig...   \n1999  The Importance of Personal Identity in the Dig...   \n\n                                                  label  \n0     {'NAME_STUDENT': ['Richard', 'Chang'], 'EMAIL'...  \n1     {'NAME_STUDENT': [], 'EMAIL': ['tamaramorrison...  \n2     {'NAME_STUDENT': ['Janice'], 'EMAIL': ['laura5...  \n3     {'NAME_STUDENT': ['Christian'], 'EMAIL': [], '...  \n4     {'NAME_STUDENT': ['Aaron Smith', 'Fischer', 'T...  \n...                                                 ...  \n1995  {'NAME_STUDENT': ['John', 'Suzanne Davis'], 'E...  \n1996  {'NAME_STUDENT': ['Brenda Brown'], 'EMAIL': ['...  \n1997  {'NAME_STUDENT': ['Joseph Carter'], 'EMAIL': [...  \n1998  {'NAME_STUDENT': ['Amanda', 'Johnathan', 'Shel...  \n1999  {'NAME_STUDENT': ['Sandra', 'Mary Johnson'], '...  \n\n[2000 rows x 2 columns]",
      "text/html": "<div>\n<style scoped>\n    .dataframe tbody tr th:only-of-type {\n        vertical-align: middle;\n    }\n\n    .dataframe tbody tr th {\n        vertical-align: top;\n    }\n\n    .dataframe thead th {\n        text-align: right;\n    }\n</style>\n<table border=\"1\" class=\"dataframe\">\n  <thead>\n    <tr style=\"text-align: right;\">\n      <th></th>\n      <th>text</th>\n      <th>label</th>\n    </tr>\n  </thead>\n  <tbody>\n    <tr>\n      <th>0</th>\n      <td>In today's modern world, where technology has ...</td>\n      <td>{'NAME_STUDENT': ['Richard', 'Chang'], 'EMAIL'...</td>\n    </tr>\n    <tr>\n      <th>1</th>\n      <td>In today's modern world, where technology has ...</td>\n      <td>{'NAME_STUDENT': [], 'EMAIL': ['tamaramorrison...</td>\n    </tr>\n    <tr>\n      <th>2</th>\n      <td>Janice: A Student with a Unique Identity\\r\\n\\r...</td>\n      <td>{'NAME_STUDENT': ['Janice'], 'EMAIL': ['laura5...</td>\n    </tr>\n    <tr>\n      <th>3</th>\n      <td>Christian is a student who goes by the usernam...</td>\n      <td>{'NAME_STUDENT': ['Christian'], 'EMAIL': [], '...</td>\n    </tr>\n    <tr>\n      <th>4</th>\n      <td>In today's modern world, where technology has ...</td>\n      <td>{'NAME_STUDENT': ['Aaron Smith', 'Fischer', 'T...</td>\n    </tr>\n    <tr>\n      <th>...</th>\n      <td>...</td>\n      <td>...</td>\n    </tr>\n    <tr>\n      <th>1995</th>\n      <td>The Importance of Personal Identity in the Dig...</td>\n      <td>{'NAME_STUDENT': ['John', 'Suzanne Davis'], 'E...</td>\n    </tr>\n    <tr>\n      <th>1996</th>\n      <td>In today's fast-paced and interconnected world...</td>\n      <td>{'NAME_STUDENT': ['Brenda Brown'], 'EMAIL': ['...</td>\n    </tr>\n    <tr>\n      <th>1997</th>\n      <td>In today's modern world, where technology has ...</td>\n      <td>{'NAME_STUDENT': ['Joseph Carter'], 'EMAIL': [...</td>\n    </tr>\n    <tr>\n      <th>1998</th>\n      <td>The Importance of Personal Identity in the Dig...</td>\n      <td>{'NAME_STUDENT': ['Amanda', 'Johnathan', 'Shel...</td>\n    </tr>\n    <tr>\n      <th>1999</th>\n      <td>The Importance of Personal Identity in the Dig...</td>\n      <td>{'NAME_STUDENT': ['Sandra', 'Mary Johnson'], '...</td>\n    </tr>\n  </tbody>\n</table>\n<p>2000 rows × 2 columns</p>\n</div>"
     },
     "execution_count": 207,
     "metadata": {},
     "output_type": "execute_result"
    }
   ],
   "source": [
    "df_ext1_ai_data = pd.read_csv(\"../Datasets/External/ai_data.csv\",names=[\"text\",\"label\"],header = 0)\n",
    "df_ext1_ai_data"
   ],
   "metadata": {
    "collapsed": false,
    "ExecuteTime": {
     "end_time": "2024-02-04T23:38:09.745937300Z",
     "start_time": "2024-02-04T23:38:09.679160800Z"
    }
   },
   "id": "70c6f7bff950ab3a",
   "execution_count": 207
  },
  {
   "cell_type": "code",
   "outputs": [
    {
     "data": {
      "text/plain": "Empty DataFrame\nColumns: [text, label, tokens]\nIndex: []",
      "text/html": "<div>\n<style scoped>\n    .dataframe tbody tr th:only-of-type {\n        vertical-align: middle;\n    }\n\n    .dataframe tbody tr th {\n        vertical-align: top;\n    }\n\n    .dataframe thead th {\n        text-align: right;\n    }\n</style>\n<table border=\"1\" class=\"dataframe\">\n  <thead>\n    <tr style=\"text-align: right;\">\n      <th></th>\n      <th>text</th>\n      <th>label</th>\n      <th>tokens</th>\n    </tr>\n  </thead>\n  <tbody>\n  </tbody>\n</table>\n</div>"
     },
     "execution_count": 214,
     "metadata": {},
     "output_type": "execute_result"
    }
   ],
   "source": [
    "df_ext1_ai_data[df_ext1_ai_data.isnull().any(axis = 1)]"
   ],
   "metadata": {
    "collapsed": false,
    "ExecuteTime": {
     "end_time": "2024-02-04T23:52:16.777142200Z",
     "start_time": "2024-02-04T23:52:16.767175Z"
    }
   },
   "id": "9d962d0c6e48fa91",
   "execution_count": 214
  },
  {
   "cell_type": "code",
   "outputs": [],
   "source": [
    "df_ext1_ai_data_head = df_ext1_ai_data.head(5)"
   ],
   "metadata": {
    "collapsed": false,
    "ExecuteTime": {
     "end_time": "2024-02-04T23:38:11.608331100Z",
     "start_time": "2024-02-04T23:38:11.597364Z"
    }
   },
   "id": "7a071c659a613c32",
   "execution_count": 208
  },
  {
   "cell_type": "code",
   "outputs": [
    {
     "name": "stderr",
     "output_type": "stream",
     "text": [
      "C:\\Users\\Pratik Chaudhari\\AppData\\Local\\Temp\\ipykernel_27932\\1466600146.py:1: SettingWithCopyWarning: \n",
      "A value is trying to be set on a copy of a slice from a DataFrame.\n",
      "Try using .loc[row_indexer,col_indexer] = value instead\n",
      "\n",
      "See the caveats in the documentation: https://pandas.pydata.org/pandas-docs/stable/user_guide/indexing.html#returning-a-view-versus-a-copy\n",
      "  df_ext1_ai_data_head.loc[:,'tokens'] = df_ext1_ai_data_head.loc[:,'text'].apply(lambda line: [tok.text for tok in nlp(line)])\n"
     ]
    }
   ],
   "source": [
    "df_ext1_ai_data_head.loc[:,'tokens'] = df_ext1_ai_data_head.loc[:,'text'].apply(lambda line: [tok.text for tok in nlp(line)])"
   ],
   "metadata": {
    "collapsed": false,
    "ExecuteTime": {
     "end_time": "2024-02-04T23:38:12.521712Z",
     "start_time": "2024-02-04T23:38:12.300162800Z"
    }
   },
   "id": "196f108dffb01885",
   "execution_count": 209
  },
  {
   "cell_type": "code",
   "outputs": [
    {
     "data": {
      "text/plain": "0    [In, today, 's, modern, world, ,, where, techn...\n1    [In, today, 's, modern, world, ,, where, techn...\n2    [Janice, :, A, Student, with, a, Unique, Ident...\n3    [Christian, is, a, student, who, goes, by, the...\n4    [In, today, 's, modern, world, ,, where, techn...\nName: tokens, dtype: object"
     },
     "execution_count": 210,
     "metadata": {},
     "output_type": "execute_result"
    }
   ],
   "source": [
    "df_ext1_ai_data_head['tokens']"
   ],
   "metadata": {
    "collapsed": false,
    "ExecuteTime": {
     "end_time": "2024-02-04T23:38:15.481603200Z",
     "start_time": "2024-02-04T23:38:15.472629200Z"
    }
   },
   "id": "6dd76b8716be7069",
   "execution_count": 210
  },
  {
   "cell_type": "code",
   "outputs": [],
   "source": [
    "df_ext1_ai_data.loc[:,'tokens'] = df_ext1_ai_data.loc[:,'text'].apply(lambda line: [tok.text for tok in nlp(line)])"
   ],
   "metadata": {
    "collapsed": false,
    "ExecuteTime": {
     "end_time": "2024-02-04T23:39:30.245139800Z",
     "start_time": "2024-02-04T23:38:18.417376700Z"
    }
   },
   "id": "3a59e2f750d2fa3e",
   "execution_count": 211
  },
  {
   "cell_type": "code",
   "outputs": [
    {
     "data": {
      "text/plain": "                                                   text  \\\n0     In today's modern world, where technology has ...   \n1     In today's modern world, where technology has ...   \n2     Janice: A Student with a Unique Identity\\r\\n\\r...   \n3     Christian is a student who goes by the usernam...   \n4     In today's modern world, where technology has ...   \n...                                                 ...   \n1995  The Importance of Personal Identity in the Dig...   \n1996  In today's fast-paced and interconnected world...   \n1997  In today's modern world, where technology has ...   \n1998  The Importance of Personal Identity in the Dig...   \n1999  The Importance of Personal Identity in the Dig...   \n\n                                                  label  \\\n0     {'NAME_STUDENT': ['Richard', 'Chang'], 'EMAIL'...   \n1     {'NAME_STUDENT': [], 'EMAIL': ['tamaramorrison...   \n2     {'NAME_STUDENT': ['Janice'], 'EMAIL': ['laura5...   \n3     {'NAME_STUDENT': ['Christian'], 'EMAIL': [], '...   \n4     {'NAME_STUDENT': ['Aaron Smith', 'Fischer', 'T...   \n...                                                 ...   \n1995  {'NAME_STUDENT': ['John', 'Suzanne Davis'], 'E...   \n1996  {'NAME_STUDENT': ['Brenda Brown'], 'EMAIL': ['...   \n1997  {'NAME_STUDENT': ['Joseph Carter'], 'EMAIL': [...   \n1998  {'NAME_STUDENT': ['Amanda', 'Johnathan', 'Shel...   \n1999  {'NAME_STUDENT': ['Sandra', 'Mary Johnson'], '...   \n\n                                                 tokens  \n0     [In, today, 's, modern, world, ,, where, techn...  \n1     [In, today, 's, modern, world, ,, where, techn...  \n2     [Janice, :, A, Student, with, a, Unique, Ident...  \n3     [Christian, is, a, student, who, goes, by, the...  \n4     [In, today, 's, modern, world, ,, where, techn...  \n...                                                 ...  \n1995  [The, Importance, of, Personal, Identity, in, ...  \n1996  [In, today, 's, fast, -, paced, and, interconn...  \n1997  [In, today, 's, modern, world, ,, where, techn...  \n1998  [The, Importance, of, Personal, Identity, in, ...  \n1999  [The, Importance, of, Personal, Identity, in, ...  \n\n[2000 rows x 3 columns]",
      "text/html": "<div>\n<style scoped>\n    .dataframe tbody tr th:only-of-type {\n        vertical-align: middle;\n    }\n\n    .dataframe tbody tr th {\n        vertical-align: top;\n    }\n\n    .dataframe thead th {\n        text-align: right;\n    }\n</style>\n<table border=\"1\" class=\"dataframe\">\n  <thead>\n    <tr style=\"text-align: right;\">\n      <th></th>\n      <th>text</th>\n      <th>label</th>\n      <th>tokens</th>\n    </tr>\n  </thead>\n  <tbody>\n    <tr>\n      <th>0</th>\n      <td>In today's modern world, where technology has ...</td>\n      <td>{'NAME_STUDENT': ['Richard', 'Chang'], 'EMAIL'...</td>\n      <td>[In, today, 's, modern, world, ,, where, techn...</td>\n    </tr>\n    <tr>\n      <th>1</th>\n      <td>In today's modern world, where technology has ...</td>\n      <td>{'NAME_STUDENT': [], 'EMAIL': ['tamaramorrison...</td>\n      <td>[In, today, 's, modern, world, ,, where, techn...</td>\n    </tr>\n    <tr>\n      <th>2</th>\n      <td>Janice: A Student with a Unique Identity\\r\\n\\r...</td>\n      <td>{'NAME_STUDENT': ['Janice'], 'EMAIL': ['laura5...</td>\n      <td>[Janice, :, A, Student, with, a, Unique, Ident...</td>\n    </tr>\n    <tr>\n      <th>3</th>\n      <td>Christian is a student who goes by the usernam...</td>\n      <td>{'NAME_STUDENT': ['Christian'], 'EMAIL': [], '...</td>\n      <td>[Christian, is, a, student, who, goes, by, the...</td>\n    </tr>\n    <tr>\n      <th>4</th>\n      <td>In today's modern world, where technology has ...</td>\n      <td>{'NAME_STUDENT': ['Aaron Smith', 'Fischer', 'T...</td>\n      <td>[In, today, 's, modern, world, ,, where, techn...</td>\n    </tr>\n    <tr>\n      <th>...</th>\n      <td>...</td>\n      <td>...</td>\n      <td>...</td>\n    </tr>\n    <tr>\n      <th>1995</th>\n      <td>The Importance of Personal Identity in the Dig...</td>\n      <td>{'NAME_STUDENT': ['John', 'Suzanne Davis'], 'E...</td>\n      <td>[The, Importance, of, Personal, Identity, in, ...</td>\n    </tr>\n    <tr>\n      <th>1996</th>\n      <td>In today's fast-paced and interconnected world...</td>\n      <td>{'NAME_STUDENT': ['Brenda Brown'], 'EMAIL': ['...</td>\n      <td>[In, today, 's, fast, -, paced, and, interconn...</td>\n    </tr>\n    <tr>\n      <th>1997</th>\n      <td>In today's modern world, where technology has ...</td>\n      <td>{'NAME_STUDENT': ['Joseph Carter'], 'EMAIL': [...</td>\n      <td>[In, today, 's, modern, world, ,, where, techn...</td>\n    </tr>\n    <tr>\n      <th>1998</th>\n      <td>The Importance of Personal Identity in the Dig...</td>\n      <td>{'NAME_STUDENT': ['Amanda', 'Johnathan', 'Shel...</td>\n      <td>[The, Importance, of, Personal, Identity, in, ...</td>\n    </tr>\n    <tr>\n      <th>1999</th>\n      <td>The Importance of Personal Identity in the Dig...</td>\n      <td>{'NAME_STUDENT': ['Sandra', 'Mary Johnson'], '...</td>\n      <td>[The, Importance, of, Personal, Identity, in, ...</td>\n    </tr>\n  </tbody>\n</table>\n<p>2000 rows × 3 columns</p>\n</div>"
     },
     "execution_count": 177,
     "metadata": {},
     "output_type": "execute_result"
    }
   ],
   "source": [
    "df_ext1_ai_data"
   ],
   "metadata": {
    "collapsed": false,
    "ExecuteTime": {
     "end_time": "2024-02-04T22:15:52.489482700Z",
     "start_time": "2024-02-04T22:15:52.474533Z"
    }
   },
   "id": "3f3de8d84b52c24a",
   "execution_count": 177
  },
  {
   "cell_type": "code",
   "outputs": [
    {
     "data": {
      "text/plain": "                                                 tokens  \\\n0     [You, should, join, the, seagoing, cowboys, .,...   \n1     [FINAL, DRAFT, \\n\\n, MONTH_DAY_YEAR, \\n\\n, PRO...   \n2     [Dear, Mohammed, Brown, :, \\n\\n, I, believe, i...   \n3     [Dear, ,, Principal, \\n\\n, I, think, students,...   \n4     [Dear, Sam, Ali, ,, \\n\\n, Suppose, a, communit...   \n...                                                 ...   \n2213  [I, prefer, policy, 1, because, i, think, we, ...   \n2214  [Dear, Principle, ,, \\n\\n, I, am, a, student, ...   \n2215  [Dear, Principal, ,, \\n\\n, You, should, allow,...   \n2216  [Dear, Principle, ,, \\n\\n, I, believe, that, y...   \n2217  [Dear, Principal, ,, \\n\\n, Hi, ,, my, name, is...   \n\n                                    trailing_whitespace  \\\n0     [True, True, True, True, True, False, True, Tr...   \n1     [True, False, False, False, False, False, Fals...   \n2     [True, True, False, False, False, True, True, ...   \n3     [False, True, False, False, True, True, True, ...   \n4     [True, True, False, False, False, True, True, ...   \n...                                                 ...   \n2213  [True, True, True, True, True, True, True, Tru...   \n2214  [True, False, False, False, True, True, True, ...   \n2215  [True, False, False, False, True, True, True, ...   \n2216  [True, False, False, False, True, True, True, ...   \n2217  [True, False, False, False, False, True, True,...   \n\n                                                 labels  \\\n0     [O, O, O, O, O, O, O, O, O, O, O, O, O, O, O, ...   \n1     [O, O, O, O, O, O, O, O, O, O, O, O, O, O, O, ...   \n2     [O, B-NAME_STUDENT, I-NAME_STUDENT, O, O, O, O...   \n3     [O, O, O, O, O, O, O, O, O, O, O, O, O, O, O, ...   \n4     [O, B-NAME_STUDENT, I-NAME_STUDENT, O, O, O, O...   \n...                                                 ...   \n2213  [O, O, O, O, O, O, O, O, O, O, O, O, O, O, O, ...   \n2214  [O, O, O, O, O, O, O, O, O, O, O, O, O, O, O, ...   \n2215  [O, O, O, O, O, O, O, O, O, O, O, O, O, O, O, ...   \n2216  [O, O, O, O, O, O, O, O, O, O, O, O, O, O, O, ...   \n2217  [O, O, O, O, O, O, O, O, O, B-NAME_STUDENT, I-...   \n\n                                              full_text               document  \n0     You should join the seagoing cowboys. I think ...  persuade_A70616DD5FBF  \n1     FINAL DRAFT\\n\\nMONTH_DAY_YEAR\\n\\nPROPER_NAME\\n...  persuade_740AE92DF22C  \n2     Dear Mohammed Brown:\\n\\nI believe it would be ...  persuade_2F286C2A60B6  \n3     Dear, Principal\\n\\nI think students should hav...  persuade_A1274B901F55  \n4     Dear Sam Ali,\\n\\nSuppose a community free from...  persuade_E55967D94E2C  \n...                                                 ...                    ...  \n2213  I prefer policy 1 because i think we should be...  persuade_E9739967700C  \n2214  Dear Principle,\\n\\nI am a student at our schoo...  persuade_C9083A6A4955  \n2215  Dear Principal,\\n\\nYou should allow students t...  persuade_426B322D25DA  \n2216  Dear Principle,\\n\\nI believe that you should a...  persuade_356088A3EC46  \n2217  Dear Principal,\\n\\nHi, my name is Wei Ali, and...  persuade_58ACB1DE6771  \n\n[2218 rows x 5 columns]",
      "text/html": "<div>\n<style scoped>\n    .dataframe tbody tr th:only-of-type {\n        vertical-align: middle;\n    }\n\n    .dataframe tbody tr th {\n        vertical-align: top;\n    }\n\n    .dataframe thead th {\n        text-align: right;\n    }\n</style>\n<table border=\"1\" class=\"dataframe\">\n  <thead>\n    <tr style=\"text-align: right;\">\n      <th></th>\n      <th>tokens</th>\n      <th>trailing_whitespace</th>\n      <th>labels</th>\n      <th>full_text</th>\n      <th>document</th>\n    </tr>\n  </thead>\n  <tbody>\n    <tr>\n      <th>0</th>\n      <td>[You, should, join, the, seagoing, cowboys, .,...</td>\n      <td>[True, True, True, True, True, False, True, Tr...</td>\n      <td>[O, O, O, O, O, O, O, O, O, O, O, O, O, O, O, ...</td>\n      <td>You should join the seagoing cowboys. I think ...</td>\n      <td>persuade_A70616DD5FBF</td>\n    </tr>\n    <tr>\n      <th>1</th>\n      <td>[FINAL, DRAFT, \\n\\n, MONTH_DAY_YEAR, \\n\\n, PRO...</td>\n      <td>[True, False, False, False, False, False, Fals...</td>\n      <td>[O, O, O, O, O, O, O, O, O, O, O, O, O, O, O, ...</td>\n      <td>FINAL DRAFT\\n\\nMONTH_DAY_YEAR\\n\\nPROPER_NAME\\n...</td>\n      <td>persuade_740AE92DF22C</td>\n    </tr>\n    <tr>\n      <th>2</th>\n      <td>[Dear, Mohammed, Brown, :, \\n\\n, I, believe, i...</td>\n      <td>[True, True, False, False, False, True, True, ...</td>\n      <td>[O, B-NAME_STUDENT, I-NAME_STUDENT, O, O, O, O...</td>\n      <td>Dear Mohammed Brown:\\n\\nI believe it would be ...</td>\n      <td>persuade_2F286C2A60B6</td>\n    </tr>\n    <tr>\n      <th>3</th>\n      <td>[Dear, ,, Principal, \\n\\n, I, think, students,...</td>\n      <td>[False, True, False, False, True, True, True, ...</td>\n      <td>[O, O, O, O, O, O, O, O, O, O, O, O, O, O, O, ...</td>\n      <td>Dear, Principal\\n\\nI think students should hav...</td>\n      <td>persuade_A1274B901F55</td>\n    </tr>\n    <tr>\n      <th>4</th>\n      <td>[Dear, Sam, Ali, ,, \\n\\n, Suppose, a, communit...</td>\n      <td>[True, True, False, False, False, True, True, ...</td>\n      <td>[O, B-NAME_STUDENT, I-NAME_STUDENT, O, O, O, O...</td>\n      <td>Dear Sam Ali,\\n\\nSuppose a community free from...</td>\n      <td>persuade_E55967D94E2C</td>\n    </tr>\n    <tr>\n      <th>...</th>\n      <td>...</td>\n      <td>...</td>\n      <td>...</td>\n      <td>...</td>\n      <td>...</td>\n    </tr>\n    <tr>\n      <th>2213</th>\n      <td>[I, prefer, policy, 1, because, i, think, we, ...</td>\n      <td>[True, True, True, True, True, True, True, Tru...</td>\n      <td>[O, O, O, O, O, O, O, O, O, O, O, O, O, O, O, ...</td>\n      <td>I prefer policy 1 because i think we should be...</td>\n      <td>persuade_E9739967700C</td>\n    </tr>\n    <tr>\n      <th>2214</th>\n      <td>[Dear, Principle, ,, \\n\\n, I, am, a, student, ...</td>\n      <td>[True, False, False, False, True, True, True, ...</td>\n      <td>[O, O, O, O, O, O, O, O, O, O, O, O, O, O, O, ...</td>\n      <td>Dear Principle,\\n\\nI am a student at our schoo...</td>\n      <td>persuade_C9083A6A4955</td>\n    </tr>\n    <tr>\n      <th>2215</th>\n      <td>[Dear, Principal, ,, \\n\\n, You, should, allow,...</td>\n      <td>[True, False, False, False, True, True, True, ...</td>\n      <td>[O, O, O, O, O, O, O, O, O, O, O, O, O, O, O, ...</td>\n      <td>Dear Principal,\\n\\nYou should allow students t...</td>\n      <td>persuade_426B322D25DA</td>\n    </tr>\n    <tr>\n      <th>2216</th>\n      <td>[Dear, Principle, ,, \\n\\n, I, believe, that, y...</td>\n      <td>[True, False, False, False, True, True, True, ...</td>\n      <td>[O, O, O, O, O, O, O, O, O, O, O, O, O, O, O, ...</td>\n      <td>Dear Principle,\\n\\nI believe that you should a...</td>\n      <td>persuade_356088A3EC46</td>\n    </tr>\n    <tr>\n      <th>2217</th>\n      <td>[Dear, Principal, ,, \\n\\n, Hi, ,, my, name, is...</td>\n      <td>[True, False, False, False, False, True, True,...</td>\n      <td>[O, O, O, O, O, O, O, O, O, B-NAME_STUDENT, I-...</td>\n      <td>Dear Principal,\\n\\nHi, my name is Wei Ali, and...</td>\n      <td>persuade_58ACB1DE6771</td>\n    </tr>\n  </tbody>\n</table>\n<p>2218 rows × 5 columns</p>\n</div>"
     },
     "execution_count": 213,
     "metadata": {},
     "output_type": "execute_result"
    }
   ],
   "source": [
    "df_ext2_persuade = pd.read_json(\"../Datasets/External/persuade_train_v0.json\")\n",
    "df_ext2_persuade"
   ],
   "metadata": {
    "collapsed": false,
    "ExecuteTime": {
     "end_time": "2024-02-04T23:51:38.381048200Z",
     "start_time": "2024-02-04T23:51:38.239163400Z"
    }
   },
   "id": "2fc22a17403e35e8",
   "execution_count": 213
  },
  {
   "cell_type": "code",
   "outputs": [
    {
     "data": {
      "text/plain": "Empty DataFrame\nColumns: [tokens, trailing_whitespace, labels, full_text, document]\nIndex: []",
      "text/html": "<div>\n<style scoped>\n    .dataframe tbody tr th:only-of-type {\n        vertical-align: middle;\n    }\n\n    .dataframe tbody tr th {\n        vertical-align: top;\n    }\n\n    .dataframe thead th {\n        text-align: right;\n    }\n</style>\n<table border=\"1\" class=\"dataframe\">\n  <thead>\n    <tr style=\"text-align: right;\">\n      <th></th>\n      <th>tokens</th>\n      <th>trailing_whitespace</th>\n      <th>labels</th>\n      <th>full_text</th>\n      <th>document</th>\n    </tr>\n  </thead>\n  <tbody>\n  </tbody>\n</table>\n</div>"
     },
     "execution_count": 215,
     "metadata": {},
     "output_type": "execute_result"
    }
   ],
   "source": [
    "df_ext2_persuade[df_ext2_persuade.isnull().any(axis = 1)]"
   ],
   "metadata": {
    "collapsed": false,
    "ExecuteTime": {
     "end_time": "2024-02-04T23:56:13.913166100Z",
     "start_time": "2024-02-04T23:56:13.891239300Z"
    }
   },
   "id": "b3ebf4ccec902ab3",
   "execution_count": 215
  },
  {
   "cell_type": "code",
   "outputs": [
    {
     "data": {
      "text/plain": "                                             masked_text  \\\n0      In our video conference, discuss the role of e...   \n1      Could you draft a letter for [NAME_1] to send ...   \n2      Discuss the options for [FULLNAME_1] who wants...   \n3      13. Write a press release announcing [FULLNAME...   \n4      9. Develop an inventory management plan for [F...   \n...                                                  ...   \n42752  Please write an article on the effectiveness o...   \n42753  Write a report on the most common online threa...   \n42754  Write a blog post for [NAME_1] about the role ...   \n42755  14. Calculate the return on investment for [NA...   \n42756  Please write an email to [FULLNAME_1] at [EMAI...   \n\n                                           unmasked_text  \\\n0      In our video conference, discuss the role of e...   \n1      Could you draft a letter for Dietrich, Schulis...   \n2      Discuss the options for Jeffery Pfeffer who wa...   \n3      13. Write a press release announcing Gayle Wat...   \n4      9. Develop an inventory management plan for Ev...   \n...                                                  ...   \n42752  Please write an article on the effectiveness o...   \n42753  Write a report on the most common online threa...   \n42754  Write a blog post for Stanton LLC about the ro...   \n42755  14. Calculate the return on investment for Con...   \n42756  Please write an email to Roberta Gutmann V at ...   \n\n                                     token_entity_labels  \\\n0      [O, O, O, O, O, O, O, O, O, O, O, O, O, O, O, ...   \n1      [O, O, O, O, O, O, B-NAME, I-NAME, I-NAME, I-N...   \n2      [O, O, O, O, B-FULLNAME, I-FULLNAME, I-FULLNAM...   \n3      [O, O, O, O, O, O, O, B-FULLNAME, I-FULLNAME, ...   \n4      [O, O, O, O, O, O, O, O, B-FULLNAME, I-FULLNAM...   \n...                                                  ...   \n42752  [O, O, O, O, O, O, O, O, O, O, O, O, O, O, O, ...   \n42753  [O, O, O, O, O, O, O, O, O, O, O, O, O, O, O, ...   \n42754  [O, O, O, O, O, B-NAME, I-NAME, O, O, O, O, O,...   \n42755  [O, O, O, O, O, O, O, O, B-NAME, I-NAME, I-NAM...   \n42756  [O, O, O, O, O, B-FULLNAME, I-FULLNAME, I-FULL...   \n\n                                 tokenised_unmasked_text  \n0      [in, our, video, conference, ,, discuss, the, ...  \n1      [could, you, draft, a, letter, for, dietrich, ...  \n2      [discuss, the, options, for, jeff, ##ery, p, #...  \n3      [13, ., write, a, press, release, announcing, ...  \n4      [9, ., develop, an, inventory, management, pla...  \n...                                                  ...  \n42752  [please, write, an, article, on, the, effectiv...  \n42753  [write, a, report, on, the, most, common, onli...  \n42754  [write, a, blog, post, for, stanton, llc, abou...  \n42755  [14, ., calculate, the, return, on, investment...  \n42756  [please, write, an, email, to, roberta, gut, #...  \n\n[42757 rows x 4 columns]",
      "text/html": "<div>\n<style scoped>\n    .dataframe tbody tr th:only-of-type {\n        vertical-align: middle;\n    }\n\n    .dataframe tbody tr th {\n        vertical-align: top;\n    }\n\n    .dataframe thead th {\n        text-align: right;\n    }\n</style>\n<table border=\"1\" class=\"dataframe\">\n  <thead>\n    <tr style=\"text-align: right;\">\n      <th></th>\n      <th>masked_text</th>\n      <th>unmasked_text</th>\n      <th>token_entity_labels</th>\n      <th>tokenised_unmasked_text</th>\n    </tr>\n  </thead>\n  <tbody>\n    <tr>\n      <th>0</th>\n      <td>In our video conference, discuss the role of e...</td>\n      <td>In our video conference, discuss the role of e...</td>\n      <td>[O, O, O, O, O, O, O, O, O, O, O, O, O, O, O, ...</td>\n      <td>[in, our, video, conference, ,, discuss, the, ...</td>\n    </tr>\n    <tr>\n      <th>1</th>\n      <td>Could you draft a letter for [NAME_1] to send ...</td>\n      <td>Could you draft a letter for Dietrich, Schulis...</td>\n      <td>[O, O, O, O, O, O, B-NAME, I-NAME, I-NAME, I-N...</td>\n      <td>[could, you, draft, a, letter, for, dietrich, ...</td>\n    </tr>\n    <tr>\n      <th>2</th>\n      <td>Discuss the options for [FULLNAME_1] who wants...</td>\n      <td>Discuss the options for Jeffery Pfeffer who wa...</td>\n      <td>[O, O, O, O, B-FULLNAME, I-FULLNAME, I-FULLNAM...</td>\n      <td>[discuss, the, options, for, jeff, ##ery, p, #...</td>\n    </tr>\n    <tr>\n      <th>3</th>\n      <td>13. Write a press release announcing [FULLNAME...</td>\n      <td>13. Write a press release announcing Gayle Wat...</td>\n      <td>[O, O, O, O, O, O, O, B-FULLNAME, I-FULLNAME, ...</td>\n      <td>[13, ., write, a, press, release, announcing, ...</td>\n    </tr>\n    <tr>\n      <th>4</th>\n      <td>9. Develop an inventory management plan for [F...</td>\n      <td>9. Develop an inventory management plan for Ev...</td>\n      <td>[O, O, O, O, O, O, O, O, B-FULLNAME, I-FULLNAM...</td>\n      <td>[9, ., develop, an, inventory, management, pla...</td>\n    </tr>\n    <tr>\n      <th>...</th>\n      <td>...</td>\n      <td>...</td>\n      <td>...</td>\n      <td>...</td>\n    </tr>\n    <tr>\n      <th>42752</th>\n      <td>Please write an article on the effectiveness o...</td>\n      <td>Please write an article on the effectiveness o...</td>\n      <td>[O, O, O, O, O, O, O, O, O, O, O, O, O, O, O, ...</td>\n      <td>[please, write, an, article, on, the, effectiv...</td>\n    </tr>\n    <tr>\n      <th>42753</th>\n      <td>Write a report on the most common online threa...</td>\n      <td>Write a report on the most common online threa...</td>\n      <td>[O, O, O, O, O, O, O, O, O, O, O, O, O, O, O, ...</td>\n      <td>[write, a, report, on, the, most, common, onli...</td>\n    </tr>\n    <tr>\n      <th>42754</th>\n      <td>Write a blog post for [NAME_1] about the role ...</td>\n      <td>Write a blog post for Stanton LLC about the ro...</td>\n      <td>[O, O, O, O, O, B-NAME, I-NAME, O, O, O, O, O,...</td>\n      <td>[write, a, blog, post, for, stanton, llc, abou...</td>\n    </tr>\n    <tr>\n      <th>42755</th>\n      <td>14. Calculate the return on investment for [NA...</td>\n      <td>14. Calculate the return on investment for Con...</td>\n      <td>[O, O, O, O, O, O, O, O, B-NAME, I-NAME, I-NAM...</td>\n      <td>[14, ., calculate, the, return, on, investment...</td>\n    </tr>\n    <tr>\n      <th>42756</th>\n      <td>Please write an email to [FULLNAME_1] at [EMAI...</td>\n      <td>Please write an email to Roberta Gutmann V at ...</td>\n      <td>[O, O, O, O, O, B-FULLNAME, I-FULLNAME, I-FULL...</td>\n      <td>[please, write, an, email, to, roberta, gut, #...</td>\n    </tr>\n  </tbody>\n</table>\n<p>42757 rows × 4 columns</p>\n</div>"
     },
     "execution_count": 203,
     "metadata": {},
     "output_type": "execute_result"
    }
   ],
   "source": [
    "df_ext3_ai4priv = pd.read_json(\"../Datasets/External/PII43k_original.jsonl\", lines=True)\n",
    "df_ext3_ai4priv"
   ],
   "metadata": {
    "collapsed": false,
    "ExecuteTime": {
     "end_time": "2024-02-04T23:15:24.810678600Z",
     "start_time": "2024-02-04T23:15:24.449252900Z"
    }
   },
   "id": "f4522058c8598645",
   "execution_count": 203
  },
  {
   "cell_type": "code",
   "outputs": [
    {
     "data": {
      "text/plain": "                                  document  \\\n0     1073d46f-2241-459b-ab01-851be8d26436   \n1     5ec717a9-17ee-48cd-9d76-30ae256c9354   \n2     353da41e-7799-4071-ab20-d959b362612e   \n3     9324ee01-7bdc-41b1-a7a5-01307f72c20d   \n4     971fe266-2739-4f1b-979b-7f64e07d5a4a   \n...                                    ...   \n4429  a90b6b71-0e77-4089-a3a4-9a5b5c5aec78   \n4430  1492ed0e-f162-424f-9c40-f3edde790ca1   \n4431  57ef34c1-48db-4413-9573-774021e57f63   \n4432  a4486627-1c62-48b0-bf4f-53259ecc0a28   \n4433  3f580963-3dbf-4c2f-95c1-16b7c8697d4b   \n\n                                                   text  \\\n0     My name is Aaliyah Popova, and I am a jeweler ...   \n1     My name is Konstantin Becker, and I'm a develo...   \n2     As Mieko Mitsubishi, an account manager at a p...   \n3     My name is Kazuo Sun, and I'm an air traffic c...   \n4     My name is Arina Sun, and I'm a dental hygieni...   \n...                                                 ...   \n4429  Hello, I'm Nicholas Moore, a man with a rich t...   \n4430  Hello, my name is Alexey Novikov and I'm a psy...   \n4431  My name is Ludmila Inoue, and I'm a person wit...   \n4432  Dr. Tu Garcia, a renowned dermatologist, embar...   \n4433  Hello, I'm Badi Nakamura, and I work as a prog...   \n\n                                                 tokens  \\\n0     ['My', 'name', 'is', 'Aaliyah', 'Popova,', 'an...   \n1     ['My', 'name', 'is', 'Konstantin', 'Becker,', ...   \n2     ['As', 'Mieko', 'Mitsubishi,', 'an', 'account'...   \n3     ['My', 'name', 'is', 'Kazuo', 'Sun,', 'and', \"...   \n4     ['My', 'name', 'is', 'Arina', 'Sun,', 'and', \"...   \n...                                                 ...   \n4429  ['Hello,', \"I'm\", 'Nicholas', 'Moore,', 'a', '...   \n4430  ['Hello,', 'my', 'name', 'is', 'Alexey', 'Novi...   \n4431  ['My', 'name', 'is', 'Ludmila', 'Inoue,', 'and...   \n4432  ['Dr.', 'Tu', 'Garcia,', 'a', 'renowned', 'der...   \n4433  ['Hello,', \"I'm\", 'Badi', 'Nakamura,', 'and', ...   \n\n                                    trailing_whitespace  \\\n0     [True, True, True, True, True, True, True, Tru...   \n1     [True, True, True, True, True, True, True, Tru...   \n2     [True, True, True, True, True, True, True, Tru...   \n3     [True, True, True, True, True, True, True, Tru...   \n4     [True, True, True, True, True, True, True, Tru...   \n...                                                 ...   \n4429  [True, True, True, True, True, True, True, Tru...   \n4430  [True, True, True, True, True, True, True, Tru...   \n4431  [True, True, True, True, True, True, True, Tru...   \n4432  [True, True, True, True, True, True, True, Tru...   \n4433  [True, True, True, True, True, True, True, Tru...   \n\n                                                 labels  \\\n0     ['O', 'O', 'O', 'B-NAME_STUDENT', 'I-NAME_STUD...   \n1     ['O', 'O', 'O', 'B-NAME_STUDENT', 'I-NAME_STUD...   \n2     ['O', 'B-NAME_STUDENT', 'I-NAME_STUDENT', 'O',...   \n3     ['O', 'O', 'O', 'B-NAME_STUDENT', 'I-NAME_STUD...   \n4     ['O', 'O', 'O', 'B-NAME_STUDENT', 'I-NAME_STUD...   \n...                                                 ...   \n4429  ['O', 'O', 'B-NAME_STUDENT', 'I-NAME_STUDENT',...   \n4430  ['O', 'O', 'O', 'O', 'B-NAME_STUDENT', 'I-NAME...   \n4431  ['O', 'O', 'O', 'B-NAME_STUDENT', 'I-NAME_STUD...   \n4432  ['O', 'B-NAME_STUDENT', 'I-NAME_STUDENT', 'O',...   \n4433  ['O', 'O', 'B-NAME_STUDENT', 'I-NAME_STUDENT',...   \n\n                                                 prompt  prompt_id  \\\n0     \\r\\n    Aaliyah Popova is a jeweler with 13 ye...          1   \n1     \\r\\n    Konstantin Becker is a developer with ...          1   \n2     \\r\\n    Mieko Mitsubishi is a account manager....          3   \n3     \\r\\n    Kazuo Sun is a air traffic controller ...          1   \n4     \\r\\n    Arina Sun is a dental hygienist. Write...          3   \n...                                                 ...        ...   \n4429  \\r\\n    Write a fictional semi-formal biograph...          0   \n4430  \\r\\n    Alexey Novikov is a psychologist. Writ...          3   \n4431  \\r\\n    Write a fictional semi-formal biograph...          0   \n4432  \\r\\n    Tu Garcia is a dermatologist. Write ab...          2   \n4433  \\r\\n    Badi Nakamura is a programmer. Write a...          3   \n\n                   name                         email            phone  \\\n0        Aaliyah Popova    aaliyah.popova4783@aol.edu  (95) 94215-7906   \n1     Konstantin Becker   konstantin.becker@gmail.com     0475 4429797   \n2      Mieko Mitsubishi      mieko_mitsubishi@msn.org  +27 61 222 4762   \n3             Kazuo Sun          kazuosun@hotmail.net     0304 2215930   \n4             Arina Sun           arina-sun@gmail.net     0412 1245924   \n...                 ...                           ...              ...   \n4429     Nicholas Moore  nicholas_moore8047@yahoo.gov  +91-63720 22261   \n4430     Alexey Novikov        alexey.novikov@msn.gov    0264 828 4342   \n4431      Ludmila Inoue     ludmila_inoue@outlook.net   (285) 815-7373   \n4432          Tu Garcia          tugarcia@outlook.com  +91-14426 83047   \n4433      Badi Nakamura        badinakamura@gmail.org  +27 28 442 9100   \n\n                         job                       address  username  \\\n0                    jeweler             97 Lincoln Street       NaN   \n1                  developer            826 Webster Street       NaN   \n2            account manager   1309 Southwest 71st Terrace       NaN   \n3     air traffic controller   736 Sicard Street Southeast       NaN   \n4           dental hygienist        5701 North 67th Avenue       NaN   \n...                      ...                           ...       ...   \n4429            videographer  35915 Patrick Mews Suite 978   n.moore   \n4430            psychologist                161 Creek Road       NaN   \n4431               physician             706 Seagrove Road       NaN   \n4432           dermatologist              1677 Anthony Run  t.garcia   \n4433              programmer           2703 Woolsey Street       NaN   \n\n                            url            hobby  len  \n0                           NaN       Podcasting  363  \n1                           NaN         Quilting  255  \n2                           NaN  Metal detecting  259  \n3                           NaN    Amateur radio  281  \n4                           NaN          Related  210  \n...                         ...              ...  ...  \n4429     https://www.nmoore.org          Surfing  360  \n4430                        NaN        Gardening  248  \n4431                        NaN         Quilting  445  \n4432  http://blog.tu-garcia.edu           Skiing  320  \n4433                        NaN      Ice skating  176  \n\n[4434 rows x 16 columns]",
      "text/html": "<div>\n<style scoped>\n    .dataframe tbody tr th:only-of-type {\n        vertical-align: middle;\n    }\n\n    .dataframe tbody tr th {\n        vertical-align: top;\n    }\n\n    .dataframe thead th {\n        text-align: right;\n    }\n</style>\n<table border=\"1\" class=\"dataframe\">\n  <thead>\n    <tr style=\"text-align: right;\">\n      <th></th>\n      <th>document</th>\n      <th>text</th>\n      <th>tokens</th>\n      <th>trailing_whitespace</th>\n      <th>labels</th>\n      <th>prompt</th>\n      <th>prompt_id</th>\n      <th>name</th>\n      <th>email</th>\n      <th>phone</th>\n      <th>job</th>\n      <th>address</th>\n      <th>username</th>\n      <th>url</th>\n      <th>hobby</th>\n      <th>len</th>\n    </tr>\n  </thead>\n  <tbody>\n    <tr>\n      <th>0</th>\n      <td>1073d46f-2241-459b-ab01-851be8d26436</td>\n      <td>My name is Aaliyah Popova, and I am a jeweler ...</td>\n      <td>['My', 'name', 'is', 'Aaliyah', 'Popova,', 'an...</td>\n      <td>[True, True, True, True, True, True, True, Tru...</td>\n      <td>['O', 'O', 'O', 'B-NAME_STUDENT', 'I-NAME_STUD...</td>\n      <td>\\r\\n    Aaliyah Popova is a jeweler with 13 ye...</td>\n      <td>1</td>\n      <td>Aaliyah Popova</td>\n      <td>aaliyah.popova4783@aol.edu</td>\n      <td>(95) 94215-7906</td>\n      <td>jeweler</td>\n      <td>97 Lincoln Street</td>\n      <td>NaN</td>\n      <td>NaN</td>\n      <td>Podcasting</td>\n      <td>363</td>\n    </tr>\n    <tr>\n      <th>1</th>\n      <td>5ec717a9-17ee-48cd-9d76-30ae256c9354</td>\n      <td>My name is Konstantin Becker, and I'm a develo...</td>\n      <td>['My', 'name', 'is', 'Konstantin', 'Becker,', ...</td>\n      <td>[True, True, True, True, True, True, True, Tru...</td>\n      <td>['O', 'O', 'O', 'B-NAME_STUDENT', 'I-NAME_STUD...</td>\n      <td>\\r\\n    Konstantin Becker is a developer with ...</td>\n      <td>1</td>\n      <td>Konstantin Becker</td>\n      <td>konstantin.becker@gmail.com</td>\n      <td>0475 4429797</td>\n      <td>developer</td>\n      <td>826 Webster Street</td>\n      <td>NaN</td>\n      <td>NaN</td>\n      <td>Quilting</td>\n      <td>255</td>\n    </tr>\n    <tr>\n      <th>2</th>\n      <td>353da41e-7799-4071-ab20-d959b362612e</td>\n      <td>As Mieko Mitsubishi, an account manager at a p...</td>\n      <td>['As', 'Mieko', 'Mitsubishi,', 'an', 'account'...</td>\n      <td>[True, True, True, True, True, True, True, Tru...</td>\n      <td>['O', 'B-NAME_STUDENT', 'I-NAME_STUDENT', 'O',...</td>\n      <td>\\r\\n    Mieko Mitsubishi is a account manager....</td>\n      <td>3</td>\n      <td>Mieko Mitsubishi</td>\n      <td>mieko_mitsubishi@msn.org</td>\n      <td>+27 61 222 4762</td>\n      <td>account manager</td>\n      <td>1309 Southwest 71st Terrace</td>\n      <td>NaN</td>\n      <td>NaN</td>\n      <td>Metal detecting</td>\n      <td>259</td>\n    </tr>\n    <tr>\n      <th>3</th>\n      <td>9324ee01-7bdc-41b1-a7a5-01307f72c20d</td>\n      <td>My name is Kazuo Sun, and I'm an air traffic c...</td>\n      <td>['My', 'name', 'is', 'Kazuo', 'Sun,', 'and', \"...</td>\n      <td>[True, True, True, True, True, True, True, Tru...</td>\n      <td>['O', 'O', 'O', 'B-NAME_STUDENT', 'I-NAME_STUD...</td>\n      <td>\\r\\n    Kazuo Sun is a air traffic controller ...</td>\n      <td>1</td>\n      <td>Kazuo Sun</td>\n      <td>kazuosun@hotmail.net</td>\n      <td>0304 2215930</td>\n      <td>air traffic controller</td>\n      <td>736 Sicard Street Southeast</td>\n      <td>NaN</td>\n      <td>NaN</td>\n      <td>Amateur radio</td>\n      <td>281</td>\n    </tr>\n    <tr>\n      <th>4</th>\n      <td>971fe266-2739-4f1b-979b-7f64e07d5a4a</td>\n      <td>My name is Arina Sun, and I'm a dental hygieni...</td>\n      <td>['My', 'name', 'is', 'Arina', 'Sun,', 'and', \"...</td>\n      <td>[True, True, True, True, True, True, True, Tru...</td>\n      <td>['O', 'O', 'O', 'B-NAME_STUDENT', 'I-NAME_STUD...</td>\n      <td>\\r\\n    Arina Sun is a dental hygienist. Write...</td>\n      <td>3</td>\n      <td>Arina Sun</td>\n      <td>arina-sun@gmail.net</td>\n      <td>0412 1245924</td>\n      <td>dental hygienist</td>\n      <td>5701 North 67th Avenue</td>\n      <td>NaN</td>\n      <td>NaN</td>\n      <td>Related</td>\n      <td>210</td>\n    </tr>\n    <tr>\n      <th>...</th>\n      <td>...</td>\n      <td>...</td>\n      <td>...</td>\n      <td>...</td>\n      <td>...</td>\n      <td>...</td>\n      <td>...</td>\n      <td>...</td>\n      <td>...</td>\n      <td>...</td>\n      <td>...</td>\n      <td>...</td>\n      <td>...</td>\n      <td>...</td>\n      <td>...</td>\n      <td>...</td>\n    </tr>\n    <tr>\n      <th>4429</th>\n      <td>a90b6b71-0e77-4089-a3a4-9a5b5c5aec78</td>\n      <td>Hello, I'm Nicholas Moore, a man with a rich t...</td>\n      <td>['Hello,', \"I'm\", 'Nicholas', 'Moore,', 'a', '...</td>\n      <td>[True, True, True, True, True, True, True, Tru...</td>\n      <td>['O', 'O', 'B-NAME_STUDENT', 'I-NAME_STUDENT',...</td>\n      <td>\\r\\n    Write a fictional semi-formal biograph...</td>\n      <td>0</td>\n      <td>Nicholas Moore</td>\n      <td>nicholas_moore8047@yahoo.gov</td>\n      <td>+91-63720 22261</td>\n      <td>videographer</td>\n      <td>35915 Patrick Mews Suite 978</td>\n      <td>n.moore</td>\n      <td>https://www.nmoore.org</td>\n      <td>Surfing</td>\n      <td>360</td>\n    </tr>\n    <tr>\n      <th>4430</th>\n      <td>1492ed0e-f162-424f-9c40-f3edde790ca1</td>\n      <td>Hello, my name is Alexey Novikov and I'm a psy...</td>\n      <td>['Hello,', 'my', 'name', 'is', 'Alexey', 'Novi...</td>\n      <td>[True, True, True, True, True, True, True, Tru...</td>\n      <td>['O', 'O', 'O', 'O', 'B-NAME_STUDENT', 'I-NAME...</td>\n      <td>\\r\\n    Alexey Novikov is a psychologist. Writ...</td>\n      <td>3</td>\n      <td>Alexey Novikov</td>\n      <td>alexey.novikov@msn.gov</td>\n      <td>0264 828 4342</td>\n      <td>psychologist</td>\n      <td>161 Creek Road</td>\n      <td>NaN</td>\n      <td>NaN</td>\n      <td>Gardening</td>\n      <td>248</td>\n    </tr>\n    <tr>\n      <th>4431</th>\n      <td>57ef34c1-48db-4413-9573-774021e57f63</td>\n      <td>My name is Ludmila Inoue, and I'm a person wit...</td>\n      <td>['My', 'name', 'is', 'Ludmila', 'Inoue,', 'and...</td>\n      <td>[True, True, True, True, True, True, True, Tru...</td>\n      <td>['O', 'O', 'O', 'B-NAME_STUDENT', 'I-NAME_STUD...</td>\n      <td>\\r\\n    Write a fictional semi-formal biograph...</td>\n      <td>0</td>\n      <td>Ludmila Inoue</td>\n      <td>ludmila_inoue@outlook.net</td>\n      <td>(285) 815-7373</td>\n      <td>physician</td>\n      <td>706 Seagrove Road</td>\n      <td>NaN</td>\n      <td>NaN</td>\n      <td>Quilting</td>\n      <td>445</td>\n    </tr>\n    <tr>\n      <th>4432</th>\n      <td>a4486627-1c62-48b0-bf4f-53259ecc0a28</td>\n      <td>Dr. Tu Garcia, a renowned dermatologist, embar...</td>\n      <td>['Dr.', 'Tu', 'Garcia,', 'a', 'renowned', 'der...</td>\n      <td>[True, True, True, True, True, True, True, Tru...</td>\n      <td>['O', 'B-NAME_STUDENT', 'I-NAME_STUDENT', 'O',...</td>\n      <td>\\r\\n    Tu Garcia is a dermatologist. Write ab...</td>\n      <td>2</td>\n      <td>Tu Garcia</td>\n      <td>tugarcia@outlook.com</td>\n      <td>+91-14426 83047</td>\n      <td>dermatologist</td>\n      <td>1677 Anthony Run</td>\n      <td>t.garcia</td>\n      <td>http://blog.tu-garcia.edu</td>\n      <td>Skiing</td>\n      <td>320</td>\n    </tr>\n    <tr>\n      <th>4433</th>\n      <td>3f580963-3dbf-4c2f-95c1-16b7c8697d4b</td>\n      <td>Hello, I'm Badi Nakamura, and I work as a prog...</td>\n      <td>['Hello,', \"I'm\", 'Badi', 'Nakamura,', 'and', ...</td>\n      <td>[True, True, True, True, True, True, True, Tru...</td>\n      <td>['O', 'O', 'B-NAME_STUDENT', 'I-NAME_STUDENT',...</td>\n      <td>\\r\\n    Badi Nakamura is a programmer. Write a...</td>\n      <td>3</td>\n      <td>Badi Nakamura</td>\n      <td>badinakamura@gmail.org</td>\n      <td>+27 28 442 9100</td>\n      <td>programmer</td>\n      <td>2703 Woolsey Street</td>\n      <td>NaN</td>\n      <td>NaN</td>\n      <td>Ice skating</td>\n      <td>176</td>\n    </tr>\n  </tbody>\n</table>\n<p>4434 rows × 16 columns</p>\n</div>"
     },
     "execution_count": 225,
     "metadata": {},
     "output_type": "execute_result"
    }
   ],
   "source": [
    "df_ext4_pii_ds = pd.read_csv(\"../Datasets/External/pii_dataset.csv\")\n",
    "df_ext4_pii_ds"
   ],
   "metadata": {
    "collapsed": false,
    "ExecuteTime": {
     "end_time": "2024-02-05T00:14:34.468084700Z",
     "start_time": "2024-02-05T00:14:34.216500900Z"
    }
   },
   "id": "d575282e40a23134",
   "execution_count": 225
  },
  {
   "cell_type": "code",
   "outputs": [
    {
     "data": {
      "text/plain": "                                                   text  \\\n0     My name is Aaliyah Popova, and I am a jeweler ...   \n1     My name is Konstantin Becker, and I'm a develo...   \n2     As Mieko Mitsubishi, an account manager at a p...   \n3     My name is Kazuo Sun, and I'm an air traffic c...   \n4     My name is Arina Sun, and I'm a dental hygieni...   \n...                                                 ...   \n4429  Hello, I'm Nicholas Moore, a man with a rich t...   \n4430  Hello, my name is Alexey Novikov and I'm a psy...   \n4431  My name is Ludmila Inoue, and I'm a person wit...   \n4432  Dr. Tu Garcia, a renowned dermatologist, embar...   \n4433  Hello, I'm Badi Nakamura, and I work as a prog...   \n\n                                                 tokens  \\\n0     ['My', 'name', 'is', 'Aaliyah', 'Popova,', 'an...   \n1     ['My', 'name', 'is', 'Konstantin', 'Becker,', ...   \n2     ['As', 'Mieko', 'Mitsubishi,', 'an', 'account'...   \n3     ['My', 'name', 'is', 'Kazuo', 'Sun,', 'and', \"...   \n4     ['My', 'name', 'is', 'Arina', 'Sun,', 'and', \"...   \n...                                                 ...   \n4429  ['Hello,', \"I'm\", 'Nicholas', 'Moore,', 'a', '...   \n4430  ['Hello,', 'my', 'name', 'is', 'Alexey', 'Novi...   \n4431  ['My', 'name', 'is', 'Ludmila', 'Inoue,', 'and...   \n4432  ['Dr.', 'Tu', 'Garcia,', 'a', 'renowned', 'der...   \n4433  ['Hello,', \"I'm\", 'Badi', 'Nakamura,', 'and', ...   \n\n                                    trailing_whitespace  \\\n0     [True, True, True, True, True, True, True, Tru...   \n1     [True, True, True, True, True, True, True, Tru...   \n2     [True, True, True, True, True, True, True, Tru...   \n3     [True, True, True, True, True, True, True, Tru...   \n4     [True, True, True, True, True, True, True, Tru...   \n...                                                 ...   \n4429  [True, True, True, True, True, True, True, Tru...   \n4430  [True, True, True, True, True, True, True, Tru...   \n4431  [True, True, True, True, True, True, True, Tru...   \n4432  [True, True, True, True, True, True, True, Tru...   \n4433  [True, True, True, True, True, True, True, Tru...   \n\n                                                 labels  len  \n0     ['O', 'O', 'O', 'B-NAME_STUDENT', 'I-NAME_STUD...  363  \n1     ['O', 'O', 'O', 'B-NAME_STUDENT', 'I-NAME_STUD...  255  \n2     ['O', 'B-NAME_STUDENT', 'I-NAME_STUDENT', 'O',...  259  \n3     ['O', 'O', 'O', 'B-NAME_STUDENT', 'I-NAME_STUD...  281  \n4     ['O', 'O', 'O', 'B-NAME_STUDENT', 'I-NAME_STUD...  210  \n...                                                 ...  ...  \n4429  ['O', 'O', 'B-NAME_STUDENT', 'I-NAME_STUDENT',...  360  \n4430  ['O', 'O', 'O', 'O', 'B-NAME_STUDENT', 'I-NAME...  248  \n4431  ['O', 'O', 'O', 'B-NAME_STUDENT', 'I-NAME_STUD...  445  \n4432  ['O', 'B-NAME_STUDENT', 'I-NAME_STUDENT', 'O',...  320  \n4433  ['O', 'O', 'B-NAME_STUDENT', 'I-NAME_STUDENT',...  176  \n\n[4434 rows x 5 columns]",
      "text/html": "<div>\n<style scoped>\n    .dataframe tbody tr th:only-of-type {\n        vertical-align: middle;\n    }\n\n    .dataframe tbody tr th {\n        vertical-align: top;\n    }\n\n    .dataframe thead th {\n        text-align: right;\n    }\n</style>\n<table border=\"1\" class=\"dataframe\">\n  <thead>\n    <tr style=\"text-align: right;\">\n      <th></th>\n      <th>text</th>\n      <th>tokens</th>\n      <th>trailing_whitespace</th>\n      <th>labels</th>\n      <th>len</th>\n    </tr>\n  </thead>\n  <tbody>\n    <tr>\n      <th>0</th>\n      <td>My name is Aaliyah Popova, and I am a jeweler ...</td>\n      <td>['My', 'name', 'is', 'Aaliyah', 'Popova,', 'an...</td>\n      <td>[True, True, True, True, True, True, True, Tru...</td>\n      <td>['O', 'O', 'O', 'B-NAME_STUDENT', 'I-NAME_STUD...</td>\n      <td>363</td>\n    </tr>\n    <tr>\n      <th>1</th>\n      <td>My name is Konstantin Becker, and I'm a develo...</td>\n      <td>['My', 'name', 'is', 'Konstantin', 'Becker,', ...</td>\n      <td>[True, True, True, True, True, True, True, Tru...</td>\n      <td>['O', 'O', 'O', 'B-NAME_STUDENT', 'I-NAME_STUD...</td>\n      <td>255</td>\n    </tr>\n    <tr>\n      <th>2</th>\n      <td>As Mieko Mitsubishi, an account manager at a p...</td>\n      <td>['As', 'Mieko', 'Mitsubishi,', 'an', 'account'...</td>\n      <td>[True, True, True, True, True, True, True, Tru...</td>\n      <td>['O', 'B-NAME_STUDENT', 'I-NAME_STUDENT', 'O',...</td>\n      <td>259</td>\n    </tr>\n    <tr>\n      <th>3</th>\n      <td>My name is Kazuo Sun, and I'm an air traffic c...</td>\n      <td>['My', 'name', 'is', 'Kazuo', 'Sun,', 'and', \"...</td>\n      <td>[True, True, True, True, True, True, True, Tru...</td>\n      <td>['O', 'O', 'O', 'B-NAME_STUDENT', 'I-NAME_STUD...</td>\n      <td>281</td>\n    </tr>\n    <tr>\n      <th>4</th>\n      <td>My name is Arina Sun, and I'm a dental hygieni...</td>\n      <td>['My', 'name', 'is', 'Arina', 'Sun,', 'and', \"...</td>\n      <td>[True, True, True, True, True, True, True, Tru...</td>\n      <td>['O', 'O', 'O', 'B-NAME_STUDENT', 'I-NAME_STUD...</td>\n      <td>210</td>\n    </tr>\n    <tr>\n      <th>...</th>\n      <td>...</td>\n      <td>...</td>\n      <td>...</td>\n      <td>...</td>\n      <td>...</td>\n    </tr>\n    <tr>\n      <th>4429</th>\n      <td>Hello, I'm Nicholas Moore, a man with a rich t...</td>\n      <td>['Hello,', \"I'm\", 'Nicholas', 'Moore,', 'a', '...</td>\n      <td>[True, True, True, True, True, True, True, Tru...</td>\n      <td>['O', 'O', 'B-NAME_STUDENT', 'I-NAME_STUDENT',...</td>\n      <td>360</td>\n    </tr>\n    <tr>\n      <th>4430</th>\n      <td>Hello, my name is Alexey Novikov and I'm a psy...</td>\n      <td>['Hello,', 'my', 'name', 'is', 'Alexey', 'Novi...</td>\n      <td>[True, True, True, True, True, True, True, Tru...</td>\n      <td>['O', 'O', 'O', 'O', 'B-NAME_STUDENT', 'I-NAME...</td>\n      <td>248</td>\n    </tr>\n    <tr>\n      <th>4431</th>\n      <td>My name is Ludmila Inoue, and I'm a person wit...</td>\n      <td>['My', 'name', 'is', 'Ludmila', 'Inoue,', 'and...</td>\n      <td>[True, True, True, True, True, True, True, Tru...</td>\n      <td>['O', 'O', 'O', 'B-NAME_STUDENT', 'I-NAME_STUD...</td>\n      <td>445</td>\n    </tr>\n    <tr>\n      <th>4432</th>\n      <td>Dr. Tu Garcia, a renowned dermatologist, embar...</td>\n      <td>['Dr.', 'Tu', 'Garcia,', 'a', 'renowned', 'der...</td>\n      <td>[True, True, True, True, True, True, True, Tru...</td>\n      <td>['O', 'B-NAME_STUDENT', 'I-NAME_STUDENT', 'O',...</td>\n      <td>320</td>\n    </tr>\n    <tr>\n      <th>4433</th>\n      <td>Hello, I'm Badi Nakamura, and I work as a prog...</td>\n      <td>['Hello,', \"I'm\", 'Badi', 'Nakamura,', 'and', ...</td>\n      <td>[True, True, True, True, True, True, True, Tru...</td>\n      <td>['O', 'O', 'B-NAME_STUDENT', 'I-NAME_STUDENT',...</td>\n      <td>176</td>\n    </tr>\n  </tbody>\n</table>\n<p>4434 rows × 5 columns</p>\n</div>"
     },
     "execution_count": 228,
     "metadata": {},
     "output_type": "execute_result"
    }
   ],
   "source": [
    "df_ext4_pii_ds = df_ext4_pii_ds.drop(columns = ['document','prompt','prompt_id','name','email','phone','job','address','username','url','hobby'])\n",
    "df_ext4_pii_ds"
   ],
   "metadata": {
    "collapsed": false,
    "ExecuteTime": {
     "end_time": "2024-02-05T00:15:16.393849100Z",
     "start_time": "2024-02-05T00:15:16.370721500Z"
    }
   },
   "id": "e3a1e1bb7c832e6f",
   "execution_count": 228
  },
  {
   "cell_type": "code",
   "outputs": [
    {
     "data": {
      "text/plain": "Empty DataFrame\nColumns: [text, tokens, trailing_whitespace, labels, len]\nIndex: []",
      "text/html": "<div>\n<style scoped>\n    .dataframe tbody tr th:only-of-type {\n        vertical-align: middle;\n    }\n\n    .dataframe tbody tr th {\n        vertical-align: top;\n    }\n\n    .dataframe thead th {\n        text-align: right;\n    }\n</style>\n<table border=\"1\" class=\"dataframe\">\n  <thead>\n    <tr style=\"text-align: right;\">\n      <th></th>\n      <th>text</th>\n      <th>tokens</th>\n      <th>trailing_whitespace</th>\n      <th>labels</th>\n      <th>len</th>\n    </tr>\n  </thead>\n  <tbody>\n  </tbody>\n</table>\n</div>"
     },
     "execution_count": 229,
     "metadata": {},
     "output_type": "execute_result"
    }
   ],
   "source": [
    "df_ext4_pii_ds[df_ext4_pii_ds.isnull().any(axis = 1)]"
   ],
   "metadata": {
    "collapsed": false,
    "ExecuteTime": {
     "end_time": "2024-02-05T00:15:19.135673300Z",
     "start_time": "2024-02-05T00:15:19.121785800Z"
    }
   },
   "id": "1f84b967927ba49f",
   "execution_count": 229
  },
  {
   "cell_type": "code",
   "outputs": [
    {
     "data": {
      "text/plain": "      Unnamed: 0  document                                          full_text  \\\n0              0         7  Design Thinking for innovation reflexion-Avril...   \n1              1        10  Diego Estrada\\n\\nDesign Thinking Assignment\\n\\...   \n2              2        16  Reporting process\\n\\nby Gilberto Gamboa\\n\\nCha...   \n3              3        20  Design Thinking for Innovation\\n\\nSindy Samaca...   \n4              4        56  Assignment:  Visualization Reflection  Submitt...   \n...          ...       ...                                                ...   \n6802        6802     22678  EXAMPLE – JOURNEY MAP\\n\\nTHE CHALLENGE    My w...   \n6803        6803     22679  Why Mind Mapping?\\n\\nMind maps are graphical r...   \n6804        6804     22681  Challenge\\n\\nSo, a few months back, I had chos...   \n6805        6805     22684  Brainstorming\\n\\nChallenge & Selection\\n\\nBrai...   \n6806        6806     22687  Mind Mapping\\n\\nChallenge\\n\\nMy consulting tea...   \n\n                                                 tokens  \\\n0     ['Design', 'Thinking', 'for', 'innovation', 'r...   \n1     ['Diego', 'Estrada', '\\n\\n', 'Design', 'Thinki...   \n2     ['Reporting', 'process', '\\n\\n', 'by', 'Gilber...   \n3     ['Design', 'Thinking', 'for', 'Innovation', '\\...   \n4     ['Assignment', ':', '\\xa0 ', 'Visualization', ...   \n...                                                 ...   \n6802  ['EXAMPLE', '–', 'JOURNEY', 'MAP', '\\n\\n', 'TH...   \n6803  ['Why', 'Mind', 'Mapping', '?', '\\n\\n', 'Mind'...   \n6804  ['Challenge', '\\n\\n', 'So', ',', 'a', 'few', '...   \n6805  ['Brainstorming', '\\n\\n', 'Challenge', '&', 'S...   \n6806  ['Mind', 'Mapping', '\\n\\n', 'Challenge', '\\n\\n...   \n\n                                    trailing_whitespace  \\\n0     [True, True, True, True, False, False, True, F...   \n1     [True, False, False, True, True, False, False,...   \n2     [True, False, False, True, True, False, False,...   \n3     [True, True, True, False, False, True, False, ...   \n4     [False, False, False, False, False, False, Fal...   \n...                                                 ...   \n6802  [True, True, True, False, False, True, True, F...   \n6803  [True, True, False, False, False, True, True, ...   \n6804  [False, False, False, True, True, True, True, ...   \n6805  [False, False, True, True, False, False, True,...   \n6806  [True, False, False, False, False, True, True,...   \n\n                                              index_pii  \n0     [(9, 'B-NAME_STUDENT'), (10, 'I-NAME_STUDENT')...  \n1     [(0, 'B-NAME_STUDENT'), (1, 'I-NAME_STUDENT'),...  \n2        [(4, 'B-NAME_STUDENT'), (5, 'I-NAME_STUDENT')]  \n3        [(5, 'B-NAME_STUDENT'), (6, 'I-NAME_STUDENT')]  \n4      [(12, 'B-NAME_STUDENT'), (13, 'I-NAME_STUDENT')]  \n...                                                 ...  \n6802                                                 []  \n6803                                                 []  \n6804                                                 []  \n6805                                                 []  \n6806                                                 []  \n\n[6807 rows x 6 columns]",
      "text/html": "<div>\n<style scoped>\n    .dataframe tbody tr th:only-of-type {\n        vertical-align: middle;\n    }\n\n    .dataframe tbody tr th {\n        vertical-align: top;\n    }\n\n    .dataframe thead th {\n        text-align: right;\n    }\n</style>\n<table border=\"1\" class=\"dataframe\">\n  <thead>\n    <tr style=\"text-align: right;\">\n      <th></th>\n      <th>Unnamed: 0</th>\n      <th>document</th>\n      <th>full_text</th>\n      <th>tokens</th>\n      <th>trailing_whitespace</th>\n      <th>index_pii</th>\n    </tr>\n  </thead>\n  <tbody>\n    <tr>\n      <th>0</th>\n      <td>0</td>\n      <td>7</td>\n      <td>Design Thinking for innovation reflexion-Avril...</td>\n      <td>['Design', 'Thinking', 'for', 'innovation', 'r...</td>\n      <td>[True, True, True, True, False, False, True, F...</td>\n      <td>[(9, 'B-NAME_STUDENT'), (10, 'I-NAME_STUDENT')...</td>\n    </tr>\n    <tr>\n      <th>1</th>\n      <td>1</td>\n      <td>10</td>\n      <td>Diego Estrada\\n\\nDesign Thinking Assignment\\n\\...</td>\n      <td>['Diego', 'Estrada', '\\n\\n', 'Design', 'Thinki...</td>\n      <td>[True, False, False, True, True, False, False,...</td>\n      <td>[(0, 'B-NAME_STUDENT'), (1, 'I-NAME_STUDENT'),...</td>\n    </tr>\n    <tr>\n      <th>2</th>\n      <td>2</td>\n      <td>16</td>\n      <td>Reporting process\\n\\nby Gilberto Gamboa\\n\\nCha...</td>\n      <td>['Reporting', 'process', '\\n\\n', 'by', 'Gilber...</td>\n      <td>[True, False, False, True, True, False, False,...</td>\n      <td>[(4, 'B-NAME_STUDENT'), (5, 'I-NAME_STUDENT')]</td>\n    </tr>\n    <tr>\n      <th>3</th>\n      <td>3</td>\n      <td>20</td>\n      <td>Design Thinking for Innovation\\n\\nSindy Samaca...</td>\n      <td>['Design', 'Thinking', 'for', 'Innovation', '\\...</td>\n      <td>[True, True, True, False, False, True, False, ...</td>\n      <td>[(5, 'B-NAME_STUDENT'), (6, 'I-NAME_STUDENT')]</td>\n    </tr>\n    <tr>\n      <th>4</th>\n      <td>4</td>\n      <td>56</td>\n      <td>Assignment:  Visualization Reflection  Submitt...</td>\n      <td>['Assignment', ':', '\\xa0 ', 'Visualization', ...</td>\n      <td>[False, False, False, False, False, False, Fal...</td>\n      <td>[(12, 'B-NAME_STUDENT'), (13, 'I-NAME_STUDENT')]</td>\n    </tr>\n    <tr>\n      <th>...</th>\n      <td>...</td>\n      <td>...</td>\n      <td>...</td>\n      <td>...</td>\n      <td>...</td>\n      <td>...</td>\n    </tr>\n    <tr>\n      <th>6802</th>\n      <td>6802</td>\n      <td>22678</td>\n      <td>EXAMPLE – JOURNEY MAP\\n\\nTHE CHALLENGE    My w...</td>\n      <td>['EXAMPLE', '–', 'JOURNEY', 'MAP', '\\n\\n', 'TH...</td>\n      <td>[True, True, True, False, False, True, True, F...</td>\n      <td>[]</td>\n    </tr>\n    <tr>\n      <th>6803</th>\n      <td>6803</td>\n      <td>22679</td>\n      <td>Why Mind Mapping?\\n\\nMind maps are graphical r...</td>\n      <td>['Why', 'Mind', 'Mapping', '?', '\\n\\n', 'Mind'...</td>\n      <td>[True, True, False, False, False, True, True, ...</td>\n      <td>[]</td>\n    </tr>\n    <tr>\n      <th>6804</th>\n      <td>6804</td>\n      <td>22681</td>\n      <td>Challenge\\n\\nSo, a few months back, I had chos...</td>\n      <td>['Challenge', '\\n\\n', 'So', ',', 'a', 'few', '...</td>\n      <td>[False, False, False, True, True, True, True, ...</td>\n      <td>[]</td>\n    </tr>\n    <tr>\n      <th>6805</th>\n      <td>6805</td>\n      <td>22684</td>\n      <td>Brainstorming\\n\\nChallenge &amp; Selection\\n\\nBrai...</td>\n      <td>['Brainstorming', '\\n\\n', 'Challenge', '&amp;', 'S...</td>\n      <td>[False, False, True, True, False, False, True,...</td>\n      <td>[]</td>\n    </tr>\n    <tr>\n      <th>6806</th>\n      <td>6806</td>\n      <td>22687</td>\n      <td>Mind Mapping\\n\\nChallenge\\n\\nMy consulting tea...</td>\n      <td>['Mind', 'Mapping', '\\n\\n', 'Challenge', '\\n\\n...</td>\n      <td>[True, False, False, False, False, True, True,...</td>\n      <td>[]</td>\n    </tr>\n  </tbody>\n</table>\n<p>6807 rows × 6 columns</p>\n</div>"
     },
     "execution_count": 223,
     "metadata": {},
     "output_type": "execute_result"
    }
   ],
   "source": [
    "df_ext5_train_revised = pd.read_csv(\"../Datasets/External/train_df_con_list_index.csv\")\n",
    "df_ext5_train_revised"
   ],
   "metadata": {
    "collapsed": false,
    "ExecuteTime": {
     "end_time": "2024-02-05T00:09:00.781245100Z",
     "start_time": "2024-02-05T00:09:00.032428900Z"
    }
   },
   "id": "765f3e06aca3f3a2",
   "execution_count": 223
  },
  {
   "cell_type": "code",
   "outputs": [
    {
     "data": {
      "text/plain": "      document                                          full_text  \\\n0            7  Design Thinking for innovation reflexion-Avril...   \n1           10  Diego Estrada\\n\\nDesign Thinking Assignment\\n\\...   \n2           16  Reporting process\\n\\nby Gilberto Gamboa\\n\\nCha...   \n3           20  Design Thinking for Innovation\\n\\nSindy Samaca...   \n4           56  Assignment:  Visualization Reflection  Submitt...   \n...        ...                                                ...   \n6802     22678  EXAMPLE – JOURNEY MAP\\n\\nTHE CHALLENGE    My w...   \n6803     22679  Why Mind Mapping?\\n\\nMind maps are graphical r...   \n6804     22681  Challenge\\n\\nSo, a few months back, I had chos...   \n6805     22684  Brainstorming\\n\\nChallenge & Selection\\n\\nBrai...   \n6806     22687  Mind Mapping\\n\\nChallenge\\n\\nMy consulting tea...   \n\n                                                 tokens  \\\n0     ['Design', 'Thinking', 'for', 'innovation', 'r...   \n1     ['Diego', 'Estrada', '\\n\\n', 'Design', 'Thinki...   \n2     ['Reporting', 'process', '\\n\\n', 'by', 'Gilber...   \n3     ['Design', 'Thinking', 'for', 'Innovation', '\\...   \n4     ['Assignment', ':', '\\xa0 ', 'Visualization', ...   \n...                                                 ...   \n6802  ['EXAMPLE', '–', 'JOURNEY', 'MAP', '\\n\\n', 'TH...   \n6803  ['Why', 'Mind', 'Mapping', '?', '\\n\\n', 'Mind'...   \n6804  ['Challenge', '\\n\\n', 'So', ',', 'a', 'few', '...   \n6805  ['Brainstorming', '\\n\\n', 'Challenge', '&', 'S...   \n6806  ['Mind', 'Mapping', '\\n\\n', 'Challenge', '\\n\\n...   \n\n                                    trailing_whitespace  \\\n0     [True, True, True, True, False, False, True, F...   \n1     [True, False, False, True, True, False, False,...   \n2     [True, False, False, True, True, False, False,...   \n3     [True, True, True, False, False, True, False, ...   \n4     [False, False, False, False, False, False, Fal...   \n...                                                 ...   \n6802  [True, True, True, False, False, True, True, F...   \n6803  [True, True, False, False, False, True, True, ...   \n6804  [False, False, False, True, True, True, True, ...   \n6805  [False, False, True, True, False, False, True,...   \n6806  [True, False, False, False, False, True, True,...   \n\n                                              index_pii  \n0     [(9, 'B-NAME_STUDENT'), (10, 'I-NAME_STUDENT')...  \n1     [(0, 'B-NAME_STUDENT'), (1, 'I-NAME_STUDENT'),...  \n2        [(4, 'B-NAME_STUDENT'), (5, 'I-NAME_STUDENT')]  \n3        [(5, 'B-NAME_STUDENT'), (6, 'I-NAME_STUDENT')]  \n4      [(12, 'B-NAME_STUDENT'), (13, 'I-NAME_STUDENT')]  \n...                                                 ...  \n6802                                                 []  \n6803                                                 []  \n6804                                                 []  \n6805                                                 []  \n6806                                                 []  \n\n[6807 rows x 5 columns]",
      "text/html": "<div>\n<style scoped>\n    .dataframe tbody tr th:only-of-type {\n        vertical-align: middle;\n    }\n\n    .dataframe tbody tr th {\n        vertical-align: top;\n    }\n\n    .dataframe thead th {\n        text-align: right;\n    }\n</style>\n<table border=\"1\" class=\"dataframe\">\n  <thead>\n    <tr style=\"text-align: right;\">\n      <th></th>\n      <th>document</th>\n      <th>full_text</th>\n      <th>tokens</th>\n      <th>trailing_whitespace</th>\n      <th>index_pii</th>\n    </tr>\n  </thead>\n  <tbody>\n    <tr>\n      <th>0</th>\n      <td>7</td>\n      <td>Design Thinking for innovation reflexion-Avril...</td>\n      <td>['Design', 'Thinking', 'for', 'innovation', 'r...</td>\n      <td>[True, True, True, True, False, False, True, F...</td>\n      <td>[(9, 'B-NAME_STUDENT'), (10, 'I-NAME_STUDENT')...</td>\n    </tr>\n    <tr>\n      <th>1</th>\n      <td>10</td>\n      <td>Diego Estrada\\n\\nDesign Thinking Assignment\\n\\...</td>\n      <td>['Diego', 'Estrada', '\\n\\n', 'Design', 'Thinki...</td>\n      <td>[True, False, False, True, True, False, False,...</td>\n      <td>[(0, 'B-NAME_STUDENT'), (1, 'I-NAME_STUDENT'),...</td>\n    </tr>\n    <tr>\n      <th>2</th>\n      <td>16</td>\n      <td>Reporting process\\n\\nby Gilberto Gamboa\\n\\nCha...</td>\n      <td>['Reporting', 'process', '\\n\\n', 'by', 'Gilber...</td>\n      <td>[True, False, False, True, True, False, False,...</td>\n      <td>[(4, 'B-NAME_STUDENT'), (5, 'I-NAME_STUDENT')]</td>\n    </tr>\n    <tr>\n      <th>3</th>\n      <td>20</td>\n      <td>Design Thinking for Innovation\\n\\nSindy Samaca...</td>\n      <td>['Design', 'Thinking', 'for', 'Innovation', '\\...</td>\n      <td>[True, True, True, False, False, True, False, ...</td>\n      <td>[(5, 'B-NAME_STUDENT'), (6, 'I-NAME_STUDENT')]</td>\n    </tr>\n    <tr>\n      <th>4</th>\n      <td>56</td>\n      <td>Assignment:  Visualization Reflection  Submitt...</td>\n      <td>['Assignment', ':', '\\xa0 ', 'Visualization', ...</td>\n      <td>[False, False, False, False, False, False, Fal...</td>\n      <td>[(12, 'B-NAME_STUDENT'), (13, 'I-NAME_STUDENT')]</td>\n    </tr>\n    <tr>\n      <th>...</th>\n      <td>...</td>\n      <td>...</td>\n      <td>...</td>\n      <td>...</td>\n      <td>...</td>\n    </tr>\n    <tr>\n      <th>6802</th>\n      <td>22678</td>\n      <td>EXAMPLE – JOURNEY MAP\\n\\nTHE CHALLENGE    My w...</td>\n      <td>['EXAMPLE', '–', 'JOURNEY', 'MAP', '\\n\\n', 'TH...</td>\n      <td>[True, True, True, False, False, True, True, F...</td>\n      <td>[]</td>\n    </tr>\n    <tr>\n      <th>6803</th>\n      <td>22679</td>\n      <td>Why Mind Mapping?\\n\\nMind maps are graphical r...</td>\n      <td>['Why', 'Mind', 'Mapping', '?', '\\n\\n', 'Mind'...</td>\n      <td>[True, True, False, False, False, True, True, ...</td>\n      <td>[]</td>\n    </tr>\n    <tr>\n      <th>6804</th>\n      <td>22681</td>\n      <td>Challenge\\n\\nSo, a few months back, I had chos...</td>\n      <td>['Challenge', '\\n\\n', 'So', ',', 'a', 'few', '...</td>\n      <td>[False, False, False, True, True, True, True, ...</td>\n      <td>[]</td>\n    </tr>\n    <tr>\n      <th>6805</th>\n      <td>22684</td>\n      <td>Brainstorming\\n\\nChallenge &amp; Selection\\n\\nBrai...</td>\n      <td>['Brainstorming', '\\n\\n', 'Challenge', '&amp;', 'S...</td>\n      <td>[False, False, True, True, False, False, True,...</td>\n      <td>[]</td>\n    </tr>\n    <tr>\n      <th>6806</th>\n      <td>22687</td>\n      <td>Mind Mapping\\n\\nChallenge\\n\\nMy consulting tea...</td>\n      <td>['Mind', 'Mapping', '\\n\\n', 'Challenge', '\\n\\n...</td>\n      <td>[True, False, False, False, False, True, True,...</td>\n      <td>[]</td>\n    </tr>\n  </tbody>\n</table>\n<p>6807 rows × 5 columns</p>\n</div>"
     },
     "execution_count": 231,
     "metadata": {},
     "output_type": "execute_result"
    }
   ],
   "source": [
    "df_ext5_train_revised = df_ext5_train_revised.drop(columns = ['Unnamed: 0'])\n",
    "df_ext5_train_revised"
   ],
   "metadata": {
    "collapsed": false,
    "ExecuteTime": {
     "end_time": "2024-02-05T00:16:59.815917800Z",
     "start_time": "2024-02-05T00:16:59.802961100Z"
    }
   },
   "id": "a2cac3f44aa90f64",
   "execution_count": 231
  },
  {
   "cell_type": "code",
   "outputs": [
    {
     "data": {
      "text/plain": "Empty DataFrame\nColumns: [document, full_text, tokens, trailing_whitespace, index_pii]\nIndex: []",
      "text/html": "<div>\n<style scoped>\n    .dataframe tbody tr th:only-of-type {\n        vertical-align: middle;\n    }\n\n    .dataframe tbody tr th {\n        vertical-align: top;\n    }\n\n    .dataframe thead th {\n        text-align: right;\n    }\n</style>\n<table border=\"1\" class=\"dataframe\">\n  <thead>\n    <tr style=\"text-align: right;\">\n      <th></th>\n      <th>document</th>\n      <th>full_text</th>\n      <th>tokens</th>\n      <th>trailing_whitespace</th>\n      <th>index_pii</th>\n    </tr>\n  </thead>\n  <tbody>\n  </tbody>\n</table>\n</div>"
     },
     "execution_count": 232,
     "metadata": {},
     "output_type": "execute_result"
    }
   ],
   "source": [
    "df_ext5_train_revised[df_ext5_train_revised.isnull().any(axis = 1)]"
   ],
   "metadata": {
    "collapsed": false,
    "ExecuteTime": {
     "end_time": "2024-02-05T00:17:11.697610100Z",
     "start_time": "2024-02-05T00:17:11.659738400Z"
    }
   },
   "id": "8b5b66d0b33bc92b",
   "execution_count": 232
  },
  {
   "cell_type": "code",
   "outputs": [],
   "source": [],
   "metadata": {
    "collapsed": false
   },
   "id": "b0b03c08b64a1141"
  }
 ],
 "metadata": {
  "kernelspec": {
   "display_name": "Python 3 (ipykernel)",
   "language": "python",
   "name": "python3"
  },
  "language_info": {
   "codemirror_mode": {
    "name": "ipython",
    "version": 3
   },
   "file_extension": ".py",
   "mimetype": "text/x-python",
   "name": "python",
   "nbconvert_exporter": "python",
   "pygments_lexer": "ipython3",
   "version": "3.11.4"
  }
 },
 "nbformat": 4,
 "nbformat_minor": 5
}
