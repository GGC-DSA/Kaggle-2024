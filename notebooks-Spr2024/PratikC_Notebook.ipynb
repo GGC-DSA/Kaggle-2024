{
 "cells": [
  {
   "cell_type": "markdown",
   "source": [
    "# Loading and Cleaning Datasets"
   ],
   "metadata": {
    "collapsed": false
   },
   "id": "f81b8885e3011eb3"
  },
  {
   "cell_type": "code",
   "execution_count": 1,
   "id": "initial_id",
   "metadata": {
    "collapsed": true,
    "jupyter": {
     "outputs_hidden": true
    },
    "ExecuteTime": {
     "end_time": "2024-03-18T19:28:15.889558300Z",
     "start_time": "2024-03-18T19:28:09.358286Z"
    }
   },
   "outputs": [],
   "source": [
    "import pandas as pd\n",
    "import numpy as np\n",
    "import spacy as sp\n",
    "import re\n",
    "import os\n",
    "import transformers\n",
    "import torch\n",
    "import sklearn\n",
    "import matplotlib.pyplot as plt\n",
    "import seaborn as sns\n",
    "\n",
    "\n",
    "from sklearn.model_selection import train_test_split\n",
    "from sklearn.metrics import accuracy_score\n",
    "from sklearn.metrics import classification_report\n",
    "\n",
    "\n",
    "import torch.nn as nn\n",
    "from torch import cuda\n",
    "from torch.utils.data import Dataset, DataLoader\n",
    "\n",
    "from transformers import BertTokenizerFast, BertConfig, BertForTokenClassification, AutoTokenizer\n",
    "\n",
    "\n",
    "\n",
    "import warnings\n",
    "warnings.filterwarnings('ignore')"
   ]
  },
  {
   "cell_type": "markdown",
   "source": [
    "### Config"
   ],
   "metadata": {
    "collapsed": false
   },
   "id": "3dfee77c9be5d2a6"
  },
  {
   "cell_type": "code",
   "outputs": [],
   "source": [
    "class Config():\n",
    "    def __init__(self, platform, model_name, pretrained_model_name):\n",
    "        # platform = 'Kaggle'# \n",
    "        if platform == 'Kaggle':\n",
    "            pretrained_model = '../input/huggingface-bert/' + pretrained_model_name + '/'\n",
    "            train_path = 'path_TBD/train.json'\n",
    "            # test_path = ''\n",
    "            model_path = 'path_TBD/' + model_name\n",
    "        elif platform == 'local':\n",
    "            model_path = '../models/bert_models/' + model_name\n",
    "        \n",
    "        self.config = {\n",
    "            'MAX_LEN': 128,\n",
    "            'TRAIN_BATCH_SIZE': 4,\n",
    "            'VALID_BATCH_SIZE': 2,\n",
    "            'EPOCHS': 1,\n",
    "            'LEARNING_RATE':1e-5,\n",
    "            'MAX_GRAD_NORM': 10,\n",
    "            'device': 'cuda' if torch.cuda.is_available() else 'cpu',\n",
    "            # 'device': 'cpu',\n",
    "            'model_path': model_path,\n",
    "            'pretrained_model': pretrained_model_name,\n",
    "            'tokenizer': BertTokenizerFast.from_pretrained(pretrained_model_name)\n",
    "        }"
   ],
   "metadata": {
    "collapsed": false,
    "ExecuteTime": {
     "end_time": "2024-03-18T19:34:32.587887400Z",
     "start_time": "2024-03-18T19:34:32.565960100Z"
    }
   },
   "id": "7062051623aff236",
   "execution_count": 29
  },
  {
   "cell_type": "code",
   "outputs": [],
   "source": [
    "platform = 'local'\n",
    "pretrainend_model_name = 'bert-large-cased'\n",
    "model_num = 1\n",
    "model_name = 'model' + str(model_num) + '_' + pretrainend_model_name +'.bin'\n",
    "\n",
    "config = Config(platform,model_name, pretrainend_model_name).config"
   ],
   "metadata": {
    "collapsed": false,
    "ExecuteTime": {
     "end_time": "2024-03-18T19:34:37.741852100Z",
     "start_time": "2024-03-18T19:34:37.535079400Z"
    }
   },
   "id": "a96264d7db974254",
   "execution_count": 30
  },
  {
   "cell_type": "markdown",
   "source": [
    "Requires:\n",
    "```git lfs track \"*.safetensors\"```\n",
    "to clone model from github"
   ],
   "metadata": {
    "collapsed": false
   },
   "id": "24248673dd5d8573"
  },
  {
   "cell_type": "markdown",
   "source": [
    "If using IDE, Run \n",
    "```\n",
    "python -m spacy download en_core_web_sm\n",
    "```\n",
    "in the bash to install the english spacy pipline"
   ],
   "metadata": {
    "collapsed": false
   },
   "id": "b3a07f48d94a5870"
  },
  {
   "cell_type": "markdown",
   "source": [
    "## Official Datasets"
   ],
   "metadata": {
    "collapsed": false
   },
   "id": "e9086b614e399c7c"
  },
  {
   "cell_type": "markdown",
   "source": [
    "### Data and Exploration"
   ],
   "metadata": {
    "collapsed": false
   },
   "id": "fc60c15cf0c78d6e"
  },
  {
   "cell_type": "code",
   "execution_count": 31,
   "id": "3af5679c6eceac05",
   "metadata": {
    "collapsed": false,
    "ExecuteTime": {
     "end_time": "2024-03-18T19:34:41.800831300Z",
     "start_time": "2024-03-18T19:34:40.973840800Z"
    }
   },
   "outputs": [
    {
     "data": {
      "text/plain": "      document                                          full_text  \\\n0            7  Design Thinking for innovation reflexion-Avril...   \n1           10  Diego Estrada\\n\\nDesign Thinking Assignment\\n\\...   \n2           16  Reporting process\\n\\nby Gilberto Gamboa\\n\\nCha...   \n3           20  Design Thinking for Innovation\\n\\nSindy Samaca...   \n4           56  Assignment:  Visualization Reflection  Submitt...   \n...        ...                                                ...   \n6802     22678  EXAMPLE – JOURNEY MAP\\n\\nTHE CHALLENGE    My w...   \n6803     22679  Why Mind Mapping?\\n\\nMind maps are graphical r...   \n6804     22681  Challenge\\n\\nSo, a few months back, I had chos...   \n6805     22684  Brainstorming\\n\\nChallenge & Selection\\n\\nBrai...   \n6806     22687  Mind Mapping\\n\\nChallenge\\n\\nMy consulting tea...   \n\n                                                 tokens  \\\n0     [Design, Thinking, for, innovation, reflexion,...   \n1     [Diego, Estrada, \\n\\n, Design, Thinking, Assig...   \n2     [Reporting, process, \\n\\n, by, Gilberto, Gambo...   \n3     [Design, Thinking, for, Innovation, \\n\\n, Sind...   \n4     [Assignment, :,   , Visualization,  , Reflecti...   \n...                                                 ...   \n6802  [EXAMPLE, –, JOURNEY, MAP, \\n\\n, THE, CHALLENG...   \n6803  [Why, Mind, Mapping, ?, \\n\\n, Mind, maps, are,...   \n6804  [Challenge, \\n\\n, So, ,, a, few, months, back,...   \n6805  [Brainstorming, \\n\\n, Challenge, &, Selection,...   \n6806  [Mind, Mapping, \\n\\n, Challenge, \\n\\n, My, con...   \n\n                                    trailing_whitespace  \\\n0     [True, True, True, True, False, False, True, F...   \n1     [True, False, False, True, True, False, False,...   \n2     [True, False, False, True, True, False, False,...   \n3     [True, True, True, False, False, True, False, ...   \n4     [False, False, False, False, False, False, Fal...   \n...                                                 ...   \n6802  [True, True, True, False, False, True, True, F...   \n6803  [True, True, False, False, False, True, True, ...   \n6804  [False, False, False, True, True, True, True, ...   \n6805  [False, False, True, True, False, False, True,...   \n6806  [True, False, False, False, False, True, True,...   \n\n                                                 labels  \n0     [O, O, O, O, O, O, O, O, O, B-NAME_STUDENT, I-...  \n1     [B-NAME_STUDENT, I-NAME_STUDENT, O, O, O, O, O...  \n2     [O, O, O, O, B-NAME_STUDENT, I-NAME_STUDENT, O...  \n3     [O, O, O, O, O, B-NAME_STUDENT, I-NAME_STUDENT...  \n4     [O, O, O, O, O, O, O, O, O, O, O, O, B-NAME_ST...  \n...                                                 ...  \n6802  [O, O, O, O, O, O, O, O, O, O, O, O, O, O, O, ...  \n6803  [O, O, O, O, O, O, O, O, O, O, O, O, O, O, O, ...  \n6804  [O, O, O, O, O, O, O, O, O, O, O, O, O, O, O, ...  \n6805  [O, O, O, O, O, O, O, O, O, O, O, O, O, O, O, ...  \n6806  [O, O, O, O, O, O, O, O, O, O, O, O, O, O, O, ...  \n\n[6807 rows x 5 columns]",
      "text/html": "<div>\n<style scoped>\n    .dataframe tbody tr th:only-of-type {\n        vertical-align: middle;\n    }\n\n    .dataframe tbody tr th {\n        vertical-align: top;\n    }\n\n    .dataframe thead th {\n        text-align: right;\n    }\n</style>\n<table border=\"1\" class=\"dataframe\">\n  <thead>\n    <tr style=\"text-align: right;\">\n      <th></th>\n      <th>document</th>\n      <th>full_text</th>\n      <th>tokens</th>\n      <th>trailing_whitespace</th>\n      <th>labels</th>\n    </tr>\n  </thead>\n  <tbody>\n    <tr>\n      <th>0</th>\n      <td>7</td>\n      <td>Design Thinking for innovation reflexion-Avril...</td>\n      <td>[Design, Thinking, for, innovation, reflexion,...</td>\n      <td>[True, True, True, True, False, False, True, F...</td>\n      <td>[O, O, O, O, O, O, O, O, O, B-NAME_STUDENT, I-...</td>\n    </tr>\n    <tr>\n      <th>1</th>\n      <td>10</td>\n      <td>Diego Estrada\\n\\nDesign Thinking Assignment\\n\\...</td>\n      <td>[Diego, Estrada, \\n\\n, Design, Thinking, Assig...</td>\n      <td>[True, False, False, True, True, False, False,...</td>\n      <td>[B-NAME_STUDENT, I-NAME_STUDENT, O, O, O, O, O...</td>\n    </tr>\n    <tr>\n      <th>2</th>\n      <td>16</td>\n      <td>Reporting process\\n\\nby Gilberto Gamboa\\n\\nCha...</td>\n      <td>[Reporting, process, \\n\\n, by, Gilberto, Gambo...</td>\n      <td>[True, False, False, True, True, False, False,...</td>\n      <td>[O, O, O, O, B-NAME_STUDENT, I-NAME_STUDENT, O...</td>\n    </tr>\n    <tr>\n      <th>3</th>\n      <td>20</td>\n      <td>Design Thinking for Innovation\\n\\nSindy Samaca...</td>\n      <td>[Design, Thinking, for, Innovation, \\n\\n, Sind...</td>\n      <td>[True, True, True, False, False, True, False, ...</td>\n      <td>[O, O, O, O, O, B-NAME_STUDENT, I-NAME_STUDENT...</td>\n    </tr>\n    <tr>\n      <th>4</th>\n      <td>56</td>\n      <td>Assignment:  Visualization Reflection  Submitt...</td>\n      <td>[Assignment, :,   , Visualization,  , Reflecti...</td>\n      <td>[False, False, False, False, False, False, Fal...</td>\n      <td>[O, O, O, O, O, O, O, O, O, O, O, O, B-NAME_ST...</td>\n    </tr>\n    <tr>\n      <th>...</th>\n      <td>...</td>\n      <td>...</td>\n      <td>...</td>\n      <td>...</td>\n      <td>...</td>\n    </tr>\n    <tr>\n      <th>6802</th>\n      <td>22678</td>\n      <td>EXAMPLE – JOURNEY MAP\\n\\nTHE CHALLENGE    My w...</td>\n      <td>[EXAMPLE, –, JOURNEY, MAP, \\n\\n, THE, CHALLENG...</td>\n      <td>[True, True, True, False, False, True, True, F...</td>\n      <td>[O, O, O, O, O, O, O, O, O, O, O, O, O, O, O, ...</td>\n    </tr>\n    <tr>\n      <th>6803</th>\n      <td>22679</td>\n      <td>Why Mind Mapping?\\n\\nMind maps are graphical r...</td>\n      <td>[Why, Mind, Mapping, ?, \\n\\n, Mind, maps, are,...</td>\n      <td>[True, True, False, False, False, True, True, ...</td>\n      <td>[O, O, O, O, O, O, O, O, O, O, O, O, O, O, O, ...</td>\n    </tr>\n    <tr>\n      <th>6804</th>\n      <td>22681</td>\n      <td>Challenge\\n\\nSo, a few months back, I had chos...</td>\n      <td>[Challenge, \\n\\n, So, ,, a, few, months, back,...</td>\n      <td>[False, False, False, True, True, True, True, ...</td>\n      <td>[O, O, O, O, O, O, O, O, O, O, O, O, O, O, O, ...</td>\n    </tr>\n    <tr>\n      <th>6805</th>\n      <td>22684</td>\n      <td>Brainstorming\\n\\nChallenge &amp; Selection\\n\\nBrai...</td>\n      <td>[Brainstorming, \\n\\n, Challenge, &amp;, Selection,...</td>\n      <td>[False, False, True, True, False, False, True,...</td>\n      <td>[O, O, O, O, O, O, O, O, O, O, O, O, O, O, O, ...</td>\n    </tr>\n    <tr>\n      <th>6806</th>\n      <td>22687</td>\n      <td>Mind Mapping\\n\\nChallenge\\n\\nMy consulting tea...</td>\n      <td>[Mind, Mapping, \\n\\n, Challenge, \\n\\n, My, con...</td>\n      <td>[True, False, False, False, False, True, True,...</td>\n      <td>[O, O, O, O, O, O, O, O, O, O, O, O, O, O, O, ...</td>\n    </tr>\n  </tbody>\n</table>\n<p>6807 rows × 5 columns</p>\n</div>"
     },
     "execution_count": 31,
     "metadata": {},
     "output_type": "execute_result"
    }
   ],
   "source": [
    "df = pd.read_json(\"../Datasets/Official/train.json\")\n",
    "df"
   ]
  },
  {
   "cell_type": "code",
   "execution_count": 5,
   "id": "ee1a7591efc0b31c",
   "metadata": {
    "collapsed": false,
    "ExecuteTime": {
     "end_time": "2024-03-18T19:28:26.003128600Z",
     "start_time": "2024-03-18T19:28:25.981452900Z"
    }
   },
   "outputs": [],
   "source": [
    "# df[df.isnull().any(axis = 1)]"
   ]
  },
  {
   "cell_type": "code",
   "outputs": [
    {
     "data": {
      "text/plain": "<Figure size 640x480 with 1 Axes>",
      "image/png": "[encoded data removed]"
     },
     "metadata": {},
     "output_type": "display_data"
    }
   ],
   "source": [
    "from collections import Counter\n",
    "c = Counter()\n",
    "df.apply(lambda line: c.update(line.labels), axis = 1)\n",
    "c_pii = c.most_common()[1:]\n",
    "c_key, c_val = zip(*c_pii)\n",
    "plt.barh(c_key, c_val)\n",
    "plt.show()"
   ],
   "metadata": {
    "collapsed": false,
    "ExecuteTime": {
     "end_time": "2024-03-18T19:34:48.964022700Z",
     "start_time": "2024-03-18T19:34:48.733240100Z"
    }
   },
   "id": "ee442bede747650a",
   "execution_count": 32
  },
  {
   "cell_type": "code",
   "outputs": [
    {
     "data": {
      "text/plain": "[('B-NAME_STUDENT', 1365),\n ('I-NAME_STUDENT', 1096),\n ('B-URL_PERSONAL', 110),\n ('B-ID_NUM', 78),\n ('B-EMAIL', 39),\n ('I-STREET_ADDRESS', 20),\n ('I-PHONE_NUM', 15),\n ('B-USERNAME', 6),\n ('B-PHONE_NUM', 6),\n ('B-STREET_ADDRESS', 2),\n ('I-URL_PERSONAL', 1),\n ('I-ID_NUM', 1)]"
     },
     "execution_count": 7,
     "metadata": {},
     "output_type": "execute_result"
    }
   ],
   "source": [
    "c_pii"
   ],
   "metadata": {
    "collapsed": false,
    "ExecuteTime": {
     "end_time": "2024-03-18T19:28:28.850393700Z",
     "start_time": "2024-03-18T19:28:28.837436500Z"
    }
   },
   "id": "2c23501180b6e002",
   "execution_count": 7
  },
  {
   "cell_type": "code",
   "outputs": [
    {
     "data": {
      "text/plain": "{'O': 0,\n 'B-NAME_STUDENT': 1,\n 'I-NAME_STUDENT': 2,\n 'B-URL_PERSONAL': 3,\n 'B-EMAIL': 4,\n 'B-ID_NUM': 5,\n 'I-URL_PERSONAL': 6,\n 'B-USERNAME': 7,\n 'B-PHONE_NUM': 8,\n 'I-PHONE_NUM': 9,\n 'B-STREET_ADDRESS': 10,\n 'I-STREET_ADDRESS': 11,\n 'I-ID_NUM': 12}"
     },
     "execution_count": 38,
     "metadata": {},
     "output_type": "execute_result"
    }
   ],
   "source": [
    "labels_to_ids = {k: v for v, k in enumerate(c.keys())}\n",
    "ids_to_labels = {v: k for v, k in enumerate(c.keys())}\n",
    "labels_to_ids"
   ],
   "metadata": {
    "collapsed": false,
    "ExecuteTime": {
     "end_time": "2024-03-18T20:17:33.071979100Z",
     "start_time": "2024-03-18T20:17:33.048059400Z"
    }
   },
   "id": "62ab85169679d280",
   "execution_count": 38
  },
  {
   "cell_type": "markdown",
   "source": [
    "Can look at distribution of position of each PII; use counter as frequency table and plot hist"
   ],
   "metadata": {
    "collapsed": false
   },
   "id": "da245ccd31eb7d61"
  },
  {
   "cell_type": "code",
   "outputs": [],
   "source": [
    "c2 = Counter()\n",
    "df.apply(lambda line: c.update(line.labels), axis = 1)"
   ],
   "metadata": {
    "collapsed": false
   },
   "id": "b5e59f945732b47e"
  },
  {
   "cell_type": "code",
   "outputs": [],
   "source": [
    "# entities_to_remove = [\"I-ID_NUM\", \"I-URL_Personal\", \"B-STREET_ADDRESS\", \"B-PHONE_NUM\", \"B-USERNAME\"]\n",
    "# data = data[~data.Tag.isin(entities_to_remove)]\n",
    "# data.head()"
   ],
   "metadata": {
    "collapsed": false,
    "ExecuteTime": {
     "end_time": "2024-03-18T19:28:30.847503900Z",
     "start_time": "2024-03-18T19:28:30.822586600Z"
    }
   },
   "id": "819f8c3d9a51a635",
   "execution_count": 8
  },
  {
   "cell_type": "markdown",
   "source": [
    "figure how to do without tokenizer"
   ],
   "metadata": {
    "collapsed": false
   },
   "id": "bee3963f8c320d8f"
  },
  {
   "cell_type": "code",
   "outputs": [],
   "source": [
    "# token_counts = []\n",
    "# for _, row in df_train.iterrows():\n",
    "#     token_count = len(tokenizer.encode(\n",
    "#         row[\"full_text\"],\n",
    "#         max_length=2048,\n",
    "#         truncation=True\n",
    "#     ))\n",
    "#     token_counts.append(token_count)\n",
    "# sns.histplot(token_counts)\n",
    "# # plt.xlim([0, 512]);"
   ],
   "metadata": {
    "collapsed": false,
    "ExecuteTime": {
     "end_time": "2024-03-10T23:58:50.094117800Z",
     "start_time": "2024-03-10T23:58:50.031328Z"
    }
   },
   "id": "2cee272608980d7f",
   "execution_count": 109
  },
  {
   "cell_type": "markdown",
   "source": [
    "### Preprocessing"
   ],
   "metadata": {
    "collapsed": false
   },
   "id": "c129aa100c95f41a"
  },
  {
   "cell_type": "code",
   "outputs": [
    {
     "data": {
      "text/plain": "0.06184809754664311"
     },
     "execution_count": 20,
     "metadata": {},
     "output_type": "execute_result"
    }
   ],
   "source": [
    "df_usable = df.iloc[df[~(df.tokens.apply(len) != df.labels.apply(len))].index]\n",
    "1-(len(df_usable.index))/len(df.index)"
   ],
   "metadata": {
    "collapsed": false,
    "ExecuteTime": {
     "end_time": "2024-03-18T19:32:14.694239200Z",
     "start_time": "2024-03-18T19:32:14.642413100Z"
    }
   },
   "id": "8656f9d1ec24988c",
   "execution_count": 20
  },
  {
   "cell_type": "code",
   "outputs": [],
   "source": [
    "pattern = re.compile('\\xa0|\\uf0b7|\\u200b')\n",
    "df_usable.loc[:,'full_text'] = df_usable.loc[:,'full_text'].replace(pattern, ' ')\n",
    "df_usable.loc[:,'tokens'] = df_usable.loc[:,'tokens'].apply(lambda line: [tok for tok in line if not re.search(pattern,tok)])"
   ],
   "metadata": {
    "collapsed": false,
    "ExecuteTime": {
     "end_time": "2024-03-18T19:32:23.044659300Z",
     "start_time": "2024-03-18T19:32:19.622714500Z"
    }
   },
   "id": "cb746d6a26f36293",
   "execution_count": 21
  },
  {
   "cell_type": "code",
   "outputs": [
    {
     "data": {
      "text/plain": "      document                                          full_text  \\\n0            7  Design Thinking for innovation reflexion-Avril...   \n1           10  Diego Estrada\\n\\nDesign Thinking Assignment\\n\\...   \n2           16  Reporting process\\n\\nby Gilberto Gamboa\\n\\nCha...   \n3           20  Design Thinking for Innovation\\n\\nSindy Samaca...   \n6           93  Silvia Villalobos\\n\\nChallenge:\\n\\nThere is a ...   \n...        ...                                                ...   \n6802     22678  EXAMPLE – JOURNEY MAP\\n\\nTHE CHALLENGE    My w...   \n6803     22679  Why Mind Mapping?\\n\\nMind maps are graphical r...   \n6804     22681  Challenge\\n\\nSo, a few months back, I had chos...   \n6805     22684  Brainstorming\\n\\nChallenge & Selection\\n\\nBrai...   \n6806     22687  Mind Mapping\\n\\nChallenge\\n\\nMy consulting tea...   \n\n                                                 tokens  \\\n0     [Design, Thinking, for, innovation, reflexion,...   \n1     [Diego, Estrada, \\n\\n, Design, Thinking, Assig...   \n2     [Reporting, process, \\n\\n, by, Gilberto, Gambo...   \n3     [Design, Thinking, for, Innovation, \\n\\n, Sind...   \n6     [Silvia, Villalobos, \\n\\n, Challenge, :, \\n\\n,...   \n...                                                 ...   \n6802  [EXAMPLE, –, JOURNEY, MAP, \\n\\n, THE, CHALLENG...   \n6803  [Why, Mind, Mapping, ?, \\n\\n, Mind, maps, are,...   \n6804  [Challenge, \\n\\n, So, ,, a, few, months, back,...   \n6805  [Brainstorming, \\n\\n, Challenge, &, Selection,...   \n6806  [Mind, Mapping, \\n\\n, Challenge, \\n\\n, My, con...   \n\n                                    trailing_whitespace  \\\n0     [True, True, True, True, False, False, True, F...   \n1     [True, False, False, True, True, False, False,...   \n2     [True, False, False, True, True, False, False,...   \n3     [True, True, True, False, False, True, False, ...   \n6     [True, False, False, False, False, False, True...   \n...                                                 ...   \n6802  [True, True, True, False, False, True, True, F...   \n6803  [True, True, False, False, False, True, True, ...   \n6804  [False, False, False, True, True, True, True, ...   \n6805  [False, False, True, True, False, False, True,...   \n6806  [True, False, False, False, False, True, True,...   \n\n                                                 labels  \n0     [O, O, O, O, O, O, O, O, O, B-NAME_STUDENT, I-...  \n1     [B-NAME_STUDENT, I-NAME_STUDENT, O, O, O, O, O...  \n2     [O, O, O, O, B-NAME_STUDENT, I-NAME_STUDENT, O...  \n3     [O, O, O, O, O, B-NAME_STUDENT, I-NAME_STUDENT...  \n6     [B-NAME_STUDENT, I-NAME_STUDENT, O, O, O, O, O...  \n...                                                 ...  \n6802  [O, O, O, O, O, O, O, O, O, O, O, O, O, O, O, ...  \n6803  [O, O, O, O, O, O, O, O, O, O, O, O, O, O, O, ...  \n6804  [O, O, O, O, O, O, O, O, O, O, O, O, O, O, O, ...  \n6805  [O, O, O, O, O, O, O, O, O, O, O, O, O, O, O, ...  \n6806  [O, O, O, O, O, O, O, O, O, O, O, O, O, O, O, ...  \n\n[6386 rows x 5 columns]",
      "text/html": "<div>\n<style scoped>\n    .dataframe tbody tr th:only-of-type {\n        vertical-align: middle;\n    }\n\n    .dataframe tbody tr th {\n        vertical-align: top;\n    }\n\n    .dataframe thead th {\n        text-align: right;\n    }\n</style>\n<table border=\"1\" class=\"dataframe\">\n  <thead>\n    <tr style=\"text-align: right;\">\n      <th></th>\n      <th>document</th>\n      <th>full_text</th>\n      <th>tokens</th>\n      <th>trailing_whitespace</th>\n      <th>labels</th>\n    </tr>\n  </thead>\n  <tbody>\n    <tr>\n      <th>0</th>\n      <td>7</td>\n      <td>Design Thinking for innovation reflexion-Avril...</td>\n      <td>[Design, Thinking, for, innovation, reflexion,...</td>\n      <td>[True, True, True, True, False, False, True, F...</td>\n      <td>[O, O, O, O, O, O, O, O, O, B-NAME_STUDENT, I-...</td>\n    </tr>\n    <tr>\n      <th>1</th>\n      <td>10</td>\n      <td>Diego Estrada\\n\\nDesign Thinking Assignment\\n\\...</td>\n      <td>[Diego, Estrada, \\n\\n, Design, Thinking, Assig...</td>\n      <td>[True, False, False, True, True, False, False,...</td>\n      <td>[B-NAME_STUDENT, I-NAME_STUDENT, O, O, O, O, O...</td>\n    </tr>\n    <tr>\n      <th>2</th>\n      <td>16</td>\n      <td>Reporting process\\n\\nby Gilberto Gamboa\\n\\nCha...</td>\n      <td>[Reporting, process, \\n\\n, by, Gilberto, Gambo...</td>\n      <td>[True, False, False, True, True, False, False,...</td>\n      <td>[O, O, O, O, B-NAME_STUDENT, I-NAME_STUDENT, O...</td>\n    </tr>\n    <tr>\n      <th>3</th>\n      <td>20</td>\n      <td>Design Thinking for Innovation\\n\\nSindy Samaca...</td>\n      <td>[Design, Thinking, for, Innovation, \\n\\n, Sind...</td>\n      <td>[True, True, True, False, False, True, False, ...</td>\n      <td>[O, O, O, O, O, B-NAME_STUDENT, I-NAME_STUDENT...</td>\n    </tr>\n    <tr>\n      <th>6</th>\n      <td>93</td>\n      <td>Silvia Villalobos\\n\\nChallenge:\\n\\nThere is a ...</td>\n      <td>[Silvia, Villalobos, \\n\\n, Challenge, :, \\n\\n,...</td>\n      <td>[True, False, False, False, False, False, True...</td>\n      <td>[B-NAME_STUDENT, I-NAME_STUDENT, O, O, O, O, O...</td>\n    </tr>\n    <tr>\n      <th>...</th>\n      <td>...</td>\n      <td>...</td>\n      <td>...</td>\n      <td>...</td>\n      <td>...</td>\n    </tr>\n    <tr>\n      <th>6802</th>\n      <td>22678</td>\n      <td>EXAMPLE – JOURNEY MAP\\n\\nTHE CHALLENGE    My w...</td>\n      <td>[EXAMPLE, –, JOURNEY, MAP, \\n\\n, THE, CHALLENG...</td>\n      <td>[True, True, True, False, False, True, True, F...</td>\n      <td>[O, O, O, O, O, O, O, O, O, O, O, O, O, O, O, ...</td>\n    </tr>\n    <tr>\n      <th>6803</th>\n      <td>22679</td>\n      <td>Why Mind Mapping?\\n\\nMind maps are graphical r...</td>\n      <td>[Why, Mind, Mapping, ?, \\n\\n, Mind, maps, are,...</td>\n      <td>[True, True, False, False, False, True, True, ...</td>\n      <td>[O, O, O, O, O, O, O, O, O, O, O, O, O, O, O, ...</td>\n    </tr>\n    <tr>\n      <th>6804</th>\n      <td>22681</td>\n      <td>Challenge\\n\\nSo, a few months back, I had chos...</td>\n      <td>[Challenge, \\n\\n, So, ,, a, few, months, back,...</td>\n      <td>[False, False, False, True, True, True, True, ...</td>\n      <td>[O, O, O, O, O, O, O, O, O, O, O, O, O, O, O, ...</td>\n    </tr>\n    <tr>\n      <th>6805</th>\n      <td>22684</td>\n      <td>Brainstorming\\n\\nChallenge &amp; Selection\\n\\nBrai...</td>\n      <td>[Brainstorming, \\n\\n, Challenge, &amp;, Selection,...</td>\n      <td>[False, False, True, True, False, False, True,...</td>\n      <td>[O, O, O, O, O, O, O, O, O, O, O, O, O, O, O, ...</td>\n    </tr>\n    <tr>\n      <th>6806</th>\n      <td>22687</td>\n      <td>Mind Mapping\\n\\nChallenge\\n\\nMy consulting tea...</td>\n      <td>[Mind, Mapping, \\n\\n, Challenge, \\n\\n, My, con...</td>\n      <td>[True, False, False, False, False, True, True,...</td>\n      <td>[O, O, O, O, O, O, O, O, O, O, O, O, O, O, O, ...</td>\n    </tr>\n  </tbody>\n</table>\n<p>6386 rows × 5 columns</p>\n</div>"
     },
     "execution_count": 16,
     "metadata": {},
     "output_type": "execute_result"
    }
   ],
   "source": [
    "df_usable"
   ],
   "metadata": {
    "collapsed": false,
    "ExecuteTime": {
     "end_time": "2024-03-18T19:31:22.332407400Z",
     "start_time": "2024-03-18T19:31:22.299517500Z"
    }
   },
   "id": "2b26195c8183a9a6",
   "execution_count": 16
  },
  {
   "cell_type": "code",
   "outputs": [
    {
     "data": {
      "text/plain": "      document                                          full_text  \\\n0            7  Design Thinking for innovation reflexion-Avril...   \n1           10  Diego Estrada\\n\\nDesign Thinking Assignment\\n\\...   \n2           16  Reporting process\\n\\nby Gilberto Gamboa\\n\\nCha...   \n3           20  Design Thinking for Innovation\\n\\nSindy Samaca...   \n4           56  Assignment:  Visualization Reflection  Submitt...   \n...        ...                                                ...   \n6802     22678  EXAMPLE – JOURNEY MAP\\n\\nTHE CHALLENGE    My w...   \n6803     22679  Why Mind Mapping?\\n\\nMind maps are graphical r...   \n6804     22681  Challenge\\n\\nSo, a few months back, I had chos...   \n6805     22684  Brainstorming\\n\\nChallenge & Selection\\n\\nBrai...   \n6806     22687  Mind Mapping\\n\\nChallenge\\n\\nMy consulting tea...   \n\n                                                 tokens  \\\n0     [Design, Thinking, for, innovation, reflexion,...   \n1     [Diego, Estrada, \\n\\n, Design, Thinking, Assig...   \n2     [Reporting, process, \\n\\n, by, Gilberto, Gambo...   \n3     [Design, Thinking, for, Innovation, \\n\\n, Sind...   \n4     [Assignment, :, Visualization, Reflection, Sub...   \n...                                                 ...   \n6802  [EXAMPLE, –, JOURNEY, MAP, \\n\\n, THE, CHALLENG...   \n6803  [Why, Mind, Mapping, ?, \\n\\n, Mind, maps, are,...   \n6804  [Challenge, \\n\\n, So, ,, a, few, months, back,...   \n6805  [Brainstorming, \\n\\n, Challenge, &, Selection,...   \n6806  [Mind, Mapping, \\n\\n, Challenge, \\n\\n, My, con...   \n\n                                    trailing_whitespace  \\\n0     [True, True, True, True, False, False, True, F...   \n1     [True, False, False, True, True, False, False,...   \n2     [True, False, False, True, True, False, False,...   \n3     [True, True, True, False, False, True, False, ...   \n4     [False, False, False, False, False, False, Fal...   \n...                                                 ...   \n6802  [True, True, True, False, False, True, True, F...   \n6803  [True, True, False, False, False, True, True, ...   \n6804  [False, False, False, True, True, True, True, ...   \n6805  [False, False, True, True, False, False, True,...   \n6806  [True, False, False, False, False, True, True,...   \n\n                                                 labels  \n0     [O, O, O, O, O, O, O, O, O, B-NAME_STUDENT, I-...  \n1     [B-NAME_STUDENT, I-NAME_STUDENT, O, O, O, O, O...  \n2     [O, O, O, O, B-NAME_STUDENT, I-NAME_STUDENT, O...  \n3     [O, O, O, O, O, B-NAME_STUDENT, I-NAME_STUDENT...  \n4     [O, O, O, O, O, O, O, O, O, O, O, O, B-NAME_ST...  \n...                                                 ...  \n6802  [O, O, O, O, O, O, O, O, O, O, O, O, O, O, O, ...  \n6803  [O, O, O, O, O, O, O, O, O, O, O, O, O, O, O, ...  \n6804  [O, O, O, O, O, O, O, O, O, O, O, O, O, O, O, ...  \n6805  [O, O, O, O, O, O, O, O, O, O, O, O, O, O, O, ...  \n6806  [O, O, O, O, O, O, O, O, O, O, O, O, O, O, O, ...  \n\n[6807 rows x 5 columns]",
      "text/html": "<div>\n<style scoped>\n    .dataframe tbody tr th:only-of-type {\n        vertical-align: middle;\n    }\n\n    .dataframe tbody tr th {\n        vertical-align: top;\n    }\n\n    .dataframe thead th {\n        text-align: right;\n    }\n</style>\n<table border=\"1\" class=\"dataframe\">\n  <thead>\n    <tr style=\"text-align: right;\">\n      <th></th>\n      <th>document</th>\n      <th>full_text</th>\n      <th>tokens</th>\n      <th>trailing_whitespace</th>\n      <th>labels</th>\n    </tr>\n  </thead>\n  <tbody>\n    <tr>\n      <th>0</th>\n      <td>7</td>\n      <td>Design Thinking for innovation reflexion-Avril...</td>\n      <td>[Design, Thinking, for, innovation, reflexion,...</td>\n      <td>[True, True, True, True, False, False, True, F...</td>\n      <td>[O, O, O, O, O, O, O, O, O, B-NAME_STUDENT, I-...</td>\n    </tr>\n    <tr>\n      <th>1</th>\n      <td>10</td>\n      <td>Diego Estrada\\n\\nDesign Thinking Assignment\\n\\...</td>\n      <td>[Diego, Estrada, \\n\\n, Design, Thinking, Assig...</td>\n      <td>[True, False, False, True, True, False, False,...</td>\n      <td>[B-NAME_STUDENT, I-NAME_STUDENT, O, O, O, O, O...</td>\n    </tr>\n    <tr>\n      <th>2</th>\n      <td>16</td>\n      <td>Reporting process\\n\\nby Gilberto Gamboa\\n\\nCha...</td>\n      <td>[Reporting, process, \\n\\n, by, Gilberto, Gambo...</td>\n      <td>[True, False, False, True, True, False, False,...</td>\n      <td>[O, O, O, O, B-NAME_STUDENT, I-NAME_STUDENT, O...</td>\n    </tr>\n    <tr>\n      <th>3</th>\n      <td>20</td>\n      <td>Design Thinking for Innovation\\n\\nSindy Samaca...</td>\n      <td>[Design, Thinking, for, Innovation, \\n\\n, Sind...</td>\n      <td>[True, True, True, False, False, True, False, ...</td>\n      <td>[O, O, O, O, O, B-NAME_STUDENT, I-NAME_STUDENT...</td>\n    </tr>\n    <tr>\n      <th>4</th>\n      <td>56</td>\n      <td>Assignment:  Visualization Reflection  Submitt...</td>\n      <td>[Assignment, :, Visualization, Reflection, Sub...</td>\n      <td>[False, False, False, False, False, False, Fal...</td>\n      <td>[O, O, O, O, O, O, O, O, O, O, O, O, B-NAME_ST...</td>\n    </tr>\n    <tr>\n      <th>...</th>\n      <td>...</td>\n      <td>...</td>\n      <td>...</td>\n      <td>...</td>\n      <td>...</td>\n    </tr>\n    <tr>\n      <th>6802</th>\n      <td>22678</td>\n      <td>EXAMPLE – JOURNEY MAP\\n\\nTHE CHALLENGE    My w...</td>\n      <td>[EXAMPLE, –, JOURNEY, MAP, \\n\\n, THE, CHALLENG...</td>\n      <td>[True, True, True, False, False, True, True, F...</td>\n      <td>[O, O, O, O, O, O, O, O, O, O, O, O, O, O, O, ...</td>\n    </tr>\n    <tr>\n      <th>6803</th>\n      <td>22679</td>\n      <td>Why Mind Mapping?\\n\\nMind maps are graphical r...</td>\n      <td>[Why, Mind, Mapping, ?, \\n\\n, Mind, maps, are,...</td>\n      <td>[True, True, False, False, False, True, True, ...</td>\n      <td>[O, O, O, O, O, O, O, O, O, O, O, O, O, O, O, ...</td>\n    </tr>\n    <tr>\n      <th>6804</th>\n      <td>22681</td>\n      <td>Challenge\\n\\nSo, a few months back, I had chos...</td>\n      <td>[Challenge, \\n\\n, So, ,, a, few, months, back,...</td>\n      <td>[False, False, False, True, True, True, True, ...</td>\n      <td>[O, O, O, O, O, O, O, O, O, O, O, O, O, O, O, ...</td>\n    </tr>\n    <tr>\n      <th>6805</th>\n      <td>22684</td>\n      <td>Brainstorming\\n\\nChallenge &amp; Selection\\n\\nBrai...</td>\n      <td>[Brainstorming, \\n\\n, Challenge, &amp;, Selection,...</td>\n      <td>[False, False, True, True, False, False, True,...</td>\n      <td>[O, O, O, O, O, O, O, O, O, O, O, O, O, O, O, ...</td>\n    </tr>\n    <tr>\n      <th>6806</th>\n      <td>22687</td>\n      <td>Mind Mapping\\n\\nChallenge\\n\\nMy consulting tea...</td>\n      <td>[Mind, Mapping, \\n\\n, Challenge, \\n\\n, My, con...</td>\n      <td>[True, False, False, False, False, True, True,...</td>\n      <td>[O, O, O, O, O, O, O, O, O, O, O, O, O, O, O, ...</td>\n    </tr>\n  </tbody>\n</table>\n<p>6807 rows × 5 columns</p>\n</div>"
     },
     "execution_count": 18,
     "metadata": {},
     "output_type": "execute_result"
    }
   ],
   "source": [
    "df"
   ],
   "metadata": {
    "collapsed": false,
    "ExecuteTime": {
     "end_time": "2024-03-18T19:31:35.483712Z",
     "start_time": "2024-03-18T19:31:35.446835800Z"
    }
   },
   "id": "6869df0de17a2d7d",
   "execution_count": 18
  },
  {
   "cell_type": "code",
   "outputs": [],
   "source": [
    "# def labelling(line):\n",
    "#     line_labels = pd.Series(line.labels)\n",
    "#     labels_index = line_labels[line_labels != 'O'].index\n",
    "#     return {index: (line_labels.loc[index], pd.Series(line.tokens).loc[index]) for index in labels_index.to_list()}\n",
    "# \n",
    "# df_usable.loc[:,'label_dict'] = df_usable.apply(lambda line: labelling(line), axis = 1)\n",
    "# df_usable"
   ],
   "metadata": {
    "collapsed": false,
    "ExecuteTime": {
     "end_time": "2024-03-10T23:58:54.349832300Z",
     "start_time": "2024-03-10T23:58:54.334878400Z"
    }
   },
   "id": "4141c33aaf046717",
   "execution_count": 111
  },
  {
   "cell_type": "markdown",
   "source": [
    "extremely low efficiency (ask for help) not usable/ buggy"
   ],
   "metadata": {
    "collapsed": false
   },
   "id": "8ba8c7d04cb6b6af"
  },
  {
   "cell_type": "code",
   "outputs": [],
   "source": [
    "# def make_shorter_sentence(line):\n",
    "#     '''\n",
    "#     This function is to split the essays into chunks of shorter sentences upto the \n",
    "#     maximum length of words specified in config['MAX_LEN'] The max has not yet been implemented\n",
    "#     '''\n",
    "#     tokens = line.tokens\n",
    "#     labels = line.labels\n",
    "# \n",
    "#     break_idx = 0    \n",
    "#     sentences_per_phrase = 1\n",
    "#     pattern = re.compile(\"^\\.|\\?|!$\")\n",
    "#     overlap = 2\n",
    "#     final_sentences = []\n",
    "#     \n",
    "#     while break_idx < len(tokens) - 1:\n",
    "#         period_count = 0\n",
    "#         temp = break_idx\n",
    "#         delta = break_idx - temp \n",
    "#         for tok in tokens[break_idx:]:\n",
    "#             if period_count > sentences_per_phrase and delta < config['MAX_LEN']:\n",
    "#                 period_count = 0\n",
    "#                 break\n",
    "#     \n",
    "#             if re.search(pattern,tok):\n",
    "#                 period_count += 1\n",
    "#                 # print(period_count)\n",
    "#             else:\n",
    "#                 break_idx += 1\n",
    "# \n",
    "#         final_sentences.append(tokens[temp:break_idx + overlap])\n",
    "#     return final_sentences\n",
    "\n",
    "## DO NOT UNCOMMENT, BUGGY\n",
    "# df_usable.loc[:,'sentence_list'] = df_usable.apply(lambda line: make_shorter_sentence(line), axis = 1)\n",
    "#\n",
    "# items = range(150,200)\n",
    "# exclude_list = [57,158]\n",
    "# for idx in items:\n",
    "#     if idx not in exclude_list:\n",
    "#         print(idx)\n",
    "#         df_usable.iloc[idx:idx+1].apply(lambda line: make_shorter_sentence(line), axis = 1)\n",
    "# \n",
    "# make_shorter_sentence(df_usable.iloc[157])"
   ],
   "metadata": {
    "collapsed": false,
    "ExecuteTime": {
     "end_time": "2024-03-10T23:58:54.376740800Z",
     "start_time": "2024-03-10T23:58:54.351821Z"
    }
   },
   "id": "ef061f0c329f77e9",
   "execution_count": 112
  },
  {
   "cell_type": "code",
   "outputs": [],
   "source": [
    "def make_smaller_inputs(dataframe):\n",
    "    df_out = pd.DataFrame(columns = ['tokens','labels'])\n",
    "    counter = 0\n",
    "    max_len = config['MAX_LEN']\n",
    "    \n",
    "    for _,line in dataframe.iterrows():\n",
    "        tokens = line.tokens\n",
    "        labels = line.labels\n",
    "        items = range(0,len(tokens),max_len)\n",
    "        \n",
    "        for i in items:\n",
    "            df_out.at[counter,'tokens'] = tokens[i:i+max_len]\n",
    "            df_out.at[counter,'labels'] = labels[i:i+max_len]\n",
    "            counter += 1\n",
    "            \n",
    "    return df_out"
   ],
   "metadata": {
    "collapsed": false,
    "ExecuteTime": {
     "end_time": "2024-03-18T20:02:12.187070500Z",
     "start_time": "2024-03-18T20:02:12.167727600Z"
    }
   },
   "id": "cf25ffe08e5082e6",
   "execution_count": 35
  },
  {
   "cell_type": "code",
   "outputs": [
    {
     "data": {
      "text/plain": "                                              tokens  \\\n0  [Design, Thinking, for, innovation, reflexion,...   \n1  [significant, material, investment, and, can, ...   \n2  [starting, point,  , generates, ideas, /, work...   \n3  [the, series,  , of, questions, according, to,...   \n4  [images, and, interconnections, ., This, secon...   \n\n                                              labels  \n0  [O, O, O, O, O, O, O, O, O, B-NAME_STUDENT, I-...  \n1  [O, O, O, O, O, O, O, O, O, O, O, O, O, O, O, ...  \n2  [O, O, O, O, O, O, O, O, O, O, O, O, O, O, O, ...  \n3  [O, O, O, O, O, O, O, O, O, O, O, O, O, O, O, ...  \n4  [O, O, O, O, O, O, O, O, O, O, O, O, O, O, O, ...  ",
      "text/html": "<div>\n<style scoped>\n    .dataframe tbody tr th:only-of-type {\n        vertical-align: middle;\n    }\n\n    .dataframe tbody tr th {\n        vertical-align: top;\n    }\n\n    .dataframe thead th {\n        text-align: right;\n    }\n</style>\n<table border=\"1\" class=\"dataframe\">\n  <thead>\n    <tr style=\"text-align: right;\">\n      <th></th>\n      <th>tokens</th>\n      <th>labels</th>\n    </tr>\n  </thead>\n  <tbody>\n    <tr>\n      <th>0</th>\n      <td>[Design, Thinking, for, innovation, reflexion,...</td>\n      <td>[O, O, O, O, O, O, O, O, O, B-NAME_STUDENT, I-...</td>\n    </tr>\n    <tr>\n      <th>1</th>\n      <td>[significant, material, investment, and, can, ...</td>\n      <td>[O, O, O, O, O, O, O, O, O, O, O, O, O, O, O, ...</td>\n    </tr>\n    <tr>\n      <th>2</th>\n      <td>[starting, point,  , generates, ideas, /, work...</td>\n      <td>[O, O, O, O, O, O, O, O, O, O, O, O, O, O, O, ...</td>\n    </tr>\n    <tr>\n      <th>3</th>\n      <td>[the, series,  , of, questions, according, to,...</td>\n      <td>[O, O, O, O, O, O, O, O, O, O, O, O, O, O, O, ...</td>\n    </tr>\n    <tr>\n      <th>4</th>\n      <td>[images, and, interconnections, ., This, secon...</td>\n      <td>[O, O, O, O, O, O, O, O, O, O, O, O, O, O, O, ...</td>\n    </tr>\n  </tbody>\n</table>\n</div>"
     },
     "execution_count": 36,
     "metadata": {},
     "output_type": "execute_result"
    }
   ],
   "source": [
    "df_model_input = make_smaller_inputs(df_usable)\n",
    "df_model_input.head()"
   ],
   "metadata": {
    "collapsed": false,
    "ExecuteTime": {
     "end_time": "2024-03-18T20:02:49.836319100Z",
     "start_time": "2024-03-18T20:02:12.934826600Z"
    }
   },
   "id": "e1ec9d883fde9030",
   "execution_count": 36
  },
  {
   "cell_type": "code",
   "outputs": [
    {
     "data": {
      "text/plain": "39146"
     },
     "execution_count": 37,
     "metadata": {},
     "output_type": "execute_result"
    }
   ],
   "source": [
    "len(df_model_input.index)"
   ],
   "metadata": {
    "collapsed": false,
    "ExecuteTime": {
     "end_time": "2024-03-18T20:02:54.780094500Z",
     "start_time": "2024-03-18T20:02:54.750126Z"
    }
   },
   "id": "fb208322350d78b8",
   "execution_count": 37
  },
  {
   "cell_type": "code",
   "outputs": [],
   "source": [
    "df_train, df_test = train_test_split(df_model_input, test_size=0.2)"
   ],
   "metadata": {
    "collapsed": false,
    "ExecuteTime": {
     "end_time": "2024-03-10T23:59:28.125849800Z",
     "start_time": "2024-03-10T23:59:28.098734300Z"
    }
   },
   "id": "7e650d2bc0aa5fc2",
   "execution_count": 116
  },
  {
   "cell_type": "code",
   "outputs": [
    {
     "data": {
      "text/plain": "                                                 tokens  \\\n0     [discipline, ,, loyalty, ,, leadership,  , and...   \n1     [these, special, reagions, to, 15, ., \\n\\n, We...   \n2     [be, happy, to, answer, to, surveys, on, a, we...   \n3     [are, created, in, formats, that, are, interpr...   \n4     [a, review, or, a, new, batch, of, training, p...   \n...                                                 ...   \n7995  [ , affected, humanitarian, crisis, such, as, ...   \n7996  [to, be, a, great, tool, for, getting, people,...   \n7997  [new,  , aggressive, and, rapid, use, of, our,...   \n7998  [), \\n\\n, Insight, :, Describe, the, insight, ...   \n7999  [Reflection, –, Storytelling, \\n\\n, Challenge,...   \n\n                                                 labels  \n0     [O, O, O, O, O, O, O, O, O, O, O, O, O, O, O, ...  \n1     [O, O, O, O, O, O, O, O, O, O, O, O, O, O, O, ...  \n2     [O, O, O, O, O, O, O, O, O, O, O, O, O, O, O, ...  \n3     [O, O, O, O, O, O, O, O, O, O, O, O, O, O, O, ...  \n4     [O, O, O, O, O, O, O, O, O, O, O, O, O, O, O, ...  \n...                                                 ...  \n7995  [O, O, O, O, O, O, O, O, O, O, O, O, O, O, O, ...  \n7996      [O, O, O, O, O, O, O, O, O, O, O, O, O, O, O]  \n7997  [O, O, O, O, O, O, O, O, O, O, O, O, O, O, O, ...  \n7998  [O, O, O, O, O, O, O, O, O, O, O, O, O, O, O, ...  \n7999  [O, O, O, O, O, O, O, O, O, O, O, O, O, O, O, ...  \n\n[8000 rows x 2 columns]",
      "text/html": "<div>\n<style scoped>\n    .dataframe tbody tr th:only-of-type {\n        vertical-align: middle;\n    }\n\n    .dataframe tbody tr th {\n        vertical-align: top;\n    }\n\n    .dataframe thead th {\n        text-align: right;\n    }\n</style>\n<table border=\"1\" class=\"dataframe\">\n  <thead>\n    <tr style=\"text-align: right;\">\n      <th></th>\n      <th>tokens</th>\n      <th>labels</th>\n    </tr>\n  </thead>\n  <tbody>\n    <tr>\n      <th>0</th>\n      <td>[discipline, ,, loyalty, ,, leadership,  , and...</td>\n      <td>[O, O, O, O, O, O, O, O, O, O, O, O, O, O, O, ...</td>\n    </tr>\n    <tr>\n      <th>1</th>\n      <td>[these, special, reagions, to, 15, ., \\n\\n, We...</td>\n      <td>[O, O, O, O, O, O, O, O, O, O, O, O, O, O, O, ...</td>\n    </tr>\n    <tr>\n      <th>2</th>\n      <td>[be, happy, to, answer, to, surveys, on, a, we...</td>\n      <td>[O, O, O, O, O, O, O, O, O, O, O, O, O, O, O, ...</td>\n    </tr>\n    <tr>\n      <th>3</th>\n      <td>[are, created, in, formats, that, are, interpr...</td>\n      <td>[O, O, O, O, O, O, O, O, O, O, O, O, O, O, O, ...</td>\n    </tr>\n    <tr>\n      <th>4</th>\n      <td>[a, review, or, a, new, batch, of, training, p...</td>\n      <td>[O, O, O, O, O, O, O, O, O, O, O, O, O, O, O, ...</td>\n    </tr>\n    <tr>\n      <th>...</th>\n      <td>...</td>\n      <td>...</td>\n    </tr>\n    <tr>\n      <th>7995</th>\n      <td>[ , affected, humanitarian, crisis, such, as, ...</td>\n      <td>[O, O, O, O, O, O, O, O, O, O, O, O, O, O, O, ...</td>\n    </tr>\n    <tr>\n      <th>7996</th>\n      <td>[to, be, a, great, tool, for, getting, people,...</td>\n      <td>[O, O, O, O, O, O, O, O, O, O, O, O, O, O, O]</td>\n    </tr>\n    <tr>\n      <th>7997</th>\n      <td>[new,  , aggressive, and, rapid, use, of, our,...</td>\n      <td>[O, O, O, O, O, O, O, O, O, O, O, O, O, O, O, ...</td>\n    </tr>\n    <tr>\n      <th>7998</th>\n      <td>[), \\n\\n, Insight, :, Describe, the, insight, ...</td>\n      <td>[O, O, O, O, O, O, O, O, O, O, O, O, O, O, O, ...</td>\n    </tr>\n    <tr>\n      <th>7999</th>\n      <td>[Reflection, –, Storytelling, \\n\\n, Challenge,...</td>\n      <td>[O, O, O, O, O, O, O, O, O, O, O, O, O, O, O, ...</td>\n    </tr>\n  </tbody>\n</table>\n<p>8000 rows × 2 columns</p>\n</div>"
     },
     "execution_count": 117,
     "metadata": {},
     "output_type": "execute_result"
    }
   ],
   "source": [
    "df_train.reset_index(drop = True, inplace=True)\n",
    "df_train"
   ],
   "metadata": {
    "collapsed": false,
    "ExecuteTime": {
     "end_time": "2024-03-10T23:59:28.142792800Z",
     "start_time": "2024-03-10T23:59:28.110694400Z"
    }
   },
   "id": "4463194a16a602e",
   "execution_count": 117
  },
  {
   "cell_type": "code",
   "outputs": [
    {
     "data": {
      "text/plain": "                                                 tokens  \\\n0     [., This, exercise, follows, a, branch, format...   \n1     [In, highly, technology, and, global, competit...   \n2     [and, resulting, customer, centricity, ., \\n\\n...   \n3     [issues, ,, trying, to, be, very, visual, and,...   \n4     [years, ,, probably, we, will, go, straight, t...   \n...                                                 ...   \n1995  [,, raising, concerns, that, they, are, not,  ...   \n1996  [information, from, the, expert, like, IT, ,, ...   \n1997                          [I, participate, ., \\n\\n]   \n1998  [map, is, intended, to, serve, as, a, bridge, ...   \n1999  [the, basic, human, rights, ,, their, children...   \n\n                                                 labels  \n0     [O, O, O, O, O, O, O, O, O, O, O, O, O, O, O, ...  \n1     [O, O, O, O, O, O, O, O, O, O, O, O, O, O, O, ...  \n2     [O, O, O, O, O, O, O, O, O, O, O, O, O, O, O, ...  \n3     [O, O, O, O, O, O, O, O, O, O, O, O, O, O, O, ...  \n4     [O, O, O, O, O, O, O, O, O, O, O, O, O, O, O, ...  \n...                                                 ...  \n1995  [O, O, O, O, O, O, O, O, O, O, O, O, O, O, O, ...  \n1996  [O, O, O, O, O, O, O, O, O, O, O, O, O, O, O, ...  \n1997                                       [O, O, O, O]  \n1998  [O, O, O, O, O, O, O, O, O, O, O, O, O, O, O, ...  \n1999  [O, O, O, O, O, O, O, O, O, O, O, O, O, O, O, ...  \n\n[2000 rows x 2 columns]",
      "text/html": "<div>\n<style scoped>\n    .dataframe tbody tr th:only-of-type {\n        vertical-align: middle;\n    }\n\n    .dataframe tbody tr th {\n        vertical-align: top;\n    }\n\n    .dataframe thead th {\n        text-align: right;\n    }\n</style>\n<table border=\"1\" class=\"dataframe\">\n  <thead>\n    <tr style=\"text-align: right;\">\n      <th></th>\n      <th>tokens</th>\n      <th>labels</th>\n    </tr>\n  </thead>\n  <tbody>\n    <tr>\n      <th>0</th>\n      <td>[., This, exercise, follows, a, branch, format...</td>\n      <td>[O, O, O, O, O, O, O, O, O, O, O, O, O, O, O, ...</td>\n    </tr>\n    <tr>\n      <th>1</th>\n      <td>[In, highly, technology, and, global, competit...</td>\n      <td>[O, O, O, O, O, O, O, O, O, O, O, O, O, O, O, ...</td>\n    </tr>\n    <tr>\n      <th>2</th>\n      <td>[and, resulting, customer, centricity, ., \\n\\n...</td>\n      <td>[O, O, O, O, O, O, O, O, O, O, O, O, O, O, O, ...</td>\n    </tr>\n    <tr>\n      <th>3</th>\n      <td>[issues, ,, trying, to, be, very, visual, and,...</td>\n      <td>[O, O, O, O, O, O, O, O, O, O, O, O, O, O, O, ...</td>\n    </tr>\n    <tr>\n      <th>4</th>\n      <td>[years, ,, probably, we, will, go, straight, t...</td>\n      <td>[O, O, O, O, O, O, O, O, O, O, O, O, O, O, O, ...</td>\n    </tr>\n    <tr>\n      <th>...</th>\n      <td>...</td>\n      <td>...</td>\n    </tr>\n    <tr>\n      <th>1995</th>\n      <td>[,, raising, concerns, that, they, are, not,  ...</td>\n      <td>[O, O, O, O, O, O, O, O, O, O, O, O, O, O, O, ...</td>\n    </tr>\n    <tr>\n      <th>1996</th>\n      <td>[information, from, the, expert, like, IT, ,, ...</td>\n      <td>[O, O, O, O, O, O, O, O, O, O, O, O, O, O, O, ...</td>\n    </tr>\n    <tr>\n      <th>1997</th>\n      <td>[I, participate, ., \\n\\n]</td>\n      <td>[O, O, O, O]</td>\n    </tr>\n    <tr>\n      <th>1998</th>\n      <td>[map, is, intended, to, serve, as, a, bridge, ...</td>\n      <td>[O, O, O, O, O, O, O, O, O, O, O, O, O, O, O, ...</td>\n    </tr>\n    <tr>\n      <th>1999</th>\n      <td>[the, basic, human, rights, ,, their, children...</td>\n      <td>[O, O, O, O, O, O, O, O, O, O, O, O, O, O, O, ...</td>\n    </tr>\n  </tbody>\n</table>\n<p>2000 rows × 2 columns</p>\n</div>"
     },
     "execution_count": 118,
     "metadata": {},
     "output_type": "execute_result"
    }
   ],
   "source": [
    "df_test.reset_index(drop = True, inplace=True)\n",
    "df_test"
   ],
   "metadata": {
    "collapsed": false,
    "ExecuteTime": {
     "end_time": "2024-03-10T23:59:28.217757700Z",
     "start_time": "2024-03-10T23:59:28.125849800Z"
    }
   },
   "id": "c4c5c9fd608f91ca",
   "execution_count": 118
  },
  {
   "cell_type": "markdown",
   "source": [
    "# Model\n"
   ],
   "metadata": {
    "collapsed": false
   },
   "id": "457bd3b4533f5a80"
  },
  {
   "cell_type": "markdown",
   "source": [
    "adapted from \n",
    "https://colab.research.google.com/github/NielsRogge/Transformers-Tutorials/blob/master/BERT/Custom_Named_Entity_Recognition_with_BERT_only_first_wordpiece.ipynb#scrollTo=Eh3ckSO0YMZW"
   ],
   "metadata": {
    "collapsed": false
   },
   "id": "103a60473d70f692"
  },
  {
   "cell_type": "code",
   "outputs": [],
   "source": [
    "class dataset(Dataset):\n",
    "    def __init__(self, dataframe, tokenizer, max_len):\n",
    "        self.len = len(dataframe)\n",
    "        self.data = dataframe\n",
    "        self.tokenizer = tokenizer\n",
    "        self.max_len = max_len\n",
    "\n",
    "    def __getitem__(self, index):\n",
    "        # step 1: get the sentence and word labels \n",
    "        tokens = self.data.tokens[index]\n",
    "        word_labels = self.data.labels[index]\n",
    "\n",
    "        # step 2: use tokenizer to encode sentence (includes padding/truncation up to max length)\n",
    "        # BertTokenizerFast provides a handy \"return_offsets_mapping\" functionality for individual tokens\n",
    "        encoding = self.tokenizer(tokens,\n",
    "                                  is_split_into_words=True,\n",
    "                                  return_offsets_mapping=True,\n",
    "                                  padding='max_length',\n",
    "                                  truncation=True,\n",
    "                                  max_length=self.max_len)\n",
    "\n",
    "        # step 3: create token labels only for first word pieces of each tokenized word\n",
    "        labels = [ labels_to_ids[label] for label in word_labels]\n",
    "        # code based on https://huggingface.co/transformers/custom_datasets.html#tok-ner\n",
    "        # create an empty array of -100 of length max_length\n",
    "        encoded_labels = np.ones(len(encoding[\"offset_mapping\"]), dtype=int) * -100\n",
    "\n",
    "        # set only labels whose first offset position is 0 and the second is not 0\n",
    "        i = 0\n",
    "        for idx, mapping in enumerate(encoding[\"offset_mapping\"]):\n",
    "            if mapping[0] == 0 and mapping[1] != 0:\n",
    "                # overwrite label\n",
    "                encoded_labels[idx] = labels[i]\n",
    "                i += 1\n",
    "\n",
    "        # step 4: turn everything into PyTorch tensors\n",
    "        item = {key: torch.as_tensor(val) for key, val in encoding.items()}\n",
    "        item['labels'] = torch.as_tensor(encoded_labels)\n",
    "\n",
    "        return item\n",
    "\n",
    "    def __len__(self):\n",
    "        return self.len"
   ],
   "metadata": {
    "collapsed": false,
    "ExecuteTime": {
     "end_time": "2024-03-10T23:59:28.233704200Z",
     "start_time": "2024-03-10T23:59:28.145783100Z"
    }
   },
   "id": "f4e9607f2c254bfc",
   "execution_count": 119
  },
  {
   "cell_type": "code",
   "outputs": [],
   "source": [
    "training_set = dataset(df_train, config['tokenizer'], config['MAX_LEN'])\n",
    "testing_set = dataset(df_test, config['tokenizer'], config['MAX_LEN'])"
   ],
   "metadata": {
    "collapsed": false,
    "ExecuteTime": {
     "end_time": "2024-03-10T23:59:28.268951900Z",
     "start_time": "2024-03-10T23:59:28.158740500Z"
    }
   },
   "id": "161f18f69632c56a",
   "execution_count": 120
  },
  {
   "cell_type": "code",
   "outputs": [
    {
     "data": {
      "text/plain": "tensor([[  101,  1129,  2816,  1106,  2590,  1106, 13634,  1113,   170,  5392,\n          3142,   119,   138,  5980,  1110,   170,  1141,   118,  1236,  4909,\n          1229,  9681,  4286,  1110,  1304, 12196,   117,  2368,  1366,  1103,\n          2000,  1105,  1159,  1106,  2437,  1120,   170,  6353,  1634,  1103,\n         13032,  1195,  1460,   119,  1573,  1195,  1354,  1115,  9681,  4286,\n          1110,  1103,  1211,  5806,  6806,  1106,  1329,  1120,  1115,  2585,\n          1104,  1103,  1933,   119,   102,     0,     0,     0,     0,     0,\n             0,     0,     0,     0,     0,     0,     0,     0,     0,     0,\n             0,     0,     0,     0,     0,     0,     0,     0,     0,     0,\n             0,     0,     0,     0,     0,     0,     0,     0,     0,     0,\n             0,     0,     0,     0,     0,     0,     0,     0,     0,     0,\n             0,     0,     0,     0,     0,     0,     0,     0,     0,     0,\n             0,     0,     0,     0,     0,     0,     0,     0]])"
     },
     "execution_count": 121,
     "metadata": {},
     "output_type": "execute_result"
    }
   ],
   "source": [
    "training_set[2][\"input_ids\"].unsqueeze(0)"
   ],
   "metadata": {
    "collapsed": false,
    "ExecuteTime": {
     "end_time": "2024-03-10T23:59:28.269950200Z",
     "start_time": "2024-03-10T23:59:28.173903900Z"
    }
   },
   "id": "4698c633eec3835",
   "execution_count": 121
  },
  {
   "cell_type": "code",
   "outputs": [
    {
     "name": "stdout",
     "output_type": "stream",
     "text": [
      "[CLS]       -100\n",
      "discipline  0\n",
      ",           0\n",
      "loyalty     0\n",
      ",           0\n",
      "leadership  0\n",
      "and         0\n",
      "creativity  0\n",
      "under       0\n",
      "severe      0\n",
      "c           0\n",
      "##ir        -100\n",
      "##cu        -100\n",
      "##nst       -100\n",
      "##ance      -100\n",
      "##s         -100\n",
      ".           0\n",
      "I           0\n",
      "noted       0\n",
      "that        0\n",
      "my          0\n",
      "colleagues  0\n",
      "listened    0\n",
      "the         0\n",
      "story       0\n",
      "with        0\n",
      "great       0\n",
      "interest    0\n",
      "and         0\n",
      "wonder      0\n",
      ".           0\n",
      "After       0\n",
      "that        0\n",
      ",           0\n",
      "they        0\n",
      "demonstrate  0\n",
      "much        0\n",
      "more        0\n",
      "interest    0\n",
      "and         0\n",
      "spirit      0\n",
      "of          0\n",
      "cooperation  0\n",
      ".           0\n",
      "In          0\n",
      "##sight     -100\n",
      "&           0\n",
      "A           0\n",
      "##pp        -100\n",
      "##roach     -100\n",
      "For         0\n",
      "me          0\n",
      ",           0\n",
      "storytelling  0\n",
      "is          0\n",
      "an          0\n",
      "ex          0\n",
      "##cel       -100\n",
      "##ent       -100\n",
      "tool        0\n",
      "to          0\n",
      "cone        0\n",
      "##ct        -100\n",
      "people      0\n",
      "to          0\n",
      "certain     0\n",
      "ideas       0\n",
      "and         0\n",
      "values      0\n",
      "in          0\n",
      "a           0\n",
      "si          0\n",
      "##mbo       -100\n",
      "##lic       -100\n",
      "way         0\n",
      ".           0\n",
      "It          0\n",
      "is          0\n",
      "very        0\n",
      "m           0\n",
      "##ot        -100\n",
      "##ivo       -100\n",
      "##tional    -100\n",
      ".           0\n",
      "I           0\n",
      "think       0\n",
      "it          0\n",
      "had         0\n",
      "a           0\n",
      "g           0\n",
      "##ret       -100\n",
      "impact      0\n",
      "on          0\n",
      "people      0\n",
      ".           0\n",
      "I           0\n",
      "intend      0\n",
      "to          0\n",
      "use         0\n",
      "storytelling  0\n",
      "more        0\n",
      "times       0\n",
      "in          0\n",
      "the         0\n",
      "future      0\n",
      ",           0\n",
      "improving   0\n",
      "more        0\n",
      "emotion     0\n",
      "in          0\n",
      "the         0\n",
      "way         0\n",
      "I           0\n",
      "present     0\n",
      "the         0\n",
      "work        0\n",
      "and         0\n",
      "linking     0\n",
      "the         0\n",
      "story       0\n",
      "with        0\n",
      "our         0\n",
      "activity    0\n",
      ".           0\n",
      "[SEP]       -100\n",
      "[PAD]       -100\n",
      "[PAD]       -100\n",
      "[PAD]       -100\n"
     ]
    }
   ],
   "source": [
    "for token, label in zip(config['tokenizer'].convert_ids_to_tokens(training_set[0][\"input_ids\"]), training_set[0][\"labels\"]):\n",
    "    print('{0:10}  {1}'.format(token, label))"
   ],
   "metadata": {
    "collapsed": false,
    "ExecuteTime": {
     "end_time": "2024-03-10T23:59:28.271942100Z",
     "start_time": "2024-03-10T23:59:28.188854300Z"
    }
   },
   "id": "8870733188a94c84",
   "execution_count": 122
  },
  {
   "cell_type": "code",
   "outputs": [],
   "source": [
    "train_params = {'batch_size': config[\"TRAIN_BATCH_SIZE\"],\n",
    "                'shuffle': True,\n",
    "                'num_workers': 0\n",
    "                }\n",
    "\n",
    "test_params = {'batch_size': config[\"VALID_BATCH_SIZE\"],\n",
    "               'shuffle': True,\n",
    "               'num_workers': 0\n",
    "               }\n",
    "\n",
    "training_loader = DataLoader(training_set, **train_params)\n",
    "testing_loader = DataLoader(testing_set, **test_params)"
   ],
   "metadata": {
    "collapsed": false,
    "ExecuteTime": {
     "end_time": "2024-03-10T23:59:28.272937900Z",
     "start_time": "2024-03-10T23:59:28.203804500Z"
    }
   },
   "id": "55765eae656ff130",
   "execution_count": 123
  },
  {
   "cell_type": "code",
   "outputs": [
    {
     "ename": "KeyError",
     "evalue": "'pretrained_model'",
     "output_type": "error",
     "traceback": [
      "\u001B[1;31m---------------------------------------------------------------------------\u001B[0m",
      "\u001B[1;31mKeyError\u001B[0m                                  Traceback (most recent call last)",
      "Cell \u001B[1;32mIn[124], line 1\u001B[0m\n\u001B[1;32m----> 1\u001B[0m model \u001B[38;5;241m=\u001B[39m BertForTokenClassification\u001B[38;5;241m.\u001B[39mfrom_pretrained(\u001B[43mconfig\u001B[49m\u001B[43m[\u001B[49m\u001B[38;5;124;43m'\u001B[39;49m\u001B[38;5;124;43mpretrained_model\u001B[39;49m\u001B[38;5;124;43m'\u001B[39;49m\u001B[43m]\u001B[49m, num_labels\u001B[38;5;241m=\u001B[39m\u001B[38;5;28mlen\u001B[39m(labels_to_ids))\n\u001B[0;32m      2\u001B[0m model\u001B[38;5;241m.\u001B[39mto(config[\u001B[38;5;124m'\u001B[39m\u001B[38;5;124mdevice\u001B[39m\u001B[38;5;124m'\u001B[39m])\n",
      "\u001B[1;31mKeyError\u001B[0m: 'pretrained_model'"
     ]
    }
   ],
   "source": [
    "model = BertForTokenClassification.from_pretrained(config['pretrained_model'], num_labels=len(labels_to_ids))\n",
    "model.to(config['device'])"
   ],
   "metadata": {
    "collapsed": false,
    "ExecuteTime": {
     "end_time": "2024-03-10T23:59:28.320777900Z",
     "start_time": "2024-03-10T23:59:28.219751300Z"
    }
   },
   "id": "3bab942326679d15",
   "execution_count": 124
  },
  {
   "cell_type": "markdown",
   "source": [
    "expected loss of inital model is \n",
    "-ln(1/(# of classes))"
   ],
   "metadata": {
    "collapsed": false
   },
   "id": "113061c0376277f9"
  },
  {
   "cell_type": "code",
   "outputs": [],
   "source": [
    "-np.log(1/len(labels_to_ids))"
   ],
   "metadata": {
    "collapsed": false,
    "ExecuteTime": {
     "start_time": "2024-03-10T23:59:28.251012900Z"
    }
   },
   "id": "dcc77263b9b90f54",
   "execution_count": null
  },
  {
   "cell_type": "code",
   "outputs": [],
   "source": [
    "inputs = training_set[2]\n",
    "input_ids = inputs[\"input_ids\"].unsqueeze(0)\n",
    "attention_mask = inputs[\"attention_mask\"].unsqueeze(0)\n",
    "labels = inputs[\"labels\"].unsqueeze(0)\n",
    "\n",
    "input_ids = input_ids.to(config['device'])\n",
    "attention_mask = attention_mask.to(config['device'])\n",
    "labels = labels.to(config['device'])\n",
    "\n",
    "outputs = model(input_ids.long(), attention_mask=attention_mask.long(), labels=labels.long())\n",
    "initial_loss = outputs[0]\n",
    "initial_loss"
   ],
   "metadata": {
    "collapsed": false,
    "ExecuteTime": {
     "start_time": "2024-03-10T23:59:28.252009800Z"
    }
   },
   "id": "f1517277b772d1a9",
   "execution_count": null
  },
  {
   "cell_type": "markdown",
   "source": [
    "Limit of my comprehension as of 3/7"
   ],
   "metadata": {
    "collapsed": false
   },
   "id": "45ba0758253471"
  },
  {
   "cell_type": "code",
   "outputs": [],
   "source": [
    "optimizer = torch.optim.Adam(params=model.parameters(), lr=config['LEARNING_RATE'])"
   ],
   "metadata": {
    "collapsed": false,
    "ExecuteTime": {
     "start_time": "2024-03-10T23:59:28.253004800Z"
    }
   },
   "id": "ebebcd296f5f73b8",
   "execution_count": null
  },
  {
   "cell_type": "code",
   "outputs": [],
   "source": [
    "# Defining the training function on the 80% of the dataset for tuning the bert model\n",
    "def train(epoch):\n",
    "    tr_loss, tr_accuracy = 0, 0\n",
    "    nb_tr_examples, nb_tr_steps = 0, 0\n",
    "    tr_preds, tr_labels = [], []\n",
    "    # put model in training mode\n",
    "    model.train()\n",
    "\n",
    "    for idx, batch in enumerate(training_loader):\n",
    "\n",
    "        ids = batch['input_ids'].to(config['device'], dtype = torch.long)\n",
    "        mask = batch['attention_mask'].to(config['device'], dtype = torch.long)\n",
    "        labels = batch['labels'].to(config['device'], dtype = torch.long)\n",
    "\n",
    "        outputs = model(input_ids=ids.long(), attention_mask=mask.long(), labels=labels.long())\n",
    "        loss = outputs[0]\n",
    "        tr_logits = outputs[1]\n",
    "        tr_loss += loss.item()\n",
    "\n",
    "        nb_tr_steps += 1\n",
    "        nb_tr_examples += labels.size(0)\n",
    "\n",
    "        if idx % 100==0:\n",
    "            loss_step = tr_loss/nb_tr_steps\n",
    "            print(f\"Training loss per 100 training steps: {loss_step}\")\n",
    "\n",
    "        # compute training accuracy\n",
    "        flattened_targets = labels.view(-1) # shape (batch_size * seq_len,)\n",
    "        active_logits = tr_logits.view(-1, model.num_labels) # shape (batch_size * seq_len, num_labels)\n",
    "        flattened_predictions = torch.argmax(active_logits, axis=1) # shape (batch_size * seq_len,)\n",
    "        \n",
    "        # only compute accuracy at active labels\n",
    "        active_accuracy = labels.view(-1) != -100 # shape (batch_size, seq_len)\n",
    "        #active_labels = torch.where(active_accuracy, labels.view(-1), torch.tensor(-100).type_as(labels))\n",
    "\n",
    "        labels = torch.masked_select(flattened_targets, active_accuracy)\n",
    "        predictions = torch.masked_select(flattened_predictions, active_accuracy)\n",
    "\n",
    "        tr_labels.extend(labels)\n",
    "        tr_preds.extend(predictions)\n",
    "\n",
    "        tmp_tr_accuracy = accuracy_score(labels.cpu().numpy(), predictions.cpu().numpy())\n",
    "        tr_accuracy += tmp_tr_accuracy\n",
    "\n",
    "        # gradient clipping\n",
    "        torch.nn.utils.clip_grad_norm_(\n",
    "            parameters=model.parameters(), max_norm=config['MAX_GRAD_NORM']\n",
    "        )\n",
    "\n",
    "        # backward pass\n",
    "        optimizer.zero_grad()\n",
    "        loss.backward()\n",
    "        optimizer.step()\n",
    "\n",
    "    epoch_loss = tr_loss / nb_tr_steps\n",
    "    tr_accuracy = tr_accuracy / nb_tr_steps\n",
    "    print(f\"Training loss epoch: {epoch_loss}\")\n",
    "    print(f\"Training accuracy epoch: {tr_accuracy}\")"
   ],
   "metadata": {
    "collapsed": false,
    "ExecuteTime": {
     "start_time": "2024-03-10T23:59:28.254002800Z"
    }
   },
   "id": "f7e94d4fa7fcf56",
   "execution_count": null
  },
  {
   "cell_type": "markdown",
   "source": [
    "### Determine whether to run training"
   ],
   "metadata": {
    "collapsed": false
   },
   "id": "c93e2c9290498339"
  },
  {
   "cell_type": "code",
   "outputs": [],
   "source": [
    "run = False"
   ],
   "metadata": {
    "collapsed": false,
    "ExecuteTime": {
     "start_time": "2024-03-10T23:59:28.254998800Z"
    }
   },
   "id": "69830b7fb126a518",
   "execution_count": null
  },
  {
   "cell_type": "code",
   "outputs": [],
   "source": [
    "if run:\n",
    "    for epoch in range(config['EPOCHS']):\n",
    "        print(f\"Training epoch: {epoch + 1}\")\n",
    "        train(epoch)\n",
    "    run = False"
   ],
   "metadata": {
    "collapsed": false,
    "ExecuteTime": {
     "start_time": "2024-03-10T23:59:28.256992300Z"
    }
   },
   "id": "96f2d75ecb9dff33",
   "execution_count": null
  },
  {
   "cell_type": "markdown",
   "source": [
    "KeyError: 9637\n",
    "KeyError: 2326\n",
    "KeyError: 10126"
   ],
   "metadata": {
    "collapsed": false
   },
   "id": "9837ba74e4928d1e"
  },
  {
   "cell_type": "markdown",
   "source": [
    "Training epoch: 1\n",
    "Training loss per 100 training steps: 2.7618727684020996\n",
    "Training loss per 100 training steps: 0.16489562393272167\n",
    "Training loss per 100 training steps: 0.08506841691869974\n",
    "Training loss per 100 training steps: 0.05866454021836572\n",
    "Training loss per 100 training steps: 0.0448566305917337\n",
    "Training loss per 100 training steps: 0.03700114993198204\n",
    "Training loss per 100 training steps: 0.03148505321677023\n",
    "Training loss per 100 training steps: 0.027487104761941668\n",
    "Training loss per 100 training steps: 0.02472412176731074\n",
    "Training loss per 100 training steps: 0.022315634308862485\n",
    "Training loss per 100 training steps: 0.020358747662810657\n",
    "Training loss per 100 training steps: 0.018798588405868257\n",
    "Training loss per 100 training steps: 0.01771995336807788\n",
    "Training loss per 100 training steps: 0.016532918837726875\n",
    "Training loss per 100 training steps: 0.01559861331037873\n",
    "Training loss per 100 training steps: 0.014847838147105554\n",
    "Training loss per 100 training steps: 0.014085038305332555\n",
    "Training loss per 100 training steps: 0.01341761080099804\n",
    "Training loss per 100 training steps: 0.012970763410538278\n",
    "Training loss per 100 training steps: 0.01238988842706385\n",
    "Training loss per 100 training steps: 0.011946241673651273\n",
    "Training loss per 100 training steps: 0.011436048718409393\n",
    "Training loss per 100 training steps: 0.01119401791093853\n",
    "Training loss per 100 training steps: 0.01077323481422868\n",
    "Training loss per 100 training steps: 0.010417857425509335\n",
    "Training loss per 100 training steps: 0.010077849820839403\n",
    "Training loss per 100 training steps: 0.009746479573238202\n",
    "Training loss per 100 training steps: 0.009407942358349542\n",
    "Training loss per 100 training steps: 0.00914617103634552\n",
    "Training loss per 100 training steps: 0.008907846019452265\n",
    "Training loss per 100 training steps: 0.008657838686139311\n",
    "Training loss per 100 training steps: 0.008449268298699422\n",
    "Training loss per 100 training steps: 0.008295341608228847\n",
    "Training loss per 100 training steps: 0.008189213672816328\n",
    "Training loss per 100 training steps: 0.007978749200488505\n",
    "Training loss per 100 training steps: 0.007829300027857769\n",
    "Training loss per 100 training steps: 0.0077915255697598535\n",
    "Training loss per 100 training steps: 0.007615185001152273\n",
    "Training loss per 100 training steps: 0.007460967634521881\n",
    "Training loss per 100 training steps: 0.0073240728916386\n",
    "Training loss epoch: 0.007183262327166176\n",
    "Training accuracy epoch: 0.9988009906964034\n",
    "\n",
    "Execution Time: 2h 33m 45s\n",
    "Batch Size: 2\n",
    "LR: 1e-5\n",
    "Optimizer: Adam"
   ],
   "metadata": {
    "collapsed": false
   },
   "id": "ed29889bbe2c1675"
  },
  {
   "cell_type": "code",
   "outputs": [],
   "source": [
    "import os\n",
    "\n",
    "directory = config['model_path']\n",
    "\n",
    "if not os.path.exists(directory):\n",
    "    os.makedirs(directory)\n",
    "\n",
    "# save vocabulary of the tokenizer\n",
    "config['tokenizer'].save_vocabulary(directory)\n",
    "# save the model weights and its configuration file\n",
    "save_model = False\n",
    "if save_model:  \n",
    "    model.save_pretrained(directory)\n",
    "    print('All files saved')"
   ],
   "metadata": {
    "collapsed": false,
    "ExecuteTime": {
     "start_time": "2024-03-10T23:59:28.257988200Z"
    }
   },
   "id": "ceca1ecda831187e",
   "execution_count": null
  },
  {
   "cell_type": "code",
   "outputs": [],
   "source": [
    "model = BertForTokenClassification.from_pretrained(config['model_path'], num_labels=len(labels_to_ids))\n",
    "model1.to(config['device'])"
   ],
   "metadata": {
    "collapsed": false,
    "ExecuteTime": {
     "start_time": "2024-03-10T23:59:28.258985400Z"
    }
   },
   "id": "c26fd1e47af1be81",
   "execution_count": null
  },
  {
   "cell_type": "code",
   "outputs": [],
   "source": [
    "def valid(model, testing_loader):\n",
    "    # put model in evaluation mode\n",
    "    model.eval()\n",
    "    \n",
    "    eval_loss, eval_accuracy = 0, 0\n",
    "    nb_eval_examples, nb_eval_steps = 0, 0\n",
    "    eval_preds, eval_labels = [], []\n",
    "    \n",
    "    with torch.no_grad():\n",
    "        for idx, batch in enumerate(testing_loader):\n",
    "            \n",
    "            ids = batch['input_ids'].to(config['device'], dtype = torch.long)\n",
    "            mask = batch['attention_mask'].to(config['device'], dtype = torch.long)\n",
    "            labels = batch['labels'].to(config['device'], dtype = torch.long)\n",
    "\n",
    "            outputs = model(input_ids=ids.long(), attention_mask=mask.long(), labels=labels.long())\n",
    "            \n",
    "            loss = outputs[0]\n",
    "            eval_logits = outputs[1]\n",
    "            eval_loss += loss.item()\n",
    "            \n",
    "            nb_eval_steps += 1\n",
    "            nb_eval_examples += labels.size(0)\n",
    "        \n",
    "            if idx % 100==0:\n",
    "                loss_step = eval_loss/nb_eval_steps\n",
    "                print(f\"Validation loss per 100 evaluation steps: {loss_step}\")\n",
    "            \n",
    "            # compute evaluation accuracy\n",
    "            flattened_targets = labels.view(-1) # shape (batch_size * seq_len,)\n",
    "            active_logits = eval_logits.view(-1, model.num_labels) # shape (batch_size * seq_len, num_labels)\n",
    "            flattened_predictions = torch.argmax(active_logits, axis=1) # shape (batch_size * seq_len,)\n",
    "            \n",
    "            # only compute accuracy at active labels\n",
    "            active_accuracy = labels.view(-1) != -100 # shape (batch_size, seq_len)\n",
    "        \n",
    "            labels = torch.masked_select(flattened_targets, active_accuracy)\n",
    "            predictions = torch.masked_select(flattened_predictions, active_accuracy)\n",
    "            \n",
    "            eval_labels.extend(labels)\n",
    "            eval_preds.extend(predictions)\n",
    "            \n",
    "            tmp_eval_accuracy = accuracy_score(labels.cpu().numpy(), predictions.cpu().numpy())\n",
    "            eval_accuracy += tmp_eval_accuracy\n",
    "\n",
    "    labels = [ids_to_labels[id.item()] for id in eval_labels]\n",
    "    predictions = [ids_to_labels[id.item()] for id in eval_preds]\n",
    "    \n",
    "    eval_loss = eval_loss / nb_eval_steps\n",
    "    eval_accuracy = eval_accuracy / nb_eval_steps\n",
    "    print(f\"Validation Loss: {eval_loss}\")\n",
    "    print(f\"Validation Accuracy: {eval_accuracy}\")\n",
    "\n",
    "    return labels, predictions"
   ],
   "metadata": {
    "collapsed": false,
    "ExecuteTime": {
     "start_time": "2024-03-10T23:59:28.259981300Z"
    }
   },
   "id": "bf27e83a9dfd1782",
   "execution_count": null
  },
  {
   "cell_type": "code",
   "outputs": [],
   "source": [
    "labels, predictions = valid(model1, testing_loader)"
   ],
   "metadata": {
    "collapsed": false,
    "ExecuteTime": {
     "start_time": "2024-03-10T23:59:28.260978300Z"
    }
   },
   "id": "9cb7dd29878e90a5",
   "execution_count": null
  },
  {
   "cell_type": "markdown",
   "source": [
    "Validation loss per 100 evaluation steps: 4.3060306779807433e-05\n",
    "Validation loss per 100 evaluation steps: 0.0003900290700612189\n",
    "Validation loss per 100 evaluation steps: 0.0008872096701063255\n",
    "Validation loss per 100 evaluation steps: 0.0017595441007012122\n",
    "Validation loss per 100 evaluation steps: 0.001834294180439077\n",
    "Validation loss per 100 evaluation steps: 0.002054755131990794\n",
    "Validation loss per 100 evaluation steps: 0.0022841157073565164\n",
    "Validation loss per 100 evaluation steps: 0.0023434926568139487\n",
    "Validation loss per 100 evaluation steps: 0.0024022069384918767\n",
    "Validation loss per 100 evaluation steps: 0.0026039667075087917\n",
    "Validation Loss: 0.0025191350434306515\n",
    "Validation Accuracy: 0.9994422838479019\n",
    "Execution Time: 08m 07.238s"
   ],
   "metadata": {
    "collapsed": false
   },
   "id": "96cd553d7a51e0ea"
  },
  {
   "cell_type": "code",
   "outputs": [],
   "source": [
    "print(classification_report(labels, predictions))"
   ],
   "metadata": {
    "collapsed": false,
    "ExecuteTime": {
     "start_time": "2024-03-10T23:59:28.261975Z"
    }
   },
   "id": "96531add41c246ca",
   "execution_count": null
  },
  {
   "cell_type": "markdown",
   "source": [
    "About 50% for getting student names correct, 0% for the others"
   ],
   "metadata": {
    "collapsed": false
   },
   "id": "88b7ffc93337f0f9"
  }
 ],
 "metadata": {
  "kernelspec": {
   "display_name": "Python 3 (ipykernel)",
   "language": "python",
   "name": "python3"
  },
  "language_info": {
   "codemirror_mode": {
    "name": "ipython",
    "version": 3
   },
   "file_extension": ".py",
   "mimetype": "text/x-python",
   "name": "python",
   "nbconvert_exporter": "python",
   "pygments_lexer": "ipython3",
   "version": "3.11.4"
  }
 },
 "nbformat": 4,
 "nbformat_minor": 5
}
