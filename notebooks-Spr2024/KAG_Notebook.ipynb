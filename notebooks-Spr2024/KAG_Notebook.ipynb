{
  "cells": [
    {
      "cell_type": "markdown",
      "source": [
        "# Identifying PII in Student Essays\n",
        "## Project Summary\n",
        "The goal of this competition is to develop a model that detects sensitive personally identifiable information (PII) in student writing. This is necessary to screen and clean educational data so that when released to the public for analysis and archival, the students' risk are mitigated.\n",
        "\n",
        "## Cloning Repo\n",
        "Because one of the files is larger than 100MiB, the file could not be uploaded directly to the github repo. The solution found was using git large file system to hold the file and upload the git lfs pointer file in the place of the json.\n",
        "\n",
        "Git Bash Code:\n",
        "```\n",
        "# install git lfs\n",
        "git lfs install\n",
        "\n",
        "# start file tracking for git lfs in the repo\n",
        "git lfs track \"*.json\"\n",
        "\n",
        "# stage/commit/push training json\n",
        "git add train.json\n",
        "git commit -m \"add file.psd\"\n",
        "git push\n",
        "```\n",
        "After cloning the repo locally, it clones the git lfs pointer file not the data file.\n",
        "\n",
        "Git Bash Code:\n",
        "```\n",
        "# pull file from git lfs system into local repo using any pointer files\n",
        "git lfs pull\n",
        "```\n"
      ],
      "metadata": {
        "id": "chcr1ibHHbS_"
      },
      "id": "chcr1ibHHbS_"
    },
    {
      "cell_type": "markdown",
      "source": [
        "## Sources\n",
        "\n",
        "\n",
        "* [Persuade PII Dataset](https://www.kaggle.com/datasets/thedrcat/persuade-pii-dataset?rvi=1)\n",
        "  * Essays from Persuade corpus, modified with synthetic PII data and corresponding labels. It was filtered for essays that contain tokens that are relevant to competition.\n",
        "\n",
        "* [PII | External Dataset](https://www.kaggle.com/datasets/alejopaullier/pii-external-dataset?rvi=1)\n",
        "  * This is an LLM-generated external dataset that contains generated texts with their corresponding annotated labels in the required competition format.\n",
        "\n",
        "* [NEW DATASET PII Data Detection](https://www.kaggle.com/datasets/cristaliss/new-dataset-pii-data-detection?rvi=1)\n",
        "  * This dataset is a modified version of the official training which have the following changes: Revamped Labels, Token Transformation, and Token indexing\n",
        "\n",
        "* [PII Detection Dataset (GPT)](https://www.kaggle.com/datasets/pjmathematician/pii-detection-dataset-gpt)\n",
        "  * Personal data was created using python Faker package, which was then fed into the LLM to write an essay on. Overall, it contains 2000 gpt - generated essays and corresponding competition entities used in the essay.\n",
        "\n",
        "* [AI4privacy-PII](https://www.kaggle.com/datasets/verracodeguacas/ai4privacy-pii)\n",
        "  * The dataset is crafted using proprietary algorithms, ensuring the creation of synthetic data that avoids privacy violations. The data is meticulously curated with human-in-the-loop validation, ensuring both relevance and quality. It serves a crucial role in addressing the growing concerns around personal data security in AI applications.\n",
        "\n",
        "\n",
        "\n"
      ],
      "metadata": {
        "id": "w9Y2ymkF3KDW"
      },
      "id": "w9Y2ymkF3KDW"
    },
    {
      "cell_type": "markdown",
      "source": [
        "## Cleaning"
      ],
      "metadata": {
        "id": "8jWiYTLU1yF9"
      },
      "id": "8jWiYTLU1yF9"
    },
    {
      "cell_type": "code",
      "execution_count": null,
      "id": "initial_id",
      "metadata": {
        "collapsed": true,
        "id": "initial_id"
      },
      "outputs": [],
      "source": []
    }
  ],
  "metadata": {
    "kernelspec": {
      "display_name": "Python 3",
      "language": "python",
      "name": "python3"
    },
    "language_info": {
      "codemirror_mode": {
        "name": "ipython",
        "version": 2
      },
      "file_extension": ".py",
      "mimetype": "text/x-python",
      "name": "python",
      "nbconvert_exporter": "python",
      "pygments_lexer": "ipython2",
      "version": "2.7.6"
    },
    "colab": {
      "provenance": [],
      "toc_visible": true
    }
  },
  "nbformat": 4,
  "nbformat_minor": 5
}