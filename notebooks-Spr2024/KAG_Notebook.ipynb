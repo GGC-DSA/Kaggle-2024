{
 "cells": [
  {
   "cell_type": "markdown",
   "id": "c4ab4e93",
   "metadata": {},
   "source": [
    "## Kaggle Personal Identifiable Information Data Detection"
   ]
  },
  {
   "cell_type": "markdown",
   "id": "b6a74c23",
   "metadata": {},
   "source": [
    "The objective of the project is to create an AI model that detects personal identifiable information (PII) so they can be censored. This is important when releasing educational material to the public to protect the identity of students."
   ]
  },
  {
   "cell_type": "markdown",
   "id": "a4d0f631",
   "metadata": {},
   "source": [
    "### Datasets"
   ]
  },
  {
   "cell_type": "markdown",
   "id": "99a23107",
   "metadata": {},
   "source": [
    "The main dataset used for this project was provided by The Learning Agency, the hosts of the competition, through [Kaggle](https://www.kaggle.com/competitions/pii-detection-removal-from-educational-data/data).\\\n",
    "[This](https://github.com/GGC-DSA/Kaggle-2024/tree/main/datasets/Official) is the local location of the test and training data."
   ]
  }
 ],
 "metadata": {
  "kernelspec": {
   "display_name": "Python 3",
   "language": "python",
   "name": "python3"
  },
  "language_info": {
   "codemirror_mode": {
    "name": "ipython",
    "version": 2
   },
   "file_extension": ".py",
   "mimetype": "text/x-python",
   "name": "python",
   "nbconvert_exporter": "python",
   "pygments_lexer": "ipython2",
   "version": "2.7.6"
  }
 },
 "nbformat": 4,
 "nbformat_minor": 5
}
