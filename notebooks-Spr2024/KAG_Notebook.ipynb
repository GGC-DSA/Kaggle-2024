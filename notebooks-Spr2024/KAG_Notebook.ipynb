{
 "cells": [
  {
   "cell_type": "markdown",
   "id": "chcr1ibHHbS_",
   "metadata": {
    "id": "chcr1ibHHbS_"
   },
   "source": [
    "# Identifying PII in Student Essays\n",
    "## Project Summary\n",
    "The Kaggle Competition we are participating in is the [PII Data Detection hosted by The Learning Agency Lab](https://www.kaggle.com/competitions/pii-detection-removal-from-educational-data/overview). The goal of this competition is to develop a model that detects sensitive personally identifiable information (PII) in student writing. This is necessary to screen and clean educational data so that when released to the public for analysis and archival, the students' risk are mitigated.\n",
    "\n",
    "## Cloning Repo\n",
    "Because one of the files is larger than 100MiB, the file could not be uploaded directly to the github repo. The solution found was using git large file system to hold the file and upload the git lfs pointer file in the place of the json.\n",
    "\n",
    "Git Bash Code:\n",
    "```\n",
    "# install git lfs\n",
    "git lfs install\n",
    "\n",
    "# start file tracking for git lfs in the repo\n",
    "git lfs track \"*.json\"\n",
    "\n",
    "# stage/commit/push training json\n",
    "git add train.json\n",
    "git commit -m \"add train.json\"\n",
    "git push\n",
    "```\n",
    "After cloning the repo locally, it clones the git lfs pointer file not the data file.\n",
    "\n",
    "Git Bash Code:\n",
    "```\n",
    "# pull file from git lfs system into local repo using any pointer files\n",
    "git lfs pull\n",
    "```\n"
   ]
  },
  {
   "cell_type": "markdown",
   "id": "w9Y2ymkF3KDW",
   "metadata": {
    "id": "w9Y2ymkF3KDW"
   },
   "source": [
    "## External Data Sources\n",
    "\n",
    "* [Persuade PII Dataset](https://www.kaggle.com/datasets/thedrcat/persuade-pii-dataset?rvi=1)\n",
    "  * Essays from Persuade corpus, modified with synthetic PII data and corresponding labels. It was filtered for essays that contain tokens that are relevant to competition.\n",
    "\n",
    "* [PII | External Dataset](https://www.kaggle.com/datasets/alejopaullier/pii-external-dataset?rvi=1)\n",
    "  * This is an LLM-generated external dataset that contains generated texts with their corresponding annotated labels in the required competition format.\n",
    "\n",
    "* [NEW DATASET PII Data Detection](https://www.kaggle.com/datasets/cristaliss/new-dataset-pii-data-detection?rvi=1)\n",
    "  * This dataset is a modified version of the official training which have the following changes: Revamped Labels, Token Transformation, and Token indexing\n",
    "\n",
    "* [PII Detection Dataset (GPT)](https://www.kaggle.com/datasets/pjmathematician/pii-detection-dataset-gpt)\n",
    "  * Personal data was created using python Faker package, which was then fed into the LLM to write an essay on. Overall, it contains 2000 gpt - generated essays and corresponding competition entities used in the essay.\n",
    "\n",
    "* [AI4privacy-PII](https://www.kaggle.com/datasets/verracodeguacas/ai4privacy-pii)\n",
    "  * The dataset is crafted using proprietary algorithms, ensuring the creation of synthetic data that avoids privacy violations. The data is meticulously curated with human-in-the-loop validation, ensuring both relevance and quality. It serves a crucial role in addressing the growing concerns around personal data security in AI applications.\n",
    "\n"
   ]
  },
  {
   "cell_type": "markdown",
   "id": "Sh7s_CBjbahT",
   "metadata": {
    "id": "Sh7s_CBjbahT"
   },
   "source": [
    "## Python Libraries\n"
   ]
  },
  {
   "cell_type": "code",
   "execution_count": 1,
   "id": "TP4-5t-sbcdn",
   "metadata": {
    "id": "TP4-5t-sbcdn",
    "ExecuteTime": {
     "end_time": "2024-04-19T01:30:09.369343900Z",
     "start_time": "2024-04-19T01:29:59.859916900Z"
    }
   },
   "outputs": [],
   "source": [
    "try:\n",
    "    import pandas as pd\n",
    "    import numpy as np\n",
    "    import spacy as sp\n",
    "    import re\n",
    "    from transformers import AutoTokenizer, AutoModelForTokenClassification, Trainer, TrainingArguments, DataCollatorForTokenClassification\n",
    "    import json\n",
    "    from pathlib import Path\n",
    "    from datasets import Dataset\n",
    "    import evaluate\n",
    "except DeprecationWarning:\n",
    "    None"
   ]
  },
  {
   "cell_type": "markdown",
   "id": "5flL5Dcfbeij",
   "metadata": {
    "id": "5flL5Dcfbeij"
   },
   "source": [
    "## Loading Datasets\n"
   ]
  },
  {
   "cell_type": "markdown",
   "id": "_goOMIO_blf8",
   "metadata": {
    "id": "_goOMIO_blf8"
   },
   "source": [
    "### Official training data\n",
    "\n",
    "Only load into notebook after pulling from git LFS (see above)"
   ]
  },
  {
   "cell_type": "code",
   "execution_count": 2,
   "id": "g1ogxxEqbjHk",
   "metadata": {
    "id": "g1ogxxEqbjHk",
    "ExecuteTime": {
     "end_time": "2024-04-19T01:30:10.283694100Z",
     "start_time": "2024-04-19T01:30:09.368347100Z"
    }
   },
   "outputs": [
    {
     "data": {
      "text/plain": "      document                                          full_text  \\\n0            7  Design Thinking for innovation reflexion-Avril...   \n1           10  Diego Estrada\\n\\nDesign Thinking Assignment\\n\\...   \n2           16  Reporting process\\n\\nby Gilberto Gamboa\\n\\nCha...   \n3           20  Design Thinking for Innovation\\n\\nSindy Samaca...   \n4           56  Assignment:  Visualization Reflection  Submitt...   \n...        ...                                                ...   \n6802     22678  EXAMPLE – JOURNEY MAP\\n\\nTHE CHALLENGE    My w...   \n6803     22679  Why Mind Mapping?\\n\\nMind maps are graphical r...   \n6804     22681  Challenge\\n\\nSo, a few months back, I had chos...   \n6805     22684  Brainstorming\\n\\nChallenge & Selection\\n\\nBrai...   \n6806     22687  Mind Mapping\\n\\nChallenge\\n\\nMy consulting tea...   \n\n                                                 tokens  \\\n0     [Design, Thinking, for, innovation, reflexion,...   \n1     [Diego, Estrada, \\n\\n, Design, Thinking, Assig...   \n2     [Reporting, process, \\n\\n, by, Gilberto, Gambo...   \n3     [Design, Thinking, for, Innovation, \\n\\n, Sind...   \n4     [Assignment, :,   , Visualization,  , Reflecti...   \n...                                                 ...   \n6802  [EXAMPLE, –, JOURNEY, MAP, \\n\\n, THE, CHALLENG...   \n6803  [Why, Mind, Mapping, ?, \\n\\n, Mind, maps, are,...   \n6804  [Challenge, \\n\\n, So, ,, a, few, months, back,...   \n6805  [Brainstorming, \\n\\n, Challenge, &, Selection,...   \n6806  [Mind, Mapping, \\n\\n, Challenge, \\n\\n, My, con...   \n\n                                    trailing_whitespace  \\\n0     [True, True, True, True, False, False, True, F...   \n1     [True, False, False, True, True, False, False,...   \n2     [True, False, False, True, True, False, False,...   \n3     [True, True, True, False, False, True, False, ...   \n4     [False, False, False, False, False, False, Fal...   \n...                                                 ...   \n6802  [True, True, True, False, False, True, True, F...   \n6803  [True, True, False, False, False, True, True, ...   \n6804  [False, False, False, True, True, True, True, ...   \n6805  [False, False, True, True, False, False, True,...   \n6806  [True, False, False, False, False, True, True,...   \n\n                                                 labels  \n0     [O, O, O, O, O, O, O, O, O, B-NAME_STUDENT, I-...  \n1     [B-NAME_STUDENT, I-NAME_STUDENT, O, O, O, O, O...  \n2     [O, O, O, O, B-NAME_STUDENT, I-NAME_STUDENT, O...  \n3     [O, O, O, O, O, B-NAME_STUDENT, I-NAME_STUDENT...  \n4     [O, O, O, O, O, O, O, O, O, O, O, O, B-NAME_ST...  \n...                                                 ...  \n6802  [O, O, O, O, O, O, O, O, O, O, O, O, O, O, O, ...  \n6803  [O, O, O, O, O, O, O, O, O, O, O, O, O, O, O, ...  \n6804  [O, O, O, O, O, O, O, O, O, O, O, O, O, O, O, ...  \n6805  [O, O, O, O, O, O, O, O, O, O, O, O, O, O, O, ...  \n6806  [O, O, O, O, O, O, O, O, O, O, O, O, O, O, O, ...  \n\n[6807 rows x 5 columns]",
      "text/html": "<div>\n<style scoped>\n    .dataframe tbody tr th:only-of-type {\n        vertical-align: middle;\n    }\n\n    .dataframe tbody tr th {\n        vertical-align: top;\n    }\n\n    .dataframe thead th {\n        text-align: right;\n    }\n</style>\n<table border=\"1\" class=\"dataframe\">\n  <thead>\n    <tr style=\"text-align: right;\">\n      <th></th>\n      <th>document</th>\n      <th>full_text</th>\n      <th>tokens</th>\n      <th>trailing_whitespace</th>\n      <th>labels</th>\n    </tr>\n  </thead>\n  <tbody>\n    <tr>\n      <th>0</th>\n      <td>7</td>\n      <td>Design Thinking for innovation reflexion-Avril...</td>\n      <td>[Design, Thinking, for, innovation, reflexion,...</td>\n      <td>[True, True, True, True, False, False, True, F...</td>\n      <td>[O, O, O, O, O, O, O, O, O, B-NAME_STUDENT, I-...</td>\n    </tr>\n    <tr>\n      <th>1</th>\n      <td>10</td>\n      <td>Diego Estrada\\n\\nDesign Thinking Assignment\\n\\...</td>\n      <td>[Diego, Estrada, \\n\\n, Design, Thinking, Assig...</td>\n      <td>[True, False, False, True, True, False, False,...</td>\n      <td>[B-NAME_STUDENT, I-NAME_STUDENT, O, O, O, O, O...</td>\n    </tr>\n    <tr>\n      <th>2</th>\n      <td>16</td>\n      <td>Reporting process\\n\\nby Gilberto Gamboa\\n\\nCha...</td>\n      <td>[Reporting, process, \\n\\n, by, Gilberto, Gambo...</td>\n      <td>[True, False, False, True, True, False, False,...</td>\n      <td>[O, O, O, O, B-NAME_STUDENT, I-NAME_STUDENT, O...</td>\n    </tr>\n    <tr>\n      <th>3</th>\n      <td>20</td>\n      <td>Design Thinking for Innovation\\n\\nSindy Samaca...</td>\n      <td>[Design, Thinking, for, Innovation, \\n\\n, Sind...</td>\n      <td>[True, True, True, False, False, True, False, ...</td>\n      <td>[O, O, O, O, O, B-NAME_STUDENT, I-NAME_STUDENT...</td>\n    </tr>\n    <tr>\n      <th>4</th>\n      <td>56</td>\n      <td>Assignment:  Visualization Reflection  Submitt...</td>\n      <td>[Assignment, :,   , Visualization,  , Reflecti...</td>\n      <td>[False, False, False, False, False, False, Fal...</td>\n      <td>[O, O, O, O, O, O, O, O, O, O, O, O, B-NAME_ST...</td>\n    </tr>\n    <tr>\n      <th>...</th>\n      <td>...</td>\n      <td>...</td>\n      <td>...</td>\n      <td>...</td>\n      <td>...</td>\n    </tr>\n    <tr>\n      <th>6802</th>\n      <td>22678</td>\n      <td>EXAMPLE – JOURNEY MAP\\n\\nTHE CHALLENGE    My w...</td>\n      <td>[EXAMPLE, –, JOURNEY, MAP, \\n\\n, THE, CHALLENG...</td>\n      <td>[True, True, True, False, False, True, True, F...</td>\n      <td>[O, O, O, O, O, O, O, O, O, O, O, O, O, O, O, ...</td>\n    </tr>\n    <tr>\n      <th>6803</th>\n      <td>22679</td>\n      <td>Why Mind Mapping?\\n\\nMind maps are graphical r...</td>\n      <td>[Why, Mind, Mapping, ?, \\n\\n, Mind, maps, are,...</td>\n      <td>[True, True, False, False, False, True, True, ...</td>\n      <td>[O, O, O, O, O, O, O, O, O, O, O, O, O, O, O, ...</td>\n    </tr>\n    <tr>\n      <th>6804</th>\n      <td>22681</td>\n      <td>Challenge\\n\\nSo, a few months back, I had chos...</td>\n      <td>[Challenge, \\n\\n, So, ,, a, few, months, back,...</td>\n      <td>[False, False, False, True, True, True, True, ...</td>\n      <td>[O, O, O, O, O, O, O, O, O, O, O, O, O, O, O, ...</td>\n    </tr>\n    <tr>\n      <th>6805</th>\n      <td>22684</td>\n      <td>Brainstorming\\n\\nChallenge &amp; Selection\\n\\nBrai...</td>\n      <td>[Brainstorming, \\n\\n, Challenge, &amp;, Selection,...</td>\n      <td>[False, False, True, True, False, False, True,...</td>\n      <td>[O, O, O, O, O, O, O, O, O, O, O, O, O, O, O, ...</td>\n    </tr>\n    <tr>\n      <th>6806</th>\n      <td>22687</td>\n      <td>Mind Mapping\\n\\nChallenge\\n\\nMy consulting tea...</td>\n      <td>[Mind, Mapping, \\n\\n, Challenge, \\n\\n, My, con...</td>\n      <td>[True, False, False, False, False, True, True,...</td>\n      <td>[O, O, O, O, O, O, O, O, O, O, O, O, O, O, O, ...</td>\n    </tr>\n  </tbody>\n</table>\n<p>6807 rows × 5 columns</p>\n</div>"
     },
     "execution_count": 2,
     "metadata": {},
     "output_type": "execute_result"
    }
   ],
   "source": [
    "df_train = pd.read_json(\"../Datasets/Official/train.json\")\n",
    "df_train"
   ]
  },
  {
   "cell_type": "markdown",
   "id": "B7ZDz4fWbuoC",
   "metadata": {
    "id": "B7ZDz4fWbuoC"
   },
   "source": [
    "### Official testing data\n"
   ]
  },
  {
   "cell_type": "code",
   "execution_count": 3,
   "id": "g81NUyTHbtaA",
   "metadata": {
    "id": "g81NUyTHbtaA",
    "ExecuteTime": {
     "end_time": "2024-04-19T01:30:10.344490600Z",
     "start_time": "2024-04-19T01:30:10.283694100Z"
    }
   },
   "outputs": [
    {
     "data": {
      "text/plain": "   document                                          full_text  \\\n0         7  Design Thinking for innovation reflexion-Avril...   \n1        10  Diego Estrada\\n\\nDesign Thinking Assignment\\n\\...   \n2        16  Reporting process\\n\\nby Gilberto Gamboa\\n\\nCha...   \n3        20  Design Thinking for Innovation\\n\\nSindy Samaca...   \n4        56  Assignment:  Visualization Reflection  Submitt...   \n5        86  Cheese Startup - Learning Launch ​by Eladio Am...   \n6        93  Silvia Villalobos\\n\\nChallenge:\\n\\nThere is a ...   \n7       104  Storytelling  The Path to Innovation\\n\\nDr Sak...   \n8       112  Reflection – Learning Launch\\n\\nFrancisco Ferr...   \n9       123  Gandhi Institute of Technology and Management ...   \n\n                                              tokens  \\\n0  [Design, Thinking, for, innovation, reflexion,...   \n1  [Diego, Estrada, \\n\\n, Design, Thinking, Assig...   \n2  [Reporting, process, \\n\\n, by, Gilberto, Gambo...   \n3  [Design, Thinking, for, Innovation, \\n\\n, Sind...   \n4  [Assignment, :,   , Visualization,  , Reflecti...   \n5  [Cheese, Startup, -, Learning, Launch, ​by, El...   \n6  [Silvia, Villalobos, \\n\\n, Challenge, :, \\n\\n,...   \n7  [Storytelling,  , The, Path, to, Innovation, \\...   \n8  [Reflection, –, Learning, Launch, \\n\\n, Franci...   \n9  [Gandhi, Institute, of, Technology, and, Manag...   \n\n                                 trailing_whitespace  \n0  [True, True, True, True, False, False, True, F...  \n1  [True, False, False, True, True, False, False,...  \n2  [True, False, False, True, True, False, False,...  \n3  [True, True, True, False, False, True, False, ...  \n4  [False, False, False, False, False, False, Fal...  \n5  [True, True, True, True, True, True, True, Fal...  \n6  [True, False, False, False, False, False, True...  \n7  [True, False, True, True, True, False, False, ...  \n8  [True, True, True, False, False, True, False, ...  \n9  [True, True, True, True, True, True, False, Tr...  ",
      "text/html": "<div>\n<style scoped>\n    .dataframe tbody tr th:only-of-type {\n        vertical-align: middle;\n    }\n\n    .dataframe tbody tr th {\n        vertical-align: top;\n    }\n\n    .dataframe thead th {\n        text-align: right;\n    }\n</style>\n<table border=\"1\" class=\"dataframe\">\n  <thead>\n    <tr style=\"text-align: right;\">\n      <th></th>\n      <th>document</th>\n      <th>full_text</th>\n      <th>tokens</th>\n      <th>trailing_whitespace</th>\n    </tr>\n  </thead>\n  <tbody>\n    <tr>\n      <th>0</th>\n      <td>7</td>\n      <td>Design Thinking for innovation reflexion-Avril...</td>\n      <td>[Design, Thinking, for, innovation, reflexion,...</td>\n      <td>[True, True, True, True, False, False, True, F...</td>\n    </tr>\n    <tr>\n      <th>1</th>\n      <td>10</td>\n      <td>Diego Estrada\\n\\nDesign Thinking Assignment\\n\\...</td>\n      <td>[Diego, Estrada, \\n\\n, Design, Thinking, Assig...</td>\n      <td>[True, False, False, True, True, False, False,...</td>\n    </tr>\n    <tr>\n      <th>2</th>\n      <td>16</td>\n      <td>Reporting process\\n\\nby Gilberto Gamboa\\n\\nCha...</td>\n      <td>[Reporting, process, \\n\\n, by, Gilberto, Gambo...</td>\n      <td>[True, False, False, True, True, False, False,...</td>\n    </tr>\n    <tr>\n      <th>3</th>\n      <td>20</td>\n      <td>Design Thinking for Innovation\\n\\nSindy Samaca...</td>\n      <td>[Design, Thinking, for, Innovation, \\n\\n, Sind...</td>\n      <td>[True, True, True, False, False, True, False, ...</td>\n    </tr>\n    <tr>\n      <th>4</th>\n      <td>56</td>\n      <td>Assignment:  Visualization Reflection  Submitt...</td>\n      <td>[Assignment, :,   , Visualization,  , Reflecti...</td>\n      <td>[False, False, False, False, False, False, Fal...</td>\n    </tr>\n    <tr>\n      <th>5</th>\n      <td>86</td>\n      <td>Cheese Startup - Learning Launch ​by Eladio Am...</td>\n      <td>[Cheese, Startup, -, Learning, Launch, ​by, El...</td>\n      <td>[True, True, True, True, True, True, True, Fal...</td>\n    </tr>\n    <tr>\n      <th>6</th>\n      <td>93</td>\n      <td>Silvia Villalobos\\n\\nChallenge:\\n\\nThere is a ...</td>\n      <td>[Silvia, Villalobos, \\n\\n, Challenge, :, \\n\\n,...</td>\n      <td>[True, False, False, False, False, False, True...</td>\n    </tr>\n    <tr>\n      <th>7</th>\n      <td>104</td>\n      <td>Storytelling  The Path to Innovation\\n\\nDr Sak...</td>\n      <td>[Storytelling,  , The, Path, to, Innovation, \\...</td>\n      <td>[True, False, True, True, True, False, False, ...</td>\n    </tr>\n    <tr>\n      <th>8</th>\n      <td>112</td>\n      <td>Reflection – Learning Launch\\n\\nFrancisco Ferr...</td>\n      <td>[Reflection, –, Learning, Launch, \\n\\n, Franci...</td>\n      <td>[True, True, True, False, False, True, False, ...</td>\n    </tr>\n    <tr>\n      <th>9</th>\n      <td>123</td>\n      <td>Gandhi Institute of Technology and Management ...</td>\n      <td>[Gandhi, Institute, of, Technology, and, Manag...</td>\n      <td>[True, True, True, True, True, True, False, Tr...</td>\n    </tr>\n  </tbody>\n</table>\n</div>"
     },
     "execution_count": 3,
     "metadata": {},
     "output_type": "execute_result"
    }
   ],
   "source": [
    "df_test = pd.read_json(\"../Datasets/Official/test.json\")\n",
    "df_test"
   ]
  },
  {
   "cell_type": "markdown",
   "id": "8jWiYTLU1yF9",
   "metadata": {
    "id": "8jWiYTLU1yF9"
   },
   "source": [
    "## Cleaning\n",
    "To have some uniform input, each source dataframe needs to have a list of tokens from of the source text located in each row."
   ]
  },
  {
   "cell_type": "markdown",
   "id": "I1NxYq9KeUL4",
   "metadata": {
    "id": "I1NxYq9KeUL4"
   },
   "source": [
    "### Official training dataset\n",
    "Verify that there are no rows with any null values"
   ]
  },
  {
   "cell_type": "code",
   "execution_count": 4,
   "id": "initial_id",
   "metadata": {
    "collapsed": true,
    "id": "initial_id",
    "ExecuteTime": {
     "end_time": "2024-04-19T01:30:10.409274700Z",
     "start_time": "2024-04-19T01:30:10.314590800Z"
    }
   },
   "outputs": [],
   "source": [
    "# df_train[df_train.isnull().any(axis = 1)]"
   ]
  },
  {
   "cell_type": "markdown",
   "id": "YD43I84iecuM",
   "metadata": {
    "id": "YD43I84iecuM"
   },
   "source": [
    "### Official test dataset\n",
    "Verify that there are no rows with any null values"
   ]
  },
  {
   "cell_type": "code",
   "execution_count": 5,
   "id": "Z5eMI7UHecTu",
   "metadata": {
    "id": "Z5eMI7UHecTu",
    "ExecuteTime": {
     "end_time": "2024-04-19T01:30:10.457114300Z",
     "start_time": "2024-04-19T01:30:10.328544400Z"
    }
   },
   "outputs": [
    {
     "data": {
      "text/plain": "Empty DataFrame\nColumns: [document, full_text, tokens, trailing_whitespace]\nIndex: []",
      "text/html": "<div>\n<style scoped>\n    .dataframe tbody tr th:only-of-type {\n        vertical-align: middle;\n    }\n\n    .dataframe tbody tr th {\n        vertical-align: top;\n    }\n\n    .dataframe thead th {\n        text-align: right;\n    }\n</style>\n<table border=\"1\" class=\"dataframe\">\n  <thead>\n    <tr style=\"text-align: right;\">\n      <th></th>\n      <th>document</th>\n      <th>full_text</th>\n      <th>tokens</th>\n      <th>trailing_whitespace</th>\n    </tr>\n  </thead>\n  <tbody>\n  </tbody>\n</table>\n</div>"
     },
     "execution_count": 5,
     "metadata": {},
     "output_type": "execute_result"
    }
   ],
   "source": [
    "df_test[df_test.isnull().any(axis = 1)]"
   ]
  },
  {
   "cell_type": "markdown",
   "id": "3c7007b1",
   "metadata": {},
   "source": [
    "# Preparing Model Inputs"
   ]
  },
  {
   "cell_type": "markdown",
   "id": "0ebd3d9d",
   "metadata": {},
   "source": [
    "### Loading and Cleaning Datasets"
   ]
  },
  {
   "cell_type": "code",
   "execution_count": 6,
   "id": "43fe2971",
   "metadata": {
    "ExecuteTime": {
     "end_time": "2024-04-19T01:30:10.547810600Z",
     "start_time": "2024-04-19T01:30:10.346484700Z"
    }
   },
   "outputs": [],
   "source": [
    "import pandas as pd\n",
    "import numpy as np\n",
    "import spacy as sp\n",
    "import re\n",
    "import os\n",
    "import transformers\n",
    "import torch\n",
    "import sklearn\n",
    "import matplotlib.pyplot as plt\n",
    "import seaborn as sns\n",
    "\n",
    "\n",
    "from sklearn.model_selection import train_test_split\n",
    "from sklearn.metrics import accuracy_score\n",
    "from sklearn.metrics import classification_report\n",
    "\n",
    "\n",
    "import torch.nn as nn\n",
    "from torch import cuda\n",
    "# from torch.utils.data import Dataset, DataLoader\n",
    "\n",
    "from transformers import BertTokenizerFast, BertConfig, BertForTokenClassification, AutoTokenizer\n",
    "\n",
    "\n",
    "\n",
    "import warnings\n",
    "warnings.filterwarnings('ignore')\n",
    "torch.cuda.empty_cache()"
   ]
  },
  {
   "cell_type": "markdown",
   "id": "e0af4e18",
   "metadata": {},
   "source": [
    "### Config\n",
    "\n",
    "This section does initial configuration, loading our the bert pretained model that we use, as well as setting up hyper parameters like `EPOCHS` and `LEARNING_RATE`"
   ]
  },
  {
   "cell_type": "code",
   "outputs": [],
   "source": [
    "class Config():\n",
    "    def __init__(self, platform, model_name, pretrained_model_name):\n",
    "        # platform = 'Kaggle'# \n",
    "        if platform == 'Kaggle':\n",
    "            pretrained_model = '../input/huggingface-bert/' + pretrained_model_name + '/'\n",
    "            train_path = 'path_TBD/train.json'\n",
    "            # test_path = ''\n",
    "            model_path = 'path_TBD/' + model_name\n",
    "        elif platform == 'local':\n",
    "            model_path = '../models/bert_models/' + model_name\n",
    "        \n",
    "        self.config = {\n",
    "            'MAX_LEN': 128,\n",
    "            'TRAIN_BATCH_SIZE': 4,\n",
    "            'VALID_BATCH_SIZE': 2,\n",
    "            'EPOCHS': 1,\n",
    "            'LEARNING_RATE':1e-5,\n",
    "            'MAX_GRAD_NORM': 10,\n",
    "            'device': 'cuda' if cuda.is_available() else 'cpu',\n",
    "            # 'device': 'cpu',\n",
    "            'model_path': model_path,\n",
    "            'pretrained_model': pretrained_model_name,\n",
    "            'tokenizer': BertTokenizerFast.from_pretrained(pretrained_model_name),\n",
    "            'threshold': 0.9\n",
    "        }"
   ],
   "metadata": {
    "collapsed": false,
    "ExecuteTime": {
     "end_time": "2024-04-19T01:30:10.549802800Z",
     "start_time": "2024-04-19T01:30:10.393326900Z"
    }
   },
   "id": "6cd86d53a9a80b8e",
   "execution_count": 7
  },
  {
   "cell_type": "code",
   "outputs": [],
   "source": [
    "platform = 'local'\n",
    "pretrainend_model_name = 'bert-base-cased'\n",
    "model_num = 1\n",
    "model_name = 'model' + str(model_num) + '-' + pretrainend_model_name +'.bin'\n",
    "\n",
    "config = Config(platform,model_name, pretrainend_model_name).config"
   ],
   "metadata": {
    "collapsed": false,
    "ExecuteTime": {
     "end_time": "2024-04-19T01:30:10.677381Z",
     "start_time": "2024-04-19T01:30:10.409274700Z"
    }
   },
   "id": "b9c2cc28704c1691",
   "execution_count": 8
  },
  {
   "cell_type": "markdown",
   "source": [
    "Requires:\n",
    "```git lfs track \"*.safetensors\"```\n",
    "to clone model from github"
   ],
   "metadata": {
    "collapsed": false
   },
   "id": "13b3e54a69cc2244"
  },
  {
   "cell_type": "markdown",
   "source": [
    "If using IDE, Run \n",
    "```\n",
    "python -m spacy download en_core_web_sm\n",
    "```\n",
    "in the bash to install the english spacy pipline"
   ],
   "metadata": {
    "collapsed": false
   },
   "id": "7475f3babf61890d"
  },
  {
   "cell_type": "markdown",
   "source": [
    "## Official Datasets"
   ],
   "metadata": {
    "collapsed": false
   },
   "id": "134fd0f3b28a89d8"
  },
  {
   "cell_type": "markdown",
   "source": [
    "### Data and Exploration"
   ],
   "metadata": {
    "collapsed": false
   },
   "id": "828ce647f2c40757"
  },
  {
   "cell_type": "code",
   "outputs": [
    {
     "data": {
      "text/plain": "0       [O, O, O, O, O, O, O, O, O, B-NAME_STUDENT, I-...\n1       [B-NAME_STUDENT, I-NAME_STUDENT, O, O, O, O, O...\n2       [O, O, O, O, B-NAME_STUDENT, I-NAME_STUDENT, O...\n3       [O, O, O, O, O, B-NAME_STUDENT, I-NAME_STUDENT...\n4       [O, O, O, O, O, O, O, O, O, O, O, O, B-NAME_ST...\n                              ...                        \n6802    [O, O, O, O, O, O, O, O, O, O, O, O, O, O, O, ...\n6803    [O, O, O, O, O, O, O, O, O, O, O, O, O, O, O, ...\n6804    [O, O, O, O, O, O, O, O, O, O, O, O, O, O, O, ...\n6805    [O, O, O, O, O, O, O, O, O, O, O, O, O, O, O, ...\n6806    [O, O, O, O, O, O, O, O, O, O, O, O, O, O, O, ...\nName: labels, Length: 6807, dtype: object"
     },
     "execution_count": 9,
     "metadata": {},
     "output_type": "execute_result"
    }
   ],
   "source": [
    "df = pd.read_json(\"../Datasets/Official/train.json\")\n",
    "df['labels']"
   ],
   "metadata": {
    "collapsed": false,
    "ExecuteTime": {
     "end_time": "2024-04-19T01:30:11.415464Z",
     "start_time": "2024-04-19T01:30:10.661430700Z"
    }
   },
   "id": "5fd075c228cca087",
   "execution_count": 9
  },
  {
   "cell_type": "code",
   "outputs": [],
   "source": [
    "# df[df.isnull().any(axis = 1)]"
   ],
   "metadata": {
    "collapsed": false,
    "ExecuteTime": {
     "end_time": "2024-04-19T01:30:11.443371200Z",
     "start_time": "2024-04-19T01:30:11.411477600Z"
    }
   },
   "id": "3d48db8f4548da3f",
   "execution_count": 10
  },
  {
   "cell_type": "markdown",
   "source": [
    "## Hypothesis testing"
   ],
   "metadata": {
    "collapsed": false
   },
   "id": "e0caca142fad754"
  },
  {
   "cell_type": "markdown",
   "source": [
    "### Proportion of PII as a percentage of the text\n",
    "\n",
    "H0: The proportion of PII in each text is zero.​\n",
    "\n",
    "Ha: The proportion of PII in each text is not zero."
   ],
   "metadata": {
    "collapsed": false
   },
   "id": "d7ebedb8abb81266"
  },
  {
   "cell_type": "code",
   "outputs": [
    {
     "data": {
      "text/plain": "<Figure size 640x480 with 1 Axes>",
      "image/png": "[encoded data removed]"
     },
     "metadata": {},
     "output_type": "display_data"
    }
   ],
   "source": [
    "import numpy as np\n",
    "\n",
    "labels = df['labels']\n",
    "\n",
    "non_o_values = df.apply(lambda line: sum(1 for x in line['labels'] if x != 'O')/ len(line['labels']), axis = 1)\n",
    "\n",
    "proportions_array = np.array(non_o_values)\n",
    "\n",
    "plt.hist(proportions_array, bins=20, color='blue', edgecolor='black', alpha=0.7)\n",
    "plt.xlabel('Proportion of PII Values in Text')\n",
    "plt.ylabel('Frequency (Log Scaled)')\n",
    "plt.yscale('log')\n",
    "plt.title('Distribution of PII Values in Text')\n",
    "plt.show()"
   ],
   "metadata": {
    "collapsed": false,
    "ExecuteTime": {
     "end_time": "2024-04-19T01:30:12.002349Z",
     "start_time": "2024-04-19T01:30:11.424434Z"
    }
   },
   "id": "14e8d8290e55afab",
   "execution_count": 11
  },
  {
   "cell_type": "markdown",
   "source": [
    "Since the p-value is below alpha (0.01) we reject the null hypothesis."
   ],
   "metadata": {
    "collapsed": false
   },
   "id": "580d9d3db79ccc7e"
  },
  {
   "cell_type": "code",
   "outputs": [
    {
     "name": "stdout",
     "output_type": "stream",
     "text": [
      "t-statistic: 22.91577515140053\n",
      "p-value: 5.142762049402132e-112\n"
     ]
    }
   ],
   "source": [
    "import scipy.stats as stats\n",
    "t_statistic, p_value = stats.ttest_1samp(proportions_array, 0)\n",
    "\n",
    "print(\"t-statistic:\", t_statistic)\n",
    "print(\"p-value:\", p_value)"
   ],
   "metadata": {
    "collapsed": false,
    "ExecuteTime": {
     "end_time": "2024-04-19T01:30:12.017300200Z",
     "start_time": "2024-04-19T01:30:11.995372200Z"
    }
   },
   "id": "4d957d855cb3442b",
   "execution_count": 12
  },
  {
   "cell_type": "markdown",
   "source": [
    "### Proprtion of each type of PII\n",
    "\n",
    "H0: All PII have equal likelihood of appearing.​\n",
    "\n",
    "Ha: Name PII are more likely to appear.​"
   ],
   "metadata": {
    "collapsed": false
   },
   "id": "d4b2db906f9030d9"
  },
  {
   "cell_type": "code",
   "outputs": [
    {
     "data": {
      "text/plain": "<Figure size 640x480 with 1 Axes>",
      "image/png": "[encoded data removed]"
     },
     "metadata": {},
     "output_type": "display_data"
    }
   ],
   "source": [
    "from collections import Counter\n",
    "c = Counter()\n",
    "df.apply(lambda line: c.update(line.labels), axis = 1)\n",
    "c_pii = c.most_common()[1:]\n",
    "c_key, c_val = zip(*c_pii)\n",
    "plt.barh(c_key, c_val)\n",
    "# plt.ylabel('PII Labels', horizontalalignment='left')\n",
    "plt.title(\"Occurrences of PII Type in Text\")\n",
    "# plt.subplots_adjust(left=0.2)\n",
    "# plt.gca().get_yticklabels() # This gets the current y-axis tick labels\n",
    "pos = plt.gca().get_position()\n",
    "plt.gca().set_position([pos.x0 + 0.9, pos.y0 + 0.9, pos.width * 0.9, pos.height * 0.9])\n",
    "[tl.set_horizontalalignment('left') for tl in plt.gca().get_yticklabels()]\n",
    "plt.show()"
   ],
   "metadata": {
    "collapsed": false,
    "ExecuteTime": {
     "end_time": "2024-04-19T01:30:12.279932Z",
     "start_time": "2024-04-19T01:30:12.009325500Z"
    }
   },
   "id": "c4f4326079bc952",
   "execution_count": 13
  },
  {
   "cell_type": "markdown",
   "source": [
    "### Positional distribution of most popular PII\n",
    "\n",
    "H0: PII is evenly distributed across the length of an essay.​​\n",
    "\n",
    "Ha: PII is more likely to appear in the beginning of the essay.​"
   ],
   "metadata": {
    "collapsed": false
   },
   "id": "beec080f9376a252"
  },
  {
   "cell_type": "code",
   "outputs": [
    {
     "data": {
      "text/plain": "Text(0.5, 1.0, 'B-URL')"
     },
     "execution_count": 14,
     "metadata": {},
     "output_type": "execute_result"
    },
    {
     "data": {
      "text/plain": "<Figure size 1500x500 with 3 Axes>",
      "image/png": "[encoded data removed]"
     },
     "metadata": {},
     "output_type": "display_data"
    }
   ],
   "source": [
    "# Creates a dictionary for each position in the text (beginning, middle, and end)\n",
    "positions = {\n",
    "    'beginning': lambda x: x[:int(len(x)/3)],\n",
    "    'middle': lambda x: x[int(len(x)/3):int(-len(x)/3)],\n",
    "    'end': lambda x: x[int(-len(x)/3):-1]\n",
    "}\n",
    "\n",
    "label_counts = {pos: {} for pos in positions}\n",
    "for arr in df['labels']:\n",
    "    for pos, func in positions.items():\n",
    "            arr = func(arr)\n",
    "            for label in arr:\n",
    "                if label in label_counts[pos]:\n",
    "                        label_counts[pos][label] += 1\n",
    "                else:\n",
    "                        label_counts[pos][label] = 1\n",
    "\n",
    "\n",
    "beginning_labels = label_counts['beginning']\n",
    "middle_labels = label_counts['middle']\n",
    "end_labels = label_counts['end']\n",
    "\n",
    "# B-NAME_STUDENT\n",
    "# I-NAME_STUDENT\n",
    "# B-URL_PERSONAL\n",
    "\n",
    "B_name = [beginning_labels['B-NAME_STUDENT'],\n",
    "        middle_labels['B-NAME_STUDENT'],\n",
    "        end_labels['B-NAME_STUDENT']]\n",
    "\n",
    "I_name = [beginning_labels['I-NAME_STUDENT'],\n",
    "        middle_labels['I-NAME_STUDENT'],\n",
    "        end_labels['I-NAME_STUDENT']]\n",
    "\n",
    "B_url = [beginning_labels['B-URL_PERSONAL'],\n",
    "        middle_labels['B-URL_PERSONAL'],\n",
    "        end_labels['B-URL_PERSONAL']]\n",
    "\n",
    "locations = ['Beginning', 'Middle', 'End']\n",
    "\n",
    "fig, ax = plt.subplots(1,3, figsize=(15, 5))\n",
    "fig.suptitle('Frequency of most popular labels at different positions in the text')\n",
    "ax[0].set_ylabel('Frequency')\n",
    "ax[0].bar(locations, B_name)\n",
    "ax[0].set_title('B-Name')\n",
    "ax[1].bar(locations, I_name)\n",
    "ax[1].set_title('I-Name')\n",
    "ax[2].bar(locations, B_url)\n",
    "ax[2].set_title('B-URL')"
   ],
   "metadata": {
    "collapsed": false,
    "ExecuteTime": {
     "end_time": "2024-04-19T01:30:12.781249Z",
     "start_time": "2024-04-19T01:30:12.280923600Z"
    }
   },
   "id": "8f8c18a3ed3a89ea",
   "execution_count": 14
  },
  {
   "cell_type": "code",
   "outputs": [
    {
     "data": {
      "text/plain": "[('B-NAME_STUDENT', 1365),\n ('I-NAME_STUDENT', 1096),\n ('B-URL_PERSONAL', 110),\n ('B-ID_NUM', 78),\n ('B-EMAIL', 39),\n ('I-STREET_ADDRESS', 20),\n ('I-PHONE_NUM', 15),\n ('B-USERNAME', 6),\n ('B-PHONE_NUM', 6),\n ('B-STREET_ADDRESS', 2),\n ('I-URL_PERSONAL', 1),\n ('I-ID_NUM', 1)]"
     },
     "execution_count": 15,
     "metadata": {},
     "output_type": "execute_result"
    }
   ],
   "source": [
    "c_pii"
   ],
   "metadata": {
    "collapsed": false,
    "ExecuteTime": {
     "end_time": "2024-04-19T01:30:12.832079700Z",
     "start_time": "2024-04-19T01:30:12.782246500Z"
    }
   },
   "id": "c4f3cf548cb8022e",
   "execution_count": 15
  },
  {
   "cell_type": "code",
   "outputs": [
    {
     "data": {
      "text/plain": "{'O': 0,\n 'B-NAME_STUDENT': 1,\n 'I-NAME_STUDENT': 2,\n 'B-URL_PERSONAL': 3,\n 'B-EMAIL': 4,\n 'B-ID_NUM': 5,\n 'I-URL_PERSONAL': 6,\n 'B-USERNAME': 7,\n 'B-PHONE_NUM': 8,\n 'I-PHONE_NUM': 9,\n 'B-STREET_ADDRESS': 10,\n 'I-STREET_ADDRESS': 11,\n 'I-ID_NUM': 12}"
     },
     "execution_count": 16,
     "metadata": {},
     "output_type": "execute_result"
    }
   ],
   "source": [
    "labels_to_ids = {k: v for v, k in enumerate(c.keys())}\n",
    "ids_to_labels = {v: k for v, k in enumerate(c.keys())}\n",
    "labels_to_ids"
   ],
   "metadata": {
    "collapsed": false,
    "ExecuteTime": {
     "end_time": "2024-04-19T01:30:12.834076500Z",
     "start_time": "2024-04-19T01:30:12.797196500Z"
    }
   },
   "id": "c2a2877c1ea19d41",
   "execution_count": 16
  },
  {
   "cell_type": "markdown",
   "source": [
    "## Preprocessing\n",
    "\n",
    "First we scoured the data to find the usuable text with our pretrained model with Regex."
   ],
   "metadata": {
    "collapsed": false
   },
   "id": "e5adbd20edc7c296"
  },
  {
   "cell_type": "code",
   "outputs": [
    {
     "data": {
      "text/plain": "0.06184809754664311"
     },
     "execution_count": 17,
     "metadata": {},
     "output_type": "execute_result"
    }
   ],
   "source": [
    "pattern = re.compile('\\xa0|\\uf0b7|\\u200b')\n",
    "df.loc[:,'full_text'] = df.loc[:,'full_text'].replace(pattern, ' ')\n",
    "df.loc[:,'tokens'] = df.loc[:,'tokens'].apply(lambda line: [tok for tok in line if not re.search(pattern,tok)])\n",
    "\n",
    "df_usable = df.iloc[df[~(df.tokens.apply(len) != df.labels.apply(len))].index]\n",
    "1-(len(df_usable))/len(df.document)"
   ],
   "metadata": {
    "collapsed": false,
    "ExecuteTime": {
     "end_time": "2024-04-19T01:30:16.538756900Z",
     "start_time": "2024-04-19T01:30:12.812149900Z"
    }
   },
   "id": "8e8f360e3e690fb",
   "execution_count": 17
  },
  {
   "cell_type": "code",
   "outputs": [
    {
     "data": {
      "text/plain": "      document                                          full_text  \\\n0            7  Design Thinking for innovation reflexion-Avril...   \n1           10  Diego Estrada\\n\\nDesign Thinking Assignment\\n\\...   \n2           16  Reporting process\\n\\nby Gilberto Gamboa\\n\\nCha...   \n3           20  Design Thinking for Innovation\\n\\nSindy Samaca...   \n6           93  Silvia Villalobos\\n\\nChallenge:\\n\\nThere is a ...   \n...        ...                                                ...   \n6802     22678  EXAMPLE – JOURNEY MAP\\n\\nTHE CHALLENGE    My w...   \n6803     22679  Why Mind Mapping?\\n\\nMind maps are graphical r...   \n6804     22681  Challenge\\n\\nSo, a few months back, I had chos...   \n6805     22684  Brainstorming\\n\\nChallenge & Selection\\n\\nBrai...   \n6806     22687  Mind Mapping\\n\\nChallenge\\n\\nMy consulting tea...   \n\n                                                 tokens  \\\n0     [Design, Thinking, for, innovation, reflexion,...   \n1     [Diego, Estrada, \\n\\n, Design, Thinking, Assig...   \n2     [Reporting, process, \\n\\n, by, Gilberto, Gambo...   \n3     [Design, Thinking, for, Innovation, \\n\\n, Sind...   \n6     [Silvia, Villalobos, \\n\\n, Challenge, :, \\n\\n,...   \n...                                                 ...   \n6802  [EXAMPLE, –, JOURNEY, MAP, \\n\\n, THE, CHALLENG...   \n6803  [Why, Mind, Mapping, ?, \\n\\n, Mind, maps, are,...   \n6804  [Challenge, \\n\\n, So, ,, a, few, months, back,...   \n6805  [Brainstorming, \\n\\n, Challenge, &, Selection,...   \n6806  [Mind, Mapping, \\n\\n, Challenge, \\n\\n, My, con...   \n\n                                    trailing_whitespace  \\\n0     [True, True, True, True, False, False, True, F...   \n1     [True, False, False, True, True, False, False,...   \n2     [True, False, False, True, True, False, False,...   \n3     [True, True, True, False, False, True, False, ...   \n6     [True, False, False, False, False, False, True...   \n...                                                 ...   \n6802  [True, True, True, False, False, True, True, F...   \n6803  [True, True, False, False, False, True, True, ...   \n6804  [False, False, False, True, True, True, True, ...   \n6805  [False, False, True, True, False, False, True,...   \n6806  [True, False, False, False, False, True, True,...   \n\n                                                 labels  \n0     [O, O, O, O, O, O, O, O, O, B-NAME_STUDENT, I-...  \n1     [B-NAME_STUDENT, I-NAME_STUDENT, O, O, O, O, O...  \n2     [O, O, O, O, B-NAME_STUDENT, I-NAME_STUDENT, O...  \n3     [O, O, O, O, O, B-NAME_STUDENT, I-NAME_STUDENT...  \n6     [B-NAME_STUDENT, I-NAME_STUDENT, O, O, O, O, O...  \n...                                                 ...  \n6802  [O, O, O, O, O, O, O, O, O, O, O, O, O, O, O, ...  \n6803  [O, O, O, O, O, O, O, O, O, O, O, O, O, O, O, ...  \n6804  [O, O, O, O, O, O, O, O, O, O, O, O, O, O, O, ...  \n6805  [O, O, O, O, O, O, O, O, O, O, O, O, O, O, O, ...  \n6806  [O, O, O, O, O, O, O, O, O, O, O, O, O, O, O, ...  \n\n[6386 rows x 5 columns]",
      "text/html": "<div>\n<style scoped>\n    .dataframe tbody tr th:only-of-type {\n        vertical-align: middle;\n    }\n\n    .dataframe tbody tr th {\n        vertical-align: top;\n    }\n\n    .dataframe thead th {\n        text-align: right;\n    }\n</style>\n<table border=\"1\" class=\"dataframe\">\n  <thead>\n    <tr style=\"text-align: right;\">\n      <th></th>\n      <th>document</th>\n      <th>full_text</th>\n      <th>tokens</th>\n      <th>trailing_whitespace</th>\n      <th>labels</th>\n    </tr>\n  </thead>\n  <tbody>\n    <tr>\n      <th>0</th>\n      <td>7</td>\n      <td>Design Thinking for innovation reflexion-Avril...</td>\n      <td>[Design, Thinking, for, innovation, reflexion,...</td>\n      <td>[True, True, True, True, False, False, True, F...</td>\n      <td>[O, O, O, O, O, O, O, O, O, B-NAME_STUDENT, I-...</td>\n    </tr>\n    <tr>\n      <th>1</th>\n      <td>10</td>\n      <td>Diego Estrada\\n\\nDesign Thinking Assignment\\n\\...</td>\n      <td>[Diego, Estrada, \\n\\n, Design, Thinking, Assig...</td>\n      <td>[True, False, False, True, True, False, False,...</td>\n      <td>[B-NAME_STUDENT, I-NAME_STUDENT, O, O, O, O, O...</td>\n    </tr>\n    <tr>\n      <th>2</th>\n      <td>16</td>\n      <td>Reporting process\\n\\nby Gilberto Gamboa\\n\\nCha...</td>\n      <td>[Reporting, process, \\n\\n, by, Gilberto, Gambo...</td>\n      <td>[True, False, False, True, True, False, False,...</td>\n      <td>[O, O, O, O, B-NAME_STUDENT, I-NAME_STUDENT, O...</td>\n    </tr>\n    <tr>\n      <th>3</th>\n      <td>20</td>\n      <td>Design Thinking for Innovation\\n\\nSindy Samaca...</td>\n      <td>[Design, Thinking, for, Innovation, \\n\\n, Sind...</td>\n      <td>[True, True, True, False, False, True, False, ...</td>\n      <td>[O, O, O, O, O, B-NAME_STUDENT, I-NAME_STUDENT...</td>\n    </tr>\n    <tr>\n      <th>6</th>\n      <td>93</td>\n      <td>Silvia Villalobos\\n\\nChallenge:\\n\\nThere is a ...</td>\n      <td>[Silvia, Villalobos, \\n\\n, Challenge, :, \\n\\n,...</td>\n      <td>[True, False, False, False, False, False, True...</td>\n      <td>[B-NAME_STUDENT, I-NAME_STUDENT, O, O, O, O, O...</td>\n    </tr>\n    <tr>\n      <th>...</th>\n      <td>...</td>\n      <td>...</td>\n      <td>...</td>\n      <td>...</td>\n      <td>...</td>\n    </tr>\n    <tr>\n      <th>6802</th>\n      <td>22678</td>\n      <td>EXAMPLE – JOURNEY MAP\\n\\nTHE CHALLENGE    My w...</td>\n      <td>[EXAMPLE, –, JOURNEY, MAP, \\n\\n, THE, CHALLENG...</td>\n      <td>[True, True, True, False, False, True, True, F...</td>\n      <td>[O, O, O, O, O, O, O, O, O, O, O, O, O, O, O, ...</td>\n    </tr>\n    <tr>\n      <th>6803</th>\n      <td>22679</td>\n      <td>Why Mind Mapping?\\n\\nMind maps are graphical r...</td>\n      <td>[Why, Mind, Mapping, ?, \\n\\n, Mind, maps, are,...</td>\n      <td>[True, True, False, False, False, True, True, ...</td>\n      <td>[O, O, O, O, O, O, O, O, O, O, O, O, O, O, O, ...</td>\n    </tr>\n    <tr>\n      <th>6804</th>\n      <td>22681</td>\n      <td>Challenge\\n\\nSo, a few months back, I had chos...</td>\n      <td>[Challenge, \\n\\n, So, ,, a, few, months, back,...</td>\n      <td>[False, False, False, True, True, True, True, ...</td>\n      <td>[O, O, O, O, O, O, O, O, O, O, O, O, O, O, O, ...</td>\n    </tr>\n    <tr>\n      <th>6805</th>\n      <td>22684</td>\n      <td>Brainstorming\\n\\nChallenge &amp; Selection\\n\\nBrai...</td>\n      <td>[Brainstorming, \\n\\n, Challenge, &amp;, Selection,...</td>\n      <td>[False, False, True, True, False, False, True,...</td>\n      <td>[O, O, O, O, O, O, O, O, O, O, O, O, O, O, O, ...</td>\n    </tr>\n    <tr>\n      <th>6806</th>\n      <td>22687</td>\n      <td>Mind Mapping\\n\\nChallenge\\n\\nMy consulting tea...</td>\n      <td>[Mind, Mapping, \\n\\n, Challenge, \\n\\n, My, con...</td>\n      <td>[True, False, False, False, False, True, True,...</td>\n      <td>[O, O, O, O, O, O, O, O, O, O, O, O, O, O, O, ...</td>\n    </tr>\n  </tbody>\n</table>\n<p>6386 rows × 5 columns</p>\n</div>"
     },
     "execution_count": 18,
     "metadata": {},
     "output_type": "execute_result"
    }
   ],
   "source": [
    "df_usable"
   ],
   "metadata": {
    "collapsed": false,
    "ExecuteTime": {
     "end_time": "2024-04-19T01:30:16.584122700Z",
     "start_time": "2024-04-19T01:30:16.550111500Z"
    }
   },
   "id": "37c7e36b8395997a",
   "execution_count": 18
  },
  {
   "cell_type": "markdown",
   "source": [
    "We created a function to tokenize and label all of the lines in the dataset."
   ],
   "metadata": {
    "collapsed": false
   },
   "id": "85b2990765f45b7b"
  },
  {
   "cell_type": "code",
   "outputs": [],
   "source": [
    "def make_smaller_inputs(dataframe):\n",
    "    df_out = pd.DataFrame(columns = ['tokens','labels','document','document_location'])\n",
    "    idx_df = 0\n",
    "    max_len = config['MAX_LEN']\n",
    "    \n",
    "    for _,line in dataframe.iterrows():\n",
    "        location_counter = 0\n",
    "        tokens = line.tokens\n",
    "        labels = line.labels\n",
    "        document = line.document\n",
    "        items = range(0,len(tokens),max_len)\n",
    "        \n",
    "        for i in items:\n",
    "            df_out.at[idx_df,'tokens'] = tokens[i:i+max_len]\n",
    "            df_out.at[idx_df,'labels'] = labels[i:i+max_len]\n",
    "            df_out.at[idx_df,'document'] = document\n",
    "            df_out.at[idx_df,'document_location'] = location_counter\n",
    "            location_counter += 1\n",
    "            idx_df += 1\n",
    "        \n",
    "    return df_out"
   ],
   "metadata": {
    "collapsed": false,
    "ExecuteTime": {
     "end_time": "2024-04-19T01:30:16.604052100Z",
     "start_time": "2024-04-19T01:30:16.567058300Z"
    }
   },
   "id": "9240cc2f3fff1aa5",
   "execution_count": 19
  },
  {
   "cell_type": "code",
   "outputs": [
    {
     "data": {
      "text/plain": "                                              tokens  \\\n0  [Design, Thinking, for, innovation, reflexion,...   \n1  [significant, material, investment, and, can, ...   \n2  [starting, point,  , generates, ideas, /, work...   \n3  [the, series,  , of, questions, according, to,...   \n4  [images, and, interconnections, ., This, secon...   \n5  [take, quick, decisions, to, validate, them, ....   \n6  [Diego, Estrada, \\n\\n, Design, Thinking, Assig...   \n7  [with, them, that, helped, them,  , understand...   \n8  [solutions,  , while, the, team, and, I, creat...   \n9  [part,  , of, the, solution, and, also, gives,...   \n\n                                              labels document  \\\n0  [O, O, O, O, O, O, O, O, O, B-NAME_STUDENT, I-...        7   \n1  [O, O, O, O, O, O, O, O, O, O, O, O, O, O, O, ...        7   \n2  [O, O, O, O, O, O, O, O, O, O, O, O, O, O, O, ...        7   \n3  [O, O, O, O, O, O, O, O, O, O, O, O, O, O, O, ...        7   \n4  [O, O, O, O, O, O, O, O, O, O, O, O, O, O, O, ...        7   \n5  [O, O, O, O, O, O, O, O, O, O, O, O, O, O, O, ...        7   \n6  [B-NAME_STUDENT, I-NAME_STUDENT, O, O, O, O, O...       10   \n7  [O, O, O, O, O, O, O, O, O, O, O, O, O, O, O, ...       10   \n8  [O, O, O, O, O, O, O, O, O, O, O, O, O, O, O, ...       10   \n9  [O, O, O, O, O, O, O, O, O, O, O, O, O, O, O, ...       10   \n\n  document_location  \n0                 0  \n1                 1  \n2                 2  \n3                 3  \n4                 4  \n5                 5  \n6                 0  \n7                 1  \n8                 2  \n9                 3  ",
      "text/html": "<div>\n<style scoped>\n    .dataframe tbody tr th:only-of-type {\n        vertical-align: middle;\n    }\n\n    .dataframe tbody tr th {\n        vertical-align: top;\n    }\n\n    .dataframe thead th {\n        text-align: right;\n    }\n</style>\n<table border=\"1\" class=\"dataframe\">\n  <thead>\n    <tr style=\"text-align: right;\">\n      <th></th>\n      <th>tokens</th>\n      <th>labels</th>\n      <th>document</th>\n      <th>document_location</th>\n    </tr>\n  </thead>\n  <tbody>\n    <tr>\n      <th>0</th>\n      <td>[Design, Thinking, for, innovation, reflexion,...</td>\n      <td>[O, O, O, O, O, O, O, O, O, B-NAME_STUDENT, I-...</td>\n      <td>7</td>\n      <td>0</td>\n    </tr>\n    <tr>\n      <th>1</th>\n      <td>[significant, material, investment, and, can, ...</td>\n      <td>[O, O, O, O, O, O, O, O, O, O, O, O, O, O, O, ...</td>\n      <td>7</td>\n      <td>1</td>\n    </tr>\n    <tr>\n      <th>2</th>\n      <td>[starting, point,  , generates, ideas, /, work...</td>\n      <td>[O, O, O, O, O, O, O, O, O, O, O, O, O, O, O, ...</td>\n      <td>7</td>\n      <td>2</td>\n    </tr>\n    <tr>\n      <th>3</th>\n      <td>[the, series,  , of, questions, according, to,...</td>\n      <td>[O, O, O, O, O, O, O, O, O, O, O, O, O, O, O, ...</td>\n      <td>7</td>\n      <td>3</td>\n    </tr>\n    <tr>\n      <th>4</th>\n      <td>[images, and, interconnections, ., This, secon...</td>\n      <td>[O, O, O, O, O, O, O, O, O, O, O, O, O, O, O, ...</td>\n      <td>7</td>\n      <td>4</td>\n    </tr>\n    <tr>\n      <th>5</th>\n      <td>[take, quick, decisions, to, validate, them, ....</td>\n      <td>[O, O, O, O, O, O, O, O, O, O, O, O, O, O, O, ...</td>\n      <td>7</td>\n      <td>5</td>\n    </tr>\n    <tr>\n      <th>6</th>\n      <td>[Diego, Estrada, \\n\\n, Design, Thinking, Assig...</td>\n      <td>[B-NAME_STUDENT, I-NAME_STUDENT, O, O, O, O, O...</td>\n      <td>10</td>\n      <td>0</td>\n    </tr>\n    <tr>\n      <th>7</th>\n      <td>[with, them, that, helped, them,  , understand...</td>\n      <td>[O, O, O, O, O, O, O, O, O, O, O, O, O, O, O, ...</td>\n      <td>10</td>\n      <td>1</td>\n    </tr>\n    <tr>\n      <th>8</th>\n      <td>[solutions,  , while, the, team, and, I, creat...</td>\n      <td>[O, O, O, O, O, O, O, O, O, O, O, O, O, O, O, ...</td>\n      <td>10</td>\n      <td>2</td>\n    </tr>\n    <tr>\n      <th>9</th>\n      <td>[part,  , of, the, solution, and, also, gives,...</td>\n      <td>[O, O, O, O, O, O, O, O, O, O, O, O, O, O, O, ...</td>\n      <td>10</td>\n      <td>3</td>\n    </tr>\n  </tbody>\n</table>\n</div>"
     },
     "execution_count": 20,
     "metadata": {},
     "output_type": "execute_result"
    }
   ],
   "source": [
    "df_model_input = make_smaller_inputs(df_usable)\n",
    "df_model_input.head(10)"
   ],
   "metadata": {
    "collapsed": false,
    "ExecuteTime": {
     "end_time": "2024-04-19T01:30:52.831734400Z",
     "start_time": "2024-04-19T01:30:16.580129300Z"
    }
   },
   "id": "32dfeed513de0d4d",
   "execution_count": 20
  },
  {
   "cell_type": "code",
   "outputs": [
    {
     "data": {
      "text/plain": "39146"
     },
     "execution_count": 21,
     "metadata": {},
     "output_type": "execute_result"
    }
   ],
   "source": [
    "len(df_model_input.index)"
   ],
   "metadata": {
    "collapsed": false,
    "ExecuteTime": {
     "end_time": "2024-04-19T01:30:52.884961100Z",
     "start_time": "2024-04-19T01:30:52.832730700Z"
    }
   },
   "id": "ab51696e693e8a03",
   "execution_count": 21
  },
  {
   "cell_type": "markdown",
   "source": [
    "### Creating the training and testing split"
   ],
   "metadata": {
    "collapsed": false
   },
   "id": "e1518c6e56186940"
  },
  {
   "cell_type": "code",
   "outputs": [],
   "source": [
    "df_train, df_test = train_test_split(df_model_input, test_size=0.3)"
   ],
   "metadata": {
    "collapsed": false,
    "ExecuteTime": {
     "end_time": "2024-04-19T01:30:52.886957900Z",
     "start_time": "2024-04-19T01:30:52.847911100Z"
    }
   },
   "id": "dd3fc9251d0ca50f",
   "execution_count": 22
  },
  {
   "cell_type": "markdown",
   "source": [
    "### Formatting split"
   ],
   "metadata": {
    "collapsed": false
   },
   "id": "90725d68b124b5e2"
  },
  {
   "cell_type": "code",
   "outputs": [
    {
     "data": {
      "text/plain": "                                                  tokens  \\\n0      [population, from, various, groups, ., For, wh...   \n1      [introducing, a, new, product, and, this, is, ...   \n2      [were,  , made, ., At, this, point, the, missi...   \n3      [associated, with, (, manufacturing, ,, IT, ,,...   \n4      [Reflection, –, Visualization, \\n\\n, Grocery, ...   \n...                                                  ...   \n27397  [interesting, to, know, that, what, they, call...   \n27398  [companies, that, do, not, report, ,, if, we, ...   \n27399  [I, ’ve, got, to, describe,  , the, service, a...   \n27400  [providing, access, to, online, portals, ,, ho...   \n27401  [big, consultancy, agency, and, I, coached, a,...   \n\n                                                  labels document  \\\n0      [O, O, O, O, O, O, O, O, O, O, O, O, O, O, O, ...    13507   \n1      [O, O, O, O, O, O, O, O, O, O, O, O, O, O, O, ...    10048   \n2      [O, O, O, O, O, O, O, O, O, O, O, O, O, O, O, ...    11979   \n3      [O, O, O, O, O, O, O, O, O, O, O, O, O, O, O, ...    16988   \n4      [O, O, O, O, O, O, O, O, O, O, O, O, O, O, O, ...    12894   \n...                                                  ...      ...   \n27397  [O, O, O, O, O, O, O, O, O, O, O, O, O, O, O, ...    12549   \n27398  [O, O, O, O, O, O, O, O, O, O, O, O, O, O, O, ...    21468   \n27399  [O, O, O, O, O, O, O, O, O, O, O, O, O, O, O, ...    14018   \n27400  [O, O, O, O, O, O, O, O, O, O, O, O, O, O, O, ...    17152   \n27401  [O, O, O, O, O, O, O, O, O, O, O, O, O, O, O, ...     7197   \n\n      document_location  \n0                     7  \n1                     1  \n2                     1  \n3                     3  \n4                     0  \n...                 ...  \n27397                 5  \n27398                 2  \n27399                 1  \n27400                 1  \n27401                 1  \n\n[27402 rows x 4 columns]",
      "text/html": "<div>\n<style scoped>\n    .dataframe tbody tr th:only-of-type {\n        vertical-align: middle;\n    }\n\n    .dataframe tbody tr th {\n        vertical-align: top;\n    }\n\n    .dataframe thead th {\n        text-align: right;\n    }\n</style>\n<table border=\"1\" class=\"dataframe\">\n  <thead>\n    <tr style=\"text-align: right;\">\n      <th></th>\n      <th>tokens</th>\n      <th>labels</th>\n      <th>document</th>\n      <th>document_location</th>\n    </tr>\n  </thead>\n  <tbody>\n    <tr>\n      <th>0</th>\n      <td>[population, from, various, groups, ., For, wh...</td>\n      <td>[O, O, O, O, O, O, O, O, O, O, O, O, O, O, O, ...</td>\n      <td>13507</td>\n      <td>7</td>\n    </tr>\n    <tr>\n      <th>1</th>\n      <td>[introducing, a, new, product, and, this, is, ...</td>\n      <td>[O, O, O, O, O, O, O, O, O, O, O, O, O, O, O, ...</td>\n      <td>10048</td>\n      <td>1</td>\n    </tr>\n    <tr>\n      <th>2</th>\n      <td>[were,  , made, ., At, this, point, the, missi...</td>\n      <td>[O, O, O, O, O, O, O, O, O, O, O, O, O, O, O, ...</td>\n      <td>11979</td>\n      <td>1</td>\n    </tr>\n    <tr>\n      <th>3</th>\n      <td>[associated, with, (, manufacturing, ,, IT, ,,...</td>\n      <td>[O, O, O, O, O, O, O, O, O, O, O, O, O, O, O, ...</td>\n      <td>16988</td>\n      <td>3</td>\n    </tr>\n    <tr>\n      <th>4</th>\n      <td>[Reflection, –, Visualization, \\n\\n, Grocery, ...</td>\n      <td>[O, O, O, O, O, O, O, O, O, O, O, O, O, O, O, ...</td>\n      <td>12894</td>\n      <td>0</td>\n    </tr>\n    <tr>\n      <th>...</th>\n      <td>...</td>\n      <td>...</td>\n      <td>...</td>\n      <td>...</td>\n    </tr>\n    <tr>\n      <th>27397</th>\n      <td>[interesting, to, know, that, what, they, call...</td>\n      <td>[O, O, O, O, O, O, O, O, O, O, O, O, O, O, O, ...</td>\n      <td>12549</td>\n      <td>5</td>\n    </tr>\n    <tr>\n      <th>27398</th>\n      <td>[companies, that, do, not, report, ,, if, we, ...</td>\n      <td>[O, O, O, O, O, O, O, O, O, O, O, O, O, O, O, ...</td>\n      <td>21468</td>\n      <td>2</td>\n    </tr>\n    <tr>\n      <th>27399</th>\n      <td>[I, ’ve, got, to, describe,  , the, service, a...</td>\n      <td>[O, O, O, O, O, O, O, O, O, O, O, O, O, O, O, ...</td>\n      <td>14018</td>\n      <td>1</td>\n    </tr>\n    <tr>\n      <th>27400</th>\n      <td>[providing, access, to, online, portals, ,, ho...</td>\n      <td>[O, O, O, O, O, O, O, O, O, O, O, O, O, O, O, ...</td>\n      <td>17152</td>\n      <td>1</td>\n    </tr>\n    <tr>\n      <th>27401</th>\n      <td>[big, consultancy, agency, and, I, coached, a,...</td>\n      <td>[O, O, O, O, O, O, O, O, O, O, O, O, O, O, O, ...</td>\n      <td>7197</td>\n      <td>1</td>\n    </tr>\n  </tbody>\n</table>\n<p>27402 rows × 4 columns</p>\n</div>"
     },
     "execution_count": 23,
     "metadata": {},
     "output_type": "execute_result"
    }
   ],
   "source": [
    "df_train.reset_index(drop = True, inplace=True)\n",
    "df_train"
   ],
   "metadata": {
    "collapsed": false,
    "ExecuteTime": {
     "end_time": "2024-04-19T01:30:52.947813Z",
     "start_time": "2024-04-19T01:30:52.862869Z"
    }
   },
   "id": "30d0ec2f728c2bef",
   "execution_count": 23
  },
  {
   "cell_type": "code",
   "outputs": [
    {
     "data": {
      "text/plain": "                                                  tokens  \\\n0      [HR, &, Business, Personnel, :, While, the, co...   \n1      [Challenge, :, The, challenge, faced, by, my, ...   \n2      [tech, we, need, to, bring, something, differe...   \n3      [helps, you, and, your, customers,  , understa...   \n4      [could, easily, relate, to, it, and,  , also, ...   \n...                                                  ...   \n11739  [Example, Reflection, -, Mind, Mapping, \\n\\n, ...   \n11740  [sales, ., We, also, invested, in, marketing, ...   \n11741  [end, of, the, event, ,, each, group, used, it...   \n11742  [this, work, ., This, will, reduce, clients, ’...   \n11743  [identifying, closely, the, characteristics, a...   \n\n                                                  labels document  \\\n0      [O, O, O, O, O, O, O, O, O, O, O, O, O, O, O, ...    17111   \n1      [O, O, O, O, O, O, O, O, O, O, O, O, O, O, O, ...    13779   \n2      [O, O, O, O, O, O, O, O, O, O, O, O, O, O, O, ...    12318   \n3      [O, O, O, O, O, O, O, O, O, O, O, O, O, O, O, ...    13817   \n4      [O, O, O, O, O, O, O, O, O, O, O, O, O, O, O, ...    11100   \n...                                                  ...      ...   \n11739  [O, O, O, O, O, O, O, O, O, O, O, O, O, O, O, ...    21211   \n11740  [O, O, O, O, O, O, O, O, O, O, O, O, O, O, O, ...    16167   \n11741  [O, O, O, O, O, O, O, O, O, O, O, O, O, O, O, ...    14412   \n11742  [O, O, O, O, O, O, O, O, O, O, O, O, O, O, O, ...     8980   \n11743  [O, O, O, O, O, O, O, O, O, O, O, O, O, O, O, ...    11658   \n\n      document_location  \n0                     4  \n1                     0  \n2                     1  \n3                     7  \n4                     1  \n...                 ...  \n11739                 0  \n11740                 3  \n11741                 7  \n11742                 7  \n11743                 7  \n\n[11744 rows x 4 columns]",
      "text/html": "<div>\n<style scoped>\n    .dataframe tbody tr th:only-of-type {\n        vertical-align: middle;\n    }\n\n    .dataframe tbody tr th {\n        vertical-align: top;\n    }\n\n    .dataframe thead th {\n        text-align: right;\n    }\n</style>\n<table border=\"1\" class=\"dataframe\">\n  <thead>\n    <tr style=\"text-align: right;\">\n      <th></th>\n      <th>tokens</th>\n      <th>labels</th>\n      <th>document</th>\n      <th>document_location</th>\n    </tr>\n  </thead>\n  <tbody>\n    <tr>\n      <th>0</th>\n      <td>[HR, &amp;, Business, Personnel, :, While, the, co...</td>\n      <td>[O, O, O, O, O, O, O, O, O, O, O, O, O, O, O, ...</td>\n      <td>17111</td>\n      <td>4</td>\n    </tr>\n    <tr>\n      <th>1</th>\n      <td>[Challenge, :, The, challenge, faced, by, my, ...</td>\n      <td>[O, O, O, O, O, O, O, O, O, O, O, O, O, O, O, ...</td>\n      <td>13779</td>\n      <td>0</td>\n    </tr>\n    <tr>\n      <th>2</th>\n      <td>[tech, we, need, to, bring, something, differe...</td>\n      <td>[O, O, O, O, O, O, O, O, O, O, O, O, O, O, O, ...</td>\n      <td>12318</td>\n      <td>1</td>\n    </tr>\n    <tr>\n      <th>3</th>\n      <td>[helps, you, and, your, customers,  , understa...</td>\n      <td>[O, O, O, O, O, O, O, O, O, O, O, O, O, O, O, ...</td>\n      <td>13817</td>\n      <td>7</td>\n    </tr>\n    <tr>\n      <th>4</th>\n      <td>[could, easily, relate, to, it, and,  , also, ...</td>\n      <td>[O, O, O, O, O, O, O, O, O, O, O, O, O, O, O, ...</td>\n      <td>11100</td>\n      <td>1</td>\n    </tr>\n    <tr>\n      <th>...</th>\n      <td>...</td>\n      <td>...</td>\n      <td>...</td>\n      <td>...</td>\n    </tr>\n    <tr>\n      <th>11739</th>\n      <td>[Example, Reflection, -, Mind, Mapping, \\n\\n, ...</td>\n      <td>[O, O, O, O, O, O, O, O, O, O, O, O, O, O, O, ...</td>\n      <td>21211</td>\n      <td>0</td>\n    </tr>\n    <tr>\n      <th>11740</th>\n      <td>[sales, ., We, also, invested, in, marketing, ...</td>\n      <td>[O, O, O, O, O, O, O, O, O, O, O, O, O, O, O, ...</td>\n      <td>16167</td>\n      <td>3</td>\n    </tr>\n    <tr>\n      <th>11741</th>\n      <td>[end, of, the, event, ,, each, group, used, it...</td>\n      <td>[O, O, O, O, O, O, O, O, O, O, O, O, O, O, O, ...</td>\n      <td>14412</td>\n      <td>7</td>\n    </tr>\n    <tr>\n      <th>11742</th>\n      <td>[this, work, ., This, will, reduce, clients, ’...</td>\n      <td>[O, O, O, O, O, O, O, O, O, O, O, O, O, O, O, ...</td>\n      <td>8980</td>\n      <td>7</td>\n    </tr>\n    <tr>\n      <th>11743</th>\n      <td>[identifying, closely, the, characteristics, a...</td>\n      <td>[O, O, O, O, O, O, O, O, O, O, O, O, O, O, O, ...</td>\n      <td>11658</td>\n      <td>7</td>\n    </tr>\n  </tbody>\n</table>\n<p>11744 rows × 4 columns</p>\n</div>"
     },
     "execution_count": 24,
     "metadata": {},
     "output_type": "execute_result"
    }
   ],
   "source": [
    "df_test.reset_index(drop = True, inplace=True)\n",
    "df_test"
   ],
   "metadata": {
    "collapsed": false,
    "ExecuteTime": {
     "end_time": "2024-04-19T01:30:52.972729600Z",
     "start_time": "2024-04-19T01:30:52.877981700Z"
    }
   },
   "id": "b18d71d0aff86951",
   "execution_count": 24
  },
  {
   "cell_type": "markdown",
   "source": [
    "# Model\n"
   ],
   "metadata": {
    "collapsed": false
   },
   "id": "ebc83035cd36cc42"
  },
  {
   "cell_type": "markdown",
   "source": [
    "## Iteration 1"
   ],
   "metadata": {
    "collapsed": false
   },
   "id": "1721a4dd274272f3"
  },
  {
   "cell_type": "markdown",
   "source": [
    "adapted from \n",
    "https://colab.research.google.com/github/NielsRogge/Transformers-Tutorials/blob/master/BERT/Custom_Named_Entity_Recognition_with_BERT_only_first_wordpiece.ipynb#scrollTo=Eh3ckSO0YMZW"
   ],
   "metadata": {
    "collapsed": false
   },
   "id": "cf13c86f98f79e01"
  },
  {
   "cell_type": "markdown",
   "source": [
    "### Tokenizer and Label allignment"
   ],
   "metadata": {
    "collapsed": false
   },
   "id": "504293a592e4d15a"
  },
  {
   "cell_type": "code",
   "outputs": [],
   "source": [
    "# class dataset(Dataset):\n",
    "#     def __init__(self, dataframe, tokenizer, max_len):\n",
    "#         self.len = len(dataframe)\n",
    "#         self.data = dataframe\n",
    "#         self.tokenizer = tokenizer\n",
    "#         self.max_len = max_len\n",
    "\n",
    "#     def __getitem__(self, index):\n",
    "#         # step 1: get the sentence and word labels \n",
    "#         tokens = self.data.tokens[index]\n",
    "#         word_labels = self.data.labels[index]\n",
    "\n",
    "#         # step 2: use tokenizer to encode sentence (includes padding/truncation up to max length)\n",
    "#         # BertTokenizerFast provides a handy \"return_offsets_mapping\" functionality for individual tokens\n",
    "#         encoding = self.tokenizer(tokens,\n",
    "#                                   is_split_into_words=True,\n",
    "#                                   return_offsets_mapping=True,\n",
    "#                                   padding='max_length',\n",
    "#                                   truncation=True,\n",
    "#                                   max_length=self.max_len)\n",
    "\n",
    "#         # step 3: create token labels only for first word pieces of each tokenized word\n",
    "#         labels = [ labels_to_ids[label] for label in word_labels]\n",
    "#         # code based on https://huggingface.co/transformers/custom_datasets.html#tok-ner\n",
    "#         # create an empty array of -100 of length max_length\n",
    "#         encoded_labels = np.ones(len(encoding[\"offset_mapping\"]), dtype=int) * -100\n",
    "\n",
    "#         # set only labels whose first offset position is 0 and the second is not 0\n",
    "#         i = 0\n",
    "#         for idx, mapping in enumerate(encoding[\"offset_mapping\"]):\n",
    "#             if mapping[0] == 0 and mapping[1] != 0:\n",
    "#                 # overwrite label\n",
    "#                 encoded_labels[idx] = labels[i]\n",
    "#                 i += 1\n",
    "\n",
    "#         # step 4: turn everything into PyTorch tensors\n",
    "#         item = {key: torch.as_tensor(val) for key, val in encoding.items()}\n",
    "#         item['labels'] = torch.as_tensor(encoded_labels)\n",
    "\n",
    "#         return item\n",
    "\n",
    "#     def __len__(self):\n",
    "#         return self.len\n",
    "# training_set = dataset(df_train, config['tokenizer'], config['MAX_LEN'])\n",
    "# testing_set = dataset(df_test, config['tokenizer'], config['MAX_LEN'])\n",
    "# training_set[2][\"input_ids\"].unsqueeze(0)\n",
    "# for token, label in zip(config['tokenizer'].convert_ids_to_tokens(training_set[0][\"input_ids\"]), training_set[0][\"labels\"]):\n",
    "#     print('{0:10}  {1}'.format(token, label))"
   ],
   "metadata": {
    "collapsed": false,
    "ExecuteTime": {
     "end_time": "2024-04-19T01:30:53.004623300Z",
     "start_time": "2024-04-19T01:30:52.893932300Z"
    }
   },
   "id": "9854c79748d73d75",
   "execution_count": 25
  },
  {
   "cell_type": "markdown",
   "source": [
    "Setting training and testing parameters"
   ],
   "metadata": {
    "collapsed": false
   },
   "id": "9fd589c17ac62382"
  },
  {
   "cell_type": "code",
   "outputs": [],
   "source": [
    "# train_params = {'batch_size': config[\"TRAIN_BATCH_SIZE\"],\n",
    "#                 'shuffle': True,\n",
    "#                 'num_workers': 0\n",
    "#                 }\n",
    "\n",
    "# test_params = {'batch_size': config[\"VALID_BATCH_SIZE\"],\n",
    "#                'shuffle': True,\n",
    "#                'num_workers': 0\n",
    "#                }\n",
    "\n",
    "# training_loader = DataLoader(training_set, **train_params)\n",
    "# testing_loader = DataLoader(testing_set, **test_params)\n",
    "# model = BertForTokenClassification.from_pretrained(config['pretrained_model'], num_labels=len(labels_to_ids))\n",
    "# model.to(config['device'])\n",
    "# optimizer = torch.optim.Adam(params=model.parameters(), lr=config['LEARNING_RATE'])"
   ],
   "metadata": {
    "collapsed": false,
    "ExecuteTime": {
     "end_time": "2024-04-19T01:30:53.060435800Z",
     "start_time": "2024-04-19T01:30:52.908881100Z"
    }
   },
   "id": "7f4cd6820e8bc541",
   "execution_count": 26
  },
  {
   "cell_type": "markdown",
   "source": [
    "### Training"
   ],
   "metadata": {
    "collapsed": false
   },
   "id": "3311a964f999a1d"
  },
  {
   "cell_type": "code",
   "outputs": [],
   "source": [
    "### Training\n",
    "# # Defining the training function on the 80% of the dataset for tuning the bert model\n",
    "# def train(epoch):\n",
    "#     tr_loss, tr_accuracy = 0, 0\n",
    "#     nb_tr_examples, nb_tr_steps = 0, 0\n",
    "#     tr_preds, tr_labels = [], []\n",
    "#     # put model in training mode\n",
    "#     model.train()\n",
    "# \n",
    "#     for idx, batch in enumerate(training_loader):\n",
    "# \n",
    "#         ids = batch['input_ids'].to(config['device'], dtype = torch.long)\n",
    "#         mask = batch['attention_mask'].to(config['device'], dtype = torch.long)\n",
    "#         labels = batch['labels'].to(config['device'], dtype = torch.long)\n",
    "# \n",
    "#         outputs = model(input_ids=ids.long(), attention_mask=mask.long(), labels=labels.long())\n",
    "#         loss = outputs[0]\n",
    "#         tr_logits = outputs[1]\n",
    "#         tr_loss += loss.item()\n",
    "# \n",
    "#         nb_tr_steps += 1\n",
    "#         nb_tr_examples += labels.size(0)\n",
    "# \n",
    "#         if idx % 100==0:\n",
    "#             loss_step = tr_loss/nb_tr_steps\n",
    "#             print(f\"Training loss per 100 training steps: {loss_step}\")\n",
    "# \n",
    "#         # compute training accuracy\n",
    "#         flattened_targets = labels.view(-1) # shape (batch_size * seq_len,)\n",
    "#         active_logits = tr_logits.view(-1, model.num_labels) # shape (batch_size * seq_len, num_labels)\n",
    "#         flattened_predictions = torch.argmax(active_logits, axis=1) # shape (batch_size * seq_len,)\n",
    "#         \n",
    "#         # only compute accuracy at active labels\n",
    "#         active_accuracy = labels.view(-1) != -100 # shape (batch_size, seq_len)\n",
    "#         #active_labels = torch.where(active_accuracy, labels.view(-1), torch.tensor(-100).type_as(labels))\n",
    "# \n",
    "#         labels = torch.masked_select(flattened_targets, active_accuracy)\n",
    "#         predictions = torch.masked_select(flattened_predictions, active_accuracy)\n",
    "# \n",
    "#         tr_labels.extend(labels)\n",
    "#         tr_preds.extend(predictions)\n",
    "# \n",
    "#         tmp_tr_accuracy = accuracy_score(labels.cpu().numpy(), predictions.cpu().numpy())\n",
    "#         tr_accuracy += tmp_tr_accuracy\n",
    "# \n",
    "#         # gradient clipping\n",
    "#         torch.nn.utils.clip_grad_norm_(\n",
    "#             parameters=model.parameters(), max_norm=config['MAX_GRAD_NORM']\n",
    "#         )\n",
    "# \n",
    "#         # backward pass\n",
    "#         optimizer.zero_grad()\n",
    "#         loss.backward()\n",
    "#         optimizer.step()\n",
    "# \n",
    "#     epoch_loss = tr_loss / nb_tr_steps\n",
    "#     tr_accuracy = tr_accuracy / nb_tr_steps\n",
    "#     print(f\"Training loss epoch: {epoch_loss}\")\n",
    "#     print(f\"Training accuracy epoch: {tr_accuracy}\")\n",
    "# run = False\n",
    "# if run:\n",
    "#     for epoch in range(config['EPOCHS']):\n",
    "#         print(f\"Training epoch: {epoch + 1}\")\n",
    "#         train(epoch)\n",
    "#     run = False"
   ],
   "metadata": {
    "collapsed": false,
    "ExecuteTime": {
     "end_time": "2024-04-19T01:30:53.061435Z",
     "start_time": "2024-04-19T01:30:52.926883600Z"
    }
   },
   "id": "21fb61882cb117d6",
   "execution_count": 27
  },
  {
   "cell_type": "markdown",
   "source": [
    "Training epoch: 1\n",
    "Training loss epoch: 0.007183262327166176\n",
    "Training accuracy epoch: 0.9988009906964034\n",
    "\n",
    "Execution Time: 2h 33m 45s\n",
    "Batch Size: 2\n",
    "LR: 1e-5\n",
    "Optimizer: Adam"
   ],
   "metadata": {
    "collapsed": false
   },
   "id": "56e15b39f456767e"
  },
  {
   "cell_type": "markdown",
   "source": [
    "### Save Model"
   ],
   "metadata": {
    "collapsed": false
   },
   "id": "7d4b77862310b793"
  },
  {
   "cell_type": "code",
   "outputs": [],
   "source": [
    "# import os\n",
    "\n",
    "# directory = config['model_path']\n",
    "\n",
    "# if not os.path.exists(directory):\n",
    "#     os.makedirs(directory)\n",
    "\n",
    "# # save vocabulary of the tokenizer\n",
    "# config['tokenizer'].save_vocabulary(directory)\n",
    "# # save the model weights and its configuration file\n",
    "# save_model = True\n",
    "# if save_model:  \n",
    "#     model.save_pretrained(directory)\n",
    "#     print('All files saved')"
   ],
   "metadata": {
    "collapsed": false,
    "ExecuteTime": {
     "end_time": "2024-04-19T01:30:53.084795900Z",
     "start_time": "2024-04-19T01:30:52.941833600Z"
    }
   },
   "id": "a9c47c1f9f31a8a1",
   "execution_count": 28
  },
  {
   "cell_type": "markdown",
   "source": [
    "### Model Validation"
   ],
   "metadata": {
    "collapsed": false
   },
   "id": "6823c1a348decd10"
  },
  {
   "cell_type": "code",
   "outputs": [],
   "source": [
    "# model_1 = BertForTokenClassification.from_pretrained(config['model_path'], num_labels=len(labels_to_ids))\n",
    "# model_1.to(config['device'])\n",
    "# # def valid(model, testing_loader):\n",
    "#     # put model in evaluation mode\n",
    "#     model.eval()\n",
    "    \n",
    "#     eval_loss, eval_accuracy = 0, 0\n",
    "#     nb_eval_examples, nb_eval_steps = 0, 0\n",
    "#     eval_preds, eval_labels = [], []\n",
    "    \n",
    "#     with torch.no_grad():\n",
    "#         for idx, batch in enumerate(testing_loader):\n",
    "            \n",
    "#             ids = batch['input_ids'].to(config['device'], dtype = torch.long)\n",
    "#             mask = batch['attention_mask'].to(config['device'], dtype = torch.long)\n",
    "#             labels = batch['labels'].to(config['device'], dtype = torch.long)\n",
    "\n",
    "#             outputs = model(input_ids=ids.long(), attention_mask=mask.long(), labels=labels.long())\n",
    "            \n",
    "#             loss = outputs[0]\n",
    "#             eval_logits = outputs[1]\n",
    "#             eval_loss += loss.item()\n",
    "            \n",
    "#             nb_eval_steps += 1\n",
    "#             nb_eval_examples += labels.size(0)\n",
    "        \n",
    "#             if idx % 100==0:\n",
    "#                 loss_step = eval_loss/nb_eval_steps\n",
    "#                 print(f\"Validation loss per 100 evaluation steps: {loss_step}\")\n",
    "            \n",
    "#             # compute evaluation accuracy\n",
    "#             flattened_targets = labels.view(-1) # shape (batch_size * seq_len,)\n",
    "#             active_logits = eval_logits.view(-1, model.num_labels) # shape (batch_size * seq_len, num_labels)\n",
    "#             flattened_predictions = torch.argmax(active_logits, axis=1) # shape (batch_size * seq_len,)\n",
    "            \n",
    "#             # only compute accuracy at active labels\n",
    "#             active_accuracy = labels.view(-1) != -100 # shape (batch_size, seq_len)\n",
    "        \n",
    "#             labels = torch.masked_select(flattened_targets, active_accuracy)\n",
    "#             predictions = torch.masked_select(flattened_predictions, active_accuracy)\n",
    "            \n",
    "#             eval_labels.extend(labels)\n",
    "#             eval_preds.extend(predictions)\n",
    "            \n",
    "#             tmp_eval_accuracy = accuracy_score(labels.cpu().numpy(), predictions.cpu().numpy())\n",
    "#             eval_accuracy += tmp_eval_accuracy\n",
    "\n",
    "#     labels = [ids_to_labels[id.item()] for id in eval_labels]\n",
    "#     predictions = [ids_to_labels[id.item()] for id in eval_preds]\n",
    "    \n",
    "#     eval_loss = eval_loss / nb_eval_steps\n",
    "#     eval_accuracy = eval_accuracy / nb_eval_steps\n",
    "#     print(f\"Validation Loss: {eval_loss}\")\n",
    "#     print(f\"Validation Accuracy: {eval_accuracy}\")\n",
    "\n",
    "#     return labels, predictions\n",
    "\n",
    "# labels, predictions = valid(model_1, testing_loader)"
   ],
   "metadata": {
    "collapsed": false,
    "ExecuteTime": {
     "end_time": "2024-04-19T01:30:53.087788100Z",
     "start_time": "2024-04-19T01:30:52.955786400Z"
    }
   },
   "id": "542b7fe5bf9ae67b",
   "execution_count": 29
  },
  {
   "cell_type": "markdown",
   "source": [
    "Validation Loss: 0.0025191350434306515\n",
    "Validation Accuracy: 0.9994422838479019\n",
    "Execution Time: 08m 07.238s"
   ],
   "metadata": {
    "collapsed": false
   },
   "id": "e603491ee659d71a"
  },
  {
   "cell_type": "code",
   "outputs": [],
   "source": [
    "# print(classification_report(labels, predictions))"
   ],
   "metadata": {
    "collapsed": false,
    "ExecuteTime": {
     "end_time": "2024-04-19T01:30:53.103734900Z",
     "start_time": "2024-04-19T01:30:52.972729600Z"
    }
   },
   "id": "742841d5856114ee",
   "execution_count": 30
  },
  {
   "cell_type": "markdown",
   "source": [
    "About 50% for getting student names correct, 0% for the others"
   ],
   "metadata": {
    "collapsed": false
   },
   "id": "fdb22e121ce08680"
  },
  {
   "cell_type": "markdown",
   "source": [
    "## Iteration 2"
   ],
   "metadata": {
    "collapsed": false
   },
   "id": "b4e3c1e66723902c"
  },
  {
   "cell_type": "markdown",
   "source": [
    "Updating the tokenizer to properly create context between the words and the PII labels"
   ],
   "metadata": {
    "collapsed": false
   },
   "id": "e8e558b28c2973a5"
  },
  {
   "cell_type": "code",
   "outputs": [],
   "source": [
    "# def tokenize(df, tokenizer):\n",
    "#     text = []\n",
    "#     token_map = []\n",
    "#     \n",
    "#     idx = 0\n",
    "#     \n",
    "#     for t, ws in zip(df[\"tokens\"], df[\"trailing_whitespace\"]):\n",
    "#         \n",
    "#         text.append(t)\n",
    "#         token_map.extend([idx]*len(t))\n",
    "#         if ws:\n",
    "#             text.append(\" \")\n",
    "#             token_map.append(-1)\n",
    "#             \n",
    "#         idx += 1\n",
    "#         \n",
    "#         \n",
    "#     tokenized = tokenizer(\"\".join(text), return_offsets_mapping=True, truncation=False)\n",
    "#     \n",
    "#         \n",
    "#     return {\n",
    "#         **tokenized,\n",
    "#         \"token_map\": token_map,\n",
    "#     }"
   ],
   "metadata": {
    "collapsed": false,
    "ExecuteTime": {
     "end_time": "2024-04-19T01:30:53.105728400Z",
     "start_time": "2024-04-19T01:30:52.988676500Z"
    }
   },
   "id": "c750ac782272772f",
   "execution_count": 31
  },
  {
   "cell_type": "markdown",
   "source": [
    "### LOOK AT ME FROM HERE"
   ],
   "metadata": {
    "collapsed": false
   },
   "id": "ff50761e20bab763"
  },
  {
   "cell_type": "markdown",
   "source": [
    "### Tokenizer and Label allignment"
   ],
   "metadata": {
    "collapsed": false
   },
   "id": "6ed383e05d2d7394"
  },
  {
   "cell_type": "code",
   "outputs": [],
   "source": [
    "def tokenize(line, tokenizer):\n",
    "    # step 1: get the sentence and word labels \n",
    "    tokens = line.tokens\n",
    "    word_labels = line.labels\n",
    "    document = line.document\n",
    "    location = line.document_location\n",
    "    # step 2: use tokenizer to encode sentence (includes padding/truncation up to max length)\n",
    "    # BertTokenizerFast provides a handy \"return_offsets_mapping\" functionality for individual tokens\n",
    "    encoding = tokenizer(tokens,\n",
    "                              is_split_into_words=True,\n",
    "                              return_offsets_mapping=True,\n",
    "                              padding='max_length',\n",
    "                              max_length=2 * config['MAX_LEN']\n",
    "                              )\n",
    "    temp_list = [0 for _ in range(2 * config['MAX_LEN'] - len(word_labels))]\n",
    "    labels = [labels_to_ids[label] for label in word_labels] + temp_list\n",
    "    \n",
    "    encoded_labels = np.ones(len(encoding[\"offset_mapping\"]), dtype=int) * 0\n",
    "    # WORKS\n",
    "    i = 0\n",
    "    for idx, mapping in enumerate(encoding[\"offset_mapping\"]):        \n",
    "        if mapping[0] == 0:\n",
    "            i += 1\n",
    "    # step 4: turn everything into PyTorch tensors\n",
    "    item = {key: torch.as_tensor(val) for key, val in encoding.items()}\n",
    "            \n",
    "    item['labels'] = torch.as_tensor(encoded_labels)\n",
    "    # print(items) TODO\n",
    "    return {'item': item, 'document': document, 'location': location, 'tokens': tokens,'labels': word_labels}\n"
   ],
   "metadata": {
    "collapsed": false
   },
   "id": "69fd85108aa1759a"
  },
  {
   "cell_type": "markdown",
   "source": [
    "Create the mappings for the tokenized text, calling the tokenizer function above. This will store all of the values in separate lists that we will be able to call for the output function."
   ],
   "metadata": {
    "collapsed": false
   },
   "id": "830ced74e385efdb"
  },
  {
   "cell_type": "code",
   "outputs": [],
   "source": [
    "# df_train.iloc[0,:]"
   ],
   "metadata": {
    "collapsed": false
   },
   "id": "81a8e708d902be50"
  },
  {
   "cell_type": "code",
   "outputs": [],
   "source": [
    "# with open(\"cleaned_train.json\", \"w\") as data_file:\n",
    "#     data_file.write(df_train.to_json())\n",
    "#     data_file.close()\n",
    "\n",
    "# with open(\"cleaned_train.json\", \"r\") as f:\n",
    "#     data = json.load(f)\n",
    "\n",
    "# with open(\"../datasets/Official/train.json\", \"r\") as f:\n",
    "#   data = json.load(f)\n",
    "\n",
    "# print(data)\n",
    "\n",
    "# ds = Dataset.from_dict({\n",
    "#     # \"full_text\": [x[\"full_text\"] for x in data],\n",
    "#     \"labels\": data[\"labels\"],\n",
    "#     \"tokens\": data[\"tokens\"],\n",
    "#     # \"trailing_whitespace\": [x[\"trailing_whitespace\"] for x in data],\n",
    "# })\n",
    "\n",
    "\n",
    "# tokenizer = BertTokenizerFast.from_pretrained(config['model_path'])"
   ],
   "metadata": {
    "collapsed": false
   },
   "id": "18cea46c5c42c516"
  },
  {
   "cell_type": "code",
   "outputs": [],
   "source": [
    "train_dataset_temp = df_train.apply(lambda line: tokenize(line, config['tokenizer']), axis = 1).to_list()\n",
    "train_dataset = pd.DataFrame.from_dict(train_dataset_temp, orient = 'columns')\n",
    "train_dataset.head()"
   ],
   "metadata": {
    "collapsed": false
   },
   "id": "8786bb187c0d4deb"
  },
  {
   "cell_type": "code",
   "outputs": [],
   "source": [
    "predict_dataset_temp = df_test.apply(lambda line: tokenize(line, config['tokenizer']), axis = 1).to_list()\n",
    "predict_dataset = pd.DataFrame.from_dict(predict_dataset_temp, orient = 'columns')\n",
    "predict_dataset.head()"
   ],
   "metadata": {
    "collapsed": false
   },
   "id": "49029f42d1c4625b"
  },
  {
   "cell_type": "code",
   "outputs": [],
   "source": [
    "eval_dataset = predict_dataset"
   ],
   "metadata": {
    "collapsed": false
   },
   "id": "c35cf8a8ce674fb6"
  },
  {
   "cell_type": "markdown",
   "source": [
    "Create the new training class, with the model creation leveraging AutoModelForTokenClassification"
   ],
   "metadata": {
    "collapsed": false
   },
   "id": "1da9bcbc3ab42395"
  },
  {
   "cell_type": "markdown",
   "source": [],
   "metadata": {
    "collapsed": false
   },
   "id": "1cf56c46f474b472"
  },
  {
   "cell_type": "code",
   "outputs": [],
   "source": [
    "metric = evaluate.load(\"seqeval\")\n",
    "\n",
    "def compute_metrics(p):\n",
    "    predictions, labels = p\n",
    "    predictions = np.argmax(predictions, axis=2)\n",
    "\n",
    "    # # Remove ignored index (special tokens)\n",
    "    # true_predictions = [\n",
    "    #     [label_list[p] for (p, l) in zip(prediction, label) if l != -100]\n",
    "    #     for prediction, label in zip(predictions, labels)\n",
    "    # ]\n",
    "    # true_labels = [\n",
    "    #     [label_list[l] for (p, l) in zip(prediction, label) if l != -100]\n",
    "    #     for prediction, label in zip(predictions, labels)\n",
    "    # ]\n",
    "\n",
    "    results = metric.compute(predictions=predictions, references=labels)\n",
    "    if data_args.return_entity_level_metrics:\n",
    "        # Unpack nested dictionaries\n",
    "        final_results = {}\n",
    "        for key, value in results.items():\n",
    "            if isinstance(value, dict):\n",
    "                for n, v in value.items():\n",
    "                    final_results[f\"{key}_{n}\"] = v\n",
    "            else:\n",
    "                final_results[key] = value\n",
    "        return final_results\n",
    "    else:\n",
    "        return {\n",
    "            \"precision\": results[\"overall_precision\"],\n",
    "            \"recall\": results[\"overall_recall\"],\n",
    "            \"f1\": results[\"overall_f1\"],\n",
    "            \"accuracy\": results[\"overall_accuracy\"],\n",
    "        }"
   ],
   "metadata": {
    "collapsed": false
   },
   "id": "80f3b479c20db30f"
  },
  {
   "cell_type": "code",
   "outputs": [],
   "source": [
    "model = BertForTokenClassification.from_pretrained(config['pretrained_model'])\n",
    "data_collator = DataCollatorForTokenClassification(config['tokenizer'])\n",
    "# optimizer = torch.optim.Adam(params=model.parameters(), lr=config['LEARNING_RATE'])"
   ],
   "metadata": {
    "collapsed": false
   },
   "id": "1d3ff30d847aee5"
  },
  {
   "cell_type": "markdown",
   "source": [
    "### Training"
   ],
   "metadata": {
    "collapsed": false
   },
   "id": "638cd2fdb9457f73"
  },
  {
   "cell_type": "code",
   "outputs": [],
   "source": [
    "torch.cuda.is_available()"
   ],
   "metadata": {
    "collapsed": false
   },
   "id": "f7bf5a1893c45ae1"
  },
  {
   "cell_type": "code",
   "outputs": [],
   "source": [
    "training_args = TrainingArguments(\n",
    "    output_dir= config['model_path'],\n",
    "    overwrite_output_dir = True,\n",
    "    do_train = True,\n",
    "    do_predict = False,\n",
    "    do_eval = True,\n",
    "    per_device_eval_batch_size=1,\n",
    "    report_to=\"none\",\n",
    "    num_train_epochs = config['EPOCHS'],\n",
    "    learning_rate = config['LEARNING_RATE'],\n",
    "    save_strategy = 'epoch',\n",
    "    disable_tqdm= True,\n",
    "    no_cude = False,\n",
    ")\n",
    "\n",
    "trainer = Trainer(\n",
    "    model=model,\n",
    "    args=training_args,\n",
    "    train_dataset = train_dataset.item,\n",
    "    eval_dataset = train_dataset.item,\n",
    "    # predict_dataset = predict_dataset.item,\n",
    "    # tokenizer=config['tokenizer'],\n",
    "    data_collator=data_collator,\n",
    "    # compute_metrics=compute_metrics,\n",
    ")"
   ],
   "metadata": {
    "collapsed": false
   },
   "id": "b34ec754f5238355"
  },
  {
   "cell_type": "markdown",
   "source": [
    "Next, we call the actual training function that will supply the model created above with the information that it needs to create context between text, and the labels. It will work out which values match the closes and assign the proper label to it, based on how well that label matches the value."
   ],
   "metadata": {
    "collapsed": false
   },
   "id": "1267c2cff3935980"
  },
  {
   "cell_type": "markdown",
   "source": [
    "https://github.com/huggingface/transformers/blob/main/examples/pytorch/token-classification/run_ner.py#L546"
   ],
   "metadata": {
    "collapsed": false
   },
   "id": "e1d3c639813d66b8"
  },
  {
   "cell_type": "code",
   "outputs": [],
   "source": [
    "# Training\n",
    "if training_args.do_train:\n",
    "    train_result = trainer.train()\n",
    "    metrics = train_result.metrics\n",
    "    trainer.save_model()  # Saves the tokenizer too for easy upload\n",
    "\n",
    "    # max_train_samples = (\n",
    "    #     data_args.max_train_samples if data_args.max_train_samples is not None else len(train_dataset)\n",
    "    # )\n",
    "    metrics[\"train_samples\"] = len(train_dataset)\n",
    "\n",
    "    trainer.log_metrics(\"train\", metrics)\n",
    "    trainer.save_metrics(\"train\", metrics)\n",
    "    # trainer.save_state()\n",
    "model = BertForTokenClassification.from_pretrained(config['model_path'], num_labels=len(labels_to_ids))"
   ],
   "metadata": {
    "collapsed": false
   },
   "id": "581baf322ef630db"
  },
  {
   "cell_type": "code",
   "outputs": [],
   "source": [
    "# # Evaluation\n",
    "# if training_args.do_eval:\n",
    "#     logger.info(\"*** Evaluate ***\")\n",
    "# \n",
    "#     metrics = trainer.evaluate()\n",
    "# \n",
    "#  #   max_eval_samples = data_args.max_eval_samples if data_args.max_eval_samples is not None else len(eval_dataset)\n",
    "#     metrics[\"eval_samples\"] = len(eval_dataset)\n",
    "# \n",
    "#     trainer.log_metrics(\"eval\", metrics)\n",
    "#     trainer.save_metrics(\"eval\", metrics)"
   ],
   "metadata": {
    "collapsed": false
   },
   "id": "fc84e8c161887b23"
  },
  {
   "cell_type": "markdown",
   "source": [
    "### Prediction"
   ],
   "metadata": {
    "collapsed": false
   },
   "id": "2c17fc98f245aecf"
  },
  {
   "cell_type": "code",
   "outputs": [],
   "source": [
    "# Predict\n",
    "if training_args.do_predict:\n",
    "    logger.info(\"*** Predict ***\")\n",
    "\n",
    "    predictions, labels, metrics = trainer.predict(predict_dataset, metric_key_prefix=\"predict\")\n",
    "    # predictions = np.argmax(predictions, axis=2)\n",
    "\n",
    "    # # Remove ignored index (special tokens)\n",
    "    # true_predictions = [\n",
    "    #     [label_list[p] for (p, l) in zip(prediction, label) if l != -100]\n",
    "    #     for prediction, label in zip(predictions, labels)\n",
    "    # ]\n",
    "\n",
    "    trainer.log_metrics(\"predict\", metrics)\n",
    "    trainer.save_metrics(\"predict\", metrics)\n",
    "\n",
    "    # Save predictions\n",
    "    # output_predictions_file = os.path.join(training_args.output_dir, \"predictions.txt\")\n",
    "    # if trainer.is_world_process_zero():\n",
    "    #     with open(output_predictions_file, \"w\") as writer:\n",
    "    #         for prediction in true_predictions:\n",
    "    #             writer.write(\" \".join(prediction) + \"\\n\")\n"
   ],
   "metadata": {
    "collapsed": false
   },
   "id": "fb9332003caed18c"
  },
  {
   "cell_type": "markdown",
   "source": [
    "### TO HERE"
   ],
   "metadata": {
    "collapsed": false
   },
   "id": "251f2652b3c19f9b"
  },
  {
   "cell_type": "markdown",
   "source": [
    "Create the lists, pulling the context of the list. This will look at the token_map and place the proper label in it's own list, which is associated with the index of the corresponding item in the other list.\n",
    "\n",
    "It ensures that we are ignoring the o labels so that we don't report those in our created file."
   ],
   "metadata": {
    "collapsed": false
   },
   "id": "ba4c1001a71cb642"
  },
  {
   "cell_type": "code",
   "outputs": [],
   "source": [
    "# predictions = trainer.predict(ds).predictions\n",
    "preds_final = np.argmax(predictions, axis=2)\n",
    "# pred_softmax = np.exp(predictions) / np.sum(np.exp(predictions), axis = 2).reshape(predictions.shape[0],predictions.shape[1],1)\n",
    "id2label = ids_to_labels\n",
    "# preds_without_O = pred_softmax[:,:,:12].argmax(-1)\n",
    "# O_preds = pred_softmax[:,:,12]\n",
    "\n",
    "# preds_final = np.where(O_preds < config['threshold'], preds_without_O , preds)\n",
    "# preds_final = predictions.argmax(-1)\n",
    "preds_final"
   ],
   "metadata": {
    "collapsed": false
   },
   "id": "ee901ffedf46c727"
  },
  {
   "cell_type": "code",
   "execution_count": 11,
   "id": "f4a328a1",
   "metadata": {
    "ExecuteTime": {
     "end_time": "2024-04-18T01:10:43.929807700Z",
     "start_time": "2024-04-18T01:10:43.791726700Z"
    }
   },
   "outputs": [
    {
     "ename": "NameError",
     "evalue": "name 'preds_final' is not defined",
     "output_type": "error",
     "traceback": [
      "\u001B[1;31m---------------------------------------------------------------------------\u001B[0m",
      "\u001B[1;31mNameError\u001B[0m                                 Traceback (most recent call last)",
      "Cell \u001B[1;32mIn[11], line 3\u001B[0m\n\u001B[0;32m      1\u001B[0m pairs \u001B[38;5;241m=\u001B[39m \u001B[38;5;28mset\u001B[39m()\n\u001B[0;32m      2\u001B[0m document, token, label, token_str \u001B[38;5;241m=\u001B[39m [], [], [], []\n\u001B[1;32m----> 3\u001B[0m \u001B[38;5;28;01mfor\u001B[39;00m p, token_map, offsets, tokens, doc \u001B[38;5;129;01min\u001B[39;00m \u001B[38;5;28mzip\u001B[39m(\u001B[43mpreds_final\u001B[49m, ds[\u001B[38;5;124m\"\u001B[39m\u001B[38;5;124mtoken_map\u001B[39m\u001B[38;5;124m\"\u001B[39m], ds[\u001B[38;5;124m\"\u001B[39m\u001B[38;5;124moffset_mapping\u001B[39m\u001B[38;5;124m\"\u001B[39m], ds[\u001B[38;5;124m\"\u001B[39m\u001B[38;5;124mtokens\u001B[39m\u001B[38;5;124m\"\u001B[39m], ds[\u001B[38;5;124m\"\u001B[39m\u001B[38;5;124mdocument\u001B[39m\u001B[38;5;124m\"\u001B[39m]):\n\u001B[0;32m      5\u001B[0m     \u001B[38;5;28;01mfor\u001B[39;00m token_pred, (start_idx, end_idx) \u001B[38;5;129;01min\u001B[39;00m \u001B[38;5;28mzip\u001B[39m(p, offsets):\n\u001B[0;32m      6\u001B[0m         label_pred \u001B[38;5;241m=\u001B[39m id2label[\u001B[38;5;28mstr\u001B[39m(token_pred)]\n",
      "\u001B[1;31mNameError\u001B[0m: name 'preds_final' is not defined"
     ]
    }
   ],
   "source": [
    "pairs = set()\n",
    "document, token, label, token_str = [], [], [], []\n",
    "for p, token_map, offsets, tokens, doc in zip(preds_final, predict_dataset[\"token_map\"], predict_dataset[\"offset_mapping\"], predict_dataset[\"tokens\"], predict_dataset[\"document\"]):\n",
    "\n",
    "    for token_pred, (start_idx, end_idx) in zip(p, offsets):\n",
    "        label_pred = id2label[str(token_pred)]\n",
    "\n",
    "        if start_idx + end_idx == 0: \n",
    "            continue\n",
    "\n",
    "        if token_map[start_idx] == -1:\n",
    "            start_idx += 1\n",
    "\n",
    "        # ignore \"\\n\\n\"\n",
    "        while start_idx < len(token_map) and tokens[token_map[start_idx]].isspace():\n",
    "            start_idx += 1\n",
    "\n",
    "        if start_idx >= len(token_map): \n",
    "            break\n",
    "\n",
    "        token_id = token_map[start_idx]\n",
    "\n",
    "        # ignore \"O\" predictions and whitespace preds\n",
    "        if label_pred == \"O\" or token_id == -1:\n",
    "            continue\n",
    "            \n",
    "        pair = (doc, token_id)\n",
    "\n",
    "        if pair in pairs:\n",
    "            continue\n",
    "            \n",
    "        document.append(doc)\n",
    "        token.append(token_id)\n",
    "        label.append(label_pred)\n",
    "        token_str.append(tokens[token_id])\n",
    "        pairs.add(pair)"
   ]
  },
  {
   "cell_type": "markdown",
   "id": "45e4e0f6",
   "metadata": {},
   "source": [
    "This next part is creating the submission file for Kaggle"
   ]
  },
  {
   "cell_type": "code",
   "execution_count": 12,
   "id": "837ac4db",
   "metadata": {
    "ExecuteTime": {
     "end_time": "2024-04-18T01:10:43.948740400Z",
     "start_time": "2024-04-18T01:10:43.906232100Z"
    }
   },
   "outputs": [
    {
     "data": {
      "text/plain": "Empty DataFrame\nColumns: [document, token, label, token_str, row_id]\nIndex: []",
      "text/html": "<div>\n<style scoped>\n    .dataframe tbody tr th:only-of-type {\n        vertical-align: middle;\n    }\n\n    .dataframe tbody tr th {\n        vertical-align: top;\n    }\n\n    .dataframe thead th {\n        text-align: right;\n    }\n</style>\n<table border=\"1\" class=\"dataframe\">\n  <thead>\n    <tr style=\"text-align: right;\">\n      <th></th>\n      <th>document</th>\n      <th>token</th>\n      <th>label</th>\n      <th>token_str</th>\n      <th>row_id</th>\n    </tr>\n  </thead>\n  <tbody>\n  </tbody>\n</table>\n</div>"
     },
     "metadata": {},
     "output_type": "display_data"
    }
   ],
   "source": [
    "df_result = pd.DataFrame({\n",
    "    \"document\": document,\n",
    "    \"token\": token,\n",
    "    \"label\": label,\n",
    "    \"token_str\": token_str\n",
    "})\n",
    "df_result[\"row_id\"] = list(range(len(df_result)))\n",
    "display(df_result.head(100))"
   ]
  },
  {
   "cell_type": "code",
   "execution_count": 13,
   "id": "c7773da8",
   "metadata": {
    "ExecuteTime": {
     "end_time": "2024-04-18T01:10:44.074576600Z",
     "start_time": "2024-04-18T01:10:43.944451900Z"
    }
   },
   "outputs": [
    {
     "data": {
      "text/plain": "Empty DataFrame\nColumns: [row_id, document, token, label]\nIndex: []",
      "text/html": "<div>\n<style scoped>\n    .dataframe tbody tr th:only-of-type {\n        vertical-align: middle;\n    }\n\n    .dataframe tbody tr th {\n        vertical-align: top;\n    }\n\n    .dataframe thead th {\n        text-align: right;\n    }\n</style>\n<table border=\"1\" class=\"dataframe\">\n  <thead>\n    <tr style=\"text-align: right;\">\n      <th></th>\n      <th>row_id</th>\n      <th>document</th>\n      <th>token</th>\n      <th>label</th>\n    </tr>\n  </thead>\n  <tbody>\n  </tbody>\n</table>\n</div>"
     },
     "metadata": {},
     "output_type": "display_data"
    }
   ],
   "source": [
    "df_result = df_result[['row_id', 'document', 'token', 'label']]\n",
    "display(df_result.head(100))"
   ]
  }
 ],
 "metadata": {
  "colab": {
   "provenance": [],
   "toc_visible": true
  },
  "kernelspec": {
   "display_name": "Python 3",
   "language": "python",
   "name": "python3"
  },
  "language_info": {
   "codemirror_mode": {
    "name": "ipython",
    "version": 3
   },
   "file_extension": ".py",
   "mimetype": "text/x-python",
   "name": "python",
   "nbconvert_exporter": "python",
   "pygments_lexer": "ipython3",
   "version": "3.10.11"
  }
 },
 "nbformat": 4,
 "nbformat_minor": 5
}
