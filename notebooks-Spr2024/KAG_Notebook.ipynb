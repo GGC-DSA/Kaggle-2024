{
 "cells": [
  {
   "cell_type": "markdown",
   "id": "chcr1ibHHbS_",
   "metadata": {
    "id": "chcr1ibHHbS_"
   },
   "source": [
    "# Identifying PII in Student Essays\n",
    "## Project Summary\n",
    "The Kaggle Competition we are participating in is the [PII Data Detection hosted by The Learning Agency Lab](https://www.kaggle.com/competitions/pii-detection-removal-from-educational-data/overview). The goal of this competition is to develop a model that detects sensitive personally identifiable information (PII) in student writing. This is necessary to screen and clean educational data so that when released to the public for analysis and archival, the students' risk are mitigated.\n",
    "\n",
    "## Cloning Repo\n",
    "Because one of the files is larger than 100MiB, the file could not be uploaded directly to the github repo. The solution found was using git large file system to hold the file and upload the git lfs pointer file in the place of the json.\n",
    "\n",
    "Git Bash Code:\n",
    "```\n",
    "# install git lfs\n",
    "git lfs install\n",
    "\n",
    "# start file tracking for git lfs in the repo\n",
    "git lfs track \"*.json\"\n",
    "\n",
    "# stage/commit/push training json\n",
    "git add train.json\n",
    "git commit -m \"add train.json\"\n",
    "git push\n",
    "```\n",
    "After cloning the repo locally, it clones the git lfs pointer file not the data file.\n",
    "\n",
    "Git Bash Code:\n",
    "```\n",
    "# pull file from git lfs system into local repo using any pointer files\n",
    "git lfs pull\n",
    "```\n",
    "\n",
    "Downloading Model Requires:\n",
    "```git lfs track \"*.safetensors\"```\n",
    "to clone model from github\n",
    "\n",
    "And to use spacy pipeline: \n",
    "```\n",
    "python -m spacy download en_core_web_sm\n",
    "```"
   ]
  },
  {
   "cell_type": "markdown",
   "id": "w9Y2ymkF3KDW",
   "metadata": {
    "id": "w9Y2ymkF3KDW"
   },
   "source": [
    "## External Data Sources\n",
    "\n",
    "* [Persuade PII Dataset](https://www.kaggle.com/datasets/thedrcat/persuade-pii-dataset?rvi=1)\n",
    "  * Essays from Persuade corpus, modified with synthetic PII data and corresponding labels. It was filtered for essays that contain tokens that are relevant to competition.\n",
    "\n",
    "* [PII | External Dataset](https://www.kaggle.com/datasets/alejopaullier/pii-external-dataset?rvi=1)\n",
    "  * This is an LLM-generated external dataset that contains generated texts with their corresponding annotated labels in the required competition format.\n",
    "\n",
    "* [NEW DATASET PII Data Detection](https://www.kaggle.com/datasets/cristaliss/new-dataset-pii-data-detection?rvi=1)\n",
    "  * This dataset is a modified version of the official training which have the following changes: Revamped Labels, Token Transformation, and Token indexing\n",
    "\n",
    "* [PII Detection Dataset (GPT)](https://www.kaggle.com/datasets/pjmathematician/pii-detection-dataset-gpt)\n",
    "  * Personal data was created using python Faker package, which was then fed into the LLM to write an essay on. Overall, it contains 2000 gpt - generated essays and corresponding competition entities used in the essay.\n",
    "\n",
    "* [AI4privacy-PII](https://www.kaggle.com/datasets/verracodeguacas/ai4privacy-pii)\n",
    "  * The dataset is crafted using proprietary algorithms, ensuring the creation of synthetic data that avoids privacy violations. The data is meticulously curated with human-in-the-loop validation, ensuring both relevance and quality. It serves a crucial role in addressing the growing concerns around personal data security in AI applications.\n",
    "\n"
   ]
  },
  {
   "cell_type": "markdown",
   "source": [
    "# First Look"
   ],
   "metadata": {
    "collapsed": false
   },
   "id": "f6b944ea4d727dd2"
  },
  {
   "cell_type": "markdown",
   "id": "Sh7s_CBjbahT",
   "metadata": {
    "id": "Sh7s_CBjbahT"
   },
   "source": [
    "## Python Libraries\n"
   ]
  },
  {
   "cell_type": "code",
   "execution_count": 1,
   "id": "TP4-5t-sbcdn",
   "metadata": {
    "id": "TP4-5t-sbcdn",
    "ExecuteTime": {
     "end_time": "2024-04-22T03:47:16.099991600Z",
     "start_time": "2024-04-22T03:47:06.664808800Z"
    }
   },
   "outputs": [
    {
     "name": "stdout",
     "output_type": "stream",
     "text": [
      "Requirement already satisfied: accelerate in c:\\users\\pratik chaudhari\\lib\\site-packages (0.29.3)\n",
      "Requirement already satisfied: numpy>=1.17 in c:\\users\\pratik chaudhari\\lib\\site-packages (from accelerate) (1.26.3)\n",
      "Requirement already satisfied: packaging>=20.0 in c:\\users\\pratik chaudhari\\lib\\site-packages (from accelerate) (23.2)\n",
      "Requirement already satisfied: psutil in c:\\users\\pratik chaudhari\\lib\\site-packages (from accelerate) (5.9.8)\n",
      "Requirement already satisfied: pyyaml in c:\\users\\pratik chaudhari\\lib\\site-packages (from accelerate) (6.0.1)\n",
      "Requirement already satisfied: torch>=1.10.0 in c:\\users\\pratik chaudhari\\lib\\site-packages (from accelerate) (2.2.1+cu118)\n",
      "Requirement already satisfied: huggingface-hub in c:\\users\\pratik chaudhari\\lib\\site-packages (from accelerate) (0.21.4)\n",
      "Requirement already satisfied: safetensors>=0.3.1 in c:\\users\\pratik chaudhari\\lib\\site-packages (from accelerate) (0.4.2)\n",
      "Requirement already satisfied: filelock in c:\\users\\pratik chaudhari\\lib\\site-packages (from torch>=1.10.0->accelerate) (3.13.1)\n",
      "Requirement already satisfied: typing-extensions>=4.8.0 in c:\\users\\pratik chaudhari\\lib\\site-packages (from torch>=1.10.0->accelerate) (4.9.0)\n",
      "Requirement already satisfied: sympy in c:\\users\\pratik chaudhari\\lib\\site-packages (from torch>=1.10.0->accelerate) (1.12)\n",
      "Requirement already satisfied: networkx in c:\\users\\pratik chaudhari\\lib\\site-packages (from torch>=1.10.0->accelerate) (3.2.1)\n",
      "Requirement already satisfied: jinja2 in c:\\users\\pratik chaudhari\\lib\\site-packages (from torch>=1.10.0->accelerate) (3.1.3)\n",
      "Requirement already satisfied: fsspec in c:\\users\\pratik chaudhari\\lib\\site-packages (from torch>=1.10.0->accelerate) (2024.2.0)\n",
      "Requirement already satisfied: requests in c:\\users\\pratik chaudhari\\lib\\site-packages (from huggingface-hub->accelerate) (2.31.0)\n",
      "Requirement already satisfied: tqdm>=4.42.1 in c:\\users\\pratik chaudhari\\lib\\site-packages (from huggingface-hub->accelerate) (4.66.1)\n",
      "Requirement already satisfied: colorama in c:\\users\\pratik chaudhari\\lib\\site-packages (from tqdm>=4.42.1->huggingface-hub->accelerate) (0.4.6)\n",
      "Requirement already satisfied: MarkupSafe>=2.0 in c:\\users\\pratik chaudhari\\lib\\site-packages (from jinja2->torch>=1.10.0->accelerate) (2.1.5)\n",
      "Requirement already satisfied: charset-normalizer<4,>=2 in c:\\users\\pratik chaudhari\\lib\\site-packages (from requests->huggingface-hub->accelerate) (3.3.2)\n",
      "Requirement already satisfied: idna<4,>=2.5 in c:\\users\\pratik chaudhari\\lib\\site-packages (from requests->huggingface-hub->accelerate) (3.6)\n",
      "Requirement already satisfied: urllib3<3,>=1.21.1 in c:\\users\\pratik chaudhari\\lib\\site-packages (from requests->huggingface-hub->accelerate) (2.2.0)\n",
      "Requirement already satisfied: certifi>=2017.4.17 in c:\\users\\pratik chaudhari\\lib\\site-packages (from requests->huggingface-hub->accelerate) (2024.2.2)\n",
      "Requirement already satisfied: mpmath>=0.19 in c:\\users\\pratik chaudhari\\lib\\site-packages (from sympy->torch>=1.10.0->accelerate) (1.3.0)\n",
      "Requirement already satisfied: evaluate in c:\\users\\pratik chaudhari\\lib\\site-packages (0.4.1)\n",
      "Requirement already satisfied: datasets>=2.0.0 in c:\\users\\pratik chaudhari\\lib\\site-packages (from evaluate) (2.18.0)\n",
      "Requirement already satisfied: numpy>=1.17 in c:\\users\\pratik chaudhari\\lib\\site-packages (from evaluate) (1.26.3)\n",
      "Requirement already satisfied: dill in c:\\users\\pratik chaudhari\\lib\\site-packages (from evaluate) (0.3.8)\n",
      "Requirement already satisfied: pandas in c:\\users\\pratik chaudhari\\lib\\site-packages (from evaluate) (2.2.0)\n",
      "Requirement already satisfied: requests>=2.19.0 in c:\\users\\pratik chaudhari\\lib\\site-packages (from evaluate) (2.31.0)\n",
      "Requirement already satisfied: tqdm>=4.62.1 in c:\\users\\pratik chaudhari\\lib\\site-packages (from evaluate) (4.66.1)\n",
      "Requirement already satisfied: xxhash in c:\\users\\pratik chaudhari\\lib\\site-packages (from evaluate) (3.4.1)\n",
      "Requirement already satisfied: multiprocess in c:\\users\\pratik chaudhari\\lib\\site-packages (from evaluate) (0.70.16)\n",
      "Requirement already satisfied: fsspec>=2021.05.0 in c:\\users\\pratik chaudhari\\lib\\site-packages (from fsspec[http]>=2021.05.0->evaluate) (2024.2.0)\n",
      "Requirement already satisfied: huggingface-hub>=0.7.0 in c:\\users\\pratik chaudhari\\lib\\site-packages (from evaluate) (0.21.4)\n",
      "Requirement already satisfied: packaging in c:\\users\\pratik chaudhari\\lib\\site-packages (from evaluate) (23.2)\n",
      "Requirement already satisfied: responses<0.19 in c:\\users\\pratik chaudhari\\lib\\site-packages (from evaluate) (0.18.0)\n",
      "Requirement already satisfied: filelock in c:\\users\\pratik chaudhari\\lib\\site-packages (from datasets>=2.0.0->evaluate) (3.13.1)\n",
      "Requirement already satisfied: pyarrow>=12.0.0 in c:\\users\\pratik chaudhari\\lib\\site-packages (from datasets>=2.0.0->evaluate) (15.0.2)\n",
      "Requirement already satisfied: pyarrow-hotfix in c:\\users\\pratik chaudhari\\lib\\site-packages (from datasets>=2.0.0->evaluate) (0.6)\n",
      "Requirement already satisfied: aiohttp in c:\\users\\pratik chaudhari\\lib\\site-packages (from datasets>=2.0.0->evaluate) (3.9.4)\n",
      "Requirement already satisfied: pyyaml>=5.1 in c:\\users\\pratik chaudhari\\lib\\site-packages (from datasets>=2.0.0->evaluate) (6.0.1)\n",
      "Requirement already satisfied: typing-extensions>=3.7.4.3 in c:\\users\\pratik chaudhari\\lib\\site-packages (from huggingface-hub>=0.7.0->evaluate) (4.9.0)\n",
      "Requirement already satisfied: charset-normalizer<4,>=2 in c:\\users\\pratik chaudhari\\lib\\site-packages (from requests>=2.19.0->evaluate) (3.3.2)\n",
      "Requirement already satisfied: idna<4,>=2.5 in c:\\users\\pratik chaudhari\\lib\\site-packages (from requests>=2.19.0->evaluate) (3.6)\n",
      "Requirement already satisfied: urllib3<3,>=1.21.1 in c:\\users\\pratik chaudhari\\lib\\site-packages (from requests>=2.19.0->evaluate) (2.2.0)\n",
      "Requirement already satisfied: certifi>=2017.4.17 in c:\\users\\pratik chaudhari\\lib\\site-packages (from requests>=2.19.0->evaluate) (2024.2.2)\n",
      "Requirement already satisfied: colorama in c:\\users\\pratik chaudhari\\lib\\site-packages (from tqdm>=4.62.1->evaluate) (0.4.6)\n",
      "Requirement already satisfied: python-dateutil>=2.8.2 in c:\\users\\pratik chaudhari\\lib\\site-packages (from pandas->evaluate) (2.8.2)\n",
      "Requirement already satisfied: pytz>=2020.1 in c:\\users\\pratik chaudhari\\lib\\site-packages (from pandas->evaluate) (2024.1)\n",
      "Requirement already satisfied: tzdata>=2022.7 in c:\\users\\pratik chaudhari\\lib\\site-packages (from pandas->evaluate) (2023.4)\n",
      "Requirement already satisfied: aiosignal>=1.1.2 in c:\\users\\pratik chaudhari\\lib\\site-packages (from aiohttp->datasets>=2.0.0->evaluate) (1.3.1)\n",
      "Requirement already satisfied: attrs>=17.3.0 in c:\\users\\pratik chaudhari\\lib\\site-packages (from aiohttp->datasets>=2.0.0->evaluate) (23.2.0)\n",
      "Requirement already satisfied: frozenlist>=1.1.1 in c:\\users\\pratik chaudhari\\lib\\site-packages (from aiohttp->datasets>=2.0.0->evaluate) (1.4.1)\n",
      "Requirement already satisfied: multidict<7.0,>=4.5 in c:\\users\\pratik chaudhari\\lib\\site-packages (from aiohttp->datasets>=2.0.0->evaluate) (6.0.5)\n",
      "Requirement already satisfied: yarl<2.0,>=1.0 in c:\\users\\pratik chaudhari\\lib\\site-packages (from aiohttp->datasets>=2.0.0->evaluate) (1.9.4)\n",
      "Requirement already satisfied: async-timeout<5.0,>=4.0 in c:\\users\\pratik chaudhari\\lib\\site-packages (from aiohttp->datasets>=2.0.0->evaluate) (4.0.3)\n",
      "Requirement already satisfied: six>=1.5 in c:\\users\\pratik chaudhari\\lib\\site-packages (from python-dateutil>=2.8.2->pandas->evaluate) (1.16.0)\n",
      "Requirement already satisfied: seqeval in c:\\users\\pratik chaudhari\\lib\\site-packages (1.2.2)\n",
      "Requirement already satisfied: numpy>=1.14.0 in c:\\users\\pratik chaudhari\\lib\\site-packages (from seqeval) (1.26.3)\n",
      "Requirement already satisfied: scikit-learn>=0.21.3 in c:\\users\\pratik chaudhari\\lib\\site-packages (from seqeval) (1.4.1.post1)\n",
      "Requirement already satisfied: scipy>=1.6.0 in c:\\users\\pratik chaudhari\\lib\\site-packages (from scikit-learn>=0.21.3->seqeval) (1.12.0)\n",
      "Requirement already satisfied: joblib>=1.2.0 in c:\\users\\pratik chaudhari\\lib\\site-packages (from scikit-learn>=0.21.3->seqeval) (1.3.2)\n",
      "Requirement already satisfied: threadpoolctl>=2.0.0 in c:\\users\\pratik chaudhari\\lib\\site-packages (from scikit-learn>=0.21.3->seqeval) (3.3.0)\n"
     ]
    }
   ],
   "source": [
    "# !python -m pip install --upgrade pip\n",
    "!pip install -U accelerate\n",
    "\n",
    "\n",
    "import pandas as pd\n",
    "import numpy as np\n",
    "import spacy as sp\n",
    "import re\n",
    "import json\n",
    "import math\n",
    "from pathlib import Path\n",
    "from datasets import Dataset\n",
    "import os\n",
    "import torch\n",
    "import torch.nn as nn\n",
    "from torch import cuda\n",
    "\n",
    "import scipy.stats as stats\n",
    "from collections import Counter\n",
    "import matplotlib.pyplot as plt\n",
    "from matplotlib import colormaps\n",
    "from matplotlib.font_manager import FontProperties\n",
    "\n",
    "!pip install evaluate\n",
    "!pip install seqeval\n",
    "import evaluate\n",
    "\n",
    "from sklearn.model_selection import train_test_split\n",
    "from transformers import BertTokenizerFast, BertForTokenClassification, Trainer, TrainingArguments, DataCollatorForTokenClassification\n",
    "\n",
    "import warnings\n",
    "warnings.filterwarnings('ignore')"
   ]
  },
  {
   "cell_type": "markdown",
   "source": [
    "## Config\n",
    "\n",
    "This section does initial configuration, loading our the bert pretained model that we use, as well as setting up hyper parameters like `EPOCHS` and `LEARNING_RATE`"
   ],
   "metadata": {},
   "id": "e0af4e18"
  },
  {
   "cell_type": "code",
   "outputs": [],
   "source": [
    "class Config():\n",
    "    def __init__(self, platform, model_name, pretrained_model_name):\n",
    "        # platform = 'Kaggle'# \n",
    "        if platform == 'kaggle':\n",
    "            pretrained_model_loc = '/kaggle/input/huggingface-bert/' + pretrained_model_name\n",
    "            data_path = \"/kaggle/input/pii-detection-removal-from-educational-data/train.json\"\n",
    "            model_path = '/kaggle/working/models/' + model_name +'.bin'\n",
    "            submission_path = '../submission/'+ model_name + '-submission.csv'\n",
    "\n",
    "        elif platform == 'local':\n",
    "            pretrained_model_loc = pretrained_model_name\n",
    "            model_path = '../models/bert_models/' + model_name +'.bin'\n",
    "            data_path = \"../Datasets/Official/train.json\"\n",
    "            submission_path = '../models/submission/'+ model_name + '-submission.csv'\n",
    "# Commented out parameters are defunct\n",
    "        self.config = {\n",
    "            'MAX_LEN': 100,\n",
    "            'TRAIN_BATCH_SIZE': 4,\n",
    "            'VALID_BATCH_SIZE': 2,\n",
    "            'EPOCHS': 5,\n",
    "            'LEARNING_RATE':1e-5,\n",
    "            # 'MAX_GRAD_NORM': 10,\n",
    "            'device': 'cuda' if cuda.is_available() else 'cpu',\n",
    "            'data_path': data_path,\n",
    "            'model_path': model_path,\n",
    "            'pretrained_model': BertForTokenClassification.from_pretrained(pretrained_model_loc, num_labels = 13),\n",
    "            'tokenizer': BertTokenizerFast.from_pretrained(pretrained_model_loc),\n",
    "            # 'threshold': 0.9,\n",
    "            'return_entity_level_metrics': True,\n",
    "            'ignore_subwords': True,\n",
    "            'subm_path': submission_path\n",
    "        }"
   ],
   "metadata": {
    "collapsed": false,
    "ExecuteTime": {
     "end_time": "2024-04-22T03:55:48.966113100Z",
     "start_time": "2024-04-22T03:55:48.953737400Z"
    }
   },
   "id": "6cd86d53a9a80b8e",
   "execution_count": 47
  },
  {
   "cell_type": "code",
   "outputs": [
    {
     "name": "stderr",
     "output_type": "stream",
     "text": [
      "Some weights of BertForTokenClassification were not initialized from the model checkpoint at bert-base-cased and are newly initialized: ['classifier.bias', 'classifier.weight']\n",
      "You should probably TRAIN this model on a down-stream task to be able to use it for predictions and inference.\n"
     ]
    }
   ],
   "source": [
    "platform = 'local'\n",
    "pretrainend_model_name = 'bert-base-cased'\n",
    "model_num = 1\n",
    "model_name = 'model-' + str(model_num) + '-' + pretrainend_model_name\n",
    "\n",
    "config = Config(platform,model_name, pretrainend_model_name).config"
   ],
   "metadata": {
    "collapsed": false,
    "ExecuteTime": {
     "end_time": "2024-04-22T03:55:55.575363200Z",
     "start_time": "2024-04-22T03:55:54.069006100Z"
    }
   },
   "id": "b9c2cc28704c1691",
   "execution_count": 48
  },
  {
   "cell_type": "markdown",
   "source": [
    "## Loading Datasets\n"
   ],
   "metadata": {
    "id": "5flL5Dcfbeij"
   },
   "id": "5flL5Dcfbeij"
  },
  {
   "cell_type": "markdown",
   "source": [
    "### Official training data\n",
    "\n",
    "Only load into notebook after pulling from git LFS (see above)"
   ],
   "metadata": {
    "id": "_goOMIO_blf8"
   },
   "id": "_goOMIO_blf8"
  },
  {
   "cell_type": "code",
   "outputs": [
    {
     "data": {
      "text/plain": "      document                                          full_text  \\\n0            7  Design Thinking for innovation reflexion-Avril...   \n1           10  Diego Estrada\\n\\nDesign Thinking Assignment\\n\\...   \n2           16  Reporting process\\n\\nby Gilberto Gamboa\\n\\nCha...   \n3           20  Design Thinking for Innovation\\n\\nSindy Samaca...   \n4           56  Assignment:  Visualization Reflection  Submitt...   \n...        ...                                                ...   \n6802     22678  EXAMPLE – JOURNEY MAP\\n\\nTHE CHALLENGE    My w...   \n6803     22679  Why Mind Mapping?\\n\\nMind maps are graphical r...   \n6804     22681  Challenge\\n\\nSo, a few months back, I had chos...   \n6805     22684  Brainstorming\\n\\nChallenge & Selection\\n\\nBrai...   \n6806     22687  Mind Mapping\\n\\nChallenge\\n\\nMy consulting tea...   \n\n                                                 tokens  \\\n0     [Design, Thinking, for, innovation, reflexion,...   \n1     [Diego, Estrada, \\n\\n, Design, Thinking, Assig...   \n2     [Reporting, process, \\n\\n, by, Gilberto, Gambo...   \n3     [Design, Thinking, for, Innovation, \\n\\n, Sind...   \n4     [Assignment, :,   , Visualization,  , Reflecti...   \n...                                                 ...   \n6802  [EXAMPLE, –, JOURNEY, MAP, \\n\\n, THE, CHALLENG...   \n6803  [Why, Mind, Mapping, ?, \\n\\n, Mind, maps, are,...   \n6804  [Challenge, \\n\\n, So, ,, a, few, months, back,...   \n6805  [Brainstorming, \\n\\n, Challenge, &, Selection,...   \n6806  [Mind, Mapping, \\n\\n, Challenge, \\n\\n, My, con...   \n\n                                    trailing_whitespace  \\\n0     [True, True, True, True, False, False, True, F...   \n1     [True, False, False, True, True, False, False,...   \n2     [True, False, False, True, True, False, False,...   \n3     [True, True, True, False, False, True, False, ...   \n4     [False, False, False, False, False, False, Fal...   \n...                                                 ...   \n6802  [True, True, True, False, False, True, True, F...   \n6803  [True, True, False, False, False, True, True, ...   \n6804  [False, False, False, True, True, True, True, ...   \n6805  [False, False, True, True, False, False, True,...   \n6806  [True, False, False, False, False, True, True,...   \n\n                                                 labels  \n0     [O, O, O, O, O, O, O, O, O, B-NAME_STUDENT, I-...  \n1     [B-NAME_STUDENT, I-NAME_STUDENT, O, O, O, O, O...  \n2     [O, O, O, O, B-NAME_STUDENT, I-NAME_STUDENT, O...  \n3     [O, O, O, O, O, B-NAME_STUDENT, I-NAME_STUDENT...  \n4     [O, O, O, O, O, O, O, O, O, O, O, O, B-NAME_ST...  \n...                                                 ...  \n6802  [O, O, O, O, O, O, O, O, O, O, O, O, O, O, O, ...  \n6803  [O, O, O, O, O, O, O, O, O, O, O, O, O, O, O, ...  \n6804  [O, O, O, O, O, O, O, O, O, O, O, O, O, O, O, ...  \n6805  [O, O, O, O, O, O, O, O, O, O, O, O, O, O, O, ...  \n6806  [O, O, O, O, O, O, O, O, O, O, O, O, O, O, O, ...  \n\n[6807 rows x 5 columns]",
      "text/html": "<div>\n<style scoped>\n    .dataframe tbody tr th:only-of-type {\n        vertical-align: middle;\n    }\n\n    .dataframe tbody tr th {\n        vertical-align: top;\n    }\n\n    .dataframe thead th {\n        text-align: right;\n    }\n</style>\n<table border=\"1\" class=\"dataframe\">\n  <thead>\n    <tr style=\"text-align: right;\">\n      <th></th>\n      <th>document</th>\n      <th>full_text</th>\n      <th>tokens</th>\n      <th>trailing_whitespace</th>\n      <th>labels</th>\n    </tr>\n  </thead>\n  <tbody>\n    <tr>\n      <th>0</th>\n      <td>7</td>\n      <td>Design Thinking for innovation reflexion-Avril...</td>\n      <td>[Design, Thinking, for, innovation, reflexion,...</td>\n      <td>[True, True, True, True, False, False, True, F...</td>\n      <td>[O, O, O, O, O, O, O, O, O, B-NAME_STUDENT, I-...</td>\n    </tr>\n    <tr>\n      <th>1</th>\n      <td>10</td>\n      <td>Diego Estrada\\n\\nDesign Thinking Assignment\\n\\...</td>\n      <td>[Diego, Estrada, \\n\\n, Design, Thinking, Assig...</td>\n      <td>[True, False, False, True, True, False, False,...</td>\n      <td>[B-NAME_STUDENT, I-NAME_STUDENT, O, O, O, O, O...</td>\n    </tr>\n    <tr>\n      <th>2</th>\n      <td>16</td>\n      <td>Reporting process\\n\\nby Gilberto Gamboa\\n\\nCha...</td>\n      <td>[Reporting, process, \\n\\n, by, Gilberto, Gambo...</td>\n      <td>[True, False, False, True, True, False, False,...</td>\n      <td>[O, O, O, O, B-NAME_STUDENT, I-NAME_STUDENT, O...</td>\n    </tr>\n    <tr>\n      <th>3</th>\n      <td>20</td>\n      <td>Design Thinking for Innovation\\n\\nSindy Samaca...</td>\n      <td>[Design, Thinking, for, Innovation, \\n\\n, Sind...</td>\n      <td>[True, True, True, False, False, True, False, ...</td>\n      <td>[O, O, O, O, O, B-NAME_STUDENT, I-NAME_STUDENT...</td>\n    </tr>\n    <tr>\n      <th>4</th>\n      <td>56</td>\n      <td>Assignment:  Visualization Reflection  Submitt...</td>\n      <td>[Assignment, :,   , Visualization,  , Reflecti...</td>\n      <td>[False, False, False, False, False, False, Fal...</td>\n      <td>[O, O, O, O, O, O, O, O, O, O, O, O, B-NAME_ST...</td>\n    </tr>\n    <tr>\n      <th>...</th>\n      <td>...</td>\n      <td>...</td>\n      <td>...</td>\n      <td>...</td>\n      <td>...</td>\n    </tr>\n    <tr>\n      <th>6802</th>\n      <td>22678</td>\n      <td>EXAMPLE – JOURNEY MAP\\n\\nTHE CHALLENGE    My w...</td>\n      <td>[EXAMPLE, –, JOURNEY, MAP, \\n\\n, THE, CHALLENG...</td>\n      <td>[True, True, True, False, False, True, True, F...</td>\n      <td>[O, O, O, O, O, O, O, O, O, O, O, O, O, O, O, ...</td>\n    </tr>\n    <tr>\n      <th>6803</th>\n      <td>22679</td>\n      <td>Why Mind Mapping?\\n\\nMind maps are graphical r...</td>\n      <td>[Why, Mind, Mapping, ?, \\n\\n, Mind, maps, are,...</td>\n      <td>[True, True, False, False, False, True, True, ...</td>\n      <td>[O, O, O, O, O, O, O, O, O, O, O, O, O, O, O, ...</td>\n    </tr>\n    <tr>\n      <th>6804</th>\n      <td>22681</td>\n      <td>Challenge\\n\\nSo, a few months back, I had chos...</td>\n      <td>[Challenge, \\n\\n, So, ,, a, few, months, back,...</td>\n      <td>[False, False, False, True, True, True, True, ...</td>\n      <td>[O, O, O, O, O, O, O, O, O, O, O, O, O, O, O, ...</td>\n    </tr>\n    <tr>\n      <th>6805</th>\n      <td>22684</td>\n      <td>Brainstorming\\n\\nChallenge &amp; Selection\\n\\nBrai...</td>\n      <td>[Brainstorming, \\n\\n, Challenge, &amp;, Selection,...</td>\n      <td>[False, False, True, True, False, False, True,...</td>\n      <td>[O, O, O, O, O, O, O, O, O, O, O, O, O, O, O, ...</td>\n    </tr>\n    <tr>\n      <th>6806</th>\n      <td>22687</td>\n      <td>Mind Mapping\\n\\nChallenge\\n\\nMy consulting tea...</td>\n      <td>[Mind, Mapping, \\n\\n, Challenge, \\n\\n, My, con...</td>\n      <td>[True, False, False, False, False, True, True,...</td>\n      <td>[O, O, O, O, O, O, O, O, O, O, O, O, O, O, O, ...</td>\n    </tr>\n  </tbody>\n</table>\n<p>6807 rows × 5 columns</p>\n</div>"
     },
     "execution_count": 4,
     "metadata": {},
     "output_type": "execute_result"
    }
   ],
   "source": [
    "df = pd.read_json(config['data_path'])\n",
    "df"
   ],
   "metadata": {
    "id": "g1ogxxEqbjHk",
    "ExecuteTime": {
     "end_time": "2024-04-22T03:47:17.456002Z",
     "start_time": "2024-04-22T03:47:16.709108Z"
    }
   },
   "id": "g1ogxxEqbjHk",
   "execution_count": 4
  },
  {
   "cell_type": "markdown",
   "source": [
    "## Exploration"
   ],
   "metadata": {
    "id": "8jWiYTLU1yF9"
   },
   "id": "8jWiYTLU1yF9"
  },
  {
   "cell_type": "markdown",
   "source": [
    "### Length of Essays"
   ],
   "metadata": {
    "collapsed": false
   },
   "id": "6582b71ad8e2669e"
  },
  {
   "cell_type": "code",
   "outputs": [
    {
     "data": {
      "text/plain": "<Figure size 700x300 with 1 Axes>",
      "image/png": "[encoded data removed]"
     },
     "metadata": {},
     "output_type": "display_data"
    }
   ],
   "source": [
    "fig, ax = plt.subplots(figsize=(7, 3))\n",
    "\n",
    "plt.title('Amount of Words per Essays')\n",
    "ax.hist(df['tokens'].apply(len), bins=20, color='lightgreen', edgecolor='black', alpha=0.7)\n",
    "ax.set_ylabel('Frequency')\n",
    "ax.set_xlabel('# of Words')\n",
    "\n",
    "plt.show()"
   ],
   "metadata": {
    "collapsed": false,
    "ExecuteTime": {
     "end_time": "2024-04-22T03:47:17.644603900Z",
     "start_time": "2024-04-22T03:47:17.456999Z"
    }
   },
   "id": "8fff5307a58d325f",
   "execution_count": 5
  },
  {
   "cell_type": "markdown",
   "source": [
    "### Proportion of PII as a percentage of number of words"
   ],
   "metadata": {
    "collapsed": false
   },
   "id": "a21570c6190ee286"
  },
  {
   "cell_type": "code",
   "outputs": [
    {
     "data": {
      "text/plain": "<Figure size 900x300 with 2 Axes>",
      "image/png": "[encoded data removed]"
     },
     "metadata": {},
     "output_type": "display_data"
    }
   ],
   "source": [
    "labels = df['labels']\n",
    "\n",
    "non_o_values = df.apply(lambda line: sum(1 for x in line['labels'] if x != 'O') / len(line['labels']), axis = 1)\n",
    "proportions_array = np.array(non_o_values)\n",
    "\n",
    "fig, axs = plt.subplots(1,2, figsize=(9, 3))\n",
    "\n",
    "axs[0].hist(proportions_array, bins=20, color='blue', edgecolor='black', alpha=0.7)\n",
    "axs[0].set_xlabel('Proportion of Text that is PII', x=1.1,y=-1)\n",
    "axs[0].set_ylabel('Frequency')\n",
    "\n",
    "axs[1].hist(proportions_array, bins=20, color='dodgerblue', edgecolor='black', alpha=0.7)\n",
    "# axs[0].xlabel('Proportion of Text that is PII')\n",
    "axs[1].set_yscale('log')\n",
    "axs[1].set_ylabel('Frequency (Log Scaled)')\n",
    "\n",
    "axs[0].set_title('How much of the text is PII', x=1.1,y=1.05,pad=-5)\n",
    "plt.show()"
   ],
   "metadata": {
    "collapsed": false,
    "ExecuteTime": {
     "end_time": "2024-04-22T03:47:18.094591100Z",
     "start_time": "2024-04-22T03:47:17.640619Z"
    }
   },
   "id": "2a4a27f955130073",
   "execution_count": 6
  },
  {
   "cell_type": "markdown",
   "source": [
    "![](data:image/png;base64,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)"
   ],
   "metadata": {
    "collapsed": false
   },
   "id": "f8f17c7c4b064dbf"
  },
  {
   "cell_type": "markdown",
   "source": [
    "#### Hypothesis 1\n",
    "Our claim is that there is at least 1 PII in each essay. We will use a t-test to evaluate this claim.\n",
    "\n",
    "$H_0: μ_{PII}  = 0$\n",
    "\n",
    "$H_a: μ_{PII}  > 0$"
   ],
   "metadata": {
    "collapsed": false
   },
   "id": "e07fc93c15519b80"
  },
  {
   "cell_type": "code",
   "outputs": [
    {
     "name": "stdout",
     "output_type": "stream",
     "text": [
      "t-statistic: 23.503261414082406\n",
      "p-value: 8.178457800448455e-118\n"
     ]
    }
   ],
   "source": [
    "non_o_values1 = df.apply(lambda line: sum(1 for x in line['labels'] if x != 'O'), axis = 1)\n",
    "\n",
    "t_statistic1, p_value1 = stats.ttest_1samp(non_o_values1, 0, alternative = 'greater')\n",
    "\n",
    "print(\"t-statistic:\", t_statistic1)\n",
    "print(\"p-value:\", p_value1)"
   ],
   "metadata": {
    "collapsed": false,
    "ExecuteTime": {
     "end_time": "2024-04-22T03:47:18.197247900Z",
     "start_time": "2024-04-22T03:47:18.089607Z"
    }
   },
   "id": "fa02dd253cbe1699",
   "execution_count": 7
  },
  {
   "cell_type": "markdown",
   "source": [
    "**Conclusion:**\n",
    "\n",
    "Since the p-value < 0.0001 we reject $H_0$ and support the claim that there is at least 1 PII in each essay."
   ],
   "metadata": {
    "collapsed": false
   },
   "id": "d735bbc8b31d673e"
  },
  {
   "cell_type": "markdown",
   "source": [
    "### Proprtion of each type of PII"
   ],
   "metadata": {
    "collapsed": false
   },
   "id": "3cbc88947ef8ce7"
  },
  {
   "cell_type": "code",
   "outputs": [
    {
     "name": "stderr",
     "output_type": "stream",
     "text": [
      "No artists with labels found to put in legend.  Note that artists whose label start with an underscore are ignored when legend() is called with no argument.\n"
     ]
    },
    {
     "data": {
      "text/plain": "<Figure size 600x400 with 1 Axes>",
      "image/png": "[encoded data removed]"
     },
     "metadata": {},
     "output_type": "display_data"
    }
   ],
   "source": [
    "color_map = colormaps['plasma'].resampled(12)\n",
    "color_map.colors\n",
    "\n",
    "c = Counter()\n",
    "df.apply(lambda line: c.update(line.labels), axis = 1)\n",
    "c_pii = c.most_common()[1:]\n",
    "c_key, c_val = zip(*c_pii)\n",
    "\n",
    "fig, ax = plt.subplots(figsize=(6,4))\n",
    "plt.barh(c_key, c_val, color=color_map.colors, edgecolor='black')\n",
    "\n",
    "ax.set_yticklabels(c_key,ha = 'left')\n",
    "plt.xlabel('Number of times in the dataset')\n",
    "plt.title('Most common types of PII')\n",
    "yax = ax.get_yaxis()\n",
    "pad = max(T.label1.get_window_extent().width for T in yax.majorTicks)\n",
    "yax.set_tick_params(pad=pad-35)\n",
    "plt.legend(title='For PII phrase \"John Smith\",\\nJohn would be B-NAME_STUDENT\\nSmith would be I-NAME_STUDENT', title_fontsize='large', shadow=True, loc='upper right')\n",
    "plt.show()"
   ],
   "metadata": {
    "collapsed": false,
    "ExecuteTime": {
     "end_time": "2024-04-22T03:47:18.481297800Z",
     "start_time": "2024-04-22T03:47:18.198244500Z"
    }
   },
   "id": "b992b976c456cf40",
   "execution_count": 8
  },
  {
   "cell_type": "markdown",
   "source": [
    "#### Hypothesis 2\n",
    "Our claim is that names have a different likelihood to appear over the other PII.\n",
    "To evaluate this claim, we will use a Tukey test.\n",
    "\n",
    "$H_0: μ_{Names} = μ_{URL} = μ_{ID} = μ_{Email} = μ_{Address} = μ_{Phone} = μ_{Username}$\n",
    "\n",
    "$H_a:  μ_{Names} \\not=$ the others"
   ],
   "metadata": {
    "collapsed": false
   },
   "id": "7742667b82153837"
  },
  {
   "cell_type": "code",
   "outputs": [],
   "source": [
    "def line_pii_cumulative(line):\n",
    "    \"\"\"Accumulate all of the pii in each line\n",
    "    \"\"\"\n",
    "    c_line = Counter()\n",
    "    c_line.update(line)\n",
    "    c__line_pii = c_line.most_common()[1:]\n",
    "\n",
    "    c_line_pii_cumulative = {'NAME': 0, 'URL': 0, 'ID': 0, 'EMAIL': 0, 'ADDRESS': 0, 'PHONE': 0, 'USERNAME': 0}\n",
    "\n",
    "    for k,v in c__line_pii:\n",
    "        if 'NAME_' in k:\n",
    "            c_line_pii_cumulative['NAME'] += v\n",
    "        elif 'URL' in k:\n",
    "            c_line_pii_cumulative['URL'] += v\n",
    "        elif 'ID' in k:\n",
    "            c_line_pii_cumulative['ID'] += v\n",
    "        elif 'EMAIL' in k:\n",
    "            c_line_pii_cumulative['EMAIL'] += v\n",
    "        elif 'ADDRESS' in k:\n",
    "            c_line_pii_cumulative['ADDRESS'] += v\n",
    "        elif 'PHONE' in k:\n",
    "            c_line_pii_cumulative['PHONE'] += v\n",
    "        elif 'USERNAME' in k:\n",
    "            c_line_pii_cumulative['USERNAME'] += v\n",
    "    return c_line_pii_cumulative\n"
   ],
   "metadata": {
    "collapsed": false,
    "ExecuteTime": {
     "end_time": "2024-04-22T03:47:18.493257500Z",
     "start_time": "2024-04-22T03:47:18.480301600Z"
    }
   },
   "id": "9c794df5c310e80c",
   "execution_count": 9
  },
  {
   "cell_type": "code",
   "outputs": [],
   "source": [
    "high_level_pii = ['NAME', 'URL', 'ID', 'EMAIL', 'ADDRESS', 'PHONE', 'USERNAME']\n",
    "\n",
    "df1 = pd.DataFrame(data = df['labels'].apply(lambda line: line_pii_cumulative(line)).values)\n",
    "df1 = pd.concat([df1.drop([0], axis = 1), df1[0].apply(pd.Series)], axis=1)"
   ],
   "metadata": {
    "collapsed": false,
    "ExecuteTime": {
     "end_time": "2024-04-22T03:47:19.292777200Z",
     "start_time": "2024-04-22T03:47:18.496247800Z"
    }
   },
   "id": "c7aab951f53ada76",
   "execution_count": 10
  },
  {
   "cell_type": "code",
   "outputs": [
    {
     "data": {
      "text/plain": "          NAME   URL    ID EMAIL ADDRESS PHONE USERNAME\nNAME            True  True  True    True  True     True\nURL       True                                         \nID        True                                         \nEMAIL     True                                         \nADDRESS   True                                         \nPHONE     True                                         \nUSERNAME  True                                         ",
      "text/html": "<div>\n<style scoped>\n    .dataframe tbody tr th:only-of-type {\n        vertical-align: middle;\n    }\n\n    .dataframe tbody tr th {\n        vertical-align: top;\n    }\n\n    .dataframe thead th {\n        text-align: right;\n    }\n</style>\n<table border=\"1\" class=\"dataframe\">\n  <thead>\n    <tr style=\"text-align: right;\">\n      <th></th>\n      <th>NAME</th>\n      <th>URL</th>\n      <th>ID</th>\n      <th>EMAIL</th>\n      <th>ADDRESS</th>\n      <th>PHONE</th>\n      <th>USERNAME</th>\n    </tr>\n  </thead>\n  <tbody>\n    <tr>\n      <th>NAME</th>\n      <td></td>\n      <td>True</td>\n      <td>True</td>\n      <td>True</td>\n      <td>True</td>\n      <td>True</td>\n      <td>True</td>\n    </tr>\n    <tr>\n      <th>URL</th>\n      <td>True</td>\n      <td></td>\n      <td></td>\n      <td></td>\n      <td></td>\n      <td></td>\n      <td></td>\n    </tr>\n    <tr>\n      <th>ID</th>\n      <td>True</td>\n      <td></td>\n      <td></td>\n      <td></td>\n      <td></td>\n      <td></td>\n      <td></td>\n    </tr>\n    <tr>\n      <th>EMAIL</th>\n      <td>True</td>\n      <td></td>\n      <td></td>\n      <td></td>\n      <td></td>\n      <td></td>\n      <td></td>\n    </tr>\n    <tr>\n      <th>ADDRESS</th>\n      <td>True</td>\n      <td></td>\n      <td></td>\n      <td></td>\n      <td></td>\n      <td></td>\n      <td></td>\n    </tr>\n    <tr>\n      <th>PHONE</th>\n      <td>True</td>\n      <td></td>\n      <td></td>\n      <td></td>\n      <td></td>\n      <td></td>\n      <td></td>\n    </tr>\n    <tr>\n      <th>USERNAME</th>\n      <td>True</td>\n      <td></td>\n      <td></td>\n      <td></td>\n      <td></td>\n      <td></td>\n      <td></td>\n    </tr>\n  </tbody>\n</table>\n</div>"
     },
     "execution_count": 11,
     "metadata": {},
     "output_type": "execute_result"
    }
   ],
   "source": [
    "pvalues = stats.tukey_hsd(df1['NAME'], df1['URL'], df1['ID'], df1['EMAIL'], df1['ADDRESS'], df1['PHONE'], df1['PHONE']).pvalue\n",
    "\n",
    "pd.options.display.float_format = '{:20,.5f}'.format\n",
    "tukey_res = pd.DataFrame(pvalues < 0.0001, columns = high_level_pii, index = high_level_pii)\n",
    "tukey_res[tukey_res].fillna('')"
   ],
   "metadata": {
    "collapsed": false,
    "ExecuteTime": {
     "end_time": "2024-04-22T03:47:19.930751800Z",
     "start_time": "2024-04-22T03:47:19.294770700Z"
    }
   },
   "id": "daf1d735c48a6b8b",
   "execution_count": 11
  },
  {
   "cell_type": "markdown",
   "source": [
    "Where there is a True in the table above, the relationship between that column and row is that they are likely to have different average numbers of PII.\n",
    "\n",
    "This means we can reject $H_0$ and support the claim that Name PII has a different likelihood of appearing.\n",
    "\n",
    "Furthermore, because we have shown it is different, and we have visualized that the # of Name PII is larger than the others, we can conclude that Name PII is more likely to appear with an alpha of 0.0001."
   ],
   "metadata": {
    "collapsed": false
   },
   "id": "4378978e9f17736f"
  },
  {
   "cell_type": "markdown",
   "source": [
    "### Positional distribution of most popular PII"
   ],
   "metadata": {
    "collapsed": false
   },
   "id": "df04ed296c5c2232"
  },
  {
   "cell_type": "code",
   "outputs": [],
   "source": [
    "def count_pii_in_sections(line):\n",
    "    positions = {\n",
    "        'Section 1': lambda x: x[:len(x)//5],\n",
    "        'Section 2': lambda x: x[len(x)//5:2*(len(x)//5)],\n",
    "        'Section 3': lambda x: x[2*(len(x)//5):3*(len(x)//5)],\n",
    "        'Section 4': lambda x: x[3*(len(x)//5):-(len(x)//5)],\n",
    "        'Section 5': lambda x: x[-(len(x)//5):-1],\n",
    "    }\n",
    "    label_counts_PII = {pos: 0 for pos in positions}\n",
    "\n",
    "    for pos, func in positions.items():\n",
    "        temp_arr = func(line)\n",
    "        for label in temp_arr:\n",
    "            if label != 'O':\n",
    "                label_counts_PII[pos] += 1\n",
    "    return label_counts_PII"
   ],
   "metadata": {
    "collapsed": false,
    "ExecuteTime": {
     "end_time": "2024-04-22T03:47:19.965949500Z",
     "start_time": "2024-04-22T03:47:19.933746Z"
    }
   },
   "id": "2337866995c2cf66",
   "execution_count": 12
  },
  {
   "cell_type": "code",
   "outputs": [],
   "source": [
    "locations = ['Section 1', 'Section 2', 'Section 3', 'Section 4', 'Section 5']\n",
    "\n",
    "df2 = pd.DataFrame(data = df['labels'].apply(lambda line: count_pii_in_sections(line)).values)\n",
    "df2 = pd.concat([df2.drop([0], axis = 1), df2[0].apply(pd.Series)], axis=1)\n",
    "df3 = df2.apply(sum)"
   ],
   "metadata": {
    "collapsed": false,
    "ExecuteTime": {
     "end_time": "2024-04-22T03:47:20.739740500Z",
     "start_time": "2024-04-22T03:47:19.947012800Z"
    }
   },
   "id": "8f32e92e2ee150d3",
   "execution_count": 13
  },
  {
   "cell_type": "code",
   "outputs": [
    {
     "data": {
      "text/plain": "Text(0.5, 0, 'Divisions of Text')"
     },
     "execution_count": 14,
     "metadata": {},
     "output_type": "execute_result"
    },
    {
     "data": {
      "text/plain": "<Figure size 500x300 with 1 Axes>",
      "image/png": "[encoded data removed]"
     },
     "metadata": {},
     "output_type": "display_data"
    }
   ],
   "source": [
    "fig, ax = plt.subplots(figsize=(5,3))\n",
    "plt.bar(df3.index, df3/sum(df3), color='lightgreen', edgecolor='black')\n",
    "plt.suptitle('Amount of PII in each Section of the Text')\n",
    "# plt.yticks(ax.get_yticks()))\n",
    "plt.ylabel('Relative Frequency in Section')\n",
    "plt.xlabel('Divisions of Text')"
   ],
   "metadata": {
    "collapsed": false,
    "ExecuteTime": {
     "end_time": "2024-04-22T03:47:20.850462700Z",
     "start_time": "2024-04-22T03:47:20.740734400Z"
    }
   },
   "id": "6ace728b1a72e3ec",
   "execution_count": 14
  },
  {
   "cell_type": "markdown",
   "source": [
    "#### Hypothesis 3\n",
    "\n",
    "Our claim is that PII has a different likelihood to appear in section 1 over the other sections.\n",
    "To evaluate this claim, we will use a Tukey test.\n",
    "\n",
    "$H_0: μ_1 = μ_2 = μ_3 = μ_4 = μ_5$\n",
    "\n",
    "$H_a: μ_1 \\not=$ the others"
   ],
   "metadata": {
    "collapsed": false
   },
   "id": "818cb34d8d2cef52"
  },
  {
   "cell_type": "code",
   "outputs": [
    {
     "data": {
      "text/plain": "          Section 1 Section 2 Section 3 Section 4 Section 5\nSection 1                True      True      True      True\nSection 2      True                                    True\nSection 3      True                                        \nSection 4      True                                        \nSection 5      True      True                              ",
      "text/html": "<div>\n<style scoped>\n    .dataframe tbody tr th:only-of-type {\n        vertical-align: middle;\n    }\n\n    .dataframe tbody tr th {\n        vertical-align: top;\n    }\n\n    .dataframe thead th {\n        text-align: right;\n    }\n</style>\n<table border=\"1\" class=\"dataframe\">\n  <thead>\n    <tr style=\"text-align: right;\">\n      <th></th>\n      <th>Section 1</th>\n      <th>Section 2</th>\n      <th>Section 3</th>\n      <th>Section 4</th>\n      <th>Section 5</th>\n    </tr>\n  </thead>\n  <tbody>\n    <tr>\n      <th>Section 1</th>\n      <td></td>\n      <td>True</td>\n      <td>True</td>\n      <td>True</td>\n      <td>True</td>\n    </tr>\n    <tr>\n      <th>Section 2</th>\n      <td>True</td>\n      <td></td>\n      <td></td>\n      <td></td>\n      <td>True</td>\n    </tr>\n    <tr>\n      <th>Section 3</th>\n      <td>True</td>\n      <td></td>\n      <td></td>\n      <td></td>\n      <td></td>\n    </tr>\n    <tr>\n      <th>Section 4</th>\n      <td>True</td>\n      <td></td>\n      <td></td>\n      <td></td>\n      <td></td>\n    </tr>\n    <tr>\n      <th>Section 5</th>\n      <td>True</td>\n      <td>True</td>\n      <td></td>\n      <td></td>\n      <td></td>\n    </tr>\n  </tbody>\n</table>\n</div>"
     },
     "execution_count": 15,
     "metadata": {},
     "output_type": "execute_result"
    }
   ],
   "source": [
    "pvalues = stats.tukey_hsd(df2['Section 1'],df2['Section 2'],df2['Section 3'],df2['Section 4'],df2['Section 5']).pvalue\n",
    "\n",
    "pd.options.display.float_format = '{:20,.5f}'.format\n",
    "tukey_res = pd.DataFrame(pvalues < 0.0001, columns = locations, index = locations)\n",
    "tukey_res[tukey_res].fillna('')"
   ],
   "metadata": {
    "collapsed": false,
    "ExecuteTime": {
     "end_time": "2024-04-22T03:47:21.178617700Z",
     "start_time": "2024-04-22T03:47:20.851459400Z"
    }
   },
   "id": "da40e7e006b9984b",
   "execution_count": 15
  },
  {
   "cell_type": "markdown",
   "source": [
    "Where there is a True in the table above, the relationship between that column and row is that they are likely to have different average numbers of PII.\n",
    "\n",
    "This means that the PII found in sections 2,3,4 and 5. As well as that section 2 has a different average number of PII than the number of PII found in section 5.\n",
    "\n",
    "This means we can reject  H0  and support the claim that PII is has a different likelihood of appearing in section 1.\n",
    "\n",
    "Furthermore, because we have shown it is different, and we have visualized that the # of PII in section one is larger than the others, we can conclude that PII is more likely to appear in section 1 with an alpha of 0.0001"
   ],
   "metadata": {
    "collapsed": false
   },
   "id": "7d6f0ebfcaa58bee"
  },
  {
   "cell_type": "markdown",
   "source": [
    "# Preparing Model Inputs"
   ],
   "metadata": {},
   "id": "3c7007b1"
  },
  {
   "cell_type": "markdown",
   "source": [
    "## Cleaning"
   ],
   "metadata": {
    "collapsed": false
   },
   "id": "e5adbd20edc7c296"
  },
  {
   "cell_type": "markdown",
   "source": [
    "First we scoured the data to find the usuable text with our pretrained model with Regex."
   ],
   "metadata": {
    "collapsed": false
   },
   "id": "82dbe46e67715cb6"
  },
  {
   "cell_type": "code",
   "outputs": [
    {
     "data": {
      "text/plain": "0.06184809754664311"
     },
     "execution_count": 16,
     "metadata": {},
     "output_type": "execute_result"
    }
   ],
   "source": [
    "pattern_space = re.compile('\\xa0|\\uf0b7|\\u200b')\n",
    "df.loc[:,'full_text'] = df.loc[:,'full_text'].replace(pattern_space, ' ')\n",
    "df.loc[:,'tokens'] = df.loc[:,'tokens'].apply(lambda line: [tok for tok in line if not re.search(pattern_space,tok)])\n",
    "# [,.!?-]\n",
    "df_usable = df.iloc[df[~(df.tokens.apply(len) != df.labels.apply(len))].index]\n",
    "1-(len(df_usable))/len(df.document)"
   ],
   "metadata": {
    "collapsed": false,
    "ExecuteTime": {
     "end_time": "2024-04-22T03:47:25.146820600Z",
     "start_time": "2024-04-22T03:47:21.182601Z"
    }
   },
   "id": "8e8f360e3e690fb",
   "execution_count": 16
  },
  {
   "cell_type": "code",
   "outputs": [
    {
     "data": {
      "text/plain": "   document                                          full_text  \\\n0         7  Design Thinking for innovation reflexion-Avril...   \n1        10  Diego Estrada\\n\\nDesign Thinking Assignment\\n\\...   \n2        16  Reporting process\\n\\nby Gilberto Gamboa\\n\\nCha...   \n3        20  Design Thinking for Innovation\\n\\nSindy Samaca...   \n6        93  Silvia Villalobos\\n\\nChallenge:\\n\\nThere is a ...   \n\n                                              tokens  \\\n0  [Design, Thinking, for, innovation, reflexion,...   \n1  [Diego, Estrada, \\n\\n, Design, Thinking, Assig...   \n2  [Reporting, process, \\n\\n, by, Gilberto, Gambo...   \n3  [Design, Thinking, for, Innovation, \\n\\n, Sind...   \n6  [Silvia, Villalobos, \\n\\n, Challenge, :, \\n\\n,...   \n\n                                 trailing_whitespace  \\\n0  [True, True, True, True, False, False, True, F...   \n1  [True, False, False, True, True, False, False,...   \n2  [True, False, False, True, True, False, False,...   \n3  [True, True, True, False, False, True, False, ...   \n6  [True, False, False, False, False, False, True...   \n\n                                              labels  \n0  [O, O, O, O, O, O, O, O, O, B-NAME_STUDENT, I-...  \n1  [B-NAME_STUDENT, I-NAME_STUDENT, O, O, O, O, O...  \n2  [O, O, O, O, B-NAME_STUDENT, I-NAME_STUDENT, O...  \n3  [O, O, O, O, O, B-NAME_STUDENT, I-NAME_STUDENT...  \n6  [B-NAME_STUDENT, I-NAME_STUDENT, O, O, O, O, O...  ",
      "text/html": "<div>\n<style scoped>\n    .dataframe tbody tr th:only-of-type {\n        vertical-align: middle;\n    }\n\n    .dataframe tbody tr th {\n        vertical-align: top;\n    }\n\n    .dataframe thead th {\n        text-align: right;\n    }\n</style>\n<table border=\"1\" class=\"dataframe\">\n  <thead>\n    <tr style=\"text-align: right;\">\n      <th></th>\n      <th>document</th>\n      <th>full_text</th>\n      <th>tokens</th>\n      <th>trailing_whitespace</th>\n      <th>labels</th>\n    </tr>\n  </thead>\n  <tbody>\n    <tr>\n      <th>0</th>\n      <td>7</td>\n      <td>Design Thinking for innovation reflexion-Avril...</td>\n      <td>[Design, Thinking, for, innovation, reflexion,...</td>\n      <td>[True, True, True, True, False, False, True, F...</td>\n      <td>[O, O, O, O, O, O, O, O, O, B-NAME_STUDENT, I-...</td>\n    </tr>\n    <tr>\n      <th>1</th>\n      <td>10</td>\n      <td>Diego Estrada\\n\\nDesign Thinking Assignment\\n\\...</td>\n      <td>[Diego, Estrada, \\n\\n, Design, Thinking, Assig...</td>\n      <td>[True, False, False, True, True, False, False,...</td>\n      <td>[B-NAME_STUDENT, I-NAME_STUDENT, O, O, O, O, O...</td>\n    </tr>\n    <tr>\n      <th>2</th>\n      <td>16</td>\n      <td>Reporting process\\n\\nby Gilberto Gamboa\\n\\nCha...</td>\n      <td>[Reporting, process, \\n\\n, by, Gilberto, Gambo...</td>\n      <td>[True, False, False, True, True, False, False,...</td>\n      <td>[O, O, O, O, B-NAME_STUDENT, I-NAME_STUDENT, O...</td>\n    </tr>\n    <tr>\n      <th>3</th>\n      <td>20</td>\n      <td>Design Thinking for Innovation\\n\\nSindy Samaca...</td>\n      <td>[Design, Thinking, for, Innovation, \\n\\n, Sind...</td>\n      <td>[True, True, True, False, False, True, False, ...</td>\n      <td>[O, O, O, O, O, B-NAME_STUDENT, I-NAME_STUDENT...</td>\n    </tr>\n    <tr>\n      <th>6</th>\n      <td>93</td>\n      <td>Silvia Villalobos\\n\\nChallenge:\\n\\nThere is a ...</td>\n      <td>[Silvia, Villalobos, \\n\\n, Challenge, :, \\n\\n,...</td>\n      <td>[True, False, False, False, False, False, True...</td>\n      <td>[B-NAME_STUDENT, I-NAME_STUDENT, O, O, O, O, O...</td>\n    </tr>\n  </tbody>\n</table>\n</div>"
     },
     "execution_count": 17,
     "metadata": {},
     "output_type": "execute_result"
    }
   ],
   "source": [
    "df_usable.head()"
   ],
   "metadata": {
    "collapsed": false,
    "ExecuteTime": {
     "end_time": "2024-04-22T03:47:25.181283800Z",
     "start_time": "2024-04-22T03:47:25.157338Z"
    }
   },
   "id": "37c7e36b8395997a",
   "execution_count": 17
  },
  {
   "cell_type": "markdown",
   "source": [
    "## Preprocessing"
   ],
   "metadata": {
    "collapsed": false
   },
   "id": "f9526177caaa57ae"
  },
  {
   "cell_type": "markdown",
   "source": [
    "Label mapping"
   ],
   "metadata": {
    "collapsed": false
   },
   "id": "f7bd13c5ae0eb046"
  },
  {
   "cell_type": "code",
   "outputs": [
    {
     "data": {
      "text/plain": "{'O': 0,\n 'B-NAME_STUDENT': 1,\n 'I-NAME_STUDENT': 2,\n 'B-URL_PERSONAL': 3,\n 'B-EMAIL': 4,\n 'B-ID_NUM': 5,\n 'I-URL_PERSONAL': 6,\n 'B-USERNAME': 7,\n 'B-PHONE_NUM': 8,\n 'I-PHONE_NUM': 9,\n 'B-STREET_ADDRESS': 10,\n 'I-STREET_ADDRESS': 11,\n 'I-ID_NUM': 12}"
     },
     "execution_count": 18,
     "metadata": {},
     "output_type": "execute_result"
    }
   ],
   "source": [
    "labels_to_ids = {k: v for v, k in enumerate(c.keys())}\n",
    "ids_to_labels = {v: k for v, k in enumerate(c.keys())}\n",
    "labels_to_ids"
   ],
   "metadata": {
    "collapsed": false,
    "ExecuteTime": {
     "end_time": "2024-04-22T03:47:25.201454700Z",
     "start_time": "2024-04-22T03:47:25.163317400Z"
    }
   },
   "id": "4ac8173063eff88f",
   "execution_count": 18
  },
  {
   "cell_type": "markdown",
   "source": [
    "We created a function to tokenize and label all of the lines in the dataset."
   ],
   "metadata": {
    "collapsed": false
   },
   "id": "85b2990765f45b7b"
  },
  {
   "cell_type": "code",
   "outputs": [],
   "source": [
    "def make_smaller_inputs(dataframe):\n",
    "    df_out = pd.DataFrame(columns = ['tokens','labels','document','document_location'])\n",
    "    idx_df = 0\n",
    "    max_len = config['MAX_LEN']\n",
    "    \n",
    "    for _,line in dataframe.iterrows():\n",
    "        location_counter = 0\n",
    "        tokens = line.tokens\n",
    "        labels = line.labels\n",
    "        document = line.document\n",
    "        items = range(0,len(tokens),max_len)\n",
    "        \n",
    "        for i in items:\n",
    "            df_out.at[idx_df,'tokens'] = tokens[i:i+max_len]\n",
    "            df_out.at[idx_df,'labels'] = labels[i:i+max_len]\n",
    "            df_out.at[idx_df,'document'] = document\n",
    "            df_out.at[idx_df,'document_location'] = location_counter\n",
    "            location_counter += 1\n",
    "            idx_df += 1\n",
    "        \n",
    "    return df_out"
   ],
   "metadata": {
    "collapsed": false,
    "ExecuteTime": {
     "end_time": "2024-04-22T03:47:25.294143600Z",
     "start_time": "2024-04-22T03:47:25.182280200Z"
    }
   },
   "id": "9240cc2f3fff1aa5",
   "execution_count": 19
  },
  {
   "cell_type": "code",
   "outputs": [
    {
     "name": "stdout",
     "output_type": "stream",
     "text": [
      "49199\n"
     ]
    },
    {
     "data": {
      "text/plain": "                                              tokens  \\\n0  [Design, Thinking, for, innovation, reflexion,...   \n1  ['s,  , potential, to, be, released, ., Cf, An...   \n\n                                              labels document  \\\n0  [O, O, O, O, O, O, O, O, O, B-NAME_STUDENT, I-...        7   \n1  [O, O, O, O, O, O, O, O, O, O, O, O, O, O, O, ...        7   \n\n  document_location  \n0                 0  \n1                 1  ",
      "text/html": "<div>\n<style scoped>\n    .dataframe tbody tr th:only-of-type {\n        vertical-align: middle;\n    }\n\n    .dataframe tbody tr th {\n        vertical-align: top;\n    }\n\n    .dataframe thead th {\n        text-align: right;\n    }\n</style>\n<table border=\"1\" class=\"dataframe\">\n  <thead>\n    <tr style=\"text-align: right;\">\n      <th></th>\n      <th>tokens</th>\n      <th>labels</th>\n      <th>document</th>\n      <th>document_location</th>\n    </tr>\n  </thead>\n  <tbody>\n    <tr>\n      <th>0</th>\n      <td>[Design, Thinking, for, innovation, reflexion,...</td>\n      <td>[O, O, O, O, O, O, O, O, O, B-NAME_STUDENT, I-...</td>\n      <td>7</td>\n      <td>0</td>\n    </tr>\n    <tr>\n      <th>1</th>\n      <td>['s,  , potential, to, be, released, ., Cf, An...</td>\n      <td>[O, O, O, O, O, O, O, O, O, O, O, O, O, O, O, ...</td>\n      <td>7</td>\n      <td>1</td>\n    </tr>\n  </tbody>\n</table>\n</div>"
     },
     "execution_count": 20,
     "metadata": {},
     "output_type": "execute_result"
    }
   ],
   "source": [
    "df_model_input = make_smaller_inputs(df_usable)\n",
    "print(len(df_model_input.index))\n",
    "df_model_input.head(2)"
   ],
   "metadata": {
    "collapsed": false,
    "ExecuteTime": {
     "end_time": "2024-04-22T03:48:22.103724Z",
     "start_time": "2024-04-22T03:47:25.195470900Z"
    }
   },
   "id": "32dfeed513de0d4d",
   "execution_count": 20
  },
  {
   "cell_type": "markdown",
   "source": [
    "Removing rows with only \"O\" labels"
   ],
   "metadata": {
    "collapsed": false
   },
   "id": "e7eefa741cb6d8d0"
  },
  {
   "cell_type": "code",
   "outputs": [],
   "source": [
    "def compare2dict(list1, list2, pii_threshold):\n",
    "    return len(set(list1).intersection(set(list2))) > 1"
   ],
   "metadata": {
    "collapsed": false,
    "ExecuteTime": {
     "end_time": "2024-04-22T03:48:22.138932800Z",
     "start_time": "2024-04-22T03:48:22.104721300Z"
    }
   },
   "id": "13032c158a971b13",
   "execution_count": 21
  },
  {
   "cell_type": "code",
   "outputs": [
    {
     "name": "stdout",
     "output_type": "stream",
     "text": [
      "11560\n"
     ]
    },
    {
     "data": {
      "text/plain": "                                              tokens  \\\n0  [most, appropriate, one, for, this, case, ., I...   \n1  [Reflection, -, Visualization, \\n\\n, (, Email,...   \n\n                                              labels document  \\\n0  [O, O, O, O, O, O, O, O, O, O, O, O, O, O, O, ...     9050   \n1  [O, O, O, O, O, O, O, O, O, O, B-NAME_STUDENT,...    12956   \n\n  document_location  \n0                 1  \n1                 0  ",
      "text/html": "<div>\n<style scoped>\n    .dataframe tbody tr th:only-of-type {\n        vertical-align: middle;\n    }\n\n    .dataframe tbody tr th {\n        vertical-align: top;\n    }\n\n    .dataframe thead th {\n        text-align: right;\n    }\n</style>\n<table border=\"1\" class=\"dataframe\">\n  <thead>\n    <tr style=\"text-align: right;\">\n      <th></th>\n      <th>tokens</th>\n      <th>labels</th>\n      <th>document</th>\n      <th>document_location</th>\n    </tr>\n  </thead>\n  <tbody>\n    <tr>\n      <th>0</th>\n      <td>[most, appropriate, one, for, this, case, ., I...</td>\n      <td>[O, O, O, O, O, O, O, O, O, O, O, O, O, O, O, ...</td>\n      <td>9050</td>\n      <td>1</td>\n    </tr>\n    <tr>\n      <th>1</th>\n      <td>[Reflection, -, Visualization, \\n\\n, (, Email,...</td>\n      <td>[O, O, O, O, O, O, O, O, O, O, B-NAME_STUDENT,...</td>\n      <td>12956</td>\n      <td>0</td>\n    </tr>\n  </tbody>\n</table>\n</div>"
     },
     "execution_count": 22,
     "metadata": {},
     "output_type": "execute_result"
    }
   ],
   "source": [
    "df_trainable = df_model_input[df_model_input.apply(lambda line: compare2dict(line.labels,list(labels_to_ids.keys()),0), axis = 1)]\n",
    "df_trainable_input = pd.concat([df_trainable] * 10).sample(frac=1)\n",
    "df_trainable_input.reset_index(drop = True, inplace=True)\n",
    "print(len(df_trainable_input))\n",
    "df_trainable_input.head(2)"
   ],
   "metadata": {
    "collapsed": false,
    "ExecuteTime": {
     "end_time": "2024-04-22T03:48:22.403203600Z",
     "start_time": "2024-04-22T03:48:22.121990600Z"
    }
   },
   "id": "fbbd93d6c402e394",
   "execution_count": 22
  },
  {
   "cell_type": "code",
   "outputs": [],
   "source": [
    "df_evaluation_input = df_model_input[['tokens','labels']]\n",
    "df_evaluation_input.head(2)"
   ],
   "metadata": {
    "collapsed": false
   },
   "id": "692097cdcd0321b"
  },
  {
   "cell_type": "code",
   "outputs": [
    {
     "data": {
      "text/plain": "                                              tokens document  \\\n0  [Design, Thinking, for, innovation, reflexion,...        7   \n1  ['s,  , potential, to, be, released, ., Cf, An...        7   \n\n  document_location  \n0                 0  \n1                 1  ",
      "text/html": "<div>\n<style scoped>\n    .dataframe tbody tr th:only-of-type {\n        vertical-align: middle;\n    }\n\n    .dataframe tbody tr th {\n        vertical-align: top;\n    }\n\n    .dataframe thead th {\n        text-align: right;\n    }\n</style>\n<table border=\"1\" class=\"dataframe\">\n  <thead>\n    <tr style=\"text-align: right;\">\n      <th></th>\n      <th>tokens</th>\n      <th>document</th>\n      <th>document_location</th>\n    </tr>\n  </thead>\n  <tbody>\n    <tr>\n      <th>0</th>\n      <td>[Design, Thinking, for, innovation, reflexion,...</td>\n      <td>7</td>\n      <td>0</td>\n    </tr>\n    <tr>\n      <th>1</th>\n      <td>['s,  , potential, to, be, released, ., Cf, An...</td>\n      <td>7</td>\n      <td>1</td>\n    </tr>\n  </tbody>\n</table>\n</div>"
     },
     "execution_count": 23,
     "metadata": {},
     "output_type": "execute_result"
    }
   ],
   "source": [
    "df_prediction_input = df_model_input[['tokens','document','document_location']]\n",
    "df_prediction_input.head(2)"
   ],
   "metadata": {
    "collapsed": false,
    "ExecuteTime": {
     "end_time": "2024-04-22T03:48:22.429116800Z",
     "start_time": "2024-04-22T03:48:22.405197200Z"
    }
   },
   "id": "a13d2753c823bebf",
   "execution_count": 23
  },
  {
   "cell_type": "markdown",
   "source": [
    "df_trainable_input will be for training\n",
    "df_prediction_input will be for predicting"
   ],
   "metadata": {
    "collapsed": false
   },
   "id": "d8c33008f4c06663"
  },
  {
   "cell_type": "markdown",
   "source": [
    "### Creating the training and testing split"
   ],
   "metadata": {
    "collapsed": false
   },
   "id": "e1518c6e56186940"
  },
  {
   "cell_type": "code",
   "outputs": [],
   "source": [
    "# df_train, df_test = train_test_split(df_trainable, test_size=0.3)"
   ],
   "metadata": {
    "collapsed": false,
    "ExecuteTime": {
     "end_time": "2024-04-22T03:48:22.508986500Z",
     "start_time": "2024-04-22T03:48:22.420147400Z"
    }
   },
   "id": "dd3fc9251d0ca50f",
   "execution_count": 24
  },
  {
   "cell_type": "markdown",
   "source": [
    "### Formatting split"
   ],
   "metadata": {
    "collapsed": false
   },
   "id": "90725d68b124b5e2"
  },
  {
   "cell_type": "code",
   "outputs": [],
   "source": [
    "# df_train.reset_index(drop = True, inplace=True)\n",
    "# df_train"
   ],
   "metadata": {
    "collapsed": false,
    "ExecuteTime": {
     "end_time": "2024-04-22T03:48:22.609012600Z",
     "start_time": "2024-04-22T03:48:22.437090200Z"
    }
   },
   "id": "30d0ec2f728c2bef",
   "execution_count": 25
  },
  {
   "cell_type": "code",
   "outputs": [],
   "source": [
    "# df_test.reset_index(drop = True, inplace=True)\n",
    "# df_test"
   ],
   "metadata": {
    "collapsed": false,
    "ExecuteTime": {
     "end_time": "2024-04-22T03:48:22.622640600Z",
     "start_time": "2024-04-22T03:48:22.454277800Z"
    }
   },
   "id": "b18d71d0aff86951",
   "execution_count": 26
  },
  {
   "cell_type": "markdown",
   "source": [
    "# Model\n"
   ],
   "metadata": {
    "collapsed": false
   },
   "id": "ebc83035cd36cc42"
  },
  {
   "cell_type": "markdown",
   "source": [
    "## Iteration 1"
   ],
   "metadata": {
    "collapsed": false
   },
   "id": "1721a4dd274272f3"
  },
  {
   "cell_type": "markdown",
   "source": [
    "adapted from \n",
    "https://colab.research.google.com/github/NielsRogge/Transformers-Tutorials/blob/master/BERT/Custom_Named_Entity_Recognition_with_BERT_only_first_wordpiece.ipynb#scrollTo=Eh3ckSO0YMZW"
   ],
   "metadata": {
    "collapsed": false
   },
   "id": "cf13c86f98f79e01"
  },
  {
   "cell_type": "markdown",
   "source": [
    "### Tokenizer and Label allignment"
   ],
   "metadata": {
    "collapsed": false
   },
   "id": "504293a592e4d15a"
  },
  {
   "cell_type": "code",
   "outputs": [],
   "source": [
    "# class dataset(Dataset):\n",
    "#     def __init__(self, dataframe, tokenizer, max_len):\n",
    "#         self.len = len(dataframe)\n",
    "#         self.data = dataframe\n",
    "#         self.tokenizer = tokenizer\n",
    "#         self.max_len = max_len\n",
    "\n",
    "#     def __getitem__(self, index):\n",
    "#         # step 1: get the sentence and word labels \n",
    "#         tokens = self.data.tokens[index]\n",
    "#         word_labels = self.data.labels[index]\n",
    "\n",
    "#         # step 2: use tokenizer to encode sentence (includes padding/truncation up to max length)\n",
    "#         # BertTokenizerFast provides a handy \"return_offsets_mapping\" functionality for individual tokens\n",
    "#         encoding = self.tokenizer(tokens,\n",
    "#                                   is_split_into_words=True,\n",
    "#                                   return_offsets_mapping=True,\n",
    "#                                   padding='max_length',\n",
    "#                                   truncation=True,\n",
    "#                                   max_length=self.max_len)\n",
    "\n",
    "#         # step 3: create token labels only for first word pieces of each tokenized word\n",
    "#         labels = [ labels_to_ids[label] for label in word_labels]\n",
    "#         # code based on https://huggingface.co/transformers/custom_datasets.html#tok-ner\n",
    "#         # create an empty array of -100 of length max_length\n",
    "#         encoded_labels = np.ones(len(encoding[\"offset_mapping\"]), dtype=int) * -100\n",
    "\n",
    "#         # set only labels whose first offset position is 0 and the second is not 0\n",
    "#         i = 0\n",
    "#         for idx, mapping in enumerate(encoding[\"offset_mapping\"]):\n",
    "#             if mapping[0] == 0 and mapping[1] != 0:\n",
    "#                 # overwrite label\n",
    "#                 encoded_labels[idx] = labels[i]\n",
    "#                 i += 1\n",
    "\n",
    "#         # step 4: turn everything into PyTorch tensors\n",
    "#         item = {key: torch.as_tensor(val) for key, val in encoding.items()}\n",
    "#         item['labels'] = torch.as_tensor(encoded_labels)\n",
    "\n",
    "#         return item\n",
    "\n",
    "#     def __len__(self):\n",
    "#         return self.len\n",
    "# training_set = dataset(df_train, config['tokenizer'], config['MAX_LEN'])\n",
    "# testing_set = dataset(df_test, config['tokenizer'], config['MAX_LEN'])\n",
    "# training_set[2][\"input_ids\"].unsqueeze(0)\n",
    "# for token, label in zip(config['tokenizer'].convert_ids_to_tokens(training_set[0][\"input_ids\"]), training_set[0][\"labels\"]):\n",
    "#     print('{0:10}  {1}'.format(token, label))"
   ],
   "metadata": {
    "collapsed": false,
    "ExecuteTime": {
     "end_time": "2024-04-22T03:48:22.623636900Z",
     "start_time": "2024-04-22T03:48:22.468508200Z"
    }
   },
   "id": "9854c79748d73d75",
   "execution_count": 27
  },
  {
   "cell_type": "markdown",
   "source": [
    "Setting training and testing parameters"
   ],
   "metadata": {
    "collapsed": false
   },
   "id": "9fd589c17ac62382"
  },
  {
   "cell_type": "code",
   "outputs": [],
   "source": [
    "# train_params = {'batch_size': config[\"TRAIN_BATCH_SIZE\"],\n",
    "#                 'shuffle': True,\n",
    "#                 'num_workers': 0\n",
    "#                 }\n",
    "\n",
    "# test_params = {'batch_size': config[\"VALID_BATCH_SIZE\"],\n",
    "#                'shuffle': True,\n",
    "#                'num_workers': 0\n",
    "#                }\n",
    "\n",
    "# training_loader = DataLoader(training_set, **train_params)\n",
    "# testing_loader = DataLoader(testing_set, **test_params)\n",
    "# model = BertForTokenClassification.from_pretrained(config['pretrained_model'], num_labels=len(labels_to_ids))\n",
    "# model.to(config['device'])\n",
    "# optimizer = torch.optim.Adam(params=model.parameters(), lr=config['LEARNING_RATE'])"
   ],
   "metadata": {
    "collapsed": false,
    "ExecuteTime": {
     "end_time": "2024-04-22T03:48:22.625626100Z",
     "start_time": "2024-04-22T03:48:22.486447800Z"
    }
   },
   "id": "7f4cd6820e8bc541",
   "execution_count": 28
  },
  {
   "cell_type": "markdown",
   "source": [
    "### Training"
   ],
   "metadata": {
    "collapsed": false
   },
   "id": "3311a964f999a1d"
  },
  {
   "cell_type": "code",
   "outputs": [],
   "source": [
    "### Training\n",
    "# # Defining the training function on the 80% of the dataset for tuning the bert model\n",
    "# def train(epoch):\n",
    "#     tr_loss, tr_accuracy = 0, 0\n",
    "#     nb_tr_examples, nb_tr_steps = 0, 0\n",
    "#     tr_preds, tr_labels = [], []\n",
    "#     # put model in training mode\n",
    "#     model.train()\n",
    "# \n",
    "#     for idx, batch in enumerate(training_loader):\n",
    "# \n",
    "#         ids = batch['input_ids'].to(config['device'], dtype = torch.long)\n",
    "#         mask = batch['attention_mask'].to(config['device'], dtype = torch.long)\n",
    "#         labels = batch['labels'].to(config['device'], dtype = torch.long)\n",
    "# \n",
    "#         outputs = model(input_ids=ids.long(), attention_mask=mask.long(), labels=labels.long())\n",
    "#         loss = outputs[0]\n",
    "#         tr_logits = outputs[1]\n",
    "#         tr_loss += loss.item()\n",
    "# \n",
    "#         nb_tr_steps += 1\n",
    "#         nb_tr_examples += labels.size(0)\n",
    "# \n",
    "#         if idx % 100==0:\n",
    "#             loss_step = tr_loss/nb_tr_steps\n",
    "#             print(f\"Training loss per 100 training steps: {loss_step}\")\n",
    "# \n",
    "#         # compute training accuracy\n",
    "#         flattened_targets = labels.view(-1) # shape (batch_size * seq_len,)\n",
    "#         active_logits = tr_logits.view(-1, model.num_labels) # shape (batch_size * seq_len, num_labels)\n",
    "#         flattened_predictions = torch.argmax(active_logits, axis=1) # shape (batch_size * seq_len,)\n",
    "#         \n",
    "#         # only compute accuracy at active labels\n",
    "#         active_accuracy = labels.view(-1) != -100 # shape (batch_size, seq_len)\n",
    "#         #active_labels = torch.where(active_accuracy, labels.view(-1), torch.tensor(-100).type_as(labels))\n",
    "# \n",
    "#         labels = torch.masked_select(flattened_targets, active_accuracy)\n",
    "#         predictions = torch.masked_select(flattened_predictions, active_accuracy)\n",
    "# \n",
    "#         tr_labels.extend(labels)\n",
    "#         tr_preds.extend(predictions)\n",
    "# \n",
    "#         tmp_tr_accuracy = accuracy_score(labels.cpu().numpy(), predictions.cpu().numpy())\n",
    "#         tr_accuracy += tmp_tr_accuracy\n",
    "# \n",
    "#         # gradient clipping\n",
    "#         torch.nn.utils.clip_grad_norm_(\n",
    "#             parameters=model.parameters(), max_norm=config['MAX_GRAD_NORM']\n",
    "#         )\n",
    "# \n",
    "#         # backward pass\n",
    "#         optimizer.zero_grad()\n",
    "#         loss.backward()\n",
    "#         optimizer.step()\n",
    "# \n",
    "#     epoch_loss = tr_loss / nb_tr_steps\n",
    "#     tr_accuracy = tr_accuracy / nb_tr_steps\n",
    "#     print(f\"Training loss epoch: {epoch_loss}\")\n",
    "#     print(f\"Training accuracy epoch: {tr_accuracy}\")\n",
    "# run = False\n",
    "# if run:\n",
    "#     for epoch in range(config['EPOCHS']):\n",
    "#         print(f\"Training epoch: {epoch + 1}\")\n",
    "#         train(epoch)\n",
    "#     run = False"
   ],
   "metadata": {
    "collapsed": false,
    "ExecuteTime": {
     "end_time": "2024-04-22T03:48:22.638586900Z",
     "start_time": "2024-04-22T03:48:22.500401700Z"
    }
   },
   "id": "21fb61882cb117d6",
   "execution_count": 29
  },
  {
   "cell_type": "markdown",
   "source": [
    "Training epoch: 1\n",
    "Training loss epoch: 0.007183262327166176\n",
    "Training accuracy epoch: 0.9988009906964034\n",
    "\n",
    "Execution Time: 2h 33m 45s\n",
    "Batch Size: 2\n",
    "LR: 1e-5\n",
    "Optimizer: Adam"
   ],
   "metadata": {
    "collapsed": false
   },
   "id": "56e15b39f456767e"
  },
  {
   "cell_type": "markdown",
   "source": [
    "### Save Model"
   ],
   "metadata": {
    "collapsed": false
   },
   "id": "7d4b77862310b793"
  },
  {
   "cell_type": "code",
   "outputs": [],
   "source": [
    "# import os\n",
    "\n",
    "# directory = config['model_path']\n",
    "\n",
    "# if not os.path.exists(directory):\n",
    "#     os.makedirs(directory)\n",
    "\n",
    "# # save vocabulary of the tokenizer\n",
    "# config['tokenizer'].save_vocabulary(directory)\n",
    "# # save the model weights and its configuration file\n",
    "# save_model = True\n",
    "# if save_model:  \n",
    "#     model.save_pretrained(directory)\n",
    "#     print('All files saved')"
   ],
   "metadata": {
    "collapsed": false,
    "ExecuteTime": {
     "end_time": "2024-04-22T03:48:22.640579700Z",
     "start_time": "2024-04-22T03:48:22.516235Z"
    }
   },
   "id": "a9c47c1f9f31a8a1",
   "execution_count": 30
  },
  {
   "cell_type": "markdown",
   "source": [
    "### Model Validation"
   ],
   "metadata": {
    "collapsed": false
   },
   "id": "6823c1a348decd10"
  },
  {
   "cell_type": "code",
   "outputs": [],
   "source": [
    "# model_1 = BertForTokenClassification.from_pretrained(config['model_path'], num_labels=len(labels_to_ids))\n",
    "# model_1.to(config['device'])\n",
    "# # def valid(model, testing_loader):\n",
    "#     # put model in evaluation mode\n",
    "#     model.eval()\n",
    "    \n",
    "#     eval_loss, eval_accuracy = 0, 0\n",
    "#     nb_eval_examples, nb_eval_steps = 0, 0\n",
    "#     eval_preds, eval_labels = [], []\n",
    "    \n",
    "#     with torch.no_grad():\n",
    "#         for idx, batch in enumerate(testing_loader):\n",
    "            \n",
    "#             ids = batch['input_ids'].to(config['device'], dtype = torch.long)\n",
    "#             mask = batch['attention_mask'].to(config['device'], dtype = torch.long)\n",
    "#             labels = batch['labels'].to(config['device'], dtype = torch.long)\n",
    "\n",
    "#             outputs = model(input_ids=ids.long(), attention_mask=mask.long(), labels=labels.long())\n",
    "            \n",
    "#             loss = outputs[0]\n",
    "#             eval_logits = outputs[1]\n",
    "#             eval_loss += loss.item()\n",
    "            \n",
    "#             nb_eval_steps += 1\n",
    "#             nb_eval_examples += labels.size(0)\n",
    "        \n",
    "#             if idx % 100==0:\n",
    "#                 loss_step = eval_loss/nb_eval_steps\n",
    "#                 print(f\"Validation loss per 100 evaluation steps: {loss_step}\")\n",
    "            \n",
    "#             # compute evaluation accuracy\n",
    "#             flattened_targets = labels.view(-1) # shape (batch_size * seq_len,)\n",
    "#             active_logits = eval_logits.view(-1, model.num_labels) # shape (batch_size * seq_len, num_labels)\n",
    "#             flattened_predictions = torch.argmax(active_logits, axis=1) # shape (batch_size * seq_len,)\n",
    "            \n",
    "#             # only compute accuracy at active labels\n",
    "#             active_accuracy = labels.view(-1) != -100 # shape (batch_size, seq_len)\n",
    "        \n",
    "#             labels = torch.masked_select(flattened_targets, active_accuracy)\n",
    "#             predictions = torch.masked_select(flattened_predictions, active_accuracy)\n",
    "            \n",
    "#             eval_labels.extend(labels)\n",
    "#             eval_preds.extend(predictions)\n",
    "            \n",
    "#             tmp_eval_accuracy = accuracy_score(labels.cpu().numpy(), predictions.cpu().numpy())\n",
    "#             eval_accuracy += tmp_eval_accuracy\n",
    "\n",
    "#     labels = [ids_to_labels[id.item()] for id in eval_labels]\n",
    "#     predictions = [ids_to_labels[id.item()] for id in eval_preds]\n",
    "    \n",
    "#     eval_loss = eval_loss / nb_eval_steps\n",
    "#     eval_accuracy = eval_accuracy / nb_eval_steps\n",
    "#     print(f\"Validation Loss: {eval_loss}\")\n",
    "#     print(f\"Validation Accuracy: {eval_accuracy}\")\n",
    "\n",
    "#     return labels, predictions\n",
    "\n",
    "# labels, predictions = valid(model_1, testing_loader)"
   ],
   "metadata": {
    "collapsed": false,
    "ExecuteTime": {
     "end_time": "2024-04-22T03:48:22.641576200Z",
     "start_time": "2024-04-22T03:48:22.530511Z"
    }
   },
   "id": "542b7fe5bf9ae67b",
   "execution_count": 31
  },
  {
   "cell_type": "markdown",
   "source": [
    "Validation Loss: 0.0025191350434306515\n",
    "Validation Accuracy: 0.9994422838479019\n",
    "Execution Time: 08m 07.238s"
   ],
   "metadata": {
    "collapsed": false
   },
   "id": "e603491ee659d71a"
  },
  {
   "cell_type": "code",
   "outputs": [],
   "source": [
    "# print(classification_report(labels, predictions))"
   ],
   "metadata": {
    "collapsed": false,
    "ExecuteTime": {
     "end_time": "2024-04-22T03:48:22.704362800Z",
     "start_time": "2024-04-22T03:48:22.546457600Z"
    }
   },
   "id": "742841d5856114ee",
   "execution_count": 32
  },
  {
   "cell_type": "markdown",
   "source": [
    "About 50% for getting student names correct, 0% for the others"
   ],
   "metadata": {
    "collapsed": false
   },
   "id": "fdb22e121ce08680"
  },
  {
   "cell_type": "markdown",
   "source": [
    "## Iteration 2"
   ],
   "metadata": {
    "collapsed": false
   },
   "id": "b4e3c1e66723902c"
  },
  {
   "cell_type": "markdown",
   "source": [
    "Updating the tokenizer to properly create context between the words and the PII labels"
   ],
   "metadata": {
    "collapsed": false
   },
   "id": "e8e558b28c2973a5"
  },
  {
   "cell_type": "code",
   "outputs": [],
   "source": [
    "# def tokenize(df, tokenizer):\n",
    "#     text = []\n",
    "#     token_map = []\n",
    "#     \n",
    "#     idx = 0\n",
    "#     \n",
    "#     for t, ws in zip(df[\"tokens\"], df[\"trailing_whitespace\"]):\n",
    "#         \n",
    "#         text.append(t)\n",
    "#         token_map.extend([idx]*len(t))\n",
    "#         if ws:\n",
    "#             text.append(\" \")\n",
    "#             token_map.append(-1)\n",
    "#             \n",
    "#         idx += 1\n",
    "#         \n",
    "#         \n",
    "#     tokenized = tokenizer(\"\".join(text), return_offsets_mapping=True, truncation=False)\n",
    "#     \n",
    "#         \n",
    "#     return {\n",
    "#         **tokenized,\n",
    "#         \"token_map\": token_map,\n",
    "#     }"
   ],
   "metadata": {
    "collapsed": false,
    "ExecuteTime": {
     "end_time": "2024-04-22T03:48:22.706392800Z",
     "start_time": "2024-04-22T03:48:22.563400900Z"
    }
   },
   "id": "c750ac782272772f",
   "execution_count": 33
  },
  {
   "cell_type": "markdown",
   "source": [
    "### Tokenizer and Label allignment"
   ],
   "metadata": {
    "collapsed": false
   },
   "id": "6ed383e05d2d7394"
  },
  {
   "cell_type": "code",
   "outputs": [],
   "source": [
    "def tokenize(line, tokenizer, type):\n",
    "    tokens = line.tokens\n",
    "\n",
    "    if config['ignore_subwords']:\n",
    "        length = math.ceil(config['MAX_LEN'] * 1.2)\n",
    "    else:\n",
    "        length = config['MAX_LEN']\n",
    "\n",
    "    encoding = tokenizer(tokens,\n",
    "                         is_split_into_words= True,\n",
    "                         return_offsets_mapping= True,\n",
    "                         padding= 'max_length',\n",
    "                         max_length= length)\n",
    "\n",
    "    item = {key: torch.as_tensor(val) for key, val in encoding.items()}\n",
    "\n",
    "    if type == 'train' or type == 'eval':\n",
    "        word_labels = line.labels\n",
    "\n",
    "        temp_list = [0 for _ in range(length - len(word_labels))]\n",
    "        labels = [labels_to_ids[label] for label in word_labels] + temp_list\n",
    "\n",
    "        encoded_labels = np.ones(len(encoding[\"offset_mapping\"]), dtype=int) * -100\n",
    "        i = 0\n",
    "\n",
    "        if config['ignore_subwords']:\n",
    "            #         Ignore subword labels\n",
    "            for idx, mapping in enumerate(encoding[\"offset_mapping\"]):\n",
    "                if mapping[0] == 0 and mapping[1] != 0:\n",
    "                    # overwrite label\n",
    "                    encoded_labels[idx] = labels[i]\n",
    "                    i += 1\n",
    "        else:\n",
    "            #         Extend subword labels\n",
    "            for idx, mapping in enumerate(encoding[\"offset_mapping\"]):\n",
    "                if mapping[0] == 0:\n",
    "                    encoded_labels[idx] = labels[i]\n",
    "                    i += 1\n",
    "\n",
    "        item['labels'] = torch.as_tensor(encoded_labels)\n",
    "\n",
    "        return {**item}\n",
    "\n",
    "    if type == 'predict':\n",
    "        document = line.document\n",
    "        location = line.document_location\n",
    "\n",
    "        encoded_labels = np.ones(len(encoding[\"offset_mapping\"]), dtype=int) * -100\n",
    "        labels = np.zeros(len(tokens), dtype=int)\n",
    "        i = 0\n",
    "\n",
    "        if config['ignore_subwords']:\n",
    "            #         Ignore subword labels\n",
    "            for idx, mapping in enumerate(encoding[\"offset_mapping\"]):\n",
    "                if mapping[0] == 0 and mapping[1] != 0:\n",
    "                    # overwrite label\n",
    "                    encoded_labels[idx] = labels[i]\n",
    "                    i += 1\n",
    "        else:\n",
    "            #         Extend subword labels\n",
    "            for idx, mapping in enumerate(encoding[\"offset_mapping\"]):\n",
    "                if mapping[0] == 0:\n",
    "                    encoded_labels[idx] = labels[i]\n",
    "                    i += 1\n",
    "        item['labels'] = torch.as_tensor(encoded_labels)\n",
    "\n",
    "        return {**item, 'document': document, 'location': location}"
   ],
   "metadata": {
    "collapsed": false,
    "ExecuteTime": {
     "end_time": "2024-04-22T03:48:22.707353400Z",
     "start_time": "2024-04-22T03:48:22.580411500Z"
    }
   },
   "id": "69fd85108aa1759a",
   "execution_count": 34
  },
  {
   "cell_type": "markdown",
   "source": [
    "Create the mappings for the tokenized text, calling the tokenizer function above. This will store all of the values in separate lists that we will be able to call for the output function."
   ],
   "metadata": {
    "collapsed": false
   },
   "id": "830ced74e385efdb"
  },
  {
   "cell_type": "code",
   "outputs": [],
   "source": [
    "# with open(\"cleaned_train.json\", \"w\") as data_file:\n",
    "#     data_file.write(df_train.to_json())\n",
    "#     data_file.close()\n",
    "\n",
    "# with open(\"cleaned_train.json\", \"r\") as f:\n",
    "#     data = json.load(f)\n",
    "\n",
    "# with open(\"../datasets/Official/train.json\", \"r\") as f:\n",
    "#   data = json.load(f)\n",
    "\n",
    "# print(data)\n",
    "\n",
    "# ds = Dataset.from_dict({\n",
    "#     # \"full_text\": [x[\"full_text\"] for x in data],\n",
    "#     \"labels\": data[\"labels\"],\n",
    "#     \"tokens\": data[\"tokens\"],\n",
    "#     # \"trailing_whitespace\": [x[\"trailing_whitespace\"] for x in data],\n",
    "# })\n",
    "\n",
    "\n",
    "# tokenizer = BertTokenizerFast.from_pretrained(config['model_path'])"
   ],
   "metadata": {
    "collapsed": false,
    "ExecuteTime": {
     "end_time": "2024-04-22T03:48:22.708349700Z",
     "start_time": "2024-04-22T03:48:22.593718200Z"
    }
   },
   "id": "18cea46c5c42c516",
   "execution_count": 35
  },
  {
   "cell_type": "code",
   "outputs": [
    {
     "data": {
      "text/plain": "Dataset({\n    features: ['input_ids', 'token_type_ids', 'attention_mask', 'offset_mapping', 'labels', 'document', 'location'],\n    num_rows: 11560\n})"
     },
     "execution_count": 36,
     "metadata": {},
     "output_type": "execute_result"
    }
   ],
   "source": [
    "train_dataset_temp = df_trainable_input.apply(lambda line: tokenize(line, config['tokenizer'],'train'), axis = 1).to_list()\n",
    "# train_dataset_temp\n",
    "# train_dataset = Dataset.from_list(pd.DataFrame(data=train_dataset_temp))\n",
    "\n",
    "# from_list not implemented in this notebook's version of datasets, janky version of the above\n",
    "train_dataset = Dataset.from_dict({k: [s[k] for s in train_dataset_temp] for k in  train_dataset_temp[0].keys()})\n",
    "train_dataset"
   ],
   "metadata": {
    "collapsed": false,
    "ExecuteTime": {
     "end_time": "2024-04-22T03:48:32.189037800Z",
     "start_time": "2024-04-22T03:48:22.610011600Z"
    }
   },
   "id": "8786bb187c0d4deb",
   "execution_count": 36
  },
  {
   "cell_type": "code",
   "outputs": [],
   "source": [
    "eval_dataset_temp = df_evaluation_input.apply(lambda line: tokenize(line, config['tokenizer'],'eval'), axis = 1)\n",
    "# # eval_dataset = Dataset.from_list(eval_dataset_temp)\n",
    "eval_dataset = Dataset.from_dict({k: [s[k] for s in eval_dataset_temp] for k in  eval_dataset_temp[0].keys()})\n",
    "eval_dataset"
   ],
   "metadata": {
    "collapsed": false,
    "ExecuteTime": {
     "end_time": "2024-04-22T03:48:32.198022800Z",
     "start_time": "2024-04-22T03:48:32.183644800Z"
    }
   },
   "id": "35c6da8e62193412",
   "execution_count": 37
  },
  {
   "cell_type": "code",
   "outputs": [
    {
     "data": {
      "text/plain": "Dataset({\n    features: ['input_ids', 'token_type_ids', 'attention_mask', 'offset_mapping', 'document', 'location'],\n    num_rows: 49199\n})"
     },
     "execution_count": 38,
     "metadata": {},
     "output_type": "execute_result"
    }
   ],
   "source": [
    "predict_dataset_temp = df_prediction_input.apply(lambda line: tokenize(line, config['tokenizer'],'predict'), axis = 1)\n",
    "# predict_dataset = Dataset.from_list(predict_dataset_temp)\n",
    "predict_dataset = Dataset.from_dict({k: [s[k] for s in predict_dataset_temp] for k in  predict_dataset_temp[0].keys()})\n",
    "predict_dataset"
   ],
   "metadata": {
    "collapsed": false,
    "ExecuteTime": {
     "end_time": "2024-04-22T03:49:11.879058800Z",
     "start_time": "2024-04-22T03:48:32.198022800Z"
    }
   },
   "id": "49029f42d1c4625b",
   "execution_count": 38
  },
  {
   "cell_type": "markdown",
   "source": [
    "Create the new training class, with the model creation leveraging BertModelForTokenClassification"
   ],
   "metadata": {
    "collapsed": false
   },
   "id": "1da9bcbc3ab42395"
  },
  {
   "cell_type": "code",
   "outputs": [],
   "source": [
    "model = config['pretrained_model']\n",
    "data_collator = DataCollatorForTokenClassification(config['tokenizer'])\n",
    "metric = evaluate.load(\"seqeval\")"
   ],
   "metadata": {
    "collapsed": false,
    "ExecuteTime": {
     "end_time": "2024-04-22T03:49:12.587794700Z",
     "start_time": "2024-04-22T03:49:11.879058800Z"
    }
   },
   "id": "1d3ff30d847aee5",
   "execution_count": 39
  },
  {
   "cell_type": "code",
   "outputs": [],
   "source": [
    "def compute_metrics(p):\n",
    "    predictions, labels = p\n",
    "    predictions = np.argmax(predictions, axis=2)\n",
    "\n",
    "    # Remove ignored index (special tokens)\n",
    "    true_predictions = [\n",
    "        [ids_to_labels[p] for (p, l) in zip(prediction, label) if l != -100]\n",
    "        for prediction, label in zip(predictions, labels)\n",
    "    ]\n",
    "    true_labels = [\n",
    "        [ids_to_labels[l] for (p, l) in zip(prediction, label) if l != -100]\n",
    "        for prediction, label in zip(predictions, labels)\n",
    "    ]\n",
    "\n",
    "    results = metric.compute(predictions=true_predictions, references=true_labels)\n",
    "    if config['return_entity_level_metrics']:\n",
    "        # Unpack nested dictionaries\n",
    "        final_results = {}\n",
    "        for key, value in results.items():\n",
    "            if isinstance(value, dict):\n",
    "                for n, v in value.items():\n",
    "                    final_results[f\"{key}_{n}\"] = v\n",
    "            else:\n",
    "                final_results[key] = value\n",
    "        return final_results\n",
    "    else:\n",
    "        return {\n",
    "            \"precision\": results[\"overall_precision\"],\n",
    "            \"recall\": results[\"overall_recall\"],\n",
    "            \"f1\": results[\"overall_f1\"],\n",
    "            \"accuracy\": results[\"overall_accuracy\"],\n",
    "        }"
   ],
   "metadata": {
    "collapsed": false,
    "ExecuteTime": {
     "end_time": "2024-04-22T03:49:12.603149100Z",
     "start_time": "2024-04-22T03:49:12.590784600Z"
    }
   },
   "id": "80f3b479c20db30f",
   "execution_count": 40
  },
  {
   "cell_type": "markdown",
   "source": [
    "### Training"
   ],
   "metadata": {
    "collapsed": false
   },
   "id": "638cd2fdb9457f73"
  },
  {
   "cell_type": "code",
   "outputs": [
    {
     "data": {
      "text/plain": "True"
     },
     "execution_count": 41,
     "metadata": {},
     "output_type": "execute_result"
    }
   ],
   "source": [
    "torch.cuda.is_available()"
   ],
   "metadata": {
    "collapsed": false,
    "ExecuteTime": {
     "end_time": "2024-04-22T03:49:12.639086300Z",
     "start_time": "2024-04-22T03:49:12.604148600Z"
    }
   },
   "id": "f7bf5a1893c45ae1",
   "execution_count": 41
  },
  {
   "cell_type": "code",
   "outputs": [],
   "source": [
    "training_args = TrainingArguments(\n",
    "    output_dir= config['model_path'],\n",
    "    overwrite_output_dir = True,\n",
    "    do_train = True,\n",
    "    do_predict = True,\n",
    "    do_eval = True,\n",
    "    per_device_eval_batch_size=conig['VALID_BATCH_SIZE'],\n",
    "    per_device_train_batch_size=config['TRAIN_BATCH_SIZE'],\n",
    "    gradient_accumulation_steps=4,\n",
    "    gradient_checkpointing=True,\n",
    "    # auto_find_batch_size=True,\n",
    "    report_to=\"none\",\n",
    "    num_train_epochs = config['EPOCHS'],\n",
    "    learning_rate = config['LEARNING_RATE'],\n",
    "    save_strategy = 'epoch',\n",
    "    disable_tqdm= False,\n",
    "    no_cuda = False,\n",
    ")\n",
    "\n",
    "trainer = Trainer(\n",
    "    model=model,\n",
    "    args=training_args,\n",
    "    train_dataset = train_dataset,\n",
    "    eval_dataset = eval_dataset,\n",
    "    # tokenizer=config['tokenizer'],\n",
    "    data_collator=data_collator,\n",
    "    compute_metrics=compute_metrics,\n",
    ")"
   ],
   "metadata": {
    "collapsed": false,
    "ExecuteTime": {
     "end_time": "2024-04-22T03:49:12.899434600Z",
     "start_time": "2024-04-22T03:49:12.622143200Z"
    }
   },
   "id": "b34ec754f5238355",
   "execution_count": 42
  },
  {
   "cell_type": "markdown",
   "source": [
    "Next, we call the actual training function that will supply the model created above with the information that it needs to create context between text, and the labels. It will work out which values match the closes and assign the proper label to it, based on how well that label matches the value."
   ],
   "metadata": {
    "collapsed": false
   },
   "id": "1267c2cff3935980"
  },
  {
   "cell_type": "markdown",
   "source": [
    "https://github.com/huggingface/transformers/blob/main/examples/pytorch/token-classification/run_ner.py#L546"
   ],
   "metadata": {
    "collapsed": false
   },
   "id": "e1d3c639813d66b8"
  },
  {
   "cell_type": "code",
   "outputs": [],
   "source": [
    "# Training\n",
    "if training_args.do_train:\n",
    "    train_result = trainer.train()\n",
    "    metrics = train_result.metrics\n",
    "    trainer.save_model()  # Saves the tokenizer too for easy upload\n",
    "\n",
    "    # max_train_samples = (\n",
    "    #     data_args.max_train_samples if data_args.max_train_samples is not None else len(train_dataset)\n",
    "    # )\n",
    "    metrics[\"train_samples\"] = len(train_dataset)\n",
    "\n",
    "    trainer.log_metrics(\"train\", metrics)\n",
    "    trainer.save_metrics(\"train\", metrics)\n",
    "    # trainer.save_state()"
   ],
   "metadata": {
    "collapsed": false,
    "ExecuteTime": {
     "end_time": "2024-04-22T03:49:12.914385100Z",
     "start_time": "2024-04-22T03:49:12.901431Z"
    }
   },
   "id": "581baf322ef630db",
   "execution_count": 43
  },
  {
   "cell_type": "code",
   "outputs": [
    {
     "data": {
      "text/plain": "BertForTokenClassification(\n  (bert): BertModel(\n    (embeddings): BertEmbeddings(\n      (word_embeddings): Embedding(28996, 768, padding_idx=0)\n      (position_embeddings): Embedding(512, 768)\n      (token_type_embeddings): Embedding(2, 768)\n      (LayerNorm): LayerNorm((768,), eps=1e-12, elementwise_affine=True)\n      (dropout): Dropout(p=0.1, inplace=False)\n    )\n    (encoder): BertEncoder(\n      (layer): ModuleList(\n        (0-11): 12 x BertLayer(\n          (attention): BertAttention(\n            (self): BertSelfAttention(\n              (query): Linear(in_features=768, out_features=768, bias=True)\n              (key): Linear(in_features=768, out_features=768, bias=True)\n              (value): Linear(in_features=768, out_features=768, bias=True)\n              (dropout): Dropout(p=0.1, inplace=False)\n            )\n            (output): BertSelfOutput(\n              (dense): Linear(in_features=768, out_features=768, bias=True)\n              (LayerNorm): LayerNorm((768,), eps=1e-12, elementwise_affine=True)\n              (dropout): Dropout(p=0.1, inplace=False)\n            )\n          )\n          (intermediate): BertIntermediate(\n            (dense): Linear(in_features=768, out_features=3072, bias=True)\n            (intermediate_act_fn): GELUActivation()\n          )\n          (output): BertOutput(\n            (dense): Linear(in_features=3072, out_features=768, bias=True)\n            (LayerNorm): LayerNorm((768,), eps=1e-12, elementwise_affine=True)\n            (dropout): Dropout(p=0.1, inplace=False)\n          )\n        )\n      )\n    )\n  )\n  (dropout): Dropout(p=0.1, inplace=False)\n  (classifier): Linear(in_features=768, out_features=13, bias=True)\n)"
     },
     "execution_count": 44,
     "metadata": {},
     "output_type": "execute_result"
    }
   ],
   "source": [
    "torch.cuda.empty_cache()\n",
    "trainer.model = BertForTokenClassification.from_pretrained(config['model_path'])\n",
    "trainer.model.to(config['device'])"
   ],
   "metadata": {
    "collapsed": false,
    "ExecuteTime": {
     "end_time": "2024-04-22T03:49:13.178923500Z",
     "start_time": "2024-04-22T03:49:12.915382100Z"
    }
   },
   "id": "df4764c66e6b25d4",
   "execution_count": 44
  },
  {
   "cell_type": "code",
   "outputs": [],
   "source": [
    "# Evaluation\n",
    "if training_args.do_eval:\n",
    "    #     logger.info(\"*** Evaluate ***\")\n",
    "\n",
    "    metrics = trainer.evaluate()\n",
    "\n",
    "    #   max_eval_samples = data_args.max_eval_samples if data_args.max_eval_samples is not None else len(eval_dataset)\n",
    "    metrics[\"eval_samples\"] = len(eval_dataset)\n",
    "\n",
    "    trainer.log_metrics(\"eval\", metrics)\n",
    "    trainer.save_metrics(\"eval\", metrics)"
   ],
   "metadata": {
    "collapsed": false,
    "ExecuteTime": {
     "end_time": "2024-04-22T03:49:13.211940800Z",
     "start_time": "2024-04-22T03:49:13.179919700Z"
    }
   },
   "id": "fc84e8c161887b23",
   "execution_count": 45
  },
  {
   "cell_type": "markdown",
   "source": [
    "### Prediction"
   ],
   "metadata": {
    "collapsed": false
   },
   "id": "2c17fc98f245aecf"
  },
  {
   "cell_type": "code",
   "outputs": [
    {
     "data": {
      "text/plain": "<IPython.core.display.HTML object>",
      "text/html": "\n    <div>\n      \n      <progress value='9940' max='49199' style='width:300px; height:20px; vertical-align: middle;'></progress>\n      [ 9940/49199 02:42 < 10:40, 61.27 it/s]\n    </div>\n    "
     },
     "metadata": {},
     "output_type": "display_data"
    },
    {
     "ename": "RuntimeError",
     "evalue": "CUDA error: out of memory\nCUDA kernel errors might be asynchronously reported at some other API call, so the stacktrace below might be incorrect.\nFor debugging consider passing CUDA_LAUNCH_BLOCKING=1.\nCompile with `TORCH_USE_CUDA_DSA` to enable device-side assertions.\n",
     "output_type": "error",
     "traceback": [
      "\u001B[1;31m---------------------------------------------------------------------------\u001B[0m",
      "\u001B[1;31mTypeError\u001B[0m                                 Traceback (most recent call last)",
      "File \u001B[1;32m~\\lib\\site-packages\\accelerate\\utils\\operations.py:158\u001B[0m, in \u001B[0;36msend_to_device\u001B[1;34m(tensor, device, non_blocking, skip_keys)\u001B[0m\n\u001B[0;32m    157\u001B[0m \u001B[38;5;28;01mtry\u001B[39;00m:\n\u001B[1;32m--> 158\u001B[0m     \u001B[38;5;28;01mreturn\u001B[39;00m \u001B[43mtensor\u001B[49m\u001B[38;5;241;43m.\u001B[39;49m\u001B[43mto\u001B[49m\u001B[43m(\u001B[49m\u001B[43mdevice\u001B[49m\u001B[43m,\u001B[49m\u001B[43m \u001B[49m\u001B[43mnon_blocking\u001B[49m\u001B[38;5;241;43m=\u001B[39;49m\u001B[43mnon_blocking\u001B[49m\u001B[43m)\u001B[49m\n\u001B[0;32m    159\u001B[0m \u001B[38;5;28;01mexcept\u001B[39;00m \u001B[38;5;167;01mTypeError\u001B[39;00m:  \u001B[38;5;66;03m# .to() doesn't accept non_blocking as kwarg\u001B[39;00m\n",
      "\u001B[1;31mTypeError\u001B[0m: to() got an unexpected keyword argument 'non_blocking'",
      "\nDuring handling of the above exception, another exception occurred:\n",
      "\u001B[1;31mRuntimeError\u001B[0m                              Traceback (most recent call last)",
      "Cell \u001B[1;32mIn[46], line 5\u001B[0m\n\u001B[0;32m      1\u001B[0m \u001B[38;5;66;03m# Predict\u001B[39;00m\n\u001B[0;32m      2\u001B[0m \u001B[38;5;28;01mif\u001B[39;00m training_args\u001B[38;5;241m.\u001B[39mdo_predict:\n\u001B[0;32m      3\u001B[0m     \u001B[38;5;66;03m# logger.info(\"*** Predict ***\")\u001B[39;00m\n\u001B[1;32m----> 5\u001B[0m     predictions, labels, metrics \u001B[38;5;241m=\u001B[39m \u001B[43mtrainer\u001B[49m\u001B[38;5;241;43m.\u001B[39;49m\u001B[43mpredict\u001B[49m\u001B[43m(\u001B[49m\u001B[43mpredict_dataset\u001B[49m\u001B[43m,\u001B[49m\u001B[43m \u001B[49m\u001B[43mmetric_key_prefix\u001B[49m\u001B[38;5;241;43m=\u001B[39;49m\u001B[38;5;124;43m\"\u001B[39;49m\u001B[38;5;124;43mpredict\u001B[39;49m\u001B[38;5;124;43m\"\u001B[39;49m\u001B[43m)\u001B[49m\n\u001B[0;32m      6\u001B[0m     predictions \u001B[38;5;241m=\u001B[39m predictions\u001B[38;5;241m.\u001B[39margmax(\u001B[38;5;241m-\u001B[39m\u001B[38;5;241m1\u001B[39m)\n\u001B[0;32m      8\u001B[0m     \u001B[38;5;66;03m# Remove ignored index (special tokens)\u001B[39;00m\n",
      "File \u001B[1;32m~\\lib\\site-packages\\transformers\\trainer.py:3305\u001B[0m, in \u001B[0;36mTrainer.predict\u001B[1;34m(self, test_dataset, ignore_keys, metric_key_prefix)\u001B[0m\n\u001B[0;32m   3302\u001B[0m start_time \u001B[38;5;241m=\u001B[39m time\u001B[38;5;241m.\u001B[39mtime()\n\u001B[0;32m   3304\u001B[0m eval_loop \u001B[38;5;241m=\u001B[39m \u001B[38;5;28mself\u001B[39m\u001B[38;5;241m.\u001B[39mprediction_loop \u001B[38;5;28;01mif\u001B[39;00m \u001B[38;5;28mself\u001B[39m\u001B[38;5;241m.\u001B[39margs\u001B[38;5;241m.\u001B[39muse_legacy_prediction_loop \u001B[38;5;28;01melse\u001B[39;00m \u001B[38;5;28mself\u001B[39m\u001B[38;5;241m.\u001B[39mevaluation_loop\n\u001B[1;32m-> 3305\u001B[0m output \u001B[38;5;241m=\u001B[39m \u001B[43meval_loop\u001B[49m\u001B[43m(\u001B[49m\n\u001B[0;32m   3306\u001B[0m \u001B[43m    \u001B[49m\u001B[43mtest_dataloader\u001B[49m\u001B[43m,\u001B[49m\u001B[43m \u001B[49m\u001B[43mdescription\u001B[49m\u001B[38;5;241;43m=\u001B[39;49m\u001B[38;5;124;43m\"\u001B[39;49m\u001B[38;5;124;43mPrediction\u001B[39;49m\u001B[38;5;124;43m\"\u001B[39;49m\u001B[43m,\u001B[49m\u001B[43m \u001B[49m\u001B[43mignore_keys\u001B[49m\u001B[38;5;241;43m=\u001B[39;49m\u001B[43mignore_keys\u001B[49m\u001B[43m,\u001B[49m\u001B[43m \u001B[49m\u001B[43mmetric_key_prefix\u001B[49m\u001B[38;5;241;43m=\u001B[39;49m\u001B[43mmetric_key_prefix\u001B[49m\n\u001B[0;32m   3307\u001B[0m \u001B[43m\u001B[49m\u001B[43m)\u001B[49m\n\u001B[0;32m   3308\u001B[0m total_batch_size \u001B[38;5;241m=\u001B[39m \u001B[38;5;28mself\u001B[39m\u001B[38;5;241m.\u001B[39margs\u001B[38;5;241m.\u001B[39meval_batch_size \u001B[38;5;241m*\u001B[39m \u001B[38;5;28mself\u001B[39m\u001B[38;5;241m.\u001B[39margs\u001B[38;5;241m.\u001B[39mworld_size\n\u001B[0;32m   3309\u001B[0m \u001B[38;5;28;01mif\u001B[39;00m \u001B[38;5;124mf\u001B[39m\u001B[38;5;124m\"\u001B[39m\u001B[38;5;132;01m{\u001B[39;00mmetric_key_prefix\u001B[38;5;132;01m}\u001B[39;00m\u001B[38;5;124m_jit_compilation_time\u001B[39m\u001B[38;5;124m\"\u001B[39m \u001B[38;5;129;01min\u001B[39;00m output\u001B[38;5;241m.\u001B[39mmetrics:\n",
      "File \u001B[1;32m~\\lib\\site-packages\\transformers\\trainer.py:3408\u001B[0m, in \u001B[0;36mTrainer.evaluation_loop\u001B[1;34m(self, dataloader, description, prediction_loss_only, ignore_keys, metric_key_prefix)\u001B[0m\n\u001B[0;32m   3406\u001B[0m observed_num_examples \u001B[38;5;241m=\u001B[39m \u001B[38;5;241m0\u001B[39m\n\u001B[0;32m   3407\u001B[0m \u001B[38;5;66;03m# Main evaluation loop\u001B[39;00m\n\u001B[1;32m-> 3408\u001B[0m \u001B[38;5;28;01mfor\u001B[39;00m step, inputs \u001B[38;5;129;01min\u001B[39;00m \u001B[38;5;28menumerate\u001B[39m(dataloader):\n\u001B[0;32m   3409\u001B[0m     \u001B[38;5;66;03m# Update the observed num examples\u001B[39;00m\n\u001B[0;32m   3410\u001B[0m     observed_batch_size \u001B[38;5;241m=\u001B[39m find_batch_size(inputs)\n\u001B[0;32m   3411\u001B[0m     \u001B[38;5;28;01mif\u001B[39;00m observed_batch_size \u001B[38;5;129;01mis\u001B[39;00m \u001B[38;5;129;01mnot\u001B[39;00m \u001B[38;5;28;01mNone\u001B[39;00m:\n",
      "File \u001B[1;32m~\\lib\\site-packages\\accelerate\\data_loader.py:461\u001B[0m, in \u001B[0;36mDataLoaderShard.__iter__\u001B[1;34m(self)\u001B[0m\n\u001B[0;32m    458\u001B[0m \u001B[38;5;28;01mtry\u001B[39;00m:\n\u001B[0;32m    459\u001B[0m     \u001B[38;5;66;03m# But we still move it to the device so it is done before `StopIteration` is reached\u001B[39;00m\n\u001B[0;32m    460\u001B[0m     \u001B[38;5;28;01mif\u001B[39;00m \u001B[38;5;28mself\u001B[39m\u001B[38;5;241m.\u001B[39mdevice \u001B[38;5;129;01mis\u001B[39;00m \u001B[38;5;129;01mnot\u001B[39;00m \u001B[38;5;28;01mNone\u001B[39;00m:\n\u001B[1;32m--> 461\u001B[0m         current_batch \u001B[38;5;241m=\u001B[39m \u001B[43msend_to_device\u001B[49m\u001B[43m(\u001B[49m\u001B[43mcurrent_batch\u001B[49m\u001B[43m,\u001B[49m\u001B[43m \u001B[49m\u001B[38;5;28;43mself\u001B[39;49m\u001B[38;5;241;43m.\u001B[39;49m\u001B[43mdevice\u001B[49m\u001B[43m)\u001B[49m\n\u001B[0;32m    462\u001B[0m     next_batch \u001B[38;5;241m=\u001B[39m \u001B[38;5;28mnext\u001B[39m(dataloader_iter)\n\u001B[0;32m    463\u001B[0m     \u001B[38;5;28;01mif\u001B[39;00m batch_index \u001B[38;5;241m>\u001B[39m\u001B[38;5;241m=\u001B[39m \u001B[38;5;28mself\u001B[39m\u001B[38;5;241m.\u001B[39mskip_batches:\n",
      "File \u001B[1;32m~\\lib\\site-packages\\accelerate\\utils\\operations.py:160\u001B[0m, in \u001B[0;36msend_to_device\u001B[1;34m(tensor, device, non_blocking, skip_keys)\u001B[0m\n\u001B[0;32m    158\u001B[0m     \u001B[38;5;28;01mreturn\u001B[39;00m tensor\u001B[38;5;241m.\u001B[39mto(device, non_blocking\u001B[38;5;241m=\u001B[39mnon_blocking)\n\u001B[0;32m    159\u001B[0m \u001B[38;5;28;01mexcept\u001B[39;00m \u001B[38;5;167;01mTypeError\u001B[39;00m:  \u001B[38;5;66;03m# .to() doesn't accept non_blocking as kwarg\u001B[39;00m\n\u001B[1;32m--> 160\u001B[0m     \u001B[38;5;28;01mreturn\u001B[39;00m \u001B[43mtensor\u001B[49m\u001B[38;5;241;43m.\u001B[39;49m\u001B[43mto\u001B[49m\u001B[43m(\u001B[49m\u001B[43mdevice\u001B[49m\u001B[43m)\u001B[49m\n\u001B[0;32m    161\u001B[0m \u001B[38;5;28;01mexcept\u001B[39;00m \u001B[38;5;167;01mAssertionError\u001B[39;00m \u001B[38;5;28;01mas\u001B[39;00m error:\n\u001B[0;32m    162\u001B[0m     \u001B[38;5;66;03m# `torch.Tensor.to(<int num>)` is not supported by `torch_npu` (see this [issue](https://github.com/Ascend/pytorch/issues/16)).\u001B[39;00m\n\u001B[0;32m    163\u001B[0m     \u001B[38;5;66;03m# This call is inside the try-block since is_npu_available is not supported by torch.compile.\u001B[39;00m\n\u001B[0;32m    164\u001B[0m     \u001B[38;5;28;01mif\u001B[39;00m is_npu_available():\n",
      "File \u001B[1;32m~\\lib\\site-packages\\transformers\\tokenization_utils_base.py:789\u001B[0m, in \u001B[0;36mBatchEncoding.to\u001B[1;34m(self, device)\u001B[0m\n\u001B[0;32m    785\u001B[0m \u001B[38;5;66;03m# This check catches things like APEX blindly calling \"to\" on all inputs to a module\u001B[39;00m\n\u001B[0;32m    786\u001B[0m \u001B[38;5;66;03m# Otherwise it passes the casts down and casts the LongTensor containing the token idxs\u001B[39;00m\n\u001B[0;32m    787\u001B[0m \u001B[38;5;66;03m# into a HalfTensor\u001B[39;00m\n\u001B[0;32m    788\u001B[0m \u001B[38;5;28;01mif\u001B[39;00m \u001B[38;5;28misinstance\u001B[39m(device, \u001B[38;5;28mstr\u001B[39m) \u001B[38;5;129;01mor\u001B[39;00m is_torch_device(device) \u001B[38;5;129;01mor\u001B[39;00m \u001B[38;5;28misinstance\u001B[39m(device, \u001B[38;5;28mint\u001B[39m):\n\u001B[1;32m--> 789\u001B[0m     \u001B[38;5;28mself\u001B[39m\u001B[38;5;241m.\u001B[39mdata \u001B[38;5;241m=\u001B[39m {k: v\u001B[38;5;241m.\u001B[39mto(device\u001B[38;5;241m=\u001B[39mdevice) \u001B[38;5;28;01mfor\u001B[39;00m k, v \u001B[38;5;129;01min\u001B[39;00m \u001B[38;5;28mself\u001B[39m\u001B[38;5;241m.\u001B[39mdata\u001B[38;5;241m.\u001B[39mitems()}\n\u001B[0;32m    790\u001B[0m \u001B[38;5;28;01melse\u001B[39;00m:\n\u001B[0;32m    791\u001B[0m     logger\u001B[38;5;241m.\u001B[39mwarning(\u001B[38;5;124mf\u001B[39m\u001B[38;5;124m\"\u001B[39m\u001B[38;5;124mAttempting to cast a BatchEncoding to type \u001B[39m\u001B[38;5;132;01m{\u001B[39;00m\u001B[38;5;28mstr\u001B[39m(device)\u001B[38;5;132;01m}\u001B[39;00m\u001B[38;5;124m. This is not supported.\u001B[39m\u001B[38;5;124m\"\u001B[39m)\n",
      "File \u001B[1;32m~\\lib\\site-packages\\transformers\\tokenization_utils_base.py:789\u001B[0m, in \u001B[0;36m<dictcomp>\u001B[1;34m(.0)\u001B[0m\n\u001B[0;32m    785\u001B[0m \u001B[38;5;66;03m# This check catches things like APEX blindly calling \"to\" on all inputs to a module\u001B[39;00m\n\u001B[0;32m    786\u001B[0m \u001B[38;5;66;03m# Otherwise it passes the casts down and casts the LongTensor containing the token idxs\u001B[39;00m\n\u001B[0;32m    787\u001B[0m \u001B[38;5;66;03m# into a HalfTensor\u001B[39;00m\n\u001B[0;32m    788\u001B[0m \u001B[38;5;28;01mif\u001B[39;00m \u001B[38;5;28misinstance\u001B[39m(device, \u001B[38;5;28mstr\u001B[39m) \u001B[38;5;129;01mor\u001B[39;00m is_torch_device(device) \u001B[38;5;129;01mor\u001B[39;00m \u001B[38;5;28misinstance\u001B[39m(device, \u001B[38;5;28mint\u001B[39m):\n\u001B[1;32m--> 789\u001B[0m     \u001B[38;5;28mself\u001B[39m\u001B[38;5;241m.\u001B[39mdata \u001B[38;5;241m=\u001B[39m {k: \u001B[43mv\u001B[49m\u001B[38;5;241;43m.\u001B[39;49m\u001B[43mto\u001B[49m\u001B[43m(\u001B[49m\u001B[43mdevice\u001B[49m\u001B[38;5;241;43m=\u001B[39;49m\u001B[43mdevice\u001B[49m\u001B[43m)\u001B[49m \u001B[38;5;28;01mfor\u001B[39;00m k, v \u001B[38;5;129;01min\u001B[39;00m \u001B[38;5;28mself\u001B[39m\u001B[38;5;241m.\u001B[39mdata\u001B[38;5;241m.\u001B[39mitems()}\n\u001B[0;32m    790\u001B[0m \u001B[38;5;28;01melse\u001B[39;00m:\n\u001B[0;32m    791\u001B[0m     logger\u001B[38;5;241m.\u001B[39mwarning(\u001B[38;5;124mf\u001B[39m\u001B[38;5;124m\"\u001B[39m\u001B[38;5;124mAttempting to cast a BatchEncoding to type \u001B[39m\u001B[38;5;132;01m{\u001B[39;00m\u001B[38;5;28mstr\u001B[39m(device)\u001B[38;5;132;01m}\u001B[39;00m\u001B[38;5;124m. This is not supported.\u001B[39m\u001B[38;5;124m\"\u001B[39m)\n",
      "\u001B[1;31mRuntimeError\u001B[0m: CUDA error: out of memory\nCUDA kernel errors might be asynchronously reported at some other API call, so the stacktrace below might be incorrect.\nFor debugging consider passing CUDA_LAUNCH_BLOCKING=1.\nCompile with `TORCH_USE_CUDA_DSA` to enable device-side assertions.\n"
     ]
    }
   ],
   "source": [
    "# Predict\n",
    "if training_args.do_predict:\n",
    "    # logger.info(\"*** Predict ***\")\n",
    "\n",
    "    predictions, labels, metrics = trainer.predict(predict_dataset, metric_key_prefix=\"predict\")\n",
    "    predictions = predictions.argmax(-1)\n",
    "\n",
    "    # Remove ignored index (special tokens)\n",
    "    true_predictions = [\n",
    "        [ids_to_labels[p] for (p, l) in zip(prediction, label) if l != -100]\n",
    "        for prediction, label in zip(predictions, labels)\n",
    "    ]\n",
    "\n",
    "    # trainer.log_metrics(\"predict\", metrics)\n",
    "    # trainer.save_metrics(\"predict\", metrics)"
   ],
   "metadata": {
    "collapsed": false,
    "ExecuteTime": {
     "end_time": "2024-04-22T03:51:59.097342900Z",
     "start_time": "2024-04-22T03:49:13.195991700Z"
    }
   },
   "id": "fb9332003caed18c",
   "execution_count": 46
  },
  {
   "cell_type": "markdown",
   "source": [
    "Create the lists, pulling the context of the list. This will look at the token_map and place the proper label in it's own list, which is associated with the index of the corresponding item in the other list.\n",
    "\n",
    "It ensures that we are ignoring the o labels so that we don't report those in our created file."
   ],
   "metadata": {
    "collapsed": false
   },
   "id": "ba4c1001a71cb642"
  },
  {
   "cell_type": "markdown",
   "source": [
    "### Build Submission"
   ],
   "metadata": {
    "collapsed": false
   },
   "id": "13466973fdddacef"
  },
  {
   "cell_type": "markdown",
   "id": "45e4e0f6",
   "metadata": {},
   "source": [
    "This next part is creating the submission file for Kaggle"
   ]
  },
  {
   "cell_type": "code",
   "execution_count": null,
   "id": "837ac4db",
   "metadata": {
    "ExecuteTime": {
     "start_time": "2024-04-22T03:51:58.993690300Z"
    }
   },
   "outputs": [],
   "source": [
    "results = []\n",
    "for preds, location, doc in zip(\n",
    "        true_predictions,\n",
    "        predict_dataset[\"location\"],\n",
    "        predict_dataset[\"document\"]\n",
    "):\n",
    "    results.extend([(doc, location * config['MAX_LEN'] + idx, label) for idx, label in enumerate(preds) if label != 'O'])"
   ]
  },
  {
   "cell_type": "code",
   "execution_count": null,
   "id": "c7773da8",
   "metadata": {
    "ExecuteTime": {
     "start_time": "2024-04-22T03:51:58.997676Z"
    }
   },
   "outputs": [],
   "source": [
    "df_submission = pd.DataFrame(results, columns = ['Document','Token','Label'])\n",
    "# df_submission['Row_ID'] = df_submission.index\n",
    "df_submission_final = df_submission[['Document','Token','Label']]\n",
    "df_submission_final"
   ]
  },
  {
   "cell_type": "code",
   "outputs": [],
   "source": [
    "df_submission_final.to_csv(config['subm_path'],index = True)"
   ],
   "metadata": {
    "collapsed": false,
    "ExecuteTime": {
     "start_time": "2024-04-22T03:51:59.000666400Z"
    }
   },
   "id": "aac5bd5251274cdc"
  }
 ],
 "metadata": {
  "colab": {
   "provenance": [],
   "toc_visible": true
  },
  "kernelspec": {
   "display_name": "Python 3",
   "language": "python",
   "name": "python3"
  },
  "language_info": {
   "codemirror_mode": {
    "name": "ipython",
    "version": 3
   },
   "file_extension": ".py",
   "mimetype": "text/x-python",
   "name": "python",
   "nbconvert_exporter": "python",
   "pygments_lexer": "ipython3",
   "version": "3.10.11"
  }
 },
 "nbformat": 4,
 "nbformat_minor": 5
}
