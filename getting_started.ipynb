{
  "cells": [
    {
      "cell_type": "markdown",
      "metadata": {},
      "source": [
        "# Getting Started with Taipy GUI on Notebooks\n",
        "\n",
        "!!! important \"Supported Python versions\"\n",
        "\n",
        "    Taipy requires **Python 3.8** or newer.\n",
        "\n",
        "Welcome to the **Getting Started** guide for Taipy GUI. This tour shows you how to use Taipy GUI to create an interactive Web application. Taipy GUI implements a modern backend for any data-driven application based on your business case.\n",
        "\n",
        "<div align=\"center\">\n",
        " <img src=https://github.com/Avaiga/taipy-getting-started-gui/blob/latest/step_07/result.png width=700>\n",
        "</div>\n",
        "\n",
        "# Taipy GUI\n",
        "\n",
        "Taipy GUI is one of the components of Taipy to create Web applications quickly. There are a lot of reasons for using Taipy GUI:\n",
        "\n",
        "- It fastens the creation of an application.\n",
        "\n",
        "- It manages easily and efficiently variables and events.\n",
        "\n",
        "- Easy visualization with Markdown syntax.\n",
        "\n",
        "Each step of the **\"Getting Started\"** will focus on the basic concepts of *Taipy*. Note that every step is dependent on the code of the previous one. After completing the last step, you will have the skills to develop your own Taipy \n",
        "application. \n",
        "\n",
        "## Before we begin\n",
        "\n",
        "**Taipy** package requires Python 3.8 or newer;\n",
        "\n"
      ]
    },
    {
      "cell_type": "code",
      "execution_count": 1,
      "metadata": {},
      "outputs": [
        {
          "name": "stdout",
          "output_type": "stream",
          "text": [
            "Requirement already satisfied: taipy in c:\\users\\cody1\\appdata\\local\\packages\\pythonsoftwarefoundation.python.3.10_qbz5n2kfra8p0\\localcache\\local-packages\\python310\\site-packages (3.0.0)\n",
            "Requirement already satisfied: cookiecutter<2.2,>=2.1.1 in c:\\users\\cody1\\appdata\\local\\packages\\pythonsoftwarefoundation.python.3.10_qbz5n2kfra8p0\\localcache\\local-packages\\python310\\site-packages (from taipy) (2.1.1)\n",
            "Requirement already satisfied: taipy-gui<3.1,>=3.0 in c:\\users\\cody1\\appdata\\local\\packages\\pythonsoftwarefoundation.python.3.10_qbz5n2kfra8p0\\localcache\\local-packages\\python310\\site-packages (from taipy) (3.0.0)\n",
            "Requirement already satisfied: taipy-rest<3.1,>=3.0 in c:\\users\\cody1\\appdata\\local\\packages\\pythonsoftwarefoundation.python.3.10_qbz5n2kfra8p0\\localcache\\local-packages\\python310\\site-packages (from taipy) (3.0.0)\n",
            "Requirement already satisfied: taipy-templates<3.1,>=3.0 in c:\\users\\cody1\\appdata\\local\\packages\\pythonsoftwarefoundation.python.3.10_qbz5n2kfra8p0\\localcache\\local-packages\\python310\\site-packages (from taipy) (3.0.0)\n",
            "Requirement already satisfied: binaryornot>=0.4.4 in c:\\users\\cody1\\appdata\\local\\packages\\pythonsoftwarefoundation.python.3.10_qbz5n2kfra8p0\\localcache\\local-packages\\python310\\site-packages (from cookiecutter<2.2,>=2.1.1->taipy) (0.4.4)\n",
            "Requirement already satisfied: Jinja2<4.0.0,>=2.7 in c:\\users\\cody1\\appdata\\local\\packages\\pythonsoftwarefoundation.python.3.10_qbz5n2kfra8p0\\localcache\\local-packages\\python310\\site-packages (from cookiecutter<2.2,>=2.1.1->taipy) (3.1.3)\n",
            "Requirement already satisfied: click<9.0.0,>=7.0 in c:\\users\\cody1\\appdata\\local\\packages\\pythonsoftwarefoundation.python.3.10_qbz5n2kfra8p0\\localcache\\local-packages\\python310\\site-packages (from cookiecutter<2.2,>=2.1.1->taipy) (8.1.7)\n",
            "Requirement already satisfied: pyyaml>=5.3.1 in c:\\users\\cody1\\appdata\\local\\packages\\pythonsoftwarefoundation.python.3.10_qbz5n2kfra8p0\\localcache\\local-packages\\python310\\site-packages (from cookiecutter<2.2,>=2.1.1->taipy) (6.0.1)\n",
            "Requirement already satisfied: jinja2-time>=0.2.0 in c:\\users\\cody1\\appdata\\local\\packages\\pythonsoftwarefoundation.python.3.10_qbz5n2kfra8p0\\localcache\\local-packages\\python310\\site-packages (from cookiecutter<2.2,>=2.1.1->taipy) (0.2.0)\n",
            "Requirement already satisfied: python-slugify>=4.0.0 in c:\\users\\cody1\\appdata\\local\\packages\\pythonsoftwarefoundation.python.3.10_qbz5n2kfra8p0\\localcache\\local-packages\\python310\\site-packages (from cookiecutter<2.2,>=2.1.1->taipy) (8.0.4)\n",
            "Requirement already satisfied: requests>=2.23.0 in c:\\users\\cody1\\appdata\\local\\packages\\pythonsoftwarefoundation.python.3.10_qbz5n2kfra8p0\\localcache\\local-packages\\python310\\site-packages (from cookiecutter<2.2,>=2.1.1->taipy) (2.31.0)\n",
            "Requirement already satisfied: flask<3.1,>=3.0.0 in c:\\users\\cody1\\appdata\\local\\packages\\pythonsoftwarefoundation.python.3.10_qbz5n2kfra8p0\\localcache\\local-packages\\python310\\site-packages (from taipy-gui<3.1,>=3.0->taipy) (3.0.2)\n",
            "Requirement already satisfied: flask-cors<5.0,>=4.0.0 in c:\\users\\cody1\\appdata\\local\\packages\\pythonsoftwarefoundation.python.3.10_qbz5n2kfra8p0\\localcache\\local-packages\\python310\\site-packages (from taipy-gui<3.1,>=3.0->taipy) (4.0.0)\n",
            "Requirement already satisfied: flask-socketio<6.0,>=5.3.6 in c:\\users\\cody1\\appdata\\local\\packages\\pythonsoftwarefoundation.python.3.10_qbz5n2kfra8p0\\localcache\\local-packages\\python310\\site-packages (from taipy-gui<3.1,>=3.0->taipy) (5.3.6)\n",
            "Requirement already satisfied: markdown<4.0,>=3.4.4 in c:\\users\\cody1\\appdata\\local\\packages\\pythonsoftwarefoundation.python.3.10_qbz5n2kfra8p0\\localcache\\local-packages\\python310\\site-packages (from taipy-gui<3.1,>=3.0->taipy) (3.5.2)\n",
            "Requirement already satisfied: pandas<3.0,>=2.0.0 in c:\\users\\cody1\\appdata\\local\\packages\\pythonsoftwarefoundation.python.3.10_qbz5n2kfra8p0\\localcache\\local-packages\\python310\\site-packages (from taipy-gui<3.1,>=3.0->taipy) (2.1.4)\n",
            "Requirement already satisfied: python-dotenv<1.1,>=1.0.0 in c:\\users\\cody1\\appdata\\local\\packages\\pythonsoftwarefoundation.python.3.10_qbz5n2kfra8p0\\localcache\\local-packages\\python310\\site-packages (from taipy-gui<3.1,>=3.0->taipy) (1.0.1)\n",
            "Requirement already satisfied: pytz<2022.2,>=2021.3 in c:\\users\\cody1\\appdata\\local\\packages\\pythonsoftwarefoundation.python.3.10_qbz5n2kfra8p0\\localcache\\local-packages\\python310\\site-packages (from taipy-gui<3.1,>=3.0->taipy) (2022.1)\n",
            "Requirement already satisfied: tzlocal<5.0,>=3.0 in c:\\users\\cody1\\appdata\\local\\packages\\pythonsoftwarefoundation.python.3.10_qbz5n2kfra8p0\\localcache\\local-packages\\python310\\site-packages (from taipy-gui<3.1,>=3.0->taipy) (4.3.1)\n",
            "Requirement already satisfied: gevent<24.0,>=23.7.0 in c:\\users\\cody1\\appdata\\local\\packages\\pythonsoftwarefoundation.python.3.10_qbz5n2kfra8p0\\localcache\\local-packages\\python310\\site-packages (from taipy-gui<3.1,>=3.0->taipy) (23.9.1)\n",
            "Requirement already satisfied: gevent-websocket<0.11,>=0.10.1 in c:\\users\\cody1\\appdata\\local\\packages\\pythonsoftwarefoundation.python.3.10_qbz5n2kfra8p0\\localcache\\local-packages\\python310\\site-packages (from taipy-gui<3.1,>=3.0->taipy) (0.10.1)\n",
            "Requirement already satisfied: kthread<0.3,>=0.2.3 in c:\\users\\cody1\\appdata\\local\\packages\\pythonsoftwarefoundation.python.3.10_qbz5n2kfra8p0\\localcache\\local-packages\\python310\\site-packages (from taipy-gui<3.1,>=3.0->taipy) (0.2.3)\n",
            "Requirement already satisfied: taipy-config<3.1,>=3.0 in c:\\users\\cody1\\appdata\\local\\packages\\pythonsoftwarefoundation.python.3.10_qbz5n2kfra8p0\\localcache\\local-packages\\python310\\site-packages (from taipy-gui<3.1,>=3.0->taipy) (3.0.0)\n",
            "Requirement already satisfied: gitignore-parser<0.2,>=0.1 in c:\\users\\cody1\\appdata\\local\\packages\\pythonsoftwarefoundation.python.3.10_qbz5n2kfra8p0\\localcache\\local-packages\\python310\\site-packages (from taipy-gui<3.1,>=3.0->taipy) (0.1.11)\n",
            "Requirement already satisfied: simple-websocket<1.0,>=0.10.1 in c:\\users\\cody1\\appdata\\local\\packages\\pythonsoftwarefoundation.python.3.10_qbz5n2kfra8p0\\localcache\\local-packages\\python310\\site-packages (from taipy-gui<3.1,>=3.0->taipy) (0.10.1)\n",
            "Requirement already satisfied: twisted<24.0,>=23.8.0 in c:\\users\\cody1\\appdata\\local\\packages\\pythonsoftwarefoundation.python.3.10_qbz5n2kfra8p0\\localcache\\local-packages\\python310\\site-packages (from taipy-gui<3.1,>=3.0->taipy) (23.10.0)\n",
            "Requirement already satisfied: flask-restful<0.4,>=0.3.9 in c:\\users\\cody1\\appdata\\local\\packages\\pythonsoftwarefoundation.python.3.10_qbz5n2kfra8p0\\localcache\\local-packages\\python310\\site-packages (from taipy-rest<3.1,>=3.0->taipy) (0.3.10)\n",
            "Requirement already satisfied: flask-migrate<4.0,>=3.1 in c:\\users\\cody1\\appdata\\local\\packages\\pythonsoftwarefoundation.python.3.10_qbz5n2kfra8p0\\localcache\\local-packages\\python310\\site-packages (from taipy-rest<3.1,>=3.0->taipy) (3.1.0)\n",
            "Requirement already satisfied: flask-marshmallow<0.15,>=0.14 in c:\\users\\cody1\\appdata\\local\\packages\\pythonsoftwarefoundation.python.3.10_qbz5n2kfra8p0\\localcache\\local-packages\\python310\\site-packages (from taipy-rest<3.1,>=3.0->taipy) (0.14.0)\n",
            "Requirement already satisfied: marshmallow-sqlalchemy<0.29,>=0.25 in c:\\users\\cody1\\appdata\\local\\packages\\pythonsoftwarefoundation.python.3.10_qbz5n2kfra8p0\\localcache\\local-packages\\python310\\site-packages (from taipy-rest<3.1,>=3.0->taipy) (0.28.1)\n",
            "Requirement already satisfied: passlib<1.8,>=1.7.4 in c:\\users\\cody1\\appdata\\local\\packages\\pythonsoftwarefoundation.python.3.10_qbz5n2kfra8p0\\localcache\\local-packages\\python310\\site-packages (from taipy-rest<3.1,>=3.0->taipy) (1.7.4)\n",
            "Requirement already satisfied: apispec<6.0,>=5.1 in c:\\users\\cody1\\appdata\\local\\packages\\pythonsoftwarefoundation.python.3.10_qbz5n2kfra8p0\\localcache\\local-packages\\python310\\site-packages (from apispec[yaml]<6.0,>=5.1->taipy-rest<3.1,>=3.0->taipy) (5.2.2)\n",
            "Requirement already satisfied: apispec-webframeworks<0.6,>=0.5.2 in c:\\users\\cody1\\appdata\\local\\packages\\pythonsoftwarefoundation.python.3.10_qbz5n2kfra8p0\\localcache\\local-packages\\python310\\site-packages (from taipy-rest<3.1,>=3.0->taipy) (0.5.2)\n",
            "Requirement already satisfied: taipy-core<3.1,>=3.0 in c:\\users\\cody1\\appdata\\local\\packages\\pythonsoftwarefoundation.python.3.10_qbz5n2kfra8p0\\localcache\\local-packages\\python310\\site-packages (from taipy-rest<3.1,>=3.0->taipy) (3.0.0)\n",
            "Requirement already satisfied: chardet>=3.0.2 in c:\\users\\cody1\\appdata\\local\\packages\\pythonsoftwarefoundation.python.3.10_qbz5n2kfra8p0\\localcache\\local-packages\\python310\\site-packages (from binaryornot>=0.4.4->cookiecutter<2.2,>=2.1.1->taipy) (5.2.0)\n",
            "Requirement already satisfied: colorama in c:\\users\\cody1\\appdata\\local\\packages\\pythonsoftwarefoundation.python.3.10_qbz5n2kfra8p0\\localcache\\local-packages\\python310\\site-packages (from click<9.0.0,>=7.0->cookiecutter<2.2,>=2.1.1->taipy) (0.4.6)\n",
            "Requirement already satisfied: Werkzeug>=3.0.0 in c:\\users\\cody1\\appdata\\local\\packages\\pythonsoftwarefoundation.python.3.10_qbz5n2kfra8p0\\localcache\\local-packages\\python310\\site-packages (from flask<3.1,>=3.0.0->taipy-gui<3.1,>=3.0->taipy) (3.0.1)\n",
            "Requirement already satisfied: itsdangerous>=2.1.2 in c:\\users\\cody1\\appdata\\local\\packages\\pythonsoftwarefoundation.python.3.10_qbz5n2kfra8p0\\localcache\\local-packages\\python310\\site-packages (from flask<3.1,>=3.0.0->taipy-gui<3.1,>=3.0->taipy) (2.1.2)\n",
            "Requirement already satisfied: blinker>=1.6.2 in c:\\users\\cody1\\appdata\\local\\packages\\pythonsoftwarefoundation.python.3.10_qbz5n2kfra8p0\\localcache\\local-packages\\python310\\site-packages (from flask<3.1,>=3.0.0->taipy-gui<3.1,>=3.0->taipy) (1.7.0)\n",
            "Requirement already satisfied: marshmallow>=2.0.0 in c:\\users\\cody1\\appdata\\local\\packages\\pythonsoftwarefoundation.python.3.10_qbz5n2kfra8p0\\localcache\\local-packages\\python310\\site-packages (from flask-marshmallow<0.15,>=0.14->taipy-rest<3.1,>=3.0->taipy) (3.20.2)\n",
            "Requirement already satisfied: six>=1.9.0 in c:\\users\\cody1\\appdata\\local\\packages\\pythonsoftwarefoundation.python.3.10_qbz5n2kfra8p0\\localcache\\local-packages\\python310\\site-packages (from flask-marshmallow<0.15,>=0.14->taipy-rest<3.1,>=3.0->taipy) (1.16.0)\n",
            "Requirement already satisfied: Flask-SQLAlchemy>=1.0 in c:\\users\\cody1\\appdata\\local\\packages\\pythonsoftwarefoundation.python.3.10_qbz5n2kfra8p0\\localcache\\local-packages\\python310\\site-packages (from flask-migrate<4.0,>=3.1->taipy-rest<3.1,>=3.0->taipy) (3.1.1)\n",
            "Requirement already satisfied: alembic>=0.7 in c:\\users\\cody1\\appdata\\local\\packages\\pythonsoftwarefoundation.python.3.10_qbz5n2kfra8p0\\localcache\\local-packages\\python310\\site-packages (from flask-migrate<4.0,>=3.1->taipy-rest<3.1,>=3.0->taipy) (1.13.1)\n",
            "Requirement already satisfied: aniso8601>=0.82 in c:\\users\\cody1\\appdata\\local\\packages\\pythonsoftwarefoundation.python.3.10_qbz5n2kfra8p0\\localcache\\local-packages\\python310\\site-packages (from flask-restful<0.4,>=0.3.9->taipy-rest<3.1,>=3.0->taipy) (9.0.1)\n",
            "Requirement already satisfied: python-socketio>=5.0.2 in c:\\users\\cody1\\appdata\\local\\packages\\pythonsoftwarefoundation.python.3.10_qbz5n2kfra8p0\\localcache\\local-packages\\python310\\site-packages (from flask-socketio<6.0,>=5.3.6->taipy-gui<3.1,>=3.0->taipy) (5.11.1)\n",
            "Requirement already satisfied: zope.event in c:\\users\\cody1\\appdata\\local\\packages\\pythonsoftwarefoundation.python.3.10_qbz5n2kfra8p0\\localcache\\local-packages\\python310\\site-packages (from gevent<24.0,>=23.7.0->taipy-gui<3.1,>=3.0->taipy) (5.0)\n",
            "Requirement already satisfied: zope.interface in c:\\users\\cody1\\appdata\\local\\packages\\pythonsoftwarefoundation.python.3.10_qbz5n2kfra8p0\\localcache\\local-packages\\python310\\site-packages (from gevent<24.0,>=23.7.0->taipy-gui<3.1,>=3.0->taipy) (6.1)\n",
            "Requirement already satisfied: greenlet>=2.0.0 in c:\\users\\cody1\\appdata\\local\\packages\\pythonsoftwarefoundation.python.3.10_qbz5n2kfra8p0\\localcache\\local-packages\\python310\\site-packages (from gevent<24.0,>=23.7.0->taipy-gui<3.1,>=3.0->taipy) (3.0.3)\n",
            "Requirement already satisfied: cffi>=1.12.2 in c:\\users\\cody1\\appdata\\local\\packages\\pythonsoftwarefoundation.python.3.10_qbz5n2kfra8p0\\localcache\\local-packages\\python310\\site-packages (from gevent<24.0,>=23.7.0->taipy-gui<3.1,>=3.0->taipy) (1.16.0)\n",
            "Requirement already satisfied: MarkupSafe>=2.0 in c:\\users\\cody1\\appdata\\local\\packages\\pythonsoftwarefoundation.python.3.10_qbz5n2kfra8p0\\localcache\\local-packages\\python310\\site-packages (from Jinja2<4.0.0,>=2.7->cookiecutter<2.2,>=2.1.1->taipy) (2.1.4)\n",
            "Requirement already satisfied: arrow in c:\\users\\cody1\\appdata\\local\\packages\\pythonsoftwarefoundation.python.3.10_qbz5n2kfra8p0\\localcache\\local-packages\\python310\\site-packages (from jinja2-time>=0.2.0->cookiecutter<2.2,>=2.1.1->taipy) (1.3.0)\n",
            "Requirement already satisfied: SQLAlchemy>=1.3.0 in c:\\users\\cody1\\appdata\\local\\packages\\pythonsoftwarefoundation.python.3.10_qbz5n2kfra8p0\\localcache\\local-packages\\python310\\site-packages (from marshmallow-sqlalchemy<0.29,>=0.25->taipy-rest<3.1,>=3.0->taipy) (2.0.25)\n",
            "Requirement already satisfied: packaging>=21.3 in c:\\users\\cody1\\appdata\\local\\packages\\pythonsoftwarefoundation.python.3.10_qbz5n2kfra8p0\\localcache\\local-packages\\python310\\site-packages (from marshmallow-sqlalchemy<0.29,>=0.25->taipy-rest<3.1,>=3.0->taipy) (23.2)\n",
            "Requirement already satisfied: numpy<2,>=1.22.4 in c:\\users\\cody1\\appdata\\local\\packages\\pythonsoftwarefoundation.python.3.10_qbz5n2kfra8p0\\localcache\\local-packages\\python310\\site-packages (from pandas<3.0,>=2.0.0->taipy-gui<3.1,>=3.0->taipy) (1.26.3)\n",
            "Requirement already satisfied: python-dateutil>=2.8.2 in c:\\users\\cody1\\appdata\\local\\packages\\pythonsoftwarefoundation.python.3.10_qbz5n2kfra8p0\\localcache\\local-packages\\python310\\site-packages (from pandas<3.0,>=2.0.0->taipy-gui<3.1,>=3.0->taipy) (2.8.2)\n",
            "Requirement already satisfied: tzdata>=2022.1 in c:\\users\\cody1\\appdata\\local\\packages\\pythonsoftwarefoundation.python.3.10_qbz5n2kfra8p0\\localcache\\local-packages\\python310\\site-packages (from pandas<3.0,>=2.0.0->taipy-gui<3.1,>=3.0->taipy) (2023.4)\n",
            "Requirement already satisfied: text-unidecode>=1.3 in c:\\users\\cody1\\appdata\\local\\packages\\pythonsoftwarefoundation.python.3.10_qbz5n2kfra8p0\\localcache\\local-packages\\python310\\site-packages (from python-slugify>=4.0.0->cookiecutter<2.2,>=2.1.1->taipy) (1.3)\n",
            "Requirement already satisfied: charset-normalizer<4,>=2 in c:\\users\\cody1\\appdata\\local\\packages\\pythonsoftwarefoundation.python.3.10_qbz5n2kfra8p0\\localcache\\local-packages\\python310\\site-packages (from requests>=2.23.0->cookiecutter<2.2,>=2.1.1->taipy) (3.3.2)\n",
            "Requirement already satisfied: idna<4,>=2.5 in c:\\users\\cody1\\appdata\\local\\packages\\pythonsoftwarefoundation.python.3.10_qbz5n2kfra8p0\\localcache\\local-packages\\python310\\site-packages (from requests>=2.23.0->cookiecutter<2.2,>=2.1.1->taipy) (3.4)\n",
            "Requirement already satisfied: urllib3<3,>=1.21.1 in c:\\users\\cody1\\appdata\\local\\packages\\pythonsoftwarefoundation.python.3.10_qbz5n2kfra8p0\\localcache\\local-packages\\python310\\site-packages (from requests>=2.23.0->cookiecutter<2.2,>=2.1.1->taipy) (2.1.0)\n",
            "Requirement already satisfied: certifi>=2017.4.17 in c:\\users\\cody1\\appdata\\local\\packages\\pythonsoftwarefoundation.python.3.10_qbz5n2kfra8p0\\localcache\\local-packages\\python310\\site-packages (from requests>=2.23.0->cookiecutter<2.2,>=2.1.1->taipy) (2023.7.22)\n",
            "Requirement already satisfied: wsproto in c:\\users\\cody1\\appdata\\local\\packages\\pythonsoftwarefoundation.python.3.10_qbz5n2kfra8p0\\localcache\\local-packages\\python310\\site-packages (from simple-websocket<1.0,>=0.10.1->taipy-gui<3.1,>=3.0->taipy) (1.2.0)\n",
            "Requirement already satisfied: toml<0.11,>=0.10 in c:\\users\\cody1\\appdata\\local\\packages\\pythonsoftwarefoundation.python.3.10_qbz5n2kfra8p0\\localcache\\local-packages\\python310\\site-packages (from taipy-config<3.1,>=3.0->taipy-gui<3.1,>=3.0->taipy) (0.10.2)\n",
            "Requirement already satisfied: deepdiff<6.3,>=6.2 in c:\\users\\cody1\\appdata\\local\\packages\\pythonsoftwarefoundation.python.3.10_qbz5n2kfra8p0\\localcache\\local-packages\\python310\\site-packages (from taipy-config<3.1,>=3.0->taipy-gui<3.1,>=3.0->taipy) (6.2.3)\n",
            "Requirement already satisfied: pyarrow<11.0,>=10.0.1 in c:\\users\\cody1\\appdata\\local\\packages\\pythonsoftwarefoundation.python.3.10_qbz5n2kfra8p0\\localcache\\local-packages\\python310\\site-packages (from taipy-core<3.1,>=3.0->taipy-rest<3.1,>=3.0->taipy) (10.0.1)\n",
            "Requirement already satisfied: networkx<3.0,>=2.6 in c:\\users\\cody1\\appdata\\local\\packages\\pythonsoftwarefoundation.python.3.10_qbz5n2kfra8p0\\localcache\\local-packages\\python310\\site-packages (from taipy-core<3.1,>=3.0->taipy-rest<3.1,>=3.0->taipy) (2.8.8)\n",
            "Requirement already satisfied: openpyxl<3.2,>=3.1.2 in c:\\users\\cody1\\appdata\\local\\packages\\pythonsoftwarefoundation.python.3.10_qbz5n2kfra8p0\\localcache\\local-packages\\python310\\site-packages (from taipy-core<3.1,>=3.0->taipy-rest<3.1,>=3.0->taipy) (3.1.2)\n",
            "Requirement already satisfied: modin<1.0,>=0.23.0 in c:\\users\\cody1\\appdata\\local\\packages\\pythonsoftwarefoundation.python.3.10_qbz5n2kfra8p0\\localcache\\local-packages\\python310\\site-packages (from modin[dask]<1.0,>=0.23.0->taipy-core<3.1,>=3.0->taipy-rest<3.1,>=3.0->taipy) (0.26.1)\n",
            "Requirement already satisfied: pymongo<5.0,>=4.2.0 in c:\\users\\cody1\\appdata\\local\\packages\\pythonsoftwarefoundation.python.3.10_qbz5n2kfra8p0\\localcache\\local-packages\\python310\\site-packages (from pymongo[srv]<5.0,>=4.2.0->taipy-core<3.1,>=3.0->taipy-rest<3.1,>=3.0->taipy) (4.6.1)\n",
            "Requirement already satisfied: attrs>=21.3.0 in c:\\users\\cody1\\appdata\\local\\packages\\pythonsoftwarefoundation.python.3.10_qbz5n2kfra8p0\\localcache\\local-packages\\python310\\site-packages (from twisted<24.0,>=23.8.0->taipy-gui<3.1,>=3.0->taipy) (23.2.0)\n",
            "Requirement already satisfied: automat>=0.8.0 in c:\\users\\cody1\\appdata\\local\\packages\\pythonsoftwarefoundation.python.3.10_qbz5n2kfra8p0\\localcache\\local-packages\\python310\\site-packages (from twisted<24.0,>=23.8.0->taipy-gui<3.1,>=3.0->taipy) (22.10.0)\n",
            "Requirement already satisfied: constantly>=15.1 in c:\\users\\cody1\\appdata\\local\\packages\\pythonsoftwarefoundation.python.3.10_qbz5n2kfra8p0\\localcache\\local-packages\\python310\\site-packages (from twisted<24.0,>=23.8.0->taipy-gui<3.1,>=3.0->taipy) (23.10.4)\n",
            "Requirement already satisfied: hyperlink>=17.1.1 in c:\\users\\cody1\\appdata\\local\\packages\\pythonsoftwarefoundation.python.3.10_qbz5n2kfra8p0\\localcache\\local-packages\\python310\\site-packages (from twisted<24.0,>=23.8.0->taipy-gui<3.1,>=3.0->taipy) (21.0.0)\n",
            "Requirement already satisfied: incremental>=22.10.0 in c:\\users\\cody1\\appdata\\local\\packages\\pythonsoftwarefoundation.python.3.10_qbz5n2kfra8p0\\localcache\\local-packages\\python310\\site-packages (from twisted<24.0,>=23.8.0->taipy-gui<3.1,>=3.0->taipy) (22.10.0)\n",
            "Requirement already satisfied: twisted-iocpsupport<2,>=1.0.2 in c:\\users\\cody1\\appdata\\local\\packages\\pythonsoftwarefoundation.python.3.10_qbz5n2kfra8p0\\localcache\\local-packages\\python310\\site-packages (from twisted<24.0,>=23.8.0->taipy-gui<3.1,>=3.0->taipy) (1.0.4)\n",
            "Requirement already satisfied: typing-extensions>=4.2.0 in c:\\users\\cody1\\appdata\\local\\packages\\pythonsoftwarefoundation.python.3.10_qbz5n2kfra8p0\\localcache\\local-packages\\python310\\site-packages (from twisted<24.0,>=23.8.0->taipy-gui<3.1,>=3.0->taipy) (4.9.0)\n",
            "Requirement already satisfied: pytz-deprecation-shim in c:\\users\\cody1\\appdata\\local\\packages\\pythonsoftwarefoundation.python.3.10_qbz5n2kfra8p0\\localcache\\local-packages\\python310\\site-packages (from tzlocal<5.0,>=3.0->taipy-gui<3.1,>=3.0->taipy) (0.1.0.post0)\n",
            "Requirement already satisfied: Mako in c:\\users\\cody1\\appdata\\local\\packages\\pythonsoftwarefoundation.python.3.10_qbz5n2kfra8p0\\localcache\\local-packages\\python310\\site-packages (from alembic>=0.7->flask-migrate<4.0,>=3.1->taipy-rest<3.1,>=3.0->taipy) (1.3.2)\n",
            "Requirement already satisfied: pycparser in c:\\users\\cody1\\appdata\\local\\packages\\pythonsoftwarefoundation.python.3.10_qbz5n2kfra8p0\\localcache\\local-packages\\python310\\site-packages (from cffi>=1.12.2->gevent<24.0,>=23.7.0->taipy-gui<3.1,>=3.0->taipy) (2.21)\n",
            "Requirement already satisfied: ordered-set<4.2.0,>=4.0.2 in c:\\users\\cody1\\appdata\\local\\packages\\pythonsoftwarefoundation.python.3.10_qbz5n2kfra8p0\\localcache\\local-packages\\python310\\site-packages (from deepdiff<6.3,>=6.2->taipy-config<3.1,>=3.0->taipy-gui<3.1,>=3.0->taipy) (4.1.0)\n",
            "Requirement already satisfied: orjson in c:\\users\\cody1\\appdata\\local\\packages\\pythonsoftwarefoundation.python.3.10_qbz5n2kfra8p0\\localcache\\local-packages\\python310\\site-packages (from deepdiff<6.3,>=6.2->taipy-config<3.1,>=3.0->taipy-gui<3.1,>=3.0->taipy) (3.9.13)\n",
            "Requirement already satisfied: fsspec>=2022.05.0 in c:\\users\\cody1\\appdata\\local\\packages\\pythonsoftwarefoundation.python.3.10_qbz5n2kfra8p0\\localcache\\local-packages\\python310\\site-packages (from modin<1.0,>=0.23.0->modin[dask]<1.0,>=0.23.0->taipy-core<3.1,>=3.0->taipy-rest<3.1,>=3.0->taipy) (2023.12.2)\n",
            "Requirement already satisfied: psutil>=5.8.0 in c:\\users\\cody1\\appdata\\local\\packages\\pythonsoftwarefoundation.python.3.10_qbz5n2kfra8p0\\localcache\\local-packages\\python310\\site-packages (from modin<1.0,>=0.23.0->modin[dask]<1.0,>=0.23.0->taipy-core<3.1,>=3.0->taipy-rest<3.1,>=3.0->taipy) (5.9.8)\n",
            "Requirement already satisfied: dask>=2.22.0 in c:\\users\\cody1\\appdata\\local\\packages\\pythonsoftwarefoundation.python.3.10_qbz5n2kfra8p0\\localcache\\local-packages\\python310\\site-packages (from modin[dask]<1.0,>=0.23.0->taipy-core<3.1,>=3.0->taipy-rest<3.1,>=3.0->taipy) (2024.2.0)\n",
            "Requirement already satisfied: distributed>=2.22.0 in c:\\users\\cody1\\appdata\\local\\packages\\pythonsoftwarefoundation.python.3.10_qbz5n2kfra8p0\\localcache\\local-packages\\python310\\site-packages (from modin[dask]<1.0,>=0.23.0->taipy-core<3.1,>=3.0->taipy-rest<3.1,>=3.0->taipy) (2024.2.0)\n",
            "Requirement already satisfied: et-xmlfile in c:\\users\\cody1\\appdata\\local\\packages\\pythonsoftwarefoundation.python.3.10_qbz5n2kfra8p0\\localcache\\local-packages\\python310\\site-packages (from openpyxl<3.2,>=3.1.2->taipy-core<3.1,>=3.0->taipy-rest<3.1,>=3.0->taipy) (1.1.0)\n",
            "Requirement already satisfied: dnspython<3.0.0,>=1.16.0 in c:\\users\\cody1\\appdata\\local\\packages\\pythonsoftwarefoundation.python.3.10_qbz5n2kfra8p0\\localcache\\local-packages\\python310\\site-packages (from pymongo<5.0,>=4.2.0->pymongo[srv]<5.0,>=4.2.0->taipy-core<3.1,>=3.0->taipy-rest<3.1,>=3.0->taipy) (2.5.0)\n",
            "Requirement already satisfied: bidict>=0.21.0 in c:\\users\\cody1\\appdata\\local\\packages\\pythonsoftwarefoundation.python.3.10_qbz5n2kfra8p0\\localcache\\local-packages\\python310\\site-packages (from python-socketio>=5.0.2->flask-socketio<6.0,>=5.3.6->taipy-gui<3.1,>=3.0->taipy) (0.22.1)\n",
            "Requirement already satisfied: python-engineio>=4.8.0 in c:\\users\\cody1\\appdata\\local\\packages\\pythonsoftwarefoundation.python.3.10_qbz5n2kfra8p0\\localcache\\local-packages\\python310\\site-packages (from python-socketio>=5.0.2->flask-socketio<6.0,>=5.3.6->taipy-gui<3.1,>=3.0->taipy) (4.9.0)\n",
            "Requirement already satisfied: setuptools in c:\\users\\cody1\\appdata\\local\\packages\\pythonsoftwarefoundation.python.3.10_qbz5n2kfra8p0\\localcache\\local-packages\\python310\\site-packages (from zope.interface->gevent<24.0,>=23.7.0->taipy-gui<3.1,>=3.0->taipy) (69.0.3)\n",
            "Requirement already satisfied: types-python-dateutil>=2.8.10 in c:\\users\\cody1\\appdata\\local\\packages\\pythonsoftwarefoundation.python.3.10_qbz5n2kfra8p0\\localcache\\local-packages\\python310\\site-packages (from arrow->jinja2-time>=0.2.0->cookiecutter<2.2,>=2.1.1->taipy) (2.8.19.20240106)\n",
            "Requirement already satisfied: h11<1,>=0.9.0 in c:\\users\\cody1\\appdata\\local\\packages\\pythonsoftwarefoundation.python.3.10_qbz5n2kfra8p0\\localcache\\local-packages\\python310\\site-packages (from wsproto->simple-websocket<1.0,>=0.10.1->taipy-gui<3.1,>=3.0->taipy) (0.14.0)\n",
            "Requirement already satisfied: cloudpickle>=1.5.0 in c:\\users\\cody1\\appdata\\local\\packages\\pythonsoftwarefoundation.python.3.10_qbz5n2kfra8p0\\localcache\\local-packages\\python310\\site-packages (from dask>=2.22.0->modin[dask]<1.0,>=0.23.0->taipy-core<3.1,>=3.0->taipy-rest<3.1,>=3.0->taipy) (3.0.0)\n",
            "Requirement already satisfied: partd>=1.2.0 in c:\\users\\cody1\\appdata\\local\\packages\\pythonsoftwarefoundation.python.3.10_qbz5n2kfra8p0\\localcache\\local-packages\\python310\\site-packages (from dask>=2.22.0->modin[dask]<1.0,>=0.23.0->taipy-core<3.1,>=3.0->taipy-rest<3.1,>=3.0->taipy) (1.4.1)\n",
            "Requirement already satisfied: toolz>=0.10.0 in c:\\users\\cody1\\appdata\\local\\packages\\pythonsoftwarefoundation.python.3.10_qbz5n2kfra8p0\\localcache\\local-packages\\python310\\site-packages (from dask>=2.22.0->modin[dask]<1.0,>=0.23.0->taipy-core<3.1,>=3.0->taipy-rest<3.1,>=3.0->taipy) (0.12.1)\n",
            "Requirement already satisfied: importlib-metadata>=4.13.0 in c:\\users\\cody1\\appdata\\local\\packages\\pythonsoftwarefoundation.python.3.10_qbz5n2kfra8p0\\localcache\\local-packages\\python310\\site-packages (from dask>=2.22.0->modin[dask]<1.0,>=0.23.0->taipy-core<3.1,>=3.0->taipy-rest<3.1,>=3.0->taipy) (7.0.1)\n",
            "Requirement already satisfied: locket>=1.0.0 in c:\\users\\cody1\\appdata\\local\\packages\\pythonsoftwarefoundation.python.3.10_qbz5n2kfra8p0\\localcache\\local-packages\\python310\\site-packages (from distributed>=2.22.0->modin[dask]<1.0,>=0.23.0->taipy-core<3.1,>=3.0->taipy-rest<3.1,>=3.0->taipy) (1.0.0)\n",
            "Requirement already satisfied: msgpack>=1.0.0 in c:\\users\\cody1\\appdata\\local\\packages\\pythonsoftwarefoundation.python.3.10_qbz5n2kfra8p0\\localcache\\local-packages\\python310\\site-packages (from distributed>=2.22.0->modin[dask]<1.0,>=0.23.0->taipy-core<3.1,>=3.0->taipy-rest<3.1,>=3.0->taipy) (1.0.7)\n",
            "Requirement already satisfied: sortedcontainers>=2.0.5 in c:\\users\\cody1\\appdata\\local\\packages\\pythonsoftwarefoundation.python.3.10_qbz5n2kfra8p0\\localcache\\local-packages\\python310\\site-packages (from distributed>=2.22.0->modin[dask]<1.0,>=0.23.0->taipy-core<3.1,>=3.0->taipy-rest<3.1,>=3.0->taipy) (2.4.0)\n",
            "Requirement already satisfied: tblib>=1.6.0 in c:\\users\\cody1\\appdata\\local\\packages\\pythonsoftwarefoundation.python.3.10_qbz5n2kfra8p0\\localcache\\local-packages\\python310\\site-packages (from distributed>=2.22.0->modin[dask]<1.0,>=0.23.0->taipy-core<3.1,>=3.0->taipy-rest<3.1,>=3.0->taipy) (3.0.0)\n",
            "Requirement already satisfied: tornado>=6.0.4 in c:\\users\\cody1\\appdata\\local\\packages\\pythonsoftwarefoundation.python.3.10_qbz5n2kfra8p0\\localcache\\local-packages\\python310\\site-packages (from distributed>=2.22.0->modin[dask]<1.0,>=0.23.0->taipy-core<3.1,>=3.0->taipy-rest<3.1,>=3.0->taipy) (6.4)\n",
            "Requirement already satisfied: zict>=3.0.0 in c:\\users\\cody1\\appdata\\local\\packages\\pythonsoftwarefoundation.python.3.10_qbz5n2kfra8p0\\localcache\\local-packages\\python310\\site-packages (from distributed>=2.22.0->modin[dask]<1.0,>=0.23.0->taipy-core<3.1,>=3.0->taipy-rest<3.1,>=3.0->taipy) (3.0.0)\n",
            "Requirement already satisfied: zipp>=0.5 in c:\\users\\cody1\\appdata\\local\\packages\\pythonsoftwarefoundation.python.3.10_qbz5n2kfra8p0\\localcache\\local-packages\\python310\\site-packages (from importlib-metadata>=4.13.0->dask>=2.22.0->modin[dask]<1.0,>=0.23.0->taipy-core<3.1,>=3.0->taipy-rest<3.1,>=3.0->taipy) (3.17.0)\n"
          ]
        }
      ],
      "source": [
        "# !pip install taipy\n"
      ]
    },
    {
      "cell_type": "markdown",
      "metadata": {},
      "source": [
        "## Using Notebooks\n"
      ]
    },
    {
      "cell_type": "markdown",
      "metadata": {},
      "source": [
        "> You can download the code for this step [here](https://docs.taipy.io/en/latest/getting_started/src/step_01.py) or all the steps [here](https://github.com/Avaiga/taipy-getting-started-gui/tree/develop/src).\n",
        "\n",
        "\n",
        "\n",
        "# Step 1: First Web page\n",
        "\n",
        "You only need one line of code to create your first Taipy web page. Create a `Gui` object with a String and run it. \n",
        "A client link will be displayed in the console. Please cut & paste it into a web browser to open your first Taipy web client!\n",
        "\n",
        "\n"
      ]
    },
    {
      "cell_type": "code",
      "execution_count": 1,
      "metadata": {},
      "outputs": [
        {
          "name": "stdout",
          "output_type": "stream",
          "text": [
            "[2024-03-22 19:50:57][Taipy][INFO] Running in 'single_client' mode in notebook environment\n",
            "[2024-03-22 19:50:57][Taipy][INFO] 'use_reloader' parameter is not available in notebook environment\n",
            "[2024-03-22 19:51:01][Taipy][INFO]  * Server starting on http://127.0.0.1:5000\n"
          ]
        },
        {
          "name": "stderr",
          "output_type": "stream",
          "text": [
            "UserWarning: libuv only supports millisecond timer resolution; all times less will be set to 1 ms\n"
          ]
        }
      ],
      "source": [
        "from taipy import Gui\n",
        "\n",
        "Gui(page=\"# Getting started with *Taipy*\").run(use_reloader=True) # use_reloader=True\n",
        "# Gui(page=\"# Getting started with *Taipy*\").run(use_reloader=True, port=2555)"
      ]
    },
    {
      "cell_type": "markdown",
      "metadata": {},
      "source": [
        "\n",
        "After a change in the code, the page will not reload itself by default.\n",
        "\n",
        "To change this behavior, putting `use_reloader=True` in the `.run()` will reload the application when you modify a file in your application and save it. It can be used as a development mode.\n",
        "\n",
        "If you want to run multiple servers simultaneously, you can change the server port number (5000 by default) in the `.run()` method. For example, `Gui(...).run(port=xxxx)`. Other options of the `.run()` can be found [here](https://docs.taipy.io/en/latest/manuals/gui/configuration/#configuring-the-gui-instance).\n",
        "\n",
        "\n",
        "Note that you can style the text. Taipy uses the Markdown syntax to style your text and more. Therefore, `#` creates \n",
        "a title, `##` makes a subtitle. Put your text in `*` for *italics* or in `**` to have it in **bold**.\n",
        "\n",
        "\n",
        "<div align=\"center\">\n",
        " <img src=https://github.com/Avaiga/taipy-getting-started-gui/blob/latest/step_01/result.png width=700>\n",
        "</div>\n"
      ]
    },
    {
      "cell_type": "markdown",
      "metadata": {},
      "source": [
        "> You can download the code of this step [here](https://docs.taipy.io/en/latest/getting_started/src/step_02.py) or all the steps [here](https://github.com/Avaiga/taipy-getting-started-gui/tree/develop/src).\n",
        "\n",
        "\n",
        "\n",
        "# Step 2: Visual elements\n",
        "\n",
        "Many visual elements can be added to the basic code viewed in Step 1. This Step shows how to use visual elements \n",
        "like charts, sliders, tables, etc., inside the graphical interface.\n",
        "\n",
        "## Visual elements\n",
        "\n",
        "Taipy GUI can be considered as an **augmented** Markdown; it adds the concept of \n",
        "**[Visual elements](https://docs.taipy.io/en/latest/manuals/gui/viselements/)** on top of all the Markdown syntax. A visual \n",
        "element is a Taipy graphical object displayed on the client. It can be a \n",
        "[slider](https://docs.taipy.io/en/latest/manuals/gui/viselements/slider/), a \n",
        "[chart](https://docs.taipy.io/en/latest/manuals/gui/viselements/chart/), a \n",
        "[table](https://docs.taipy.io/en/latest/manuals/gui/viselements/table/), an \n",
        "[input](https://docs.taipy.io/en/latest/manuals/gui/viselements/input/), a \n",
        "[menu](https://docs.taipy.io/en/latest/manuals/gui/viselements/menu/), etc. Check the list \n",
        "[here]( https://docs.taipy.io/en/latest/manuals/gui/viselements/controls/).\n",
        "\n",
        "Every visual element follows a similar syntax:\n",
        "\n",
        "`<|{variable}|visual_element_name|param_1=param_1|param_2=param_2| ... |>`.\n",
        "\n",
        "For example, a [slider](https://docs.taipy.io/en/latest/manuals/gui/viselements/slider/) is written this way :\n",
        "\n",
        "`<|{variable}|slider|min=min_value|max=max_value|>`.\n",
        "\n",
        "For each visual element you wish to add to your web page, you must include the above-mentioned syntax inside your markdown \n",
        "string (representing your page). Example: at the beginning of the page, let's display:\n",
        "\n",
        "- a Python variable *text*\n",
        "\n",
        "- an input that will \"visually\" modify the value of __text__.\n",
        "\n",
        "Here is the overall syntax:\n",
        "\n",
        "```\n",
        "<|{text}|>\n",
        "<|{text}|input|>\n",
        "```\n",
        "\n",
        "Here is the combined code:\n",
        "\n"
      ]
    },
    {
      "cell_type": "code",
      "execution_count": 1,
      "metadata": {},
      "outputs": [
        {
          "name": "stdout",
          "output_type": "stream",
          "text": [
            "[2024-03-22 19:59:06][Taipy][INFO] Running in 'single_client' mode in notebook environment\n",
            "[2024-03-22 19:59:06][Taipy][INFO] 'use_reloader' parameter is not available in notebook environment\n",
            "[2024-03-22 19:59:10][Taipy][INFO]  * Server starting on http://127.0.0.1:5000\n"
          ]
        },
        {
          "name": "stderr",
          "output_type": "stream",
          "text": [
            "UserWarning: libuv only supports millisecond timer resolution; all times less will be set to 1 ms\n"
          ]
        }
      ],
      "source": [
        "from taipy.gui import Gui\n",
        "import pandas as pd\n",
        "\n",
        "text = \"Original text\"\n",
        "\n",
        "percentages=[(1852,50.83), (1856,45.29), (2016,46.09), (2020,51.31)]\n",
        "data = pd.DataFrame(percentages, columns= [\"Year\", \"%\"])\n",
        "\n",
        "page = \"\"\"\n",
        "# Getting started with Taipy GUI\n",
        "\n",
        "My text: <|{text}|>\n",
        "\n",
        "<|{text}|input|>\n",
        "\n",
        "<|{data}|chart|type=bar|x=Year|y=%|>\n",
        "\"\"\"\n",
        "\n",
        "Gui(page).run(use_reloader=True)\n"
      ]
    },
    {
      "cell_type": "markdown",
      "metadata": {},
      "source": [
        "\n",
        "<div align=\"center\">\n",
        " <img src=https://github.com/Avaiga/taipy-getting-started-gui/blob/latest/step_02/result.png width=700>\n",
        "</div>\n"
      ]
    },
    {
      "cell_type": "markdown",
      "metadata": {},
      "source": [
        "> You can download the code of this step [here](https://docs.taipy.io/en/latest/getting_started/src/step_03.py) or all the steps [here](https://github.com/Avaiga/taipy-getting-started-gui/tree/develop/src).\n",
        "\n",
        "\n",
        "\n",
        "# Step 3: Interaction\n",
        "\n",
        "Now, the page has several visual elements:\n",
        "\n",
        "- A text that is connected to the Python variable *text*;\n",
        "\n",
        "- An input that changes the value *text* automatically.\n",
        "\n",
        "Taipy GUI manages everything in the background.\n",
        "\n",
        "To go further with Taipy GUI, let's introduce the concept of **state**. Thanks to this state concept, Taipy natively provides multi-user GUI apps.\n",
        "\n",
        "## Multi-user - state\n",
        "\n",
        "Try to open a few clients with the same URL. You will see that every client is independent of each other; you can change *text* on a client, and *text* will not change in other clients. This is due to the concept of **state**.\n",
        "\n",
        "The state holds the value of all the variables used in the user interface for one specific connection.\n",
        "\n",
        "For example, in the beginning, `state.text = 'Original text'`. When *text* is modified by the input (through a given graphical client), this is, in fact, *state.text* that is modified, not *text* (the global Python variable). Therefore, if you open two different clients, *text* will have two state values (*state.text*), one for each client.\n",
        "\n",
        "In the code below, this concept will be used to:\n",
        "\n",
        "- Notify the user when the button is pressed;\n",
        "\n",
        "- Reset the input when the text equals \"Reset\".\n",
        "\n",
        "## How to connect two variables - the *[on_change()](https://docs.taipy.io/en/latest/manuals/gui/callbacks/)* function\n",
        "\n",
        "In *Taipy*, the `on_change()` function is a \"special\" function. **Taipy** will check if you created and will use a function with this name. Whenever the state of a variable is modified, the *callback* function is called with three parameters:\n",
        "\n",
        "- state (the state object containing all the variables);\n",
        "\n",
        "- The name of the modified variable;\n",
        "\n",
        "- Its value.\n",
        "\n",
        "Here, `on_change()` will be called whenever the text's value (*state.text*) changes. If a variable is changed in this function, Taipy will propagate this change automatically to the associated visual elements.\n",
        "\n",
        "Other callbacks specific to visual elements exist. They are named _on_change_ or _on_action_. For example, a button has an _on_action_ property. When the button is pressed, Taipy will call the function referenced in the _on_action_ property.\n",
        "\n"
      ]
    },
    {
      "cell_type": "code",
      "execution_count": 3,
      "metadata": {},
      "outputs": [],
      "source": [
        "from taipy.gui import Gui, notify\n",
        "\n",
        "text = \"Original text\"\n",
        "\n",
        "# Definition of the page\n",
        "page = \"\"\"\n",
        "# Getting started with Taipy GUI\n",
        "\n",
        "My text: <|{text}|>\n",
        "\n",
        "<|{text}|input|>\n",
        "\n",
        "<|Run local|button|on_action=on_button_action|>\n",
        "\"\"\"\n",
        "\n",
        "def on_button_action(state):\n",
        "    notify(state, 'info', f'The text is: {state.text}')\n",
        "    state.text = \"Button Pressed\"\n",
        "\n",
        "def on_change(state, var_name, var_value):\n",
        "    if var_name == \"text\" and var_value == \"Reset\":\n",
        "        state.text = \"\"\n",
        "        return\n",
        "\n",
        "\n",
        "Gui(page).run()\n"
      ]
    },
    {
      "cell_type": "markdown",
      "metadata": {},
      "source": [
        "\n",
        "<div align=\"center\">\n",
        " <img src=https://github.com/Avaiga/taipy-getting-started-gui/blob/latest/step_03/result.png width=700>\n",
        "</div>\n",
        "\n",
        "[_notify()_](https://docs.taipy.io/en/latest/manuals/gui/notifications/) is a Taipy GUI function that creates a notification with text. The user can pass multiple parameters, including the _state_, the _notification_type_, and the _message_.\n"
      ]
    },
    {
      "cell_type": "markdown",
      "metadata": {},
      "source": [
        "> You can download the code of this step [here](https://docs.taipy.io/en/latest/getting_started/src/step_04.py) or all the steps [here](https://github.com/Avaiga/taipy-getting-started-gui/tree/develop/src).\n",
        "\n",
        "\n",
        "\n",
        "# Step 4: Charts\n",
        " \n",
        "Charts are an essential part of Taipy (and of any Web application!). A chart is just another visual element with many properties to customize it.\n",
        "\n",
        "Here is one of the simplest code to create a chart:\n",
        "\n"
      ]
    },
    {
      "cell_type": "code",
      "execution_count": 4,
      "metadata": {},
      "outputs": [],
      "source": [
        "list_to_display = [100/x for x in range(1, 100)]\n",
        "Gui(\"<|{list_to_display}|chart|>\").run()\n"
      ]
    },
    {
      "cell_type": "markdown",
      "metadata": {},
      "source": [
        "\n",
        "Different formats can be passed to a chart element: a list, a Numpy array, or a Pandas Dataframe.\n",
        "\n",
        "## Different useful properties\n",
        "\n",
        "Taipy charts are based on Plotly charts. Like any other visual element, charts have a lot of parameters.\n",
        "\n",
        "Here are a few of the essential properties. You can also look at the [documentation](https://docs.taipy.io/en/latest/manuals/gui/viselements/chart/) for more information.\n",
        " - x and y are used to define the axis of the chart. Note that even if data inside columns are dynamic, the name of columns to display in a chart are not.\n",
        "\n"
      ]
    },
    {
      "cell_type": "code",
      "execution_count": 5,
      "metadata": {},
      "outputs": [],
      "source": [
        "data = {\"x_col\":[0,1,2], \"y_col1\":[4,1,2]}\n",
        "Gui(\"<|{data}|chart|x=x_col|y=y_col1|>\").run()\n"
      ]
    },
    {
      "cell_type": "markdown",
      "metadata": {},
      "source": [
        "\n",
        " - x and y can be indexed to add more traces to the chart:\n",
        "\n"
      ]
    },
    {
      "cell_type": "code",
      "execution_count": 6,
      "metadata": {},
      "outputs": [],
      "source": [
        "data = {\"x_col\":[0,1,2], \"y_col_1\":[4,2,1], \"y_col_2\":[3,1,2]}\n",
        "Gui(\"<|{data}|chart|x=x_col|y[1]=y_col_1|y[2]=y_col_2|>\").run()\n"
      ]
    },
    {
      "cell_type": "markdown",
      "metadata": {},
      "source": [
        "\n",
        " - Taipy provides a lot of different options to customize graphs. _color_ is one of them:\n",
        "\n"
      ]
    },
    {
      "cell_type": "code",
      "execution_count": 7,
      "metadata": {},
      "outputs": [],
      "source": [
        "data = {\"x_col\":[0,1,2], \"y_col_1\":[4,2,1], \"y_col_2\":[3,1,2]}\n",
        "Gui(\"<|{data}|chart|x=x_col|y[1]=y_col_1|y[2]=y_col_2|color[1]=green|>\").run()\n"
      ]
    },
    {
      "cell_type": "markdown",
      "metadata": {},
      "source": [
        "\n",
        "## Different types of charts\n",
        "\n",
        "Different types are available: maps, bar charts, pie charts, line charts, and 3D charts, ... To know how to use them quickly, types are listed [here](https://docs.taipy.io/en/latest/manuals/gui/viselements/chart/). If compatible, two types like _scatter_, _line_, and _bar_ can also be used together on the same chart. \n",
        "\n"
      ]
    },
    {
      "cell_type": "code",
      "execution_count": 8,
      "metadata": {},
      "outputs": [],
      "source": [
        "data = {\"x_col\":[0,1,2], \"y_col_1\":[4,1,2], \"y_col_2\":[3,1,2]}\n",
        "Gui(\"<|{data}|chart|x=x_col|y[1]=y_col_1|y[2]=y_col_2|type[1]=bar|>\").run()\n"
      ]
    },
    {
      "cell_type": "markdown",
      "metadata": {},
      "source": [
        "\n",
        "## Code\n",
        "\n",
        "A chart is added to our code to visualize the score given by our NLP algorithm to different lines.\n",
        "\n"
      ]
    },
    {
      "cell_type": "code",
      "execution_count": 9,
      "metadata": {},
      "outputs": [],
      "source": [
        "\n",
        "page = \"\"\"\n",
        "... put the previous Markdown page here\n",
        "\n",
        "<|{dataframe}|table|>\n",
        "\n",
        "<|{dataframe}|chart|type=bar|x=Text|y[1]=Score Pos|y[2]=Score Neu|y[3]=Score Neg|y[4]=Overall|color[1]=green|color[2]=grey|color[3]=red|type[4]=line|>\n",
        "\"\"\"\n",
        "\n",
        "\n",
        "dataframe = pd.DataFrame({\"Text\":['Test', 'Other', 'Love'],\n",
        "                          \"Score Pos\":[1, 1, 4],\n",
        "                          \"Score Neu\":[2, 3, 1],\n",
        "                          \"Score Neg\":[1, 2, 0],\n",
        "                          \"Overall\":[0, -1, 4]})\n",
        "\n"
      ]
    },
    {
      "cell_type": "markdown",
      "metadata": {},
      "source": [
        "\n",
        "## Quick tip to write visual elements\n",
        "\n",
        "To simplify the coding, each visual element has a \"properties\" parameter where a Python dictionary of properties can be directly passed on. To replicate the graph above, we could do the following:\n",
        "\n"
      ]
    },
    {
      "cell_type": "code",
      "execution_count": 10,
      "metadata": {},
      "outputs": [],
      "source": [
        "property_chart = {\"type\":\"bar\",\n",
        "                  \"x\":\"Text\",\n",
        "                  \"y[1]\":\"Score Pos\",\n",
        "                  \"y[2]\":\"Score Neu\",\n",
        "                  \"y[3]\":\"Score Neg\",\n",
        "                  \"y[4]\":\"Overall\",\n",
        "                  \"color[1]\":\"green\",\n",
        "                  \"color[2]\":\"grey\",\n",
        "                  \"color[3]\":\"red\",\n",
        "                  \"type[4]\":\"line\"\n",
        "                 }\n",
        "\n",
        "page = \"\"\"\n",
        "...\n",
        "<|{dataframe}|chart|properties={property_chart}|>\n",
        "...\n",
        "\"\"\"\n",
        "\n"
      ]
    },
    {
      "cell_type": "markdown",
      "metadata": {},
      "source": [
        "\n",
        "\n",
        "<div align=\"center\">\n",
        " <img src=https://github.com/Avaiga/taipy-getting-started-gui/blob/latest/step_04/result.png width=700>\n",
        "</div>\n"
      ]
    },
    {
      "cell_type": "markdown",
      "metadata": {},
      "source": [
        "> You can download the code of this step [here](https://docs.taipy.io/en/latest/getting_started/src/step_05.py) or all the steps [here](https://github.com/Avaiga/taipy-getting-started-gui/tree/develop/src).\n",
        "\n",
        "\n",
        "\n",
        "# Step 5: Python expression in properties\n",
        "\n",
        "As shown before, parameters and variables in Taipy are dynamic. The same applies for every type of object, even data frames. Therefore, you can perform operations on data frames, and Taipy GUI will show real-time results on the GUI. These changes occur through the `=` assignment like `state.xxx = yyy` (`state.text = \"Example\"`).\n",
        "\n",
        "Any expression containing `xxx` in the Markdown will propagate the changes and reload related elements. It can be  simple charts or tables, but it can also be an expression like this:\n",
        "\n"
      ]
    },
    {
      "cell_type": "code",
      "execution_count": 11,
      "metadata": {},
      "outputs": [],
      "source": [
        "\"\"\"\n",
        "## Positive\n",
        "<|{np.mean(dataframe['Score Pos'])}|text|>\n",
        "\n",
        "## Neutral\n",
        "<|{np.mean(dataframe['Score Neu'])}|text|>\n",
        "\n",
        "## Negative\n",
        "<|{np.mean(dataframe['Score Neg'])}|text|>\n",
        "\"\"\"\n"
      ]
    },
    {
      "cell_type": "markdown",
      "metadata": {},
      "source": [
        "\n",
        "This kind of expression creates direct connections between visual elements without coding anything.\n",
        "\n",
        "\n",
        "## A use case for NLP - Part 1\n",
        "\n",
        "The code for NLP is provided here; it doesn't concern Taipy but it will be used in Part 2 when we wrap a GUI around this NLP engine. Before executing this step, you should have `pip install torch` and `pip install transformers`. The model will be downloaded and used in this code snippet. Torch is for now only available for Python version between 3.8 and 3.10. If you cannot install these packages, just return a dictionnary of random numbers for the `analyze_text(text)`.\n",
        "\n",
        "\n"
      ]
    },
    {
      "cell_type": "code",
      "execution_count": 12,
      "metadata": {},
      "outputs": [],
      "source": [
        "from transformers import AutoTokenizer\n",
        "from transformers import AutoModelForSequenceClassification\n",
        "from scipy.special import softmax\n",
        "\n",
        "\n",
        "MODEL = f\"cardiffnlp/twitter-roberta-base-sentiment\"\n",
        "tokenizer = AutoTokenizer.from_pretrained(MODEL)\n",
        "model = AutoModelForSequenceClassification.from_pretrained(MODEL)\n",
        "\n",
        "\n",
        "def analyze_text(text):\n",
        "    # Run for Roberta Model\n",
        "    encoded_text = tokenizer(text, return_tensors='pt')\n",
        "    output = model(**encoded_text)\n",
        "    scores = output[0][0].detach().numpy()\n",
        "    scores = softmax(scores)\n",
        "    \n",
        "    return {\"Text\":text,\n",
        "            \"Score Pos\":scores[2],\n",
        "            \"Score Neu\":scores[1],\n",
        "            \"Score Neg\":scores[0],\n",
        "            \"Overall\":scores[2]-scores[0]}\n",
        "\n"
      ]
    },
    {
      "cell_type": "markdown",
      "metadata": {},
      "source": [
        "\n",
        "\n",
        "## A use case for NLP - Part 2\n",
        "\n",
        "The code below uses this concept to create metrics on the data frame generated. \n",
        "\n",
        "\n"
      ]
    },
    {
      "cell_type": "code",
      "execution_count": 13,
      "metadata": {},
      "outputs": [],
      "source": [
        "import numpy as np\n",
        "import pandas as pd \n",
        "from taipy.gui import Gui, notify\n",
        "\n",
        "text = \"Original text\"\n",
        "\n",
        "dataframe = pd.DataFrame({\"Text\":[''],\n",
        "                          \"Score Pos\":[0.33],\n",
        "                          \"Score Neu\":[0.33],\n",
        "                          \"Score Neg\":[0.33],\n",
        "                          \"Overall\":[0]})\n",
        "\n",
        "\n",
        "def local_callback(state):\n",
        "    notify(state, 'Info', f'The text is: {state.text}', True)\n",
        "    temp = state.dataframe.copy()\n",
        "    scores = analyze_text(state.text)\n",
        "    temp.loc[len(temp)] = scores\n",
        "    state.dataframe = temp\n",
        "    state.text = \"\"\n",
        "\n",
        "\n",
        "\n",
        "page = \"\"\"\n",
        "<|toggle|theme|>\n",
        "\n",
        "# Getting started with Taipy GUI\n",
        "\n",
        "My text: <|{text}|>\n",
        "\n",
        "Enter a word:\n",
        "<|{text}|input|>\n",
        "<|Analyze|button|on_action=local_callback|>\n",
        "\n",
        "## Positive\n",
        "<|{np.mean(dataframe['Score Pos'])}|text|format=%.2f|>\n",
        "\n",
        "## Neutral\n",
        "<|{np.mean(dataframe['Score Neu'])}|text|format=%.2f|>\n",
        "\n",
        "## Negative\n",
        "<|{np.mean(dataframe['Score Neg'])}|text|format=%.2f|>\n",
        "\n",
        "<|{dataframe}|table|>\n",
        "\n",
        "<|{dataframe}|chart|type=bar|x=Text|y[1]=Score Pos|y[2]=Score Neu|y[3]=Score Neg|y[4]=Overall|color[1]=green|color[2]=grey|color[3]=red|type[4]=line|>\n",
        "\"\"\"\n",
        "\n",
        "Gui(page).run()\n"
      ]
    },
    {
      "cell_type": "markdown",
      "metadata": {},
      "source": [
        "\n",
        "\n",
        "<div align=\"center\">\n",
        " <img src=https://github.com/Avaiga/taipy-getting-started-gui/blob/latest/step_05/result.png width=700>\n",
        "</div>\n"
      ]
    },
    {
      "cell_type": "markdown",
      "metadata": {},
      "source": [
        "> You can download the code of this step [here](https://docs.taipy.io/en/latest/getting_started/src/step_06.py) or all the steps [here](https://github.com/Avaiga/taipy-getting-started-gui/tree/develop/src).\n",
        "\n",
        "\n",
        "\n",
        "# Step 6: Page layout\n",
        "\n",
        "You have created a full forecasting application that predicts across multiple days with different parameters in just a few steps. However, the page's layout could be greatly improved. Three new useful controls will be used to get a more aesthetically pleasing page. These are:\n",
        "\n",
        "- [part](https://docs.taipy.io/en/latest/manuals/gui/viselements/part/): creates a group of text/visual elements. A useful property of `part` is _render_. If set to False, it will not display the part. This allows the developer to hide a group of visual elements dynamically.\n",
        "\n",
        "```\n",
        "<|part|render={bool_variable}|\n",
        "Text\n",
        "Or visual elements...\n",
        "|>\n",
        "```\n",
        "\n",
        "- [layout](https://docs.taipy.io/en/latest/manuals/gui/viselements/layout/): creates invisible columns where you can put your texts and visual elements. The _columns_ property indicates the width and number of columns. Here, we create three columns of the same width.\n",
        "\n",
        "```\n",
        "<|layout|columns=1 1 1|\n",
        "Button in first column <|Press|button|>\n",
        "\n",
        "Second column\n",
        "\n",
        "Third column\n",
        "|>\n",
        "```\n",
        "\n",
        "<div align=\"center\">\n",
        " <img src=https://github.com/Avaiga/taipy-getting-started-gui/blob/latest/step_06/layout.png width=500>\n",
        "</div>\n",
        "\n",
        "\n",
        "- [expandable](https://docs.taipy.io/en/latest/manuals/gui/viselements/expandable/): creates a block that can expand or shrink.\n",
        "\n",
        "<div align=\"center\">\n",
        " <img src=https://github.com/Avaiga/taipy-getting-started-gui/blob/latest/step_06/expandable.png width=500>\n",
        "</div>\n",
        "\n",
        "\n",
        "## Back to the code\n",
        "\n"
      ]
    },
    {
      "cell_type": "code",
      "execution_count": 14,
      "metadata": {},
      "outputs": [],
      "source": [
        "\n",
        "page = \"\"\"\n",
        "<|toggle|theme|>\n",
        "\n",
        "# Getting started with Taipy GUI\n",
        "\n",
        "<|layout|columns=1 1|\n",
        "<|\n",
        "My text: <|{text}|>\n",
        "\n",
        "Enter a word:\n",
        "<|{text}|input|>\n",
        "<|Analyze|button|on_action=local_callback|>\n",
        "|>\n",
        "\n",
        "\n",
        "<|Table|expandable|\n",
        "<|{dataframe}|table|width=100%|>\n",
        "|>\n",
        "|>\n",
        "\n",
        "<|layout|columns=1 1 1|\n",
        "## Positive <|{np.mean(dataframe['Score Pos'])}|text|format=%.2f|raw|>\n",
        "\n",
        "## Neutral <|{np.mean(dataframe['Score Neu'])}|text|format=%.2f|raw|>\n",
        "\n",
        "## Negative <|{np.mean(dataframe['Score Neg'])}|text|format=%.2f|raw|>\n",
        "|>\n",
        "\n",
        "<|{dataframe}|chart|type=bar|x=Text|y[1]=Score Pos|y[2]=Score Neu|y[3]=Score Neg|y[4]=Overall|color[1]=green|color[2]=grey|color[3]=red|type[4]=line|>\n",
        "\"\"\"\n"
      ]
    },
    {
      "cell_type": "markdown",
      "metadata": {},
      "source": [
        "\n",
        "<div align=\"center\">\n",
        " <img src=https://github.com/Avaiga/taipy-getting-started-gui/blob/latest/step_06/result.png width=700>\n",
        "</div>\n",
        "\n"
      ]
    },
    {
      "cell_type": "markdown",
      "metadata": {},
      "source": [
        "> You can download the code of this step [here](https://docs.taipy.io/en/latest/getting_started/src/step_07.py) or all the steps [here](https://github.com/Avaiga/taipy-getting-started-gui/tree/develop/src).\n",
        "\n",
        "\n",
        "\n",
        "# Step 7: Multi-pages, navbars, and menus\n",
        "\n",
        "The creation of a multi-page application is greatly simplified with Taipy. A dictionary of pages must be defined to create a multi-page application. Here we will create three Pages: a Root page and two pages (page1 & page2). We will use Visual elements like a menu or navbar on this root page to navigate between page1 and page2.\n",
        "\n",
        "\n"
      ]
    },
    {
      "cell_type": "code",
      "execution_count": 15,
      "metadata": {},
      "outputs": [],
      "source": [
        "from taipy import Gui\n",
        "\n",
        "# Add a navbar to switch from one page to the other\n",
        "root_md = \"\"\"\n",
        "<|navbar|>\n",
        "# Multi-page application\n",
        "\"\"\"\n",
        "page1_md = \"## This is page 1\"\n",
        "page2_md = \"## This is page 2\"\n",
        "\n",
        "pages = {\n",
        "    \"/\": root_md,\n",
        "    \"page1\": page1_md,\n",
        "    \"page2\": page2_md\n",
        "}\n",
        "Gui(pages=pages).run()\n"
      ]
    },
    {
      "cell_type": "markdown",
      "metadata": {},
      "source": [
        "\n",
        "## Navigating between pages\n",
        "\n",
        "- [menu](https://docs.taipy.io/en/latest/manuals/gui/viselements/menu/): creates a menu on the left to navigate through the pages.\n",
        "\n",
        "`<|menu|label=Menu|lov={lov_pages}|on_action=on_menu|>`. For example, this code creates a menu with two pages:\n",
        "\n"
      ]
    },
    {
      "cell_type": "code",
      "execution_count": 16,
      "metadata": {},
      "outputs": [],
      "source": [
        "from taipy.gui import Gui, navigate\n",
        "\n",
        "\n",
        "root_md=\"<|menu|label=Menu|lov={[('Page-1', 'Page 1'), ('Page-2', 'Page 2')]}|on_action=on_menu|>\"\n",
        "page1_md=\"## This is page 1\"\n",
        "page2_md=\"## This is page 2\"\n",
        "\n",
        "\n",
        "def on_menu(state, var_name, function_name, info):\n",
        "    page = info['args'][0]\n",
        "    navigate(state, to=page)\n",
        "   \n",
        "   \n",
        "pages = {\n",
        "    \"/\": root_md,\n",
        "    \"Page-1\": page1_md,\n",
        "    \"Page-2\": page2_md\n",
        "}\n",
        "\n",
        "Gui(pages=pages).run()\n"
      ]
    },
    {
      "cell_type": "markdown",
      "metadata": {},
      "source": [
        "\n",
        "<div align=\"center\">\n",
        " <img src=https://github.com/Avaiga/taipy-getting-started-gui/blob/latest/step_07/menu.png width=500>\n",
        "</div>\n",
        "\n",
        "- [navbar](https://docs.taipy.io/en/latest/manuals/gui/viselements/navbar/): creates an element to navigate through the Taipy pages by default\n",
        "\n"
      ]
    },
    {
      "cell_type": "code",
      "execution_count": 17,
      "metadata": {},
      "outputs": [],
      "source": [
        "from taipy.gui import Gui\n",
        "\n",
        "\n",
        "root_md=\"<|navbar|>\"\n",
        "page1_md=\"## This is page 1\"\n",
        "page2_md=\"## This is page 2\"\n",
        "\n",
        "pages = {\n",
        "    \"/\": root_md,\n",
        "    \"Page-1\": page1_md,\n",
        "    \"Page-2\": page2_md\n",
        "}\n",
        "\n",
        "Gui(pages=pages).run()\n"
      ]
    },
    {
      "cell_type": "markdown",
      "metadata": {},
      "source": [
        " \n",
        "<div align=\"center\">\n",
        " <img src=https://github.com/Avaiga/taipy-getting-started-gui/blob/latest/step_07/navbar.png width=50O>\n",
        "</div>\n",
        "\n",
        " \n",
        "## Back to the code\n",
        "\n",
        "The Markdown created in our previous steps will be the first page (named _page_) of the application. \n",
        "\n",
        "<div align=\"center\">\n",
        " <img src=https://github.com/Avaiga/taipy-getting-started-gui/blob/latest/step_07/first_markdown.png width=700>\n",
        "</div>\n",
        "\n",
        "Then, let’s create our second page, which contains a page to analyze an entire text.\n",
        "\n"
      ]
    },
    {
      "cell_type": "code",
      "execution_count": 18,
      "metadata": {},
      "outputs": [],
      "source": [
        "# Second page\n",
        "\n",
        "dataframe2 = dataframe.copy()\n",
        "path = \"\"\n",
        "treatment = 0\n",
        "\n",
        "page_file = \"\"\"\n",
        "<|{path}|file_selector|extensions=.txt|label=Upload .txt file|on_action=analyze_file|> <|{f'Downloading {treatment}%...'}|>\n",
        "\n",
        "\n",
        "<|Table|expandable|\n",
        "<|{dataframe2}|table|width=100%|>\n",
        "|>\n",
        "\n",
        "<|{dataframe2}|chart|type=bar|x=Text|y[1]=Score Pos|y[2]=Score Neu|y[3]=Score Neg|y[4]=Overall|color[1]=green|color[2]=grey|color[3]=red|type[4]=line|height=800px|>\n",
        "\"\"\"\n",
        "\n",
        "def analyze_file(state):\n",
        "    state.dataframe2 = dataframe2\n",
        "    state.treatment = 0\n",
        "    with open(state.path,\"r\", encoding='utf-8') as f:\n",
        "        data = f.read()\n",
        "        # split lines and eliminates duplicates\n",
        "        file_list = list(dict.fromkeys(data.replace('\\n', ' ').split(\".\")[:-1]))\n",
        "    \n",
        "    \n",
        "    for i in range(len(file_list)):\n",
        "        text = file_list[i]\n",
        "        state.treatment = int((i+1)*100/len(file_list))\n",
        "        temp = state.dataframe2.copy()\n",
        "        scores = analyze_text(text)\n",
        "        temp.loc[len(temp)] = scores\n",
        "        state.dataframe2 = temp\n",
        "        \n",
        "    state.path = None\n"
      ]
    },
    {
      "cell_type": "markdown",
      "metadata": {},
      "source": [
        "\n",
        "This little code below assembles our previous page and this new page. The _navbar_ in the root page is also visible on both pages allowing for easy switching between pages. \n",
        "\n"
      ]
    },
    {
      "cell_type": "code",
      "execution_count": 19,
      "metadata": {},
      "outputs": [],
      "source": [
        "\n",
        "# One root page for common content\n",
        "# The two pages that were created\n",
        "pages = {\"/\":\"<|toggle|theme|>\\n<center>\\n<|navbar|>\\n</center>\",\n",
        "         \"line\":page,\n",
        "         \"text\":page_file}\n",
        "\n",
        "\n",
        "Gui(pages=pages).run()\n"
      ]
    }
  ],
  "metadata": {
    "kernelspec": {
      "display_name": "Python 3",
      "language": "python",
      "name": "python3"
    },
    "language_info": {
      "codemirror_mode": {
        "name": "ipython",
        "version": 3
      },
      "file_extension": ".py",
      "mimetype": "text/x-python",
      "name": "python",
      "nbconvert_exporter": "python",
      "pygments_lexer": "ipython3",
      "version": "3.10.11"
    },
    "orig_nbformat": 4
  },
  "nbformat": 4,
  "nbformat_minor": 2
}
